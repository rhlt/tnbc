{
 "cells": [
  {
   "cell_type": "markdown",
   "id": "1e3b2f6c",
   "metadata": {},
   "source": [
    "### Load dataset"
   ]
  },
  {
   "cell_type": "code",
   "execution_count": 247,
   "id": "e25da51d-8d88-439e-8b55-796a7eb4ebcd",
   "metadata": {},
   "outputs": [],
   "source": [
    "%run \"..\\\\Model\\\\DataHelpers.ipynb\""
   ]
  },
  {
   "cell_type": "code",
   "execution_count": 262,
   "id": "626df913-e445-41c2-8a52-9bb7c73537cb",
   "metadata": {},
   "outputs": [],
   "source": [
    "\n",
    "FILE_PATH = f\"../Data/patient_genes_lasso_smote.csv\"\n",
    "\n",
    "FILE_PATH_VALIDATION = f\"../Data/validationset_smote.csv\"\n",
    "\n",
    "GENE_FILE_VARIANT = 'lasso'\n",
    "\n",
    "featuresLASSO       = [ \n",
    "                        'A2M'    ,'ABCA1' ,'ACKR1'  ,'ACSL3' ,'ADH1B'  ,'AHR'   ,'AK5'     ,'AKT2'   ,'AKT3'    ,'ALDH1A1',\n",
    "                        'ALOX12B','AOC3'  ,'APOE'   ,'AR'    ,'ARID1B' ,'ASAH1' ,'ASPSCR1' ,'ASXL1'  ,'ASXL3'   ,'BCL9',\n",
    "                        'BIRC3'  ,'BRD4'  ,'BTN3A1' ,'CANT1' ,'CCL4'   ,'CCNE1' ,'CD163'   ,'CD1A'   ,'CD1B'    ,'CD1D',\n",
    "                        'CD1E'   ,'CD24'  ,'CD274'  ,'CD276' ,'CD44'   ,'CD68'  ,'CD79A'   ,'CD86'   ,'CD8A'    ,'CD8B',\n",
    "                        'CDH1'   ,'CDH3'  ,'CDH5'   ,'CDK1'  ,'CDK2'   ,'CDK4'  ,'CDK6'    ,'CDKN1B' ,'CDKN2B'  ,'CEACAM7',\n",
    "                        'CKB'    ,'CLEC3A','COL1A2' ,'CREBBP','CSF2RB' ,'CTSD'  ,'CX3CR1'  ,'CXCR2'  ,'CXCR4'   ,'CYP1A1',\n",
    "                        'DCLK1'  ,'DDR2'  ,'DEFB132','DNAH7' ,'DOCK11' ,'EDNRB' ,'EPCAM'   ,'ERBB2'  ,'ESR1'    ,'ESR2',\n",
    "                        'EZH2'   ,'FBXW7' ,'FCGR2B' ,'FGA'   ,'FGB'    ,'FGFR1' ,'FGFR4'   ,'FOXC1'  ,'FOXP3'   ,'FYN',\n",
    "                        'GAS1'   ,'GATA3' ,'GLDC'   ,'GNG11' ,'GNLY'   ,'HSP90AA1','HSP90B1','HSPA5'   ,'IDO1', # hier was GSTA2\n",
    "                        'IFNG'   ,'IGF1'  ,'IL2RB'  ,'IL2RG' ,'IL6'    ,'INPP4B','JCHAIN'  ,'KIT'    ,'KMT2D'   ,'KRT18',\n",
    "                        'KRT5'   ,'KRT6B' ,'LAMA2'  ,'LMNA'  ,'LPA'    ,'MAP2K4','MAP3K1'  ,'MDGA2'  ,'MDM2'    ,'MET',\n",
    "                        'MTOR'   ,'MUC1'  ,'MUC16'  ,'MYB'   ,'NF1'    ,'NOTCH3','OBSCN'   ,'OGN'    ,'OLAH'    ,'P4HA3',\n",
    "                        'PDE2A'  ,'PGF'   ,'PGR'   ,'PHLDA2' ,'PIK3CA','PIK3R1'  ,'PIP'    ,'PKN1'    ,'PMS1',\n",
    "                        'POSTN'  ,'PRR4'  ,'PTEN'   ,'PTK6'  ,'PTPRH'  ,'RAD17' ,'RAD51C'  ,'RYR1'   ,'SDS'     ,'SERPINA9',\n",
    "                        'SNAI1'  ,'SPTA1' ,'SRD5A2' ,'SREBF1','STAT1'  ,'STAT3' ,'TACSTD2' ,'TBC1D1' ,'TBC1D22B','TBC1D31',\n",
    "                        'TBC1D7' ,'TFF1'  ,'TGFB2'  ,'TGFB3' ,'TH'     ,'THBD'  ,'TIGIT'   ,'TOP2A'  ,'TP53'    ,'TTN',\n",
    "                        'TYMS'   ,'VAV3'  ,'VEGFA'  ,'VEGFB' ,'VEGFD'  ,'VTCN1' ,'VWF'     ,'WTAP'   ,'XBP1'    ,'XCL1',\n",
    "                        'XCL2'   ,'YES1'  ,'YOD1' \n",
    "                       ]\n",
    "\n",
    "genesInDinges = 'A2M,ABCA1,ACKR1,ACSL3,ADH1B,AHR,AK5,AKT2,AKT3,ALOX12B,AOC3,APOE,AR,ARID1B,ASAH1,ASPSCR1,ASXL1,ASXL3,BCL9,BIRC3,BRD4,BTN3A1,CANT1,CCL4,CCNE1,CD1A,CD1B,CD1D,CD1E,CD24,CD274,CD276,CD44,CD68,CD79A,CD86,CD8A,CD8B,CDH1,CDH3,CDH5,CDK1,CDK2,CDK6,CDKN1B,CDKN2B,CKB,COL1A1,COL1A2,CREBBP,CSF2RB,CTSD,CX3CR1,CXCR2,CXCR4,CYP1A1,DCLK1,DDR2,DEFB132,DNAH7,DOCK11,DST,EDNRB,EPCAM,ERBB2,ESR1,ESR2,EZH2,FBXW7,FCGR2B,FGB,FGFR1,FGFR2,FGFR4,FOXC1,FOXP3,FYN,GAS1,GATA3,GLDC,GNG11,GNLY,HSP90AA1,HSP90B1,HSPA5,IFNG,IGF1,IL2RB,IL6,INPP4B,JCHAIN,KIT,KMT2D,KRT18,KRT6B,LAMA2,LMNA,LPA,MAP2K4,MAP3K1,MDGA2,MDM2,MET,MTOR,MUC1,MUC16,MYB,NF1,NOTCH3,OBSCN,OGN,OLAH,P4HA3,PCK1,PDE2A,PGF,PGR,PHLDA2,PIK3CA,PIK3R1,PIP,PKN1,PMS1,POSTN,PRR4,PTEN,PTK6,PTPRH,RAD17,RAD51C,RDH12,RYR1,SDS,SERPINA9,SNAI1,SPTA1,SRD5A2,SREBF1,STAT1,STAT3,TACSTD2,TAT,TBC1D22B,TBC1D31,TFF1,TGFB2,TGFB3,TH,THBD,TOP2A,TP53,TTN,TYMS,VAV3,VEGFA,VEGFB,VEGFD,VTCN1,VWF,WTAP,XBP1,XCL2,YES1'\n",
    "featuresLASSO = genesInDinges.split(',')\n",
    "\n",
    "df = pd.read_csv(FILE_PATH)\n",
    "dfValidation = pd.read_csv(FILE_PATH_VALIDATION)"
   ]
  },
  {
   "cell_type": "code",
   "execution_count": 263,
   "id": "9158e693-6e47-42c2-8437-0bc63a39179f",
   "metadata": {},
   "outputs": [],
   "source": [
    "#dfValidation = pd.concat([dfValidation[dfValidation['tnbc'] ==False], dfValidation[dfValidation['tnbc'] ==True].head(15)])"
   ]
  },
  {
   "cell_type": "code",
   "execution_count": 264,
   "id": "55cc3127-2f9e-4995-8cb3-13686a1e1d61",
   "metadata": {},
   "outputs": [],
   "source": [
    "modelName = 'SVM'\n",
    "model = getModel(modelName)"
   ]
  },
  {
   "cell_type": "markdown",
   "id": "79ec1922-8b8e-46a1-8f40-92ff2003c78d",
   "metadata": {},
   "source": [
    "# TEMP"
   ]
  },
  {
   "cell_type": "code",
   "execution_count": 265,
   "id": "9155d526-c6d1-4739-88fe-5d091aa3a449",
   "metadata": {},
   "outputs": [],
   "source": [
    "df = df.drop('GSTA2', axis=1)"
   ]
  },
  {
   "cell_type": "markdown",
   "id": "82ca721c-efc2-440b-8a3a-4cf4bb7d490d",
   "metadata": {},
   "source": [
    "# Train/Test"
   ]
  },
  {
   "cell_type": "code",
   "execution_count": 266,
   "id": "717d3e45-848c-480b-bcea-5b149e7b1c9a",
   "metadata": {},
   "outputs": [
    {
     "name": "stdout",
     "output_type": "stream",
     "text": [
      "X_train.shape=(781, 163)\n",
      "X_test.shape=(196, 163)\n",
      "y_train.shape=(781,)\n",
      "y_test.shape=(196,)\n"
     ]
    }
   ],
   "source": [
    "### Dataset split: training and test data, with SMOTE and without SMOTE\n",
    "X, y, X_train, X_test, y_train, y_test, test_case_ids = split_data(df, \"tnbc\", True)"
   ]
  },
  {
   "cell_type": "code",
   "execution_count": 267,
   "id": "9adab955-70e5-48fd-957e-3cf10e0a5b63",
   "metadata": {},
   "outputs": [
    {
     "name": "stdout",
     "output_type": "stream",
     "text": [
      "Accuracy: 0.94\n"
     ]
    }
   ],
   "source": [
    "y_pred, y_prod = run_model(model, X_train, X_test, y_train, y_test, test_case_ids, False, modelName)\n",
    "print_evaluated_model_accuracy(y_test, y_pred)"
   ]
  },
  {
   "cell_type": "code",
   "execution_count": 268,
   "id": "64a12aa4-ffc0-4140-bda8-7564e21c766e",
   "metadata": {},
   "outputs": [
    {
     "name": "stdout",
     "output_type": "stream",
     "text": [
      "Model validation for SVC:\n",
      "[0.9336734693877551, 0.9489795918367347, 0.9435897435897436, 0.9384615384615385, 0.9435897435897436]\n",
      "\n",
      "Mean accuracy: 0.9417\n",
      "\n"
     ]
    }
   ],
   "source": [
    "metrics = run_cross_validation(model, X, y, y_test, y_pred, y_prod, False, modelName)"
   ]
  },
  {
   "cell_type": "markdown",
   "id": "dc80a9bd-84c3-4d57-a389-7d1e37fc56ee",
   "metadata": {},
   "source": [
    "# Validadtion"
   ]
  },
  {
   "cell_type": "code",
   "execution_count": 269,
   "id": "eacb6f20-eabe-4d63-b65c-56c5691e3ad0",
   "metadata": {},
   "outputs": [],
   "source": [
    "X_val = dfValidation[featuresLASSO]\n",
    "y_val = dfValidation['tnbc']\n",
    "test_case_ids_val = dfValidation['case_id']"
   ]
  },
  {
   "cell_type": "code",
   "execution_count": 270,
   "id": "257500db-6988-4993-a018-7df2d9e176cd",
   "metadata": {},
   "outputs": [],
   "source": [
    "def run_model_validation(model: Model,\n",
    "                         X_validation: pd.DataFrame,\n",
    "                         y_validation: pd.Series,\n",
    "                         test_case_ids_val: pd.Series):\n",
    "    # Model predictions\n",
    "    y_pred = model.predict(X_validation)\n",
    "    y_prob = model.predict_proba(X_validation)[:, 1]  # For ROC curves etc.\n",
    "\n",
    "    # Save it in a dataframe, to CSV\n",
    "    predictions = pd.DataFrame({\n",
    "        \"case_id\": test_case_ids_val,\n",
    "        \"y_validation\": y_validation,\n",
    "        \"y_pred\": y_pred,\n",
    "        \"y_prob\": y_prob\n",
    "    })\n",
    "    predictions.to_csv(f\"../Data/model_output_lasso_validation_smote.csv\", index=False)\n",
    "\n",
    "    return y_pred, y_prob"
   ]
  },
  {
   "cell_type": "code",
   "execution_count": 271,
   "id": "1c6d2ade-9f28-4499-9f02-bbc50081e338",
   "metadata": {},
   "outputs": [],
   "source": [
    "def run_cross_validation_validation(model: Model, \n",
    "                                    X: pd.DataFrame,\n",
    "                                    y: pd.Series, \n",
    "                                    y_validation: pd.Series,\n",
    "                                    y_pred: pd.Series,\n",
    "                                    y_prob: pd.Series) -> pd.DataFrame:\n",
    "    metrics: pd.DataFrame = get_cross_validation_metrics(model, X, y, cv=5)\n",
    "    test_metrics = get_metrics(y_validation, y_pred, y_prob)\n",
    "    test_metrics[\"fold\"] = 0 # Initial test metrics (before cross validation)\n",
    "    test = pd.DataFrame([test_metrics])\n",
    "    test.set_index(\"fold\", inplace=True)\n",
    "\n",
    "    print_validated_model_accuracy(model, metrics)\n",
    "\n",
    "    # Prepend test_metrics to metrics dataframe, export and display\n",
    "    metrics = pd.concat([test, metrics])\n",
    "    metrics.to_csv(f\"../Data/model_metrics_lasso_validation_smote.csv\", index=False)\n",
    "    return metrics"
   ]
  },
  {
   "cell_type": "code",
   "execution_count": 272,
   "id": "998067d3-c194-4c95-9b63-6586916a81d8",
   "metadata": {},
   "outputs": [
    {
     "name": "stdout",
     "output_type": "stream",
     "text": [
      "Accuracy: 0.36\n"
     ]
    }
   ],
   "source": [
    "y_pred, y_prod = run_model_validation(model, X_val, y_val, test_case_ids_val)\n",
    "print_evaluated_model_accuracy(y_val, y_pred)"
   ]
  },
  {
   "cell_type": "code",
   "execution_count": 273,
   "id": "61af01fa-b721-4f71-8d8b-f7b591822481",
   "metadata": {},
   "outputs": [
    {
     "name": "stdout",
     "output_type": "stream",
     "text": [
      "Model validation for SVC:\n",
      "[0.9336734693877551, 0.9489795918367347, 0.9435897435897436, 0.9384615384615385, 0.9435897435897436]\n",
      "\n",
      "Mean accuracy: 0.9417\n",
      "\n"
     ]
    }
   ],
   "source": [
    "metrics = run_cross_validation_validation(model, X, y, y_val, y_pred, y_prod)"
   ]
  },
  {
   "cell_type": "code",
   "execution_count": null,
   "id": "55f87707-856a-4b6b-a7ae-a708af2b9e9b",
   "metadata": {},
   "outputs": [],
   "source": []
  }
 ],
 "metadata": {
  "kernelspec": {
   "display_name": "Python 3 (ipykernel)",
   "language": "python",
   "name": "python3"
  },
  "language_info": {
   "codemirror_mode": {
    "name": "ipython",
    "version": 3
   },
   "file_extension": ".py",
   "mimetype": "text/x-python",
   "name": "python",
   "nbconvert_exporter": "python",
   "pygments_lexer": "ipython3",
   "version": "3.12.3"
  }
 },
 "nbformat": 4,
 "nbformat_minor": 5
}
