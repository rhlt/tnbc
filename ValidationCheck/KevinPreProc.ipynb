{
 "cells": [
  {
   "cell_type": "markdown",
   "id": "3ec066ac-17cc-4d11-813c-370273085136",
   "metadata": {},
   "source": [
    "# PreProcessing data\n",
    "### (validation, standardization, imputation, augmentation, deduplication)"
   ]
  },
  {
   "cell_type": "markdown",
   "id": "c2501db9-33c9-46d9-b26b-9c645a1ccb64",
   "metadata": {},
   "source": [
    "# Defining Features for GEO data (validation set)"
   ]
  },
  {
   "cell_type": "code",
   "execution_count": 32,
   "id": "461a8ee9-1718-4543-b343-44dd0cd09fa8",
   "metadata": {},
   "outputs": [],
   "source": [
    "%run \"..\\Model\\DataHelpers.ipynb\"\n",
    "\n",
    "featuresLASSO       = [ 'CD1A'  , 'CSF2RB', 'EPCAM' , 'ERBB2'  , 'ESR1'    ,\n",
    "                        'EZH2'  , 'FGB'   , 'FOXA1' , 'FOXC1'  , 'GATA3'   , \n",
    "                        'LAMA2' , 'LMNA'  , 'MDGA2' , 'OBSCN'  , 'OGN'     , \n",
    "                        'PGR'   , 'SELL'  , 'SRC'   , 'TACSTD2', 'TBC1D22B', \n",
    "                        'TFF1'  , 'TGFB3' , 'UBE2C' , 'VTCN1'  ,'WTAP'     , \n",
    "                        'YES1'  , 'YOD1' ]\n",
    "\n",
    "# 'CD1A','CSF2RB','EPCAM','ERBB2','ESR1',\n",
    "# 'EZH2','FGB','FOXA1','FOXC1','GATA3',\n",
    "# 'LAMA2','LMNA','MDGA2','OBSCN','OGN',\n",
    "# 'PGR','SELL','SRC','TACSTD2','TBC1D22B',\n",
    "# 'TFF1','TGFB3','UBE2C','VTCN1','WTAP',\n",
    "# 'YES1','YOD1'\n",
    "\n",
    "\n",
    "featuresValidation = featuresLASSO + constTargetAndMetadata"
   ]
  },
  {
   "cell_type": "markdown",
   "id": "398acd89-9e5b-4edb-bc99-29bd84b03fb5",
   "metadata": {},
   "source": [
    "# Define GEO data"
   ]
  },
  {
   "cell_type": "code",
   "execution_count": 33,
   "id": "7114328e-517f-493e-aace-b0cee92a84dc",
   "metadata": {},
   "outputs": [],
   "source": [
    "geoData = {}\n",
    "\n",
    "geoData['GSE65216'] = {'dataSetName': 'GSE65216', 'dataSetFile':'GSE65216-GPL570_series_matrix.txt'   , 'dataSetSkipRows': 67 , 'dataSetSkipFooter': 1, 'platformName': 'GPL570'  , 'platformFile': 'GPL570-55999.txt'  , 'platformSkipRows': 16, 'platformSkipFooter': 0, 'processing':'Data were analyzed using standard AffyCDF or Brainarray HGU133Plus2_Hs_ENTREZG version 13 custom chipset definition file. Data were normalized using GC-RMA. Batch and hybridization effects were corrected using a linear model in which they were treated as fixed effects. Samples with technical replicates were subsequently averaged.'}\n",
    "geoData['GSE76250'] = {'dataSetName': 'GSE76250', 'dataSetFile':'GSE76250_series_matrix.txt'          , 'dataSetSkipRows': 74 , 'dataSetSkipFooter': 1, 'platformName': 'GPL17586', 'platformFile': 'GPL17586-45144.txt', 'platformSkipRows': 15, 'platformSkipFooter': 1, 'processing':'The data were analyzed with Robust Multichip Analysis (RMA) algorithm using Affymetrix default analysis settings and global scaling as normalization method (ExpressionConsole 1.3.1) probe group file: HTA-2_0.r1.pgf meta-probeset file: HTA-2_0.r1.Psrs.mps'}"
   ]
  },
  {
   "cell_type": "markdown",
   "id": "ce99927b-ec1f-43d0-a5df-efbacd1e375f",
   "metadata": {},
   "source": [
    "# Define synonyms for TCGA-BRCA based on KEGG and HEP"
   ]
  },
  {
   "cell_type": "code",
   "execution_count": 34,
   "id": "02c29e9e-59f8-4ad9-8453-bb95313ec634",
   "metadata": {},
   "outputs": [],
   "source": [
    "geoData['GSE65216']['synonyms'] = { 'IGJ': 'JCHAIN',                                   \n",
    "                                    'PRH1-PRR4': 'PRR4',\n",
    "                                    'FIGF': 'VEGFD'\n",
    "                                  }\n",
    "\n",
    "geoData['GSE76250']['synonyms'] = { 'DARC': 'ACKR1',\n",
    "                                    'IGJ': 'JCHAIN',\n",
    "                                    'WDR67': 'TBC1D31',\n",
    "                                    'FIGF': 'VEGFD',\n",
    "                                    'IL8': 'CXCL8',\n",
    "                                  }"
   ]
  },
  {
   "cell_type": "markdown",
   "id": "16126bef-1fb4-46df-849b-37f7e0ca3272",
   "metadata": {},
   "source": [
    "# Loading data - GEO"
   ]
  },
  {
   "cell_type": "code",
   "execution_count": 35,
   "id": "c7030384-73a6-4eac-89e1-865685a124aa",
   "metadata": {},
   "outputs": [
    {
     "name": "stdout",
     "output_type": "stream",
     "text": [
      "***- Reading GEO data - Start\n",
      "***- Reading GEO data - End\n"
     ]
    }
   ],
   "source": [
    "import os\n",
    "\n",
    "geoData_GSE65216_file = os.path.join('../Data', 'geoData_GSE65216.csv')\n",
    "geoData_GSE76250_file = os.path.join('../Data', 'geoData_GSE76250.csv')\n",
    "\n",
    "print(f\"***- Reading GEO data - Start\")\n",
    "geoData['GSE65216']['data'] = pd.read_csv(geoData_GSE65216_file, sep=',')\n",
    "geoData['GSE76250']['data'] = pd.read_csv(geoData_GSE76250_file, sep=',')\n",
    "print(f\"***- Reading GEO data - End\")"
   ]
  },
  {
   "cell_type": "markdown",
   "id": "3fee2779-2ae7-47f1-b5db-5ac079419530",
   "metadata": {},
   "source": [
    "# Feature columns - GEO"
   ]
  },
  {
   "cell_type": "code",
   "execution_count": 36,
   "id": "74ff823d-a588-4d36-9781-ecd9efda3dd7",
   "metadata": {},
   "outputs": [
    {
     "name": "stdout",
     "output_type": "stream",
     "text": [
      "***- Determine feature columns - Start\n",
      "***- Determine feature columns - End\n"
     ]
    }
   ],
   "source": [
    "print(f\"***- Determine feature columns - Start\")\n",
    "onlyFeatureColumns_GSE76250 = len(geoData['GSE76250']['data'].columns)-2 # tnbc / case_id\n",
    "geoData['GSE76250']['featureColumns'] = geoData['GSE76250']['data'].columns[:onlyFeatureColumns_GSE76250]\n",
    "\n",
    "onlyFeatureColumns_GSE65216 = len(geoData['GSE65216']['data'].columns)-2 # tnbc / case_id\n",
    "geoData['GSE65216']['featureColumns'] = geoData['GSE65216']['data'].columns[:onlyFeatureColumns_GSE65216]\n",
    "print(f\"***- Determine feature columns - End\")"
   ]
  },
  {
   "cell_type": "markdown",
   "id": "942b6312-8521-45c5-b66f-9f53b69ab84c",
   "metadata": {},
   "source": [
    "# Deplication GEO - Check rows"
   ]
  },
  {
   "cell_type": "code",
   "execution_count": 37,
   "id": "373447a5-3289-425f-8307-3dd515448bcb",
   "metadata": {},
   "outputs": [
    {
     "name": "stdout",
     "output_type": "stream",
     "text": [
      "***- Checking dupplicates - Start\n",
      "***- Dataset GSE65216 has no duplicates\n",
      "***- Dataset GSE76250 has no duplicates\n",
      "***- Checking dupplicates - End\n"
     ]
    }
   ],
   "source": [
    "total = len(geoData.keys())\n",
    "counter = 1\n",
    "print(f\"***- Checking dupplicates - Start\")\n",
    "\n",
    "for k in geoData.keys():\n",
    "    if len(geoData[k]['data'].columns[geoData[k]['data'].columns.duplicated()]) == 0:\n",
    "        print(f'***- Dataset {k} has no duplicates')\n",
    "    else:\n",
    "        print(f'***- Dataset {k} has duplicates')\n",
    "        \n",
    "    counter+=1\n",
    "\n",
    "print(f\"***- Checking dupplicates - End\")"
   ]
  },
  {
   "cell_type": "markdown",
   "id": "eb5a10ae-3034-4b1a-86ca-3da1964a9d67",
   "metadata": {},
   "source": [
    "# Standardization GEO - Removing mean and Scaling"
   ]
  },
  {
   "cell_type": "code",
   "execution_count": 38,
   "id": "7c259548-8a03-40d4-b276-46cd028e58e2",
   "metadata": {},
   "outputs": [],
   "source": [
    "from sklearn.preprocessing import StandardScaler\n",
    "scaler = StandardScaler()"
   ]
  },
  {
   "cell_type": "code",
   "execution_count": 39,
   "id": "34b83d86-86a0-4cbb-a831-e1cc2b943adf",
   "metadata": {},
   "outputs": [
    {
     "name": "stdout",
     "output_type": "stream",
     "text": [
      "Apply Scaling - Start\n",
      "Apply Scaling - End\n"
     ]
    }
   ],
   "source": [
    "print(f'Apply Scaling - Start')\n",
    "geoData['GSE76250']['data'][geoData['GSE76250']['featureColumns']] = scaler.fit_transform(geoData['GSE76250']['data'][geoData['GSE76250']['featureColumns']])\n",
    "geoData['GSE65216']['data'][geoData['GSE65216']['featureColumns']] = scaler.fit_transform(geoData['GSE65216']['data'][geoData['GSE65216']['featureColumns']])\n",
    "print(f'Apply Scaling - End')"
   ]
  },
  {
   "cell_type": "markdown",
   "id": "d2ffc48c-66b3-443d-9788-892b7949761b",
   "metadata": {},
   "source": [
    "# Rename GEO columns to adhere to TCGA-BRCA synonyms"
   ]
  },
  {
   "cell_type": "code",
   "execution_count": 40,
   "id": "ec28b83c-6978-411f-8547-e861ba368c66",
   "metadata": {},
   "outputs": [
    {
     "name": "stdout",
     "output_type": "stream",
     "text": [
      "***- Renaming gene symbol to TCGA-BRCA from GEO - Start\n",
      "1/2 - Dataset GSE65216 - Renamed Gene Symbols\n",
      "2/2 - Dataset GSE76250 - Renamed Gene Symbols\n",
      "***- Renaming gene symbol to TCGA-BRCA from GEO - End\n"
     ]
    }
   ],
   "source": [
    "total = len(geoData.keys())\n",
    "counter = 1\n",
    "print(f\"***- Renaming gene symbol to TCGA-BRCA from GEO - Start\")\n",
    "\n",
    "for k in geoData.keys():\n",
    "    for s in geoData[k]['synonyms'].keys():\n",
    "        geoData[k]['data'].rename(columns={s : geoData[k]['synonyms'][s]}, inplace=True)\n",
    "    \n",
    "    print(f\"{counter}/{total} - Dataset {k} - Renamed Gene Symbols\")\n",
    "    counter+=1\n",
    "\n",
    "print(f\"***- Renaming gene symbol to TCGA-BRCA from GEO - End\")"
   ]
  },
  {
   "cell_type": "markdown",
   "id": "74a1df25-fbab-4cf9-afbf-9200e51777cb",
   "metadata": {},
   "source": [
    "# Combine GEO data into 1 set"
   ]
  },
  {
   "cell_type": "code",
   "execution_count": 41,
   "id": "b5785e06-aee9-435f-91d1-01264132d972",
   "metadata": {},
   "outputs": [],
   "source": [
    "combinedData = pd.concat([geoData['GSE65216']['data'][featuresValidation], geoData['GSE76250']['data'][featuresValidation]])"
   ]
  },
  {
   "cell_type": "markdown",
   "id": "10d71a8e-18e6-417c-b71b-4522165c700c",
   "metadata": {},
   "source": [
    "# Write validation set"
   ]
  },
  {
   "cell_type": "code",
   "execution_count": 42,
   "id": "343fe897-ea35-47c8-9ec9-adcd885550a2",
   "metadata": {},
   "outputs": [
    {
     "name": "stdout",
     "output_type": "stream",
     "text": [
      "Writing DataFrame to CSV - Start\n",
      "Writing DataFrame to CSV - End\n"
     ]
    }
   ],
   "source": [
    "print(f'Writing DataFrame to CSV - Start')\n",
    "combinedData.to_csv(f'../Data/validationSet.csv', index=False)\n",
    "print(f'Writing DataFrame to CSV - End')"
   ]
  },
  {
   "cell_type": "code",
   "execution_count": null,
   "id": "6bfef241-d83f-4536-9383-86a2fb1ef135",
   "metadata": {},
   "outputs": [],
   "source": []
  }
 ],
 "metadata": {
  "kernelspec": {
   "display_name": "Python 3 (ipykernel)",
   "language": "python",
   "name": "python3"
  },
  "language_info": {
   "codemirror_mode": {
    "name": "ipython",
    "version": 3
   },
   "file_extension": ".py",
   "mimetype": "text/x-python",
   "name": "python",
   "nbconvert_exporter": "python",
   "pygments_lexer": "ipython3",
   "version": "3.12.3"
  }
 },
 "nbformat": 4,
 "nbformat_minor": 5
}
