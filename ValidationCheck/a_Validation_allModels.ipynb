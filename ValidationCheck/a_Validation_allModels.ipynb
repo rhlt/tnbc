{
 "cells": [
  {
   "cell_type": "markdown",
   "id": "1e3b2f6c",
   "metadata": {},
   "source": [
    "### Load dataset"
   ]
  },
  {
   "cell_type": "code",
   "execution_count": 1,
   "id": "e25da51d-8d88-439e-8b55-796a7eb4ebcd",
   "metadata": {},
   "outputs": [],
   "source": [
    "%run \"..\\\\Model\\\\DataHelpers.ipynb\"\n",
    "\n",
    "FILE_PATH = f\"../Data/patient_genes_lasso.csv\"\n",
    "FILE_PATH_VALIDATION = f\"../Data/validationset.csv\"\n",
    "\n",
    "GENE_FILE_VARIANT = 'lasso'\n",
    "featuresLASSO = [ 'CD1A'  , 'CSF2RB', 'EPCAM' , 'ERBB2'  , 'ESR1'    ,\n",
    "                  'EZH2'  , 'FGB'   , 'FOXA1' , 'FOXC1'  , 'GATA3'   , \n",
    "                  'LAMA2' , 'LMNA'  , 'MDGA2' , 'OBSCN'  , 'OGN'     , \n",
    "                  'PGR'   , 'SELL'  , 'SRC'   , 'TACSTD2', 'TBC1D22B', \n",
    "                  'TFF1'  , 'TGFB3' , 'UBE2C' , 'VTCN1'  ,'WTAP'     , \n",
    "                  'YES1'  , 'YOD1' ]\n",
    "\n",
    "df = pd.read_csv(FILE_PATH)\n",
    "dfValidation = pd.read_csv(FILE_PATH_VALIDATION)"
   ]
  },
  {
   "cell_type": "code",
   "execution_count": 2,
   "id": "180264e9-5187-4012-b26c-433f6232d691",
   "metadata": {},
   "outputs": [],
   "source": [
    "dfValidation = pd.concat([dfValidation[dfValidation['tnbc'] ==False], dfValidation[dfValidation['tnbc'] ==True].head(15)])"
   ]
  },
  {
   "cell_type": "code",
   "execution_count": 3,
   "id": "09999519-ee47-4598-a3f2-ad06b901cf42",
   "metadata": {},
   "outputs": [
    {
     "name": "stdout",
     "output_type": "stream",
     "text": [
      "1/3 - Applying SVM to features - Start\n",
      "X_train.shape=(781, 27)\n",
      "X_test.shape=(196, 27)\n",
      "y_train.shape=(781,)\n",
      "y_test.shape=(196,)\n",
      "Accuracy: 0.95\n",
      "Model validation for SVC:\n",
      "[0.9489795918367347, 0.9489795918367347, 0.958974358974359, 0.9487179487179487, 0.9487179487179487]\n",
      "\n",
      "Mean accuracy: 0.9509\n",
      "\n",
      "Accuracy: 0.91\n",
      "Model validation for SVC:\n",
      "[0.9489795918367347, 0.9489795918367347, 0.958974358974359, 0.9487179487179487, 0.9487179487179487]\n",
      "\n",
      "Mean accuracy: 0.9509\n",
      "\n",
      "1/3 - Applying SVM to features - End\n",
      "2/3 - Applying RF to features - Start\n",
      "X_train.shape=(781, 27)\n",
      "X_test.shape=(196, 27)\n",
      "y_train.shape=(781,)\n",
      "y_test.shape=(196,)\n",
      "Accuracy: 0.96\n",
      "Model validation for RandomForestClassifier:\n",
      "[0.9591836734693877, 0.9489795918367347, 0.9487179487179487, 0.9384615384615385, 0.9384615384615385]\n",
      "\n",
      "Mean accuracy: 0.9468\n",
      "\n",
      "Accuracy: 0.88\n",
      "Model validation for RandomForestClassifier:\n",
      "[0.9591836734693877, 0.9489795918367347, 0.9487179487179487, 0.9384615384615385, 0.9384615384615385]\n",
      "\n",
      "Mean accuracy: 0.9468\n",
      "\n",
      "2/3 - Applying RF to features - End\n",
      "3/3 - Applying LG to features - Start\n",
      "X_train.shape=(781, 27)\n",
      "X_test.shape=(196, 27)\n",
      "y_train.shape=(781,)\n",
      "y_test.shape=(196,)\n",
      "Accuracy: 0.96\n",
      "Model validation for LogisticRegression:\n",
      "[0.9642857142857143, 0.9591836734693877, 0.958974358974359, 0.9487179487179487, 0.9435897435897436]\n",
      "\n",
      "Mean accuracy: 0.9550\n",
      "\n",
      "Accuracy: 0.89\n",
      "Model validation for LogisticRegression:\n",
      "[0.9642857142857143, 0.9591836734693877, 0.958974358974359, 0.9487179487179487, 0.9435897435897436]\n",
      "\n",
      "Mean accuracy: 0.9550\n",
      "\n",
      "3/3 - Applying LG to features - End\n"
     ]
    },
    {
     "name": "stderr",
     "output_type": "stream",
     "text": [
      "C:\\Data\\998_Software\\Anaconda\\Lib\\site-packages\\sklearn\\metrics\\_classification.py:1531: UndefinedMetricWarning: Precision is ill-defined and being set to 0.0 due to no predicted samples. Use `zero_division` parameter to control this behavior.\n",
      "  _warn_prf(average, modifier, f\"{metric.capitalize()} is\", len(result))\n"
     ]
    }
   ],
   "source": [
    "total = len(ModelVariant)\n",
    "counter = 1\n",
    "\n",
    "for modelName in ModelVariant.__members__:\n",
    "    print(f'{counter}/{total} - Applying {modelName} to features - Start')\n",
    "    model = getModel(modelName)\n",
    "\n",
    "    ### Dataset split: training and test data\n",
    "    X, y, X_train, X_test, y_train, y_test, test_case_ids = split_data(df, \"tnbc\", True)\n",
    "    \n",
    "    y_pred, y_prod = run_model(model, X_train, X_test, y_train, y_test, test_case_ids, False, modelName)\n",
    "    print_evaluated_model_accuracy(y_test, y_pred)\n",
    "\n",
    "    metrics = run_cross_validation(model, X, y, y_test, y_pred, y_prod, False, modelName)\n",
    "\n",
    "    ### Validation\n",
    "    X_val = dfValidation[featuresLASSO]\n",
    "    y_val = dfValidation['tnbc']\n",
    "    test_case_ids_val = dfValidation['case_id']\n",
    "\n",
    "    y_pred, y_prod = run_model_validation(model, X_val, y_val, test_case_ids_val)\n",
    "    print_evaluated_model_accuracy(y_val, y_pred)\n",
    "\n",
    "    metrics = run_cross_validation_validation(model, X, y, y_val, y_pred, y_prod)\n",
    "\n",
    "    print(f'{counter}/{total} - Applying {modelName} to features - End')\n",
    "    counter += 1\n",
    "\n",
    "    "
   ]
  },
  {
   "cell_type": "code",
   "execution_count": null,
   "id": "3d28d885-6bf4-4265-bcf6-6d9bc9a3e3ca",
   "metadata": {},
   "outputs": [],
   "source": []
  },
  {
   "cell_type": "code",
   "execution_count": null,
   "id": "b214d387-5a8c-44db-a216-e386d8b1f9d2",
   "metadata": {},
   "outputs": [],
   "source": []
  },
  {
   "cell_type": "code",
   "execution_count": null,
   "id": "a4ff0db7-fc31-4c8d-81e4-6bd77e52c822",
   "metadata": {},
   "outputs": [],
   "source": []
  },
  {
   "cell_type": "code",
   "execution_count": null,
   "id": "50cdcc2d-c46b-4b13-ba46-326ac0e1d073",
   "metadata": {},
   "outputs": [],
   "source": []
  },
  {
   "cell_type": "code",
   "execution_count": null,
   "id": "e5fd46a0-5f79-4982-8f9d-b483d4ecbd95",
   "metadata": {},
   "outputs": [],
   "source": []
  },
  {
   "cell_type": "code",
   "execution_count": null,
   "id": "0472e4f7-e084-4d46-aeba-938a1fd569cb",
   "metadata": {},
   "outputs": [],
   "source": []
  },
  {
   "cell_type": "code",
   "execution_count": null,
   "id": "4425926a-a040-4b4f-8ea7-daf87423ede0",
   "metadata": {},
   "outputs": [],
   "source": []
  },
  {
   "cell_type": "code",
   "execution_count": null,
   "id": "c3f5b1a4-00fa-457e-ab6b-264e2b4d9d4a",
   "metadata": {},
   "outputs": [],
   "source": []
  },
  {
   "cell_type": "code",
   "execution_count": null,
   "id": "15c1b3c3-5038-4303-bcd3-02ae1b6d172e",
   "metadata": {},
   "outputs": [],
   "source": []
  },
  {
   "cell_type": "code",
   "execution_count": null,
   "id": "a14b6418-9428-458f-8c09-57eb4c3fead9",
   "metadata": {},
   "outputs": [],
   "source": []
  },
  {
   "cell_type": "code",
   "execution_count": null,
   "id": "1dde96d2-51b4-4c72-9962-8bbe5f12762a",
   "metadata": {},
   "outputs": [],
   "source": []
  },
  {
   "cell_type": "code",
   "execution_count": null,
   "id": "da75866e-0a69-4c53-a792-007f35fcf539",
   "metadata": {},
   "outputs": [],
   "source": []
  },
  {
   "cell_type": "code",
   "execution_count": null,
   "id": "ff06a2e5-e441-4ee4-bb2f-b8f7362225cc",
   "metadata": {},
   "outputs": [],
   "source": []
  },
  {
   "cell_type": "code",
   "execution_count": null,
   "id": "e1375f2f-2b43-4e42-9e8d-3b3402f23298",
   "metadata": {},
   "outputs": [],
   "source": []
  },
  {
   "cell_type": "code",
   "execution_count": null,
   "id": "b4378500-344f-4550-9fb7-17d2392b4cd3",
   "metadata": {},
   "outputs": [],
   "source": []
  },
  {
   "cell_type": "code",
   "execution_count": null,
   "id": "933a2558-ff2c-4dca-b34c-20d1cdd03e5b",
   "metadata": {},
   "outputs": [],
   "source": []
  },
  {
   "cell_type": "code",
   "execution_count": null,
   "id": "23304fb2-fa04-4b3b-b776-00090709f64c",
   "metadata": {},
   "outputs": [],
   "source": []
  },
  {
   "cell_type": "code",
   "execution_count": null,
   "id": "55f87707-856a-4b6b-a7ae-a708af2b9e9b",
   "metadata": {},
   "outputs": [],
   "source": []
  },
  {
   "cell_type": "markdown",
   "id": "e055e651-65d9-4725-bd4f-12a14e14bc98",
   "metadata": {},
   "source": [
    "# Bonus"
   ]
  },
  {
   "cell_type": "code",
   "execution_count": 74,
   "id": "dc553040-8147-42bb-bb73-c1eb7e1c5767",
   "metadata": {},
   "outputs": [
    {
     "data": {
      "image/png": "[encoded data removed]",
      "text/plain": [
       "<Figure size 640x480 with 1 Axes>"
      ]
     },
     "metadata": {},
     "output_type": "display_data"
    }
   ],
   "source": [
    "from sklearn.metrics import precision_recall_curve, PrecisionRecallDisplay\n",
    "import matplotlib.pyplot as plt\n",
    "\n",
    "# Get predicted probabilities\n",
    "kevin_y_scores = model.predict_proba(X_val)[:, 1]  # Probability for class \"True\"\n",
    "\n",
    "# Compute precision and recall\n",
    "precision, recall, thresholds = precision_recall_curve(y_val, kevin_y_scores)\n",
    "\n",
    "# Plot\n",
    "disp = PrecisionRecallDisplay(precision=precision, recall=recall)\n",
    "disp.plot()\n",
    "plt.title(\"Precision-Recall Curve\")\n",
    "plt.show()\n"
   ]
  },
  {
   "cell_type": "code",
   "execution_count": 4,
   "id": "cdc4cc8d-cb6f-424a-83ea-9971cf7a649d",
   "metadata": {},
   "outputs": [
    {
     "name": "stdout",
     "output_type": "stream",
     "text": [
      "{False: 0.5667634252539913, True: 4.244565217391305}\n"
     ]
    }
   ],
   "source": [
    "from sklearn.utils.class_weight import compute_class_weight\n",
    "import numpy as np\n",
    "\n",
    "classes = np.unique(y_train)\n",
    "weights = compute_class_weight(class_weight='balanced', classes=classes, y=y_train)\n",
    "print(dict(zip(classes, weights)))\n"
   ]
  },
  {
   "cell_type": "code",
   "execution_count": 11,
   "id": "3dba5a7b-e1ca-49a5-8dd3-29c140f90253",
   "metadata": {},
   "outputs": [
    {
     "data": {
      "text/plain": [
       "array([False,  True])"
      ]
     },
     "execution_count": 11,
     "metadata": {},
     "output_type": "execute_result"
    }
   ],
   "source": []
  },
  {
   "cell_type": "code",
   "execution_count": 9,
   "id": "6b7e91fb-2473-488b-89e0-2685078f5576",
   "metadata": {},
   "outputs": [
    {
     "data": {
      "text/plain": [
       "862"
      ]
     },
     "execution_count": 9,
     "metadata": {},
     "output_type": "execute_result"
    }
   ],
   "source": [
    "np.bincount(y)[0]*"
   ]
  },
  {
   "cell_type": "code",
   "execution_count": 12,
   "id": "6a344d68-1a39-42ea-abd9-79f8a44becdb",
   "metadata": {},
   "outputs": [
    {
     "data": {
      "text/plain": [
       "758    0.00058\n",
       "579    0.00000\n",
       "487    0.00000\n",
       "593    0.00058\n",
       "403    0.00000\n",
       "        ...   \n",
       "408    0.00000\n",
       "32     0.00000\n",
       "884    0.00000\n",
       "504    0.00000\n",
       "580    0.00000\n",
       "Name: tnbc, Length: 781, dtype: float64"
      ]
     },
     "execution_count": 12,
     "metadata": {},
     "output_type": "execute_result"
    }
   ],
   "source": [
    "# sci kit learn\n",
    "# n_samples / (n_classes * np.bincount(y))\n",
    "\n",
    "y_train / (len(classes) * (np.bincount(y)[0]))\n"
   ]
  },
  {
   "cell_type": "code",
   "execution_count": null,
   "id": "b702b794-d08c-4145-88ec-d3abc9ec682c",
   "metadata": {},
   "outputs": [],
   "source": []
  }
 ],
 "metadata": {
  "kernelspec": {
   "display_name": "Python 3 (ipykernel)",
   "language": "python",
   "name": "python3"
  },
  "language_info": {
   "codemirror_mode": {
    "name": "ipython",
    "version": 3
   },
   "file_extension": ".py",
   "mimetype": "text/x-python",
   "name": "python",
   "nbconvert_exporter": "python",
   "pygments_lexer": "ipython3",
   "version": "3.12.3"
  }
 },
 "nbformat": 4,
 "nbformat_minor": 5
}
