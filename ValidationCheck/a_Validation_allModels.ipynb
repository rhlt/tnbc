{
 "cells": [
  {
   "cell_type": "markdown",
   "id": "1e3b2f6c",
   "metadata": {},
   "source": [
    "### Load dataset"
   ]
  },
  {
   "cell_type": "code",
   "execution_count": 24,
   "id": "e25da51d-8d88-439e-8b55-796a7eb4ebcd",
   "metadata": {},
   "outputs": [
    {
     "name": "stdout",
     "output_type": "stream",
     "text": [
      "1/3 - Applying SVM to features - Start\n",
      "X_train.shape=(781, 27)\n",
      "X_test.shape=(196, 27)\n",
      "y_train.shape=(781,)\n",
      "y_test.shape=(196,)\n",
      "Accuracy: 0.95\n",
      "Model validation for SVC:\n",
      "[0.9489795918367347, 0.9489795918367347, 0.958974358974359, 0.9487179487179487, 0.9487179487179487]\n",
      "\n",
      "Mean accuracy: 0.9509\n",
      "\n",
      "Accuracy: 0.91\n",
      "Model validation for SVC:\n",
      "[0.9489795918367347, 0.9489795918367347, 0.958974358974359, 0.9487179487179487, 0.9487179487179487]\n",
      "\n",
      "Mean accuracy: 0.9509\n",
      "\n",
      "1/3 - Applying SVM to features - End\n",
      "2/3 - Applying RF to features - Start\n",
      "X_train.shape=(781, 27)\n",
      "X_test.shape=(196, 27)\n",
      "y_train.shape=(781,)\n",
      "y_test.shape=(196,)\n",
      "Accuracy: 0.96\n",
      "Model validation for RandomForestClassifier:\n",
      "[0.9591836734693877, 0.9489795918367347, 0.9487179487179487, 0.9384615384615385, 0.9384615384615385]\n",
      "\n",
      "Mean accuracy: 0.9468\n",
      "\n",
      "Accuracy: 0.88\n",
      "Model validation for RandomForestClassifier:\n",
      "[0.9591836734693877, 0.9489795918367347, 0.9487179487179487, 0.9384615384615385, 0.9384615384615385]\n",
      "\n",
      "Mean accuracy: 0.9468\n",
      "\n",
      "2/3 - Applying RF to features - End\n",
      "3/3 - Applying LG to features - Start\n",
      "X_train.shape=(781, 27)\n",
      "X_test.shape=(196, 27)\n",
      "y_train.shape=(781,)\n",
      "y_test.shape=(196,)\n",
      "Accuracy: 0.96\n",
      "Model validation for LogisticRegression:\n",
      "[0.9642857142857143, 0.9591836734693877, 0.958974358974359, 0.9487179487179487, 0.9435897435897436]\n",
      "\n",
      "Mean accuracy: 0.9550\n",
      "\n",
      "Accuracy: 0.89\n",
      "Model validation for LogisticRegression:\n",
      "[0.9642857142857143, 0.9591836734693877, 0.958974358974359, 0.9487179487179487, 0.9435897435897436]\n",
      "\n",
      "Mean accuracy: 0.9550\n",
      "\n",
      "3/3 - Applying LG to features - End\n"
     ]
    },
    {
     "name": "stderr",
     "output_type": "stream",
     "text": [
      "C:\\Data\\998_Software\\Anaconda\\Lib\\site-packages\\sklearn\\metrics\\_classification.py:1531: UndefinedMetricWarning: Precision is ill-defined and being set to 0.0 due to no predicted samples. Use `zero_division` parameter to control this behavior.\n",
      "  _warn_prf(average, modifier, f\"{metric.capitalize()} is\", len(result))\n"
     ]
    }
   ],
   "source": [
    "%run \"..\\\\Model\\\\DataHelpers.ipynb\"\n",
    "\n",
    "FILE_PATH = f\"../Data/patient_genes_lasso.csv\"\n",
    "FILE_PATH_VALIDATION = f\"../Data/validationset.csv\"\n",
    "\n",
    "GENE_FILE_VARIANT = 'lasso'\n",
    "featuresLASSO = [ 'CD1A'  , 'CSF2RB', 'EPCAM' , 'ERBB2'  , 'ESR1'    ,\n",
    "                  'EZH2'  , 'FGB'   , 'FOXA1' , 'FOXC1'  , 'GATA3'   , \n",
    "                  'LAMA2' , 'LMNA'  , 'MDGA2' , 'OBSCN'  , 'OGN'     , \n",
    "                  'PGR'   , 'SELL'  , 'SRC'   , 'TACSTD2', 'TBC1D22B', \n",
    "                  'TFF1'  , 'TGFB3' , 'UBE2C' , 'VTCN1'  ,'WTAP'     , \n",
    "                  'YES1'  , 'YOD1' ]\n",
    "\n",
    "df = pd.read_csv(FILE_PATH)\n",
    "dfValidation = pd.read_csv(FILE_PATH_VALIDATION)\n",
    "\n",
    "# Validation set same balance as trainset/testset\n",
    "dfValidation = pd.concat([dfValidation[dfValidation['tnbc'] ==False], dfValidation[dfValidation['tnbc'] ==True].head(15)])\n",
    "\n",
    "total = len(ModelVariant)\n",
    "counter = 1\n",
    "\n",
    "for modelName in ModelVariant.__members__:\n",
    "    print(f'{counter}/{total} - Applying {modelName} to features - Start')\n",
    "    model = getModel(modelName)\n",
    "\n",
    "    ### Dataset split: training and test data\n",
    "    X, y, X_train, X_test, y_train, y_test, test_case_ids = split_data(df, \"tnbc\", True)\n",
    "    \n",
    "    y_pred, y_prod = run_model(model, X_train, X_test, y_train, y_test, test_case_ids, False, False, modelName)\n",
    "    print_evaluated_model_accuracy(y_test, y_pred)\n",
    "\n",
    "    metrics = run_cross_validation(model, X, y, y_test, y_pred, y_prod, False, False, modelName)\n",
    "\n",
    "    ### Validation\n",
    "    X_val = dfValidation[featuresLASSO]\n",
    "    y_val = dfValidation['tnbc']\n",
    "    test_case_ids_val = dfValidation['case_id']\n",
    "\n",
    "    y_pred, y_prod = run_model_validation(model, X_val, y_val, test_case_ids_val)\n",
    "    print_evaluated_model_accuracy(y_val, y_pred)\n",
    "\n",
    "    metrics = run_cross_validation_validation(model, X, y, y_val, y_pred, y_prod)\n",
    "\n",
    "    print(f'{counter}/{total} - Applying {modelName} to features - End')\n",
    "    counter += 1\n",
    "\n",
    "    "
   ]
  },
  {
   "cell_type": "code",
   "execution_count": 15,
   "id": "180264e9-5187-4012-b26c-433f6232d691",
   "metadata": {},
   "outputs": [],
   "source": []
  }
 ],
 "metadata": {
  "kernelspec": {
   "display_name": "Python 3 (ipykernel)",
   "language": "python",
   "name": "python3"
  },
  "language_info": {
   "codemirror_mode": {
    "name": "ipython",
    "version": 3
   },
   "file_extension": ".py",
   "mimetype": "text/x-python",
   "name": "python",
   "nbconvert_exporter": "python",
   "pygments_lexer": "ipython3",
   "version": "3.12.3"
  }
 },
 "nbformat": 4,
 "nbformat_minor": 5
}
