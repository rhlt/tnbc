{
 "cells": [
  {
   "cell_type": "markdown",
   "id": "3ec066ac-17cc-4d11-813c-370273085136",
   "metadata": {},
   "source": [
    "# PreProcessing data\n",
    "### (validation, standardization, imputation, augmentation, deduplication)"
   ]
  },
  {
   "cell_type": "markdown",
   "id": "c2501db9-33c9-46d9-b26b-9c645a1ccb64",
   "metadata": {},
   "source": [
    "# Defining Features for GEO data (validation set)"
   ]
  },
  {
   "cell_type": "code",
   "execution_count": 144,
   "id": "461a8ee9-1718-4543-b343-44dd0cd09fa8",
   "metadata": {},
   "outputs": [],
   "source": [
    "%run \"..\\Model\\DataHelpers.ipynb\"\n",
    "\n",
    "# featuresStatistical = [ 'MCF2L2', 'FOXC1' , 'YBX1'  , 'IGF2BP2', 'FSCN1'   ,\n",
    "#                         'GABRP' , 'SOX10' , 'CENPA' , 'PADI2'  , 'CDC20'   ,\n",
    "#                         'BCL11A', 'HAPLN3', 'ANP32E', 'SFT2D2' , 'B3GNT5'  ,\n",
    "#                         'ANKS6' , 'FOXA1' , 'PSAT1' , 'TBX19'  , 'CDCA7'   ,\n",
    "#                         'CENPW' , 'UGT8'  , 'RGMA'  , 'EN1'    , 'FAM171A1' ]\n",
    "\n",
    "# featuresLASSO       = [ 'CD1A'  , 'CSF2RB', 'EPCAM' , 'ERBB2'  , 'ESR1'    ,\n",
    "#                         'EZH2'  , 'FGB'   , 'FOXA1' , 'FOXC1'  , 'GATA3'   , \n",
    "#                         'LAMA2' , 'LMNA'  , 'MDGA2' , 'OBSCN'  , 'OGN'     , \n",
    "#                         'PGR'   , 'SELL'  , 'SRC'   , 'TACSTD2', 'TBC1D22B', \n",
    "#                         'TFF1'  , 'TGFB3' , 'UBE2C' , 'VTCN1'  ,'WTAP'     , \n",
    "#                         'YES1'  , 'YOD1' ]\n",
    "\n",
    "# Removed 'GSTA2' for lack in GSE65216\n",
    "# featuresLASSO       = [ \n",
    "#                         'A2M'    ,'ABCA1' ,'ACKR1'  ,'ACSL3' ,'ADH1B'  ,'AHR'   ,'AK5'     ,'AKT2'   ,'AKT3'    ,'ALDH1A1',\n",
    "#                         'ALOX12B','AOC3'  ,'APOE'   ,'AR'    ,'ARID1B' ,'ASAH1' ,'ASPSCR1' ,'ASXL1'  ,'ASXL3'   ,'BCL9',\n",
    "#                         'BIRC3'  ,'BRD4'  ,'BTN3A1' ,'CANT1' ,'CCL4'   ,'CCNE1' ,'CD163'   ,'CD1A'   ,'CD1B'    ,'CD1D',\n",
    "#                         'CD1E'   ,'CD24'  ,'CD274'  ,'CD276' ,'CD44'   ,'CD68'  ,'CD79A'   ,'CD86'   ,'CD8A'    ,'CD8B',\n",
    "#                         'CDH1'   ,'CDH3'  ,'CDH5'   ,'CDK1'  ,'CDK2'   ,'CDK4'  ,'CDK6'    ,'CDKN1B' ,'CDKN2B'  ,'CEACAM7',\n",
    "#                         'CKB'    ,'CLEC3A','COL1A2' ,'CREBBP','CSF2RB' ,'CTSD'  ,'CX3CR1'  ,'CXCR2'  ,'CXCR4'   ,'CYP1A1',\n",
    "#                         'DCLK1'  ,'DDR2'  ,'DEFB132','DNAH7' ,'DOCK11' ,'EDNRB' ,'EPCAM'   ,'ERBB2'  ,'ESR1'    ,'ESR2',\n",
    "#                         'EZH2'   ,'FBXW7' ,'FCGR2B' ,'FGA'   ,'FGB'    ,'FGFR1' ,'FGFR4'   ,'FOXC1'  ,'FOXP3'   ,'FYN',\n",
    "#                         'GAS1'   ,'GATA3' ,'GLDC'   ,'GNG11' ,'GNLY'   ,'HSP90AA1','HSP90B1','HSPA5'   ,'IDO1', # hier was GSTA2\n",
    "#                         'IFNG'   ,'IGF1'  ,'IL2RB'  ,'IL2RG' ,'IL6'    ,'INPP4B','JCHAIN'  ,'KIT'    ,'KMT2D'   ,'KRT18',\n",
    "#                         'KRT5'   ,'KRT6B' ,'LAMA2'  ,'LMNA'  ,'LPA'    ,'MAP2K4','MAP3K1'  ,'MDGA2'  ,'MDM2'    ,'MET',\n",
    "#                         'MTOR'   ,'MUC1'  ,'MUC16'  ,'MYB'   ,'NF1'    ,'NOTCH3','OBSCN'   ,'OGN'    ,'OLAH'    ,'P4HA3',\n",
    "#                         'PDE2A'  ,'PGF'   ,'PGR'   ,'PHLDA2' ,'PIK3CA','PIK3R1'  ,'PIP'    ,'PKN1'    ,'PMS1',\n",
    "#                         'POSTN'  ,'PRR4'  ,'PTEN'   ,'PTK6'  ,'PTPRH'  ,'RAD17' ,'RAD51C'  ,'RYR1'   ,'SDS'     ,'SERPINA9',\n",
    "#                         'SNAI1'  ,'SPTA1' ,'SRD5A2' ,'SREBF1','STAT1'  ,'STAT3' ,'TACSTD2' ,'TBC1D1' ,'TBC1D22B','TBC1D31',\n",
    "#                         'TBC1D7' ,'TFF1'  ,'TGFB2'  ,'TGFB3' ,'TH'     ,'THBD'  ,'TIGIT'   ,'TOP2A'  ,'TP53'    ,'TTN',\n",
    "#                         'TYMS'   ,'VAV3'  ,'VEGFA'  ,'VEGFB' ,'VEGFD'  ,'VTCN1' ,'VWF'     ,'WTAP'   ,'XBP1'    ,'XCL1',\n",
    "#                         'XCL2'   ,'YES1'  ,'YOD1' \n",
    "#                        ]\n",
    "\n",
    "#genesInDinges = 'A2M,ABCA1,ACKR1,ACSL3,ADH1B,AHR,AK5,AKT2,AKT3,ALOX12B,AOC3,APOE,AR,ARID1B,ASAH1,ASPSCR1,ASXL1,ASXL3,BCL9,BIRC3,BRD4,BTN3A1,CANT1,CCL4,CCNE1,CD1A,CD1B,CD1D,CD1E,CD24,CD274,CD276,CD44,CD68,CD79A,CD86,CD8A,CD8B,CDH1,CDH3,CDH5,CDK1,CDK2,CDK6,CDKN1B,CDKN2B,CKB,COL1A1,COL1A2,CREBBP,CSF2RB,CTSD,CX3CR1,CXCR2,CXCR4,CYP1A1,DCLK1,DDR2,DEFB132,DNAH7,DOCK11,DST,EDNRB,EPCAM,ERBB2,ESR1,ESR2,EZH2,FBXW7,FCGR2B,FGB,FGFR1,FGFR2,FGFR4,FOXC1,FOXP3,FYN,GAS1,GATA3,GLDC,GNG11,GNLY,GSTA2,HSP90AA1,HSP90B1,HSPA5,IFNG,IGF1,IL2RB,IL6,INPP4B,JCHAIN,KIT,KMT2D,KRT18,KRT6B,LAMA2,LMNA,LPA,MAP2K4,MAP3K1,MDGA2,MDM2,MET,MTOR,MUC1,MUC16,MYB,NF1,NOTCH3,OBSCN,OGN,OLAH,P4HA3,PCK1,PDE2A,PGF,PGR,PHLDA2,PIK3CA,PIK3R1,PIP,PKN1,PMS1,POSTN,PRR4,PTEN,PTK6,PTPRH,RAD17,RAD51C,RDH12,RYR1,SDS,SERPINA9,SNAI1,SPTA1,SRD5A2,SREBF1,STAT1,STAT3,TACSTD2,TAT,TBC1D22B,TBC1D31,TFF1,TGFB2,TGFB3,TH,THBD,TOP2A,TP53,TTN,TYMS,VAV3,VEGFA,VEGFB,VEGFD,VTCN1,VWF,WTAP,XBP1,XCL2,YES1'\n",
    "genesInDinges = 'A2M,ABCA1,ACKR1,ACSL3,ADH1B,AHR,AK5,AKT2,AKT3,ALOX12B,AOC3,APOE,AR,ARID1B,ASAH1,ASPSCR1,ASXL1,ASXL3,BCL9,BIRC3,BRD4,BTN3A1,CANT1,CCL4,CCNE1,CD1A,CD1B,CD1D,CD1E,CD24,CD274,CD276,CD44,CD68,CD79A,CD86,CD8A,CD8B,CDH1,CDH3,CDH5,CDK1,CDK2,CDK6,CDKN1B,CDKN2B,CKB,COL1A1,COL1A2,CREBBP,CSF2RB,CTSD,CX3CR1,CXCR2,CXCR4,CYP1A1,DCLK1,DDR2,DEFB132,DNAH7,DOCK11,DST,EDNRB,EPCAM,ERBB2,ESR1,ESR2,EZH2,FBXW7,FCGR2B,FGB,FGFR1,FGFR2,FGFR4,FOXC1,FOXP3,FYN,GAS1,GATA3,GLDC,GNG11,GNLY,HSP90AA1,HSP90B1,HSPA5,IFNG,IGF1,IL2RB,IL6,INPP4B,JCHAIN,KIT,KMT2D,KRT18,KRT6B,LAMA2,LMNA,LPA,MAP2K4,MAP3K1,MDGA2,MDM2,MET,MTOR,MUC1,MUC16,MYB,NF1,NOTCH3,OBSCN,OGN,OLAH,P4HA3,PCK1,PDE2A,PGF,PGR,PHLDA2,PIK3CA,PIK3R1,PIP,PKN1,PMS1,POSTN,PRR4,PTEN,PTK6,PTPRH,RAD17,RAD51C,RDH12,RYR1,SDS,SERPINA9,SNAI1,SPTA1,SRD5A2,SREBF1,STAT1,STAT3,TACSTD2,TAT,TBC1D22B,TBC1D31,TFF1,TGFB2,TGFB3,TH,THBD,TOP2A,TP53,TTN,TYMS,VAV3,VEGFA,VEGFB,VEGFD,VTCN1,VWF,WTAP,XBP1,XCL2,YES1'\n",
    "featuresLASSO = genesInDinges.split(',')\n",
    "\n",
    "featuresValidation = featuresLASSO + constTargetAndMetadata"
   ]
  },
  {
   "cell_type": "code",
   "execution_count": 145,
   "id": "9d725847-515e-41a2-aa6c-9e19c6b600b8",
   "metadata": {},
   "outputs": [
    {
     "data": {
      "text/plain": [
       "[]"
      ]
     },
     "execution_count": 145,
     "metadata": {},
     "output_type": "execute_result"
    }
   ],
   "source": [
    "#featuresLASSO\n",
    "list(set([item for item in featuresLASSO if featuresLASSO.count(item) > 1]))"
   ]
  },
  {
   "cell_type": "markdown",
   "id": "398acd89-9e5b-4edb-bc99-29bd84b03fb5",
   "metadata": {},
   "source": [
    "# Define GEO data"
   ]
  },
  {
   "cell_type": "code",
   "execution_count": 146,
   "id": "7114328e-517f-493e-aace-b0cee92a84dc",
   "metadata": {},
   "outputs": [],
   "source": [
    "geoData = {}\n",
    "\n",
    "geoData['GSE65216'] = {'dataSetName': 'GSE65216', 'dataSetFile':'GSE65216-GPL570_series_matrix.txt'   , 'dataSetSkipRows': 67 , 'dataSetSkipFooter': 1, 'platformName': 'GPL570'  , 'platformFile': 'GPL570-55999.txt'  , 'platformSkipRows': 16, 'platformSkipFooter': 0, 'processing':'Data were analyzed using standard AffyCDF or Brainarray HGU133Plus2_Hs_ENTREZG version 13 custom chipset definition file. Data were normalized using GC-RMA. Batch and hybridization effects were corrected using a linear model in which they were treated as fixed effects. Samples with technical replicates were subsequently averaged.'}\n",
    "geoData['GSE76250'] = {'dataSetName': 'GSE76250', 'dataSetFile':'GSE76250_series_matrix.txt'          , 'dataSetSkipRows': 74 , 'dataSetSkipFooter': 1, 'platformName': 'GPL17586', 'platformFile': 'GPL17586-45144.txt', 'platformSkipRows': 15, 'platformSkipFooter': 1, 'processing':'The data were analyzed with Robust Multichip Analysis (RMA) algorithm using Affymetrix default analysis settings and global scaling as normalization method (ExpressionConsole 1.3.1) probe group file: HTA-2_0.r1.pgf meta-probeset file: HTA-2_0.r1.Psrs.mps'}"
   ]
  },
  {
   "cell_type": "markdown",
   "id": "ce99927b-ec1f-43d0-a5df-efbacd1e375f",
   "metadata": {},
   "source": [
    "# Define synonyms for TCGA-BRCA based on KEGG and HEP"
   ]
  },
  {
   "cell_type": "code",
   "execution_count": 147,
   "id": "02c29e9e-59f8-4ad9-8453-bb95313ec634",
   "metadata": {},
   "outputs": [],
   "source": [
    "geoData['GSE65216']['synonyms'] = { 'IGJ': 'JCHAIN',                                   \n",
    "                                    'PRH1-PRR4': 'PRR4',\n",
    "                                    'FIGF': 'VEGFD',\n",
    "                                    'CXCL2' : 'XCL2'\n",
    "                                  }\n",
    "\n",
    "geoData['GSE76250']['synonyms'] = { 'DARC': 'ACKR1',\n",
    "                                    'IGJ': 'JCHAIN',\n",
    "                                    'WDR67': 'TBC1D31',\n",
    "                                    'FIGF': 'VEGFD',\n",
    "                                    'IL8': 'CXCL8',\n",
    "                                  }"
   ]
  },
  {
   "cell_type": "markdown",
   "id": "16126bef-1fb4-46df-849b-37f7e0ca3272",
   "metadata": {},
   "source": [
    "# Loading data - GEO"
   ]
  },
  {
   "cell_type": "code",
   "execution_count": 148,
   "id": "c7030384-73a6-4eac-89e1-865685a124aa",
   "metadata": {},
   "outputs": [
    {
     "name": "stdout",
     "output_type": "stream",
     "text": [
      "***- Reading GEO data - Start\n",
      "***- Reading GEO data - End\n"
     ]
    }
   ],
   "source": [
    "import os\n",
    "\n",
    "geoData_GSE65216_file = os.path.join('../Data', 'geoData_GSE65216.csv')\n",
    "geoData_GSE76250_file = os.path.join('../Data', 'geoData_GSE76250.csv')\n",
    "\n",
    "print(f\"***- Reading GEO data - Start\")\n",
    "geoData['GSE65216']['data'] = pd.read_csv(geoData_GSE65216_file, sep=',')\n",
    "geoData['GSE76250']['data'] = pd.read_csv(geoData_GSE76250_file, sep=',')\n",
    "print(f\"***- Reading GEO data - End\")"
   ]
  },
  {
   "cell_type": "markdown",
   "id": "3fee2779-2ae7-47f1-b5db-5ac079419530",
   "metadata": {},
   "source": [
    "# Feature columns - GEO"
   ]
  },
  {
   "cell_type": "code",
   "execution_count": 149,
   "id": "74ff823d-a588-4d36-9781-ecd9efda3dd7",
   "metadata": {},
   "outputs": [
    {
     "name": "stdout",
     "output_type": "stream",
     "text": [
      "***- Determine feature columns - Start\n",
      "***- Determine feature columns - End\n"
     ]
    }
   ],
   "source": [
    "print(f\"***- Determine feature columns - Start\")\n",
    "onlyFeatureColumns_GSE76250 = len(geoData['GSE76250']['data'].columns)-2 # tnbc / case_id\n",
    "geoData['GSE76250']['featureColumns'] = geoData['GSE76250']['data'].columns[:onlyFeatureColumns_GSE76250]\n",
    "\n",
    "onlyFeatureColumns_GSE65216 = len(geoData['GSE65216']['data'].columns)-2 # tnbc / case_id\n",
    "geoData['GSE65216']['featureColumns'] = geoData['GSE65216']['data'].columns[:onlyFeatureColumns_GSE65216]\n",
    "print(f\"***- Determine feature columns - End\")"
   ]
  },
  {
   "cell_type": "markdown",
   "id": "942b6312-8521-45c5-b66f-9f53b69ab84c",
   "metadata": {},
   "source": [
    "# Deplication GEO - Check rows"
   ]
  },
  {
   "cell_type": "code",
   "execution_count": 150,
   "id": "373447a5-3289-425f-8307-3dd515448bcb",
   "metadata": {},
   "outputs": [
    {
     "name": "stdout",
     "output_type": "stream",
     "text": [
      "***- Checking dupplicates - Start\n",
      "***- Dataset GSE65216 has no duplicates\n",
      "***- Dataset GSE76250 has no duplicates\n",
      "***- Checking dupplicates - End\n"
     ]
    }
   ],
   "source": [
    "total = len(geoData.keys())\n",
    "counter = 1\n",
    "print(f\"***- Checking dupplicates - Start\")\n",
    "\n",
    "for k in geoData.keys():\n",
    "    if len(geoData[k]['data'].columns[geoData[k]['data'].columns.duplicated()]) == 0:\n",
    "        print(f'***- Dataset {k} has no duplicates')\n",
    "    else:\n",
    "        print(f'***- Dataset {k} has duplicates')\n",
    "        \n",
    "    counter+=1\n",
    "\n",
    "print(f\"***- Checking dupplicates - End\")"
   ]
  },
  {
   "cell_type": "markdown",
   "id": "eb5a10ae-3034-4b1a-86ca-3da1964a9d67",
   "metadata": {},
   "source": [
    "# Standardization GEO - Removing mean and Scaling"
   ]
  },
  {
   "cell_type": "code",
   "execution_count": null,
   "id": "3c19dd12-f4ae-4667-a56f-1a4c45034d88",
   "metadata": {},
   "outputs": [],
   "source": []
  },
  {
   "cell_type": "code",
   "execution_count": null,
   "id": "db8f956d-644b-4661-b7b5-095fe58eaa70",
   "metadata": {},
   "outputs": [],
   "source": []
  },
  {
   "cell_type": "markdown",
   "id": "280e8f68-388b-4d48-aebf-c49b4c32090c",
   "metadata": {},
   "source": [
    "# CHeck new lasso features"
   ]
  },
  {
   "cell_type": "code",
   "execution_count": 24,
   "id": "3005f726-2836-4238-8bf5-e15c2135f418",
   "metadata": {},
   "outputs": [
    {
     "name": "stdout",
     "output_type": "stream",
     "text": [
      "172\n"
     ]
    }
   ],
   "source": [
    "print(len(set(featuresLASSO)))\n",
    "\n",
    "#set(featureLASSO)"
   ]
  },
  {
   "cell_type": "code",
   "execution_count": null,
   "id": "26632e41-9b67-43f6-ba83-b86236c92b1b",
   "metadata": {},
   "outputs": [],
   "source": [
    "'PGF.1'"
   ]
  },
  {
   "cell_type": "code",
   "execution_count": 28,
   "id": "1bea779e-4180-427e-97e8-35140489c507",
   "metadata": {},
   "outputs": [
    {
     "name": "stdout",
     "output_type": "stream",
     "text": [
      "32672\n",
      "32670\n",
      "GSE76250 - {'ACKR1', 'TBC1D31', 'JCHAIN', 'VEGFD'}\n",
      "GSE65216 - {'GSTA2', 'PRR4', 'VEGFD', 'XCL2', 'JCHAIN'}\n"
     ]
    }
   ],
   "source": [
    "print(len(geoData['GSE76250']['data'].columns))\n",
    "print(len(geoData['GSE76250']['data'][geoData['GSE76250']['featureColumns']].columns))\n",
    "\n",
    "\n",
    "print(f'GSE76250 - {set(featuresLASSO) - set(geoData['GSE76250']['data'][geoData['GSE76250']['featureColumns']].columns)}')\n",
    "print(f'GSE65216 - {set(featuresLASSO) - set(geoData['GSE65216']['data'][geoData['GSE65216']['featureColumns']].columns)}')"
   ]
  },
  {
   "cell_type": "markdown",
   "id": "6aeaab3c-c85d-4b48-a707-6aa6a96eab9c",
   "metadata": {},
   "source": [
    "## Seems to check out"
   ]
  },
  {
   "cell_type": "code",
   "execution_count": 46,
   "id": "596c1eb3-d9c9-4ae4-adc0-cb4bedde6cc9",
   "metadata": {},
   "outputs": [
    {
     "data": {
      "text/plain": [
       "0      2.408921\n",
       "1      1.886562\n",
       "2      1.713187\n",
       "3      1.819577\n",
       "4      2.685977\n",
       "         ...   \n",
       "160    2.692148\n",
       "161    2.608777\n",
       "162    1.658852\n",
       "163    1.860123\n",
       "164    2.686853\n",
       "Name: GSTA2, Length: 165, dtype: float64"
      ]
     },
     "execution_count": 46,
     "metadata": {},
     "output_type": "execute_result"
    }
   ],
   "source": [
    "# GSE65216 - {'GSTA2',  'XCL2'}\n",
    "#geoData['GSE65216']['data']['GST2']\n",
    "#geoData['GSE65216']['data']['GSTA2-2']\n",
    "#geoData['GSE65216']['data']['GTA2']\n",
    "#geoData['GSE65216']['data']['GTH2']\n",
    "#geoData['GSE65216']['data']['glutathione S-transferase alpha 2']\n",
    "#geoData['GSE65216']['data']['GSTC2']\n",
    "#geoData['GSE65216']['data']['GST2-2']\n",
    "#geoData['GSE65216']['data']['GSTC-2']\n",
    "\n",
    "geoData['GSE76250']['data']['GSTA2']"
   ]
  },
  {
   "cell_type": "code",
   "execution_count": null,
   "id": "28363a7f-0395-474c-87bf-44ab2c088b08",
   "metadata": {},
   "outputs": [],
   "source": []
  },
  {
   "cell_type": "code",
   "execution_count": null,
   "id": "45e77acb-edaf-4500-82f9-2a0b4fe6f8ad",
   "metadata": {},
   "outputs": [],
   "source": []
  },
  {
   "cell_type": "code",
   "execution_count": null,
   "id": "a9947102-45cf-4c48-beea-31e60e43f910",
   "metadata": {},
   "outputs": [],
   "source": []
  },
  {
   "cell_type": "code",
   "execution_count": null,
   "id": "38fe7e9f-8ed4-4b6a-a14f-b7b08cea9e9a",
   "metadata": {},
   "outputs": [],
   "source": []
  },
  {
   "cell_type": "code",
   "execution_count": null,
   "id": "29e393cb-5add-47c5-9b8a-4ab0dd0be5db",
   "metadata": {},
   "outputs": [],
   "source": []
  },
  {
   "cell_type": "code",
   "execution_count": null,
   "id": "54ce87d0-8fc2-4a5c-95f4-a632fbfb9e10",
   "metadata": {},
   "outputs": [],
   "source": []
  },
  {
   "cell_type": "code",
   "execution_count": null,
   "id": "7fb79c46-fd52-48c8-b6ac-2d7f12f7e2d4",
   "metadata": {},
   "outputs": [],
   "source": []
  },
  {
   "cell_type": "code",
   "execution_count": null,
   "id": "eb8e7c9f-0d07-4eaf-9fe8-b674659a8e9f",
   "metadata": {},
   "outputs": [],
   "source": []
  },
  {
   "cell_type": "code",
   "execution_count": null,
   "id": "7bc1e471-e5be-49ac-b28b-7d5e3767c3ce",
   "metadata": {},
   "outputs": [],
   "source": []
  },
  {
   "cell_type": "code",
   "execution_count": null,
   "id": "16f18ec6-70e8-402e-8b66-9f676c4fefa5",
   "metadata": {},
   "outputs": [],
   "source": []
  },
  {
   "cell_type": "markdown",
   "id": "5264ee20-6a8a-4917-b0ac-1a29da7649f9",
   "metadata": {},
   "source": [
    "# EVIN"
   ]
  },
  {
   "cell_type": "code",
   "execution_count": null,
   "id": "27bb22ff-715f-4bd1-b148-b8b9e7498019",
   "metadata": {},
   "outputs": [],
   "source": []
  },
  {
   "cell_type": "code",
   "execution_count": null,
   "id": "01864b16-070e-47e9-bbdd-495b65e8a3dc",
   "metadata": {},
   "outputs": [],
   "source": []
  },
  {
   "cell_type": "code",
   "execution_count": 151,
   "id": "7c259548-8a03-40d4-b276-46cd028e58e2",
   "metadata": {},
   "outputs": [],
   "source": [
    "from sklearn.preprocessing import StandardScaler\n",
    "scaler = StandardScaler()"
   ]
  },
  {
   "cell_type": "code",
   "execution_count": 152,
   "id": "34b83d86-86a0-4cbb-a831-e1cc2b943adf",
   "metadata": {},
   "outputs": [
    {
     "name": "stdout",
     "output_type": "stream",
     "text": [
      "Apply Scaling - Start\n",
      "Apply Scaling - End\n"
     ]
    }
   ],
   "source": [
    "print(f'Apply Scaling - Start')\n",
    "geoData['GSE76250']['data'][geoData['GSE76250']['featureColumns']] = scaler.fit_transform(geoData['GSE76250']['data'][geoData['GSE76250']['featureColumns']])\n",
    "geoData['GSE65216']['data'][geoData['GSE65216']['featureColumns']] = scaler.fit_transform(geoData['GSE65216']['data'][geoData['GSE65216']['featureColumns']])\n",
    "print(f'Apply Scaling - End')"
   ]
  },
  {
   "cell_type": "markdown",
   "id": "d2ffc48c-66b3-443d-9788-892b7949761b",
   "metadata": {},
   "source": [
    "# Rename GEO columns to adhere to TCGA-BRCA synonyms"
   ]
  },
  {
   "cell_type": "code",
   "execution_count": 153,
   "id": "ec28b83c-6978-411f-8547-e861ba368c66",
   "metadata": {},
   "outputs": [
    {
     "name": "stdout",
     "output_type": "stream",
     "text": [
      "***- Renaming gene symbol to TCGA-BRCA from GEO - Start\n",
      "1/2 - Dataset GSE65216 - Renamed Gene Symbols\n",
      "2/2 - Dataset GSE76250 - Renamed Gene Symbols\n",
      "***- Renaming gene symbol to TCGA-BRCA from GEO - End\n"
     ]
    }
   ],
   "source": [
    "total = len(geoData.keys())\n",
    "counter = 1\n",
    "print(f\"***- Renaming gene symbol to TCGA-BRCA from GEO - Start\")\n",
    "\n",
    "for k in geoData.keys():\n",
    "    for s in geoData[k]['synonyms'].keys():\n",
    "        geoData[k]['data'].rename(columns={s : geoData[k]['synonyms'][s]}, inplace=True)\n",
    "    \n",
    "    print(f\"{counter}/{total} - Dataset {k} - Renamed Gene Symbols\")\n",
    "    counter+=1\n",
    "\n",
    "print(f\"***- Renaming gene symbol to TCGA-BRCA from GEO - End\")"
   ]
  },
  {
   "cell_type": "markdown",
   "id": "74a1df25-fbab-4cf9-afbf-9200e51777cb",
   "metadata": {},
   "source": [
    "# Combine GEO data into 1 set"
   ]
  },
  {
   "cell_type": "code",
   "execution_count": 154,
   "id": "b5785e06-aee9-435f-91d1-01264132d972",
   "metadata": {},
   "outputs": [],
   "source": [
    "combinedData = pd.concat([geoData['GSE65216']['data'][featuresValidation], geoData['GSE76250']['data'][featuresValidation]])"
   ]
  },
  {
   "cell_type": "markdown",
   "id": "10d71a8e-18e6-417c-b71b-4522165c700c",
   "metadata": {},
   "source": [
    "# Write validation set"
   ]
  },
  {
   "cell_type": "code",
   "execution_count": 155,
   "id": "343fe897-ea35-47c8-9ec9-adcd885550a2",
   "metadata": {},
   "outputs": [
    {
     "name": "stdout",
     "output_type": "stream",
     "text": [
      "Writing DataFrame to CSV - Start\n",
      "Writing DataFrame to CSV - End\n"
     ]
    }
   ],
   "source": [
    "print(f'Writing DataFrame to CSV - Start')\n",
    "combinedData.to_csv(f'../Data/validationSet_smote.csv', index=False)\n",
    "print(f'Writing DataFrame to CSV - End')"
   ]
  },
  {
   "cell_type": "code",
   "execution_count": null,
   "id": "6bfef241-d83f-4536-9383-86a2fb1ef135",
   "metadata": {},
   "outputs": [],
   "source": []
  }
 ],
 "metadata": {
  "kernelspec": {
   "display_name": "Python 3 (ipykernel)",
   "language": "python",
   "name": "python3"
  },
  "language_info": {
   "codemirror_mode": {
    "name": "ipython",
    "version": 3
   },
   "file_extension": ".py",
   "mimetype": "text/x-python",
   "name": "python",
   "nbconvert_exporter": "python",
   "pygments_lexer": "ipython3",
   "version": "3.12.3"
  }
 },
 "nbformat": 4,
 "nbformat_minor": 5
}
