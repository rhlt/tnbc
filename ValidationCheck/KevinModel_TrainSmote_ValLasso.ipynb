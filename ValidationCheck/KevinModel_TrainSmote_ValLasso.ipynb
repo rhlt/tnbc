{
 "cells": [
  {
   "cell_type": "markdown",
   "id": "1e3b2f6c",
   "metadata": {},
   "source": [
    "### Load dataset"
   ]
  },
  {
   "cell_type": "code",
   "execution_count": 24,
   "id": "e25da51d-8d88-439e-8b55-796a7eb4ebcd",
   "metadata": {},
   "outputs": [],
   "source": [
    "%run \"..\\\\Model\\\\DataHelpers.ipynb\""
   ]
  },
  {
   "cell_type": "code",
   "execution_count": 25,
   "id": "626df913-e445-41c2-8a52-9bb7c73537cb",
   "metadata": {},
   "outputs": [],
   "source": [
    "FILE_PATH = f\"../Data/patient_genes_lasso.csv\"\n",
    "FILE_PATH_VALIDATION = f\"../Data/validationset.csv\"\n",
    "\n",
    "GENE_FILE_VARIANT = 'lasso'\n",
    "featuresLASSO = [ 'CD1A'  , 'CSF2RB', 'EPCAM' , 'ERBB2'  , 'ESR1'    ,\n",
    "                  'EZH2'  , 'FGB'   , 'FOXA1' , 'FOXC1'  , 'GATA3'   , \n",
    "                  'LAMA2' , 'LMNA'  , 'MDGA2' , 'OBSCN'  , 'OGN'     , \n",
    "                  'PGR'   , 'SELL'  , 'SRC'   , 'TACSTD2', 'TBC1D22B', \n",
    "                  'TFF1'  , 'TGFB3' , 'UBE2C' , 'VTCN1'  ,'WTAP'     , \n",
    "                  'YES1'  , 'YOD1' ]\n",
    "\n",
    "df = pd.read_csv(FILE_PATH)\n",
    "dfValidation = pd.read_csv(FILE_PATH_VALIDATION)"
   ]
  },
  {
   "cell_type": "code",
   "execution_count": 26,
   "id": "55cc3127-2f9e-4995-8cb3-13686a1e1d61",
   "metadata": {},
   "outputs": [],
   "source": [
    "modelName = 'SVM'\n",
    "model = getModel(modelName)"
   ]
  },
  {
   "cell_type": "markdown",
   "id": "82ca721c-efc2-440b-8a3a-4cf4bb7d490d",
   "metadata": {},
   "source": [
    "# Train/Test with SMOTE"
   ]
  },
  {
   "cell_type": "code",
   "execution_count": 27,
   "id": "717d3e45-848c-480b-bcea-5b149e7b1c9a",
   "metadata": {},
   "outputs": [
    {
     "name": "stdout",
     "output_type": "stream",
     "text": [
      "X_train.shape=(1379, 27)\n",
      "X_test.shape=(345, 27)\n",
      "y_train.shape=(1379,)\n",
      "y_test.shape=(345,)\n"
     ]
    }
   ],
   "source": [
    "### Dataset split: training and test data, with SMOTE and without SMOTE\n",
    "X, y, X_train, X_test, y_train, y_test, test_case_ids = split_data_apply_smote(df, \"tnbc\")"
   ]
  },
  {
   "cell_type": "code",
   "execution_count": 28,
   "id": "9adab955-70e5-48fd-957e-3cf10e0a5b63",
   "metadata": {},
   "outputs": [
    {
     "name": "stdout",
     "output_type": "stream",
     "text": [
      "Accuracy: 0.97\n"
     ]
    }
   ],
   "source": [
    "y_pred, y_prod = run_model(model, X_train, X_test, y_train, y_test, test_case_ids, False, modelName)\n",
    "print_evaluated_model_accuracy(y_test, y_pred)"
   ]
  },
  {
   "cell_type": "code",
   "execution_count": 29,
   "id": "64a12aa4-ffc0-4140-bda8-7564e21c766e",
   "metadata": {},
   "outputs": [
    {
     "name": "stdout",
     "output_type": "stream",
     "text": [
      "Model validation for SVC:\n",
      "[0.9681159420289855, 0.9797101449275363, 0.9826086956521739, 0.9652173913043478, 0.9738372093023255]\n",
      "\n",
      "Mean accuracy: 0.9739\n",
      "\n"
     ]
    }
   ],
   "source": [
    "metrics = run_cross_validation(model, X, y, y_test, y_pred, y_prod, False, modelName)"
   ]
  },
  {
   "cell_type": "markdown",
   "id": "dc80a9bd-84c3-4d57-a389-7d1e37fc56ee",
   "metadata": {},
   "source": [
    "# Validation"
   ]
  },
  {
   "cell_type": "code",
   "execution_count": 30,
   "id": "eacb6f20-eabe-4d63-b65c-56c5691e3ad0",
   "metadata": {},
   "outputs": [],
   "source": [
    "X_val = dfValidation[featuresLASSO]\n",
    "y_val = dfValidation['tnbc']\n",
    "test_case_ids_val = dfValidation['case_id']"
   ]
  },
  {
   "cell_type": "code",
   "execution_count": 31,
   "id": "257500db-6988-4993-a018-7df2d9e176cd",
   "metadata": {},
   "outputs": [],
   "source": [
    "def run_model_validation(model: Model,\n",
    "                         X_validation: pd.DataFrame,\n",
    "                         y_validation: pd.Series,\n",
    "                         test_case_ids_val: pd.Series):\n",
    "    # Model predictions\n",
    "    y_pred = model.predict(X_validation)\n",
    "    y_prob = model.predict_proba(X_validation)[:, 1]  # For ROC curves etc.\n",
    "\n",
    "    # Save it in a dataframe, to CSV\n",
    "    predictions = pd.DataFrame({\n",
    "        \"case_id\": test_case_ids_val,\n",
    "        \"y_validation\": y_validation,\n",
    "        \"y_pred\": y_pred,\n",
    "        \"y_prob\": y_prob\n",
    "    })\n",
    "    predictions.to_csv(f\"../Data/model_output_trainTestSMOTE_lasso_validation.csv\", index=False)\n",
    "\n",
    "    return y_pred, y_prob"
   ]
  },
  {
   "cell_type": "code",
   "execution_count": 32,
   "id": "1c6d2ade-9f28-4499-9f02-bbc50081e338",
   "metadata": {},
   "outputs": [],
   "source": [
    "def run_cross_validation_validation(model: Model, \n",
    "                                    X: pd.DataFrame,\n",
    "                                    y: pd.Series, \n",
    "                                    y_validation: pd.Series,\n",
    "                                    y_pred: pd.Series,\n",
    "                                    y_prob: pd.Series) -> pd.DataFrame:\n",
    "    metrics: pd.DataFrame = get_cross_validation_metrics(model, X, y, cv=5)\n",
    "    test_metrics = get_metrics(y_validation, y_pred, y_prob)\n",
    "    test_metrics[\"fold\"] = 0 # Initial test metrics (before cross validation)\n",
    "    test = pd.DataFrame([test_metrics])\n",
    "    test.set_index(\"fold\", inplace=True)\n",
    "\n",
    "    print_validated_model_accuracy(model, metrics)\n",
    "\n",
    "    # Prepend test_metrics to metrics dataframe, export and display\n",
    "    metrics = pd.concat([test, metrics])\n",
    "    metrics.to_csv(f\"../Data/model_metrics_trainTestSMOTE_lasso_validation.csv\", index=False)\n",
    "    return metrics"
   ]
  },
  {
   "cell_type": "code",
   "execution_count": 33,
   "id": "998067d3-c194-4c95-9b63-6586916a81d8",
   "metadata": {},
   "outputs": [
    {
     "name": "stdout",
     "output_type": "stream",
     "text": [
      "Accuracy: 0.48\n"
     ]
    }
   ],
   "source": [
    "y_pred, y_prod = run_model_validation(model, X_val, y_val, test_case_ids_val)\n",
    "print_evaluated_model_accuracy(y_val, y_pred)"
   ]
  },
  {
   "cell_type": "code",
   "execution_count": 34,
   "id": "61af01fa-b721-4f71-8d8b-f7b591822481",
   "metadata": {},
   "outputs": [
    {
     "name": "stdout",
     "output_type": "stream",
     "text": [
      "Model validation for SVC:\n",
      "[0.9681159420289855, 0.9797101449275363, 0.9826086956521739, 0.9652173913043478, 0.9738372093023255]\n",
      "\n",
      "Mean accuracy: 0.9739\n",
      "\n"
     ]
    }
   ],
   "source": [
    "metrics = run_cross_validation_validation(model, X, y, y_val, y_pred, y_prod)"
   ]
  },
  {
   "cell_type": "code",
   "execution_count": null,
   "id": "55f87707-856a-4b6b-a7ae-a708af2b9e9b",
   "metadata": {},
   "outputs": [],
   "source": []
  }
 ],
 "metadata": {
  "kernelspec": {
   "display_name": "Python 3 (ipykernel)",
   "language": "python",
   "name": "python3"
  },
  "language_info": {
   "codemirror_mode": {
    "name": "ipython",
    "version": 3
   },
   "file_extension": ".py",
   "mimetype": "text/x-python",
   "name": "python",
   "nbconvert_exporter": "python",
   "pygments_lexer": "ipython3",
   "version": "3.12.3"
  }
 },
 "nbformat": 4,
 "nbformat_minor": 5
}
