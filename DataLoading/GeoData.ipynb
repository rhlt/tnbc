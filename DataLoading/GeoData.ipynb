{
 "cells": [
  {
   "cell_type": "markdown",
   "id": "3edd6c28-703e-48ff-a415-97a2f06bdbba",
   "metadata": {},
   "source": [
    "# Load Gene Expression Omnibus data\n",
    "### source: s41598-025-87286-z"
   ]
  },
  {
   "cell_type": "markdown",
   "id": "9ed9b8e9-c640-4bcc-958c-f93c2a0651fb",
   "metadata": {},
   "source": [
    "## GeoData - File MetaData"
   ]
  },
  {
   "cell_type": "code",
   "execution_count": 1,
   "id": "5cf64813-b02b-491b-8c15-8675966fac19",
   "metadata": {},
   "outputs": [],
   "source": [
    "geoData = {}\n",
    "\n",
    "geoData['GSE53752'] = {'dataSetName': 'GSE53752', 'dataSetFile':'GSE53752_series_matrix.txt'          , 'dataSetSkipRows': 194, 'dataSetSkipFooter': 1, 'platformName': 'GPL7264' , 'platformFile': 'GPL7264-9589.txt'  , 'platformSkipRows': 17, 'platformSkipFooter': 69, 'processing':'The log2-ratio gene expression data in the microarray dataset were normalized by quantile normalization.'}\n",
    "geoData['GSE65216'] = {'dataSetName': 'GSE65216', 'dataSetFile':'GSE65216-GPL570_series_matrix.txt'   , 'dataSetSkipRows': 67 , 'dataSetSkipFooter': 1, 'platformName': 'GPL570'  , 'platformFile': 'GPL570-55999.txt'  , 'platformSkipRows': 16, 'platformSkipFooter': 0, 'processing':'Data were analyzed using standard AffyCDF or Brainarray HGU133Plus2_Hs_ENTREZG version 13 custom chipset definition file. Data were normalized using GC-RMA. Batch and hybridization effects were corrected using a linear model in which they were treated as fixed effects. Samples with technical replicates were subsequently averaged.'}\n",
    "geoData['GSE76250'] = {'dataSetName': 'GSE76250', 'dataSetFile':'GSE76250_series_matrix.txt'          , 'dataSetSkipRows': 74 , 'dataSetSkipFooter': 1, 'platformName': 'GPL17586', 'platformFile': 'GPL17586-45144.txt', 'platformSkipRows': 15, 'platformSkipFooter': 1, 'processing':'The data were analyzed with Robust Multichip Analysis (RMA) algorithm using Affymetrix default analysis settings and global scaling as normalization method (ExpressionConsole 1.3.1) probe group file: HTA-2_0.r1.pgf meta-probeset file: HTA-2_0.r1.Psrs.mps'}\n",
    "geoData['GSE10893'] = {'dataSetName': 'GSE10893', 'dataSetFile':'GSE10893-GPL1390_series_matrix.txt'  , 'dataSetSkipRows': 91 , 'dataSetSkipFooter': 1, 'platformName': 'GPL1390' , 'platformFile': 'GPL1390-11300.txt' , 'platformSkipRows': 13, 'platformSkipFooter': 0, 'processing':'Sample values were derived follwing a \\'PairedSample Analysis\\' from Illumina\\'s BeadStudio Genotyping Module v(3.3.4)'}\n"
   ]
  },
  {
   "cell_type": "markdown",
   "id": "496e3b6b-4c86-4003-aa4c-672267ba90f6",
   "metadata": {},
   "source": [
    "## GeoData - Identify TNBC / nTNBC"
   ]
  },
  {
   "cell_type": "code",
   "execution_count": 2,
   "id": "1a731d67-03f7-4409-af78-92846059abd0",
   "metadata": {},
   "outputs": [],
   "source": [
    "# TNBC: 51, nTNBC: 25\n",
    "geoData['GSE53752']['nTNBC'] = ['GSM1299990','GSM1299991','GSM1299992','GSM1299993','GSM1299994',\n",
    "                                'GSM1299995','GSM1299996','GSM1299997','GSM1299998','GSM1299999',\n",
    "                                'GSM1300000','GSM1300001','GSM1300002','GSM1300003','GSM1300004',\n",
    "                                'GSM1300005','GSM1300006','GSM1300007','GSM1300008','GSM1300009',\n",
    "                                'GSM1300010','GSM1300011','GSM1300012','GSM1300013','GSM1300014']\n",
    "\n",
    "geoData['GSE53752']['TNBC']  = ['GSM838826','GSM838827','GSM838828','GSM838829','GSM838830',\n",
    "                                'GSM838831','GSM838832','GSM838833','GSM838834','GSM838835',\n",
    "                                'GSM838836','GSM838837','GSM838838','GSM838839','GSM838840',\n",
    "                                'GSM838841','GSM838842','GSM838843','GSM838844','GSM838845',\n",
    "                                'GSM838846','GSM838847','GSM838848','GSM838849','GSM838850',\n",
    "                                'GSM838851','GSM838852','GSM838853','GSM838854','GSM838855',\n",
    "                                'GSM838856','GSM838857','GSM838858','GSM838859','GSM838860',\n",
    "                                'GSM838861','GSM838862','GSM838863','GSM838864','GSM838865',\n",
    "                                'GSM838866','GSM838867','GSM838868','GSM838869','GSM838870',\n",
    "                                'GSM838871','GSM838872','GSM838873','GSM838874','GSM838875',\n",
    "                                'GSM838876']\n"
   ]
  },
  {
   "cell_type": "code",
   "execution_count": 3,
   "id": "d4a9ecfa-dd23-45d9-9943-b2febbdbfdb6",
   "metadata": {},
   "outputs": [],
   "source": [
    "# TNBC: 55, nTNBC: 11\n",
    "geoData['GSE65216']['nTNBC'] = ['GSM1589130','GSM1589132','GSM1589135','GSM1589136','GSM1589139',\n",
    "                                'GSM1589142','GSM1589144','GSM1589145','GSM1589148','GSM1589150',\n",
    "                                'GSM1589151']\n",
    "\n",
    "geoData['GSE65216']['TNBC']  = ['GSM1589058','GSM1589059','GSM1589060','GSM1589061','GSM1589062',\n",
    "                                'GSM1589063','GSM1589054','GSM1589055','GSM1589056','GSM1589045',\n",
    "                                'GSM1589035','GSM1589036','GSM1589037','GSM1589038','GSM1589039',\n",
    "                                'GSM1589040','GSM1589041','GSM1589042','GSM1589043','GSM1589031',\n",
    "                                'GSM1589032','GSM1589028','GSM1589029','GSM1589024','GSM1589014',\n",
    "                                'GSM1589015','GSM1589016','GSM1589017','GSM1589009','GSM1589010',\n",
    "                                'GSM1589011','GSM1589012','GSM1589003','GSM1589004','GSM1589005',\n",
    "                                'GSM1588993','GSM1588994','GSM1588995','GSM1588996','GSM1588982',\n",
    "                                'GSM1588983','GSM1588984','GSM1588985','GSM1588986','GSM1588987',\n",
    "                                'GSM1588988','GSM1588974','GSM1588975','GSM1588976','GSM1588977',\n",
    "                                'GSM1588978','GSM1588979','GSM1588980','GSM1588970','GSM1588971']\n"
   ]
  },
  {
   "cell_type": "code",
   "execution_count": 4,
   "id": "41fa9a54-5802-48bb-836f-b3695fb3adb2",
   "metadata": {},
   "outputs": [],
   "source": [
    "# TNBC: 165, nTNBC: 33\n",
    "geoData['GSE76250']['nTNBC'] = ['GSM1977811','GSM1977812','GSM1977813','GSM1977814','GSM1977815',\n",
    "                                'GSM1977816','GSM1977817','GSM1977818','GSM1977819','GSM1977820',\n",
    "                                'GSM1977821','GSM1977822','GSM1977823','GSM1977824','GSM1977825',\n",
    "                                'GSM1977826','GSM1977827','GSM1977828','GSM1977829','GSM1977830',\n",
    "                                'GSM1977831','GSM1977832','GSM1977833','GSM1977834','GSM1977835',\n",
    "                                'GSM1977836','GSM1977837','GSM1977838','GSM1977839','GSM1977840',\n",
    "                                'GSM1977841','GSM1977842','GSM1977843']\n",
    "\n",
    "geoData['GSE76250']['TNBC']  = ['GSM1977646','GSM1977647','GSM1977648','GSM1977649','GSM1977650',\n",
    "                                'GSM1977651','GSM1977652','GSM1977653','GSM1977654','GSM1977655',\n",
    "                                'GSM1977656','GSM1977657','GSM1977658','GSM1977659','GSM1977660',\n",
    "                                'GSM1977661','GSM1977662','GSM1977663','GSM1977664','GSM1977665',\n",
    "                                'GSM1977666','GSM1977667','GSM1977668','GSM1977669','GSM1977670',\n",
    "                                'GSM1977671','GSM1977672','GSM1977673','GSM1977674','GSM1977675',\n",
    "                                'GSM1977676','GSM1977677','GSM1977678','GSM1977679','GSM1977680',\n",
    "                                'GSM1977681','GSM1977682','GSM1977683','GSM1977684','GSM1977685',\n",
    "                                'GSM1977686','GSM1977687','GSM1977688','GSM1977689','GSM1977690',\n",
    "                                'GSM1977691','GSM1977692','GSM1977693','GSM1977694','GSM1977695',\n",
    "                                'GSM1977696','GSM1977697','GSM1977698','GSM1977699','GSM1977700',\n",
    "                                'GSM1977701','GSM1977702','GSM1977703','GSM1977704','GSM1977705',\n",
    "                                'GSM1977706','GSM1977707','GSM1977708','GSM1977709','GSM1977710',\n",
    "                                'GSM1977711','GSM1977712','GSM1977713','GSM1977714','GSM1977715',\n",
    "                                'GSM1977716','GSM1977717','GSM1977718','GSM1977719','GSM1977720',\n",
    "                                'GSM1977721','GSM1977722','GSM1977723','GSM1977724','GSM1977725',\n",
    "                                'GSM1977726','GSM1977727','GSM1977728','GSM1977729','GSM1977730',\n",
    "                                'GSM1977731','GSM1977732','GSM1977733','GSM1977734','GSM1977735',\n",
    "                                'GSM1977736','GSM1977737','GSM1977738','GSM1977739','GSM1977740',\n",
    "                                'GSM1977741','GSM1977742','GSM1977743','GSM1977744','GSM1977745',\n",
    "                                'GSM1977746','GSM1977747','GSM1977748','GSM1977749','GSM1977750',\n",
    "                                'GSM1977751','GSM1977752','GSM1977753','GSM1977754','GSM1977755',\n",
    "                                'GSM1977756','GSM1977757','GSM1977758','GSM1977759','GSM1977760',\n",
    "                                'GSM1977761','GSM1977762','GSM1977763','GSM1977764','GSM1977765',\n",
    "                                'GSM1977766','GSM1977767','GSM1977768','GSM1977769','GSM1977770',\n",
    "                                'GSM1977771','GSM1977772','GSM1977773','GSM1977774','GSM1977775',\n",
    "                                'GSM1977776','GSM1977777','GSM1977778','GSM1977779','GSM1977780',\n",
    "                                'GSM1977781','GSM1977782','GSM1977783','GSM1977784','GSM1977785',\n",
    "                                'GSM1977786','GSM1977787','GSM1977788','GSM1977789','GSM1977790',\n",
    "                                'GSM1977791','GSM1977792','GSM1977793','GSM1977794','GSM1977795',\n",
    "                                'GSM1977796','GSM1977797','GSM1977798','GSM1977799','GSM1977800',\n",
    "                                'GSM1977801','GSM1977802','GSM1977803','GSM1977804','GSM1977805',\n",
    "                                'GSM1977806','GSM1977807','GSM1977808','GSM1977809','GSM1977810']\n"
   ]
  },
  {
   "cell_type": "code",
   "execution_count": 5,
   "id": "5ac45bf6-194f-44ca-96d1-40817fe16fad",
   "metadata": {},
   "outputs": [],
   "source": [
    "# TNBC: 31, nTNBC: 8\n",
    "geoData['GSE10893']['TNBC'] = ['GSM34450' ,'GSM34452' ,'GSM34460' ,'GSM34475' ,'GSM34479' ,\n",
    "                               'GSM34494' ,'GSM34495' ,'GSM34534' ,'GSM34535' ,'GSM34536' ,\n",
    "                               'GSM34538' ,'GSM34542' ,'GSM34544' ,'GSM34559' ,'GSM34561' ,\n",
    "                               'GSM34563' ,'GSM34565' ,'GSM52913' ,'GSM80216' ,'GSM80217' ,\n",
    "                               'GSM80218' ,'GSM80220' ,'GSM80221' ,'GSM141001','GSM141094',\n",
    "                               'GSM141103','GSM141106','GSM141108','GSM141111','GSM141118',\n",
    "                               'GSM275782']\n",
    "\n",
    "geoData['GSE10893']['nTNBC'] = ['GSM372559' ,'GSM372560' ,'GSM372561' ,'GSM372562','GSM372563',\n",
    "                                'GSM34482'  ,'GSM34483'  ,'GSM34547']\n"
   ]
  },
  {
   "cell_type": "markdown",
   "id": "c4fa5bee-e3f0-442a-ac84-2167872cf043",
   "metadata": {},
   "source": [
    "# Gather Platform data"
   ]
  },
  {
   "cell_type": "code",
   "execution_count": 6,
   "id": "ad05811d-3b23-4844-9ffd-b4ac2da19ba4",
   "metadata": {},
   "outputs": [
    {
     "name": "stdout",
     "output_type": "stream",
     "text": [
      "***- Reading data - Platform - Start\n",
      "1/4 - Dataset GSE53752 - Platform GPL7264 data read\n",
      "2/4 - Dataset GSE65216 - Platform GPL570 data read\n",
      "3/4 - Dataset GSE76250 - Platform GPL17586 data read\n",
      "4/4 - Dataset GSE10893 - Platform GPL1390 data read\n",
      "*** - Reading data - Platform - End\n"
     ]
    }
   ],
   "source": [
    "import pandas as pd\n",
    "import os\n",
    "\n",
    "total = len(geoData.keys())\n",
    "counter = 1\n",
    "print(f\"***- Reading data - Platform - Start\")\n",
    "\n",
    "for k in geoData.keys():\n",
    "    dataPath = '..\\\\Data'\n",
    "    dataFile = os.path.join(dataPath, 'geoData', geoData[k]['platformName'], geoData[k]['platformFile'])\n",
    "    # engine explicit for footer\n",
    "    geoData[k]['platformData'] = pd.read_csv(filepath_or_buffer=dataFile, sep='\\t', skiprows=geoData[k]['platformSkipRows'], skipfooter=geoData[k]['platformSkipFooter'], engine='python')\n",
    "    print(f\"{counter}/{total} - Dataset {k} - Platform {geoData[k]['platformName']} data read\")\n",
    "    counter+=1\n",
    "\n",
    "print(f\"*** - Reading data - Platform - End\")"
   ]
  },
  {
   "cell_type": "markdown",
   "id": "0745fe48-16c4-4e86-a305-acd902dbf141",
   "metadata": {},
   "source": [
    "# Gather DataSet data"
   ]
  },
  {
   "cell_type": "code",
   "execution_count": 8,
   "id": "8265db61-36c1-4379-b047-c598de096132",
   "metadata": {},
   "outputs": [
    {
     "name": "stdout",
     "output_type": "stream",
     "text": [
      "***- Reading data - DataSet - Start\n",
      "1/4 - Dataset GSE53752 - DataSet data read\n",
      "2/4 - Dataset GSE65216 - DataSet data read\n",
      "3/4 - Dataset GSE76250 - DataSet data read\n",
      "4/4 - Dataset GSE10893 - DataSet data read\n",
      "***- Reading data - DataSet - End\n"
     ]
    }
   ],
   "source": [
    "total = len(geoData.keys())\n",
    "counter = 1\n",
    "print(f\"***- Reading data - DataSet - Start\")\n",
    "\n",
    "for k in geoData.keys():\n",
    "    dataPath = '..\\\\Data'\n",
    "    dataFile = os.path.join(dataPath, 'geoData', geoData[k]['dataSetName'], geoData[k]['dataSetFile'])\n",
    "    # engine explicit for footer\n",
    "    geoData[k]['dataSetData'] = pd.read_csv(filepath_or_buffer=dataFile, sep='\\t', skiprows=geoData[k]['dataSetSkipRows'], skipfooter=geoData[k]['dataSetSkipFooter'], engine='python')\n",
    "    print(f\"{counter}/{total} - Dataset {k} - DataSet data read\")\n",
    "    counter+=1\n",
    "\n",
    "print(f\"***- Reading data - DataSet - End\")"
   ]
  },
  {
   "cell_type": "markdown",
   "id": "f4e03c8a-7ee7-4913-84f0-0d761e2ff422",
   "metadata": {},
   "source": [
    "# Join Platform data and DataSet data"
   ]
  },
  {
   "cell_type": "markdown",
   "id": "a3b56ea2-7bdb-43bc-bac8-1e6228b29dce",
   "metadata": {},
   "source": [
    "### Rename DataSet data - 'ID_REF' column to 'ID'\n",
    "### Rename Platform data - 'Gene Symbol' / 'gene_assignment' /'GENE_NAME' to 'GENE_SYMBOL'"
   ]
  },
  {
   "cell_type": "code",
   "execution_count": 9,
   "id": "b2f16b1e-0623-4ce0-ab71-b5a201825910",
   "metadata": {},
   "outputs": [
    {
     "name": "stdout",
     "output_type": "stream",
     "text": [
      "***- Rename ID & GENE_SYMBOL - Done\n"
     ]
    }
   ],
   "source": [
    "# Rename column\n",
    "geoData['GSE53752']['dataSetData'].rename(columns={\"ID_REF\":\"ID\"}, inplace=True)\n",
    "\n",
    "# Rename column\n",
    "geoData['GSE65216']['dataSetData'].rename(columns={\"ID_REF\":\"ID\"}, inplace=True)\n",
    "geoData['GSE65216']['platformData'].rename(columns={\"Gene Symbol\":\"GENE_SYMBOL\"}, inplace=True)\n",
    "\n",
    "# Rename column\n",
    "geoData['GSE76250']['dataSetData'].rename(columns={\"ID_REF\":\"ID\"}, inplace=True)\n",
    "geoData['GSE76250']['platformData'].rename(columns={\"gene_assignment\":\"GENE_SYMBOL\"}, inplace=True)\n",
    "\n",
    "# Rename column\n",
    "geoData['GSE10893']['dataSetData'].rename(columns={\"ID_REF\":\"ID\"}, inplace=True)\n",
    "geoData['GSE10893']['platformData'].rename(columns={\"GENE_NAME\":\"GENE_SYMBOL\"}, inplace=True)\n",
    "\n",
    "print(f\"***- Rename ID & GENE_SYMBOL - Done\")"
   ]
  },
  {
   "cell_type": "markdown",
   "id": "56e3893e-6b3a-4925-9810-a5df681b69cb",
   "metadata": {},
   "source": [
    "# Make GENE_SYMBOL uniform"
   ]
  },
  {
   "cell_type": "markdown",
   "id": "7b745de5-aca0-4e7b-a9c0-3fa99b939ca8",
   "metadata": {},
   "source": [
    "### Make GENE_SYMBOL uniform - GSE65216"
   ]
  },
  {
   "cell_type": "code",
   "execution_count": 10,
   "id": "e393cb1a-d7e1-449c-a0b6-d00b38f50ed9",
   "metadata": {},
   "outputs": [
    {
     "name": "stdout",
     "output_type": "stream",
     "text": [
      "***- GENE_SYMBOL uniform - GSE65216 - Done\n"
     ]
    }
   ],
   "source": [
    "# This dataset has /// for synonyms in gene symbols.\n",
    "# Picking first one for now\n",
    "# https://pandas.pydata.org/pandas-docs/stable/user_guide/indexing.html#returning-a-view-versus-a-copy\n",
    "geneSymbolsWithSlashes = geoData['GSE65216']['platformData']['GENE_SYMBOL'].notna() & \\\n",
    "                         geoData['GSE65216']['platformData']['GENE_SYMBOL'].str.contains('///', na=False)\n",
    "\n",
    "geoData['GSE65216']['platformData'].loc[geneSymbolsWithSlashes, 'GENE_SYMBOL'] = \\\n",
    "    geoData['GSE65216']['platformData'].loc[geneSymbolsWithSlashes, 'GENE_SYMBOL'].apply(lambda x: x.split(' ///')[0])\n",
    "\n",
    "print(f\"***- GENE_SYMBOL uniform - GSE65216 - Done\")"
   ]
  },
  {
   "cell_type": "markdown",
   "id": "e7a36dd1-7e54-4d42-a79b-da975fb85803",
   "metadata": {},
   "source": [
    "### Make GENE_SYMBOL uniform - GSE76250"
   ]
  },
  {
   "cell_type": "code",
   "execution_count": 11,
   "id": "e7139faa-53e6-4a05-980c-f609c75eebd0",
   "metadata": {},
   "outputs": [
    {
     "name": "stdout",
     "output_type": "stream",
     "text": [
      "***- GENE_SYMBOL uniform - GSE76250 - Done\n"
     ]
    }
   ],
   "source": [
    "import numpy as np\n",
    "import re\n",
    "geneSymbolsWithSlashes = geoData['GSE76250']['platformData']['GENE_SYMBOL'].str.contains('//')\n",
    "\n",
    "geoData['GSE76250']['platformData'].loc[geneSymbolsWithSlashes, 'GENE_SYMBOL'] = \\\n",
    "    geoData['GSE76250']['platformData'].loc[geneSymbolsWithSlashes, 'GENE_SYMBOL'].apply(lambda x: re.search(\"//\\\\s*([^/]+)\\\\s*//\", x).group(1).strip())\n",
    "\n",
    "geoData['GSE76250']['platformData'].loc[:, 'GENE_SYMBOL'] = \\\n",
    "    geoData['GSE76250']['platformData'].loc[:, 'GENE_SYMBOL'].replace('---', np.nan)\n",
    "\n",
    "print(f\"***- GENE_SYMBOL uniform - GSE76250 - Done\")"
   ]
  },
  {
   "cell_type": "markdown",
   "id": "1fb0cd11-efba-4a69-b14b-5fde4cf9eff7",
   "metadata": {},
   "source": [
    "### Platform data has genes with no symbol -> drop from Platform\n",
    "### Platform data has genes with no symbol -> drop from DataSet"
   ]
  },
  {
   "cell_type": "code",
   "execution_count": 12,
   "id": "0dc7891b-9161-4ceb-a909-072dbeaf636f",
   "metadata": {},
   "outputs": [
    {
     "name": "stdout",
     "output_type": "stream",
     "text": [
      "***- Removing all Gene Symbols with NaN - Start\n",
      "1/4 - Dataset GSE53752 - Removed Gene Symbols n/a\n",
      "2/4 - Dataset GSE65216 - Removed Gene Symbols n/a\n",
      "3/4 - Dataset GSE76250 - Removed Gene Symbols n/a\n",
      "4/4 - Dataset GSE10893 - Removed Gene Symbols n/a\n",
      "***- Removing all Gene Symbols with NaN - End\n"
     ]
    }
   ],
   "source": [
    "total = len(geoData.keys())\n",
    "counter = 1\n",
    "print(f\"***- Removing all Gene Symbols with NaN - Start\")\n",
    "\n",
    "for k in geoData.keys():\n",
    "    columnsWithNa = geoData[k]['platformData'][geoData[k]['platformData']['GENE_SYMBOL'].isna()]['ID']\n",
    "    geoData[k]['platformData'].drop(geoData[k]['platformData'][geoData[k]['platformData']['ID'].isin(columnsWithNa)].index, inplace=True)\n",
    "    geoData[k]['dataSetData'].drop(geoData[k]['dataSetData'][geoData[k]['dataSetData']['ID'].isin(columnsWithNa)].index, inplace=True)\n",
    "    print(f\"{counter}/{total} - Dataset {k} - Removed Gene Symbols n/a\")\n",
    "    counter+=1\n",
    "\n",
    "print(f\"***- Removing all Gene Symbols with NaN - End\")"
   ]
  },
  {
   "cell_type": "markdown",
   "id": "278c9857-79d2-462d-8d85-63fcb26243ab",
   "metadata": {},
   "source": [
    "# Create DataFrame combined"
   ]
  },
  {
   "cell_type": "code",
   "execution_count": 13,
   "id": "4e05708d-bf6b-4f91-9a1f-a4a2420e136f",
   "metadata": {},
   "outputs": [
    {
     "name": "stdout",
     "output_type": "stream",
     "text": [
      "***- Writing pivotted data - Start\n",
      "1/4 - Dataset GSE53752 - Resulting data written\n",
      "2/4 - Dataset GSE65216 - Resulting data written\n",
      "3/4 - Dataset GSE76250 - Resulting data written\n",
      "4/4 - Dataset GSE10893 - Resulting data written\n",
      "***- Writing pivotted data - End\n"
     ]
    }
   ],
   "source": [
    "tnbcStati = ['nTNBC', 'TNBC']\n",
    "total = len(geoData.keys())\n",
    "counter = 1\n",
    "\n",
    "print(f\"***- Writing pivotted data - Start\")\n",
    "\n",
    "for k in geoData.keys():\n",
    "    # Merge Platform and DataSet\n",
    "    joinedPlatformAndDataSet = pd.merge(geoData[k]['dataSetData'], geoData[k]['platformData'], how='inner', on=[\"ID\"])\n",
    "    \n",
    "    # Get column names\n",
    "    columnsRename = {}\n",
    "    \n",
    "    for n in joinedPlatformAndDataSet.index.tolist():\n",
    "        columnsRename[n] = joinedPlatformAndDataSet['GENE_SYMBOL'][n]\n",
    "    \n",
    "    isFirst = True # to circumvent pandas error 'empty cannot concat'\n",
    "    for tnbc in tnbcStati:\n",
    "        for geoCase in geoData[k][tnbc]:\n",
    "            if isFirst:\n",
    "                intermediate = joinedPlatformAndDataSet[geoCase].to_frame().T.rename(columns=columnsRename).copy(deep=True)\n",
    "                intermediate['tnbc'] = tnbc == 'TNBC'\n",
    "                intermediate['case_id'] = geoCase\n",
    "                casesAsRows = intermediate\n",
    "                isFirst = False\n",
    "            else:\n",
    "                intermediate = joinedPlatformAndDataSet[geoCase].to_frame().T.rename(columns=columnsRename).copy(deep=True)\n",
    "                intermediate['tnbc'] = tnbc == 'TNBC'\n",
    "                intermediate['case_id'] = geoCase\n",
    "                casesAsRows = pd.concat([casesAsRows, intermediate])\n",
    "\n",
    "    casesAsRows.to_csv(f'../Data/geoData_{k}.csv', index=False)\n",
    "    print(f\"{counter}/{total} - Dataset {k} - Resulting data written\")\n",
    "    counter+=1\n",
    "    \n",
    "print(f\"***- Writing pivotted data - End\")"
   ]
  },
  {
   "cell_type": "code",
   "execution_count": null,
   "id": "d244a31b-f10e-4414-ae0e-19046363568a",
   "metadata": {},
   "outputs": [],
   "source": []
  }
 ],
 "metadata": {
  "kernelspec": {
   "display_name": "Python 3 (ipykernel)",
   "language": "python",
   "name": "python3"
  },
  "language_info": {
   "codemirror_mode": {
    "name": "ipython",
    "version": 3
   },
   "file_extension": ".py",
   "mimetype": "text/x-python",
   "name": "python",
   "nbconvert_exporter": "python",
   "pygments_lexer": "ipython3",
   "version": "3.12.3"
  }
 },
 "nbformat": 4,
 "nbformat_minor": 5
}
