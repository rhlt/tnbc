{
 "cells": [
  {
   "cell_type": "markdown",
   "id": "3edd6c28-703e-48ff-a415-97a2f06bdbba",
   "metadata": {},
   "source": [
    "# TCGA-BRCA - Load the clinical data file and keep only the necessary columns"
   ]
  },
  {
   "cell_type": "code",
   "execution_count": 1,
   "id": "6f71a728-2a3b-4ada-933b-7ac7c99b65d1",
   "metadata": {},
   "outputs": [
    {
     "data": {
      "text/html": [
       "<div>\n",
       "<style scoped>\n",
       "    .dataframe tbody tr th:only-of-type {\n",
       "        vertical-align: middle;\n",
       "    }\n",
       "\n",
       "    .dataframe tbody tr th {\n",
       "        vertical-align: top;\n",
       "    }\n",
       "\n",
       "    .dataframe thead th {\n",
       "        text-align: right;\n",
       "    }\n",
       "</style>\n",
       "<table border=\"1\" class=\"dataframe\">\n",
       "  <thead>\n",
       "    <tr style=\"text-align: right;\">\n",
       "      <th></th>\n",
       "      <th>bcr_patient_uuid</th>\n",
       "      <th>er_status_by_ihc</th>\n",
       "      <th>pr_status_by_ihc</th>\n",
       "      <th>her2_status_by_ihc</th>\n",
       "    </tr>\n",
       "  </thead>\n",
       "  <tbody>\n",
       "    <tr>\n",
       "      <th>0</th>\n",
       "      <td>6E7D5EC6-A469-467C-B748-237353C23416</td>\n",
       "      <td>Positive</td>\n",
       "      <td>Positive</td>\n",
       "      <td>Negative</td>\n",
       "    </tr>\n",
       "    <tr>\n",
       "      <th>1</th>\n",
       "      <td>55262FCB-1B01-4480-B322-36570430C917</td>\n",
       "      <td>Positive</td>\n",
       "      <td>Positive</td>\n",
       "      <td>Positive</td>\n",
       "    </tr>\n",
       "    <tr>\n",
       "      <th>2</th>\n",
       "      <td>427D0648-3F77-4FFC-B52C-89855426D647</td>\n",
       "      <td>Positive</td>\n",
       "      <td>Positive</td>\n",
       "      <td>Indeterminate</td>\n",
       "    </tr>\n",
       "    <tr>\n",
       "      <th>3</th>\n",
       "      <td>C31900A4-5DCD-4022-97AC-638E86E889E4</td>\n",
       "      <td>Positive</td>\n",
       "      <td>Positive</td>\n",
       "      <td>Positive</td>\n",
       "    </tr>\n",
       "    <tr>\n",
       "      <th>4</th>\n",
       "      <td>6623FC5E-00BE-4476-967A-CBD55F676EA6</td>\n",
       "      <td>Positive</td>\n",
       "      <td>Positive</td>\n",
       "      <td>Equivocal</td>\n",
       "    </tr>\n",
       "    <tr>\n",
       "      <th>...</th>\n",
       "      <td>...</td>\n",
       "      <td>...</td>\n",
       "      <td>...</td>\n",
       "      <td>...</td>\n",
       "    </tr>\n",
       "    <tr>\n",
       "      <th>1092</th>\n",
       "      <td>5CD79093-1571-4F71-8136-0D84CCABDCAC</td>\n",
       "      <td>Positive</td>\n",
       "      <td>Positive</td>\n",
       "      <td>Negative</td>\n",
       "    </tr>\n",
       "    <tr>\n",
       "      <th>1093</th>\n",
       "      <td>F89588E9-CA73-4465-A7FB-7246EDB45E3A</td>\n",
       "      <td>Positive</td>\n",
       "      <td>Positive</td>\n",
       "      <td>Negative</td>\n",
       "    </tr>\n",
       "    <tr>\n",
       "      <th>1094</th>\n",
       "      <td>CA20249F-B7EA-4FD9-9ECB-34F74755AE35</td>\n",
       "      <td>Positive</td>\n",
       "      <td>Positive</td>\n",
       "      <td>Negative</td>\n",
       "    </tr>\n",
       "    <tr>\n",
       "      <th>1095</th>\n",
       "      <td>23F438BD-1DBB-4D46-972F-1E8E74DDBD37</td>\n",
       "      <td>Positive</td>\n",
       "      <td>Positive</td>\n",
       "      <td>Negative</td>\n",
       "    </tr>\n",
       "    <tr>\n",
       "      <th>1096</th>\n",
       "      <td>B1D44C81-747D-471F-9093-AEB262A17975</td>\n",
       "      <td>Positive</td>\n",
       "      <td>Positive</td>\n",
       "      <td>Negative</td>\n",
       "    </tr>\n",
       "  </tbody>\n",
       "</table>\n",
       "<p>1097 rows × 4 columns</p>\n",
       "</div>"
      ],
      "text/plain": [
       "                          bcr_patient_uuid er_status_by_ihc pr_status_by_ihc  \\\n",
       "0     6E7D5EC6-A469-467C-B748-237353C23416         Positive         Positive   \n",
       "1     55262FCB-1B01-4480-B322-36570430C917         Positive         Positive   \n",
       "2     427D0648-3F77-4FFC-B52C-89855426D647         Positive         Positive   \n",
       "3     C31900A4-5DCD-4022-97AC-638E86E889E4         Positive         Positive   \n",
       "4     6623FC5E-00BE-4476-967A-CBD55F676EA6         Positive         Positive   \n",
       "...                                    ...              ...              ...   \n",
       "1092  5CD79093-1571-4F71-8136-0D84CCABDCAC         Positive         Positive   \n",
       "1093  F89588E9-CA73-4465-A7FB-7246EDB45E3A         Positive         Positive   \n",
       "1094  CA20249F-B7EA-4FD9-9ECB-34F74755AE35         Positive         Positive   \n",
       "1095  23F438BD-1DBB-4D46-972F-1E8E74DDBD37         Positive         Positive   \n",
       "1096  B1D44C81-747D-471F-9093-AEB262A17975         Positive         Positive   \n",
       "\n",
       "     her2_status_by_ihc  \n",
       "0              Negative  \n",
       "1              Positive  \n",
       "2         Indeterminate  \n",
       "3              Positive  \n",
       "4             Equivocal  \n",
       "...                 ...  \n",
       "1092           Negative  \n",
       "1093           Negative  \n",
       "1094           Negative  \n",
       "1095           Negative  \n",
       "1096           Negative  \n",
       "\n",
       "[1097 rows x 4 columns]"
      ]
     },
     "execution_count": 1,
     "metadata": {},
     "output_type": "execute_result"
    }
   ],
   "source": [
    "import pandas as pd\n",
    "import os\n",
    "\n",
    "dataPath = '../Data'\n",
    "dataFile = os.path.join(dataPath, '8162d394-8b64-4da2-9f5b-d164c54b9608', 'nationwidechildrens.org_clinical_patient_brca.txt')\n",
    "\n",
    "df = pd.read_csv(filepath_or_buffer=dataFile, sep='\\t', skiprows=[1,2])\n",
    "# Note: The clinical file has a three-line header; the second and third lines are not needed for our pusposes\n",
    "df[['bcr_patient_uuid', 'er_status_by_ihc', 'pr_status_by_ihc', 'her2_status_by_ihc']] # Expected output: 1097 rows"
   ]
  },
  {
   "cell_type": "markdown",
   "id": "2c38aa7d-64cb-46a6-a7b8-396f86d0838f",
   "metadata": {},
   "source": [
    "## Determine Triple Negative status and drop indeterminable cases"
   ]
  },
  {
   "cell_type": "code",
   "execution_count": 2,
   "id": "f410613a-ead7-4dcc-a20d-e0d655a4dde1",
   "metadata": {},
   "outputs": [
    {
     "data": {
      "text/plain": [
       "tnbc\n",
       "False    863\n",
       "True     116\n",
       "Name: count, dtype: int64"
      ]
     },
     "execution_count": 2,
     "metadata": {},
     "output_type": "execute_result"
    }
   ],
   "source": [
    "triple_negative = (df[['er_status_by_ihc', 'pr_status_by_ihc', 'her2_status_by_ihc']] == 'Negative').all(axis=1)\n",
    "any_positive = (df[['er_status_by_ihc', 'pr_status_by_ihc', 'her2_status_by_ihc']] == 'Positive').any(axis=1)\n",
    "df['tnbc'] = pd.NA\n",
    "df.loc[triple_negative, 'tnbc'] = True\n",
    "df.loc[any_positive, 'tnbc'] = False\n",
    "# df[df.isna().any(axis=1)] # Shows indeterminable cases: 118 rows x 5 columns\n",
    "df.dropna(inplace=True) # Drop indeterminable cases\n",
    "df['tnbc'].value_counts() # Expected tnbc values: False 863, True 116"
   ]
  },
  {
   "cell_type": "markdown",
   "id": "c873523a-fe4d-44c3-893a-b0b76ec66e8b",
   "metadata": {},
   "source": [
    "## Link all cases to the corresponding RNA sequencing data file using the metadata"
   ]
  },
  {
   "cell_type": "markdown",
   "id": "8b10e1cd-4d41-4112-97f5-64077bf85de2",
   "metadata": {},
   "source": [
    "### 2 cases have no RNA files; 1 TNBC case, 1 nTNBC case"
   ]
  },
  {
   "cell_type": "code",
   "execution_count": 3,
   "id": "d37a8af0-32a4-42e1-b0c0-6ce84f1171e3",
   "metadata": {},
   "outputs": [
    {
     "name": "stdout",
     "output_type": "stream",
     "text": [
      "tnbc\n",
      "False    862\n",
      "True     115\n",
      "Name: count, dtype: int64\n"
     ]
    },
    {
     "data": {
      "text/html": [
       "<div>\n",
       "<style scoped>\n",
       "    .dataframe tbody tr th:only-of-type {\n",
       "        vertical-align: middle;\n",
       "    }\n",
       "\n",
       "    .dataframe tbody tr th {\n",
       "        vertical-align: top;\n",
       "    }\n",
       "\n",
       "    .dataframe thead th {\n",
       "        text-align: right;\n",
       "    }\n",
       "</style>\n",
       "<table border=\"1\" class=\"dataframe\">\n",
       "  <thead>\n",
       "    <tr style=\"text-align: right;\">\n",
       "      <th></th>\n",
       "      <th>bcr_patient_uuid</th>\n",
       "      <th>tnbc</th>\n",
       "      <th>file</th>\n",
       "    </tr>\n",
       "  </thead>\n",
       "  <tbody>\n",
       "    <tr>\n",
       "      <th>0</th>\n",
       "      <td>6E7D5EC6-A469-467C-B748-237353C23416</td>\n",
       "      <td>False</td>\n",
       "      <td>84225715-14a6-423c-a6d6-15558e151f56\\253aa5dc-...</td>\n",
       "    </tr>\n",
       "    <tr>\n",
       "      <th>1</th>\n",
       "      <td>55262FCB-1B01-4480-B322-36570430C917</td>\n",
       "      <td>False</td>\n",
       "      <td>927604f9-a38e-4c3f-b50f-3e0db4daf5ec\\1be6a56c-...</td>\n",
       "    </tr>\n",
       "    <tr>\n",
       "      <th>2</th>\n",
       "      <td>427D0648-3F77-4FFC-B52C-89855426D647</td>\n",
       "      <td>False</td>\n",
       "      <td>931442ba-af81-4b68-beca-7285fc44b1df\\f2dda955-...</td>\n",
       "    </tr>\n",
       "    <tr>\n",
       "      <th>3</th>\n",
       "      <td>C31900A4-5DCD-4022-97AC-638E86E889E4</td>\n",
       "      <td>False</td>\n",
       "      <td>7b4d770a-2b8c-4ca5-bf51-c4745c5de39a\\ae8996bd-...</td>\n",
       "    </tr>\n",
       "    <tr>\n",
       "      <th>4</th>\n",
       "      <td>6623FC5E-00BE-4476-967A-CBD55F676EA6</td>\n",
       "      <td>False</td>\n",
       "      <td>307261f2-f88f-4658-b6d1-98ef946148e2\\75d91076-...</td>\n",
       "    </tr>\n",
       "    <tr>\n",
       "      <th>...</th>\n",
       "      <td>...</td>\n",
       "      <td>...</td>\n",
       "      <td>...</td>\n",
       "    </tr>\n",
       "    <tr>\n",
       "      <th>1092</th>\n",
       "      <td>5CD79093-1571-4F71-8136-0D84CCABDCAC</td>\n",
       "      <td>False</td>\n",
       "      <td>0a7dc8b9-4196-41d3-ada1-a50cb36bfd2b\\3c9c665e-...</td>\n",
       "    </tr>\n",
       "    <tr>\n",
       "      <th>1093</th>\n",
       "      <td>F89588E9-CA73-4465-A7FB-7246EDB45E3A</td>\n",
       "      <td>False</td>\n",
       "      <td>e0cb738d-854a-4033-b370-79fa28d7cef8\\69118aea-...</td>\n",
       "    </tr>\n",
       "    <tr>\n",
       "      <th>1094</th>\n",
       "      <td>CA20249F-B7EA-4FD9-9ECB-34F74755AE35</td>\n",
       "      <td>False</td>\n",
       "      <td>e25bb12b-f88b-41c5-951e-a36d4b94008f\\73e13f2d-...</td>\n",
       "    </tr>\n",
       "    <tr>\n",
       "      <th>1095</th>\n",
       "      <td>23F438BD-1DBB-4D46-972F-1E8E74DDBD37</td>\n",
       "      <td>False</td>\n",
       "      <td>ee447251-5c90-426f-a0c7-bd2041189761\\06a03e45-...</td>\n",
       "    </tr>\n",
       "    <tr>\n",
       "      <th>1096</th>\n",
       "      <td>B1D44C81-747D-471F-9093-AEB262A17975</td>\n",
       "      <td>False</td>\n",
       "      <td>404cea41-efa9-44c0-84a1-5dd603d7a2a4\\69ed2c6f-...</td>\n",
       "    </tr>\n",
       "  </tbody>\n",
       "</table>\n",
       "<p>977 rows × 3 columns</p>\n",
       "</div>"
      ],
      "text/plain": [
       "                          bcr_patient_uuid   tnbc  \\\n",
       "0     6E7D5EC6-A469-467C-B748-237353C23416  False   \n",
       "1     55262FCB-1B01-4480-B322-36570430C917  False   \n",
       "2     427D0648-3F77-4FFC-B52C-89855426D647  False   \n",
       "3     C31900A4-5DCD-4022-97AC-638E86E889E4  False   \n",
       "4     6623FC5E-00BE-4476-967A-CBD55F676EA6  False   \n",
       "...                                    ...    ...   \n",
       "1092  5CD79093-1571-4F71-8136-0D84CCABDCAC  False   \n",
       "1093  F89588E9-CA73-4465-A7FB-7246EDB45E3A  False   \n",
       "1094  CA20249F-B7EA-4FD9-9ECB-34F74755AE35  False   \n",
       "1095  23F438BD-1DBB-4D46-972F-1E8E74DDBD37  False   \n",
       "1096  B1D44C81-747D-471F-9093-AEB262A17975  False   \n",
       "\n",
       "                                                   file  \n",
       "0     84225715-14a6-423c-a6d6-15558e151f56\\253aa5dc-...  \n",
       "1     927604f9-a38e-4c3f-b50f-3e0db4daf5ec\\1be6a56c-...  \n",
       "2     931442ba-af81-4b68-beca-7285fc44b1df\\f2dda955-...  \n",
       "3     7b4d770a-2b8c-4ca5-bf51-c4745c5de39a\\ae8996bd-...  \n",
       "4     307261f2-f88f-4658-b6d1-98ef946148e2\\75d91076-...  \n",
       "...                                                 ...  \n",
       "1092  0a7dc8b9-4196-41d3-ada1-a50cb36bfd2b\\3c9c665e-...  \n",
       "1093  e0cb738d-854a-4033-b370-79fa28d7cef8\\69118aea-...  \n",
       "1094  e25bb12b-f88b-41c5-951e-a36d4b94008f\\73e13f2d-...  \n",
       "1095  ee447251-5c90-426f-a0c7-bd2041189761\\06a03e45-...  \n",
       "1096  404cea41-efa9-44c0-84a1-5dd603d7a2a4\\69ed2c6f-...  \n",
       "\n",
       "[977 rows x 3 columns]"
      ]
     },
     "execution_count": 3,
     "metadata": {},
     "output_type": "execute_result"
    }
   ],
   "source": [
    "import json\n",
    "\n",
    "with open(os.path.join(dataPath, 'metadata.cart.2025-04-01.json'), 'r') as f:\n",
    "    data = json.load(f)\n",
    "\n",
    "rna_files = {\n",
    "    entity['case_id'].upper(): os.path.join(file['file_id'], file['file_name'])\n",
    "    for file in data\n",
    "    if 'experimental_strategy' in file and file['experimental_strategy'] == 'RNA-Seq' and 'associated_entities' in file and len(file['associated_entities']) > 0\n",
    "    for entity in file['associated_entities']\n",
    "} # case_id in uppercase equals df['bcr_patient_uuid']; file is found in folder with its 'file_id', under its 'file_name'\n",
    "rna_files\n",
    "\n",
    "df['file'] = df['bcr_patient_uuid'].str.upper().map(rna_files)\n",
    "df['exists'] = df['file'].apply(lambda file: not pd.isna(file) and os.path.exists(os.path.join(dataPath, file)))\n",
    "# df[df['exists'] == False] # Shows cases with missing RNA files: 2 rows\n",
    "df = df[df['exists'] == True]\n",
    "print(df['tnbc'].value_counts())\n",
    "df[['bcr_patient_uuid', 'tnbc', 'file']] # Expected output: 977 rows"
   ]
  },
  {
   "cell_type": "markdown",
   "id": "9b9f03ac-01e3-4f91-9064-27a427e4d726",
   "metadata": {},
   "source": [
    "# Write TCGA-BRCA data"
   ]
  },
  {
   "cell_type": "code",
   "execution_count": 4,
   "id": "cf43ee12-402d-44d0-978f-4bea9a9e8555",
   "metadata": {},
   "outputs": [],
   "source": [
    "df.to_csv(os.path.join(dataPath, 'clinical.csv'), index=False)"
   ]
  },
  {
   "cell_type": "markdown",
   "id": "48079111-2547-4053-81ca-17d4754bba46",
   "metadata": {},
   "source": [
    "# Load Gene Expression Omnibus data"
   ]
  },
  {
   "cell_type": "markdown",
   "id": "e0bf66b5-c9c9-4169-a877-89c47c6b5e89",
   "metadata": {},
   "source": [
    "## GeoData - File MetaData"
   ]
  },
  {
   "cell_type": "code",
   "execution_count": 17,
   "id": "a1c7ee62-22ac-433e-a44e-0e673c703426",
   "metadata": {},
   "outputs": [],
   "source": [
    "geoData = {}\n",
    "\n",
    "geoData['GSE65216'] = {'dataSetName': 'GSE65216', 'dataSetFile':'GSE65216-GPL570_series_matrix.txt'   , 'dataSetSkipRows': 67 , 'dataSetSkipFooter': 1, 'platformName': 'GPL570'  , 'platformFile': 'GPL570-55999.txt'  , 'platformSkipRows': 16, 'platformSkipFooter': 0, 'processing':'Data were analyzed using standard AffyCDF or Brainarray HGU133Plus2_Hs_ENTREZG version 13 custom chipset definition file. Data were normalized using GC-RMA. Batch and hybridization effects were corrected using a linear model in which they were treated as fixed effects. Samples with technical replicates were subsequently averaged.'}\n",
    "geoData['GSE76250'] = {'dataSetName': 'GSE76250', 'dataSetFile':'GSE76250_series_matrix.txt'          , 'dataSetSkipRows': 74 , 'dataSetSkipFooter': 1, 'platformName': 'GPL17586', 'platformFile': 'GPL17586-45144.txt', 'platformSkipRows': 15, 'platformSkipFooter': 1, 'processing':'The data were analyzed with Robust Multichip Analysis (RMA) algorithm using Affymetrix default analysis settings and global scaling as normalization method (ExpressionConsole 1.3.1) probe group file: HTA-2_0.r1.pgf meta-probeset file: HTA-2_0.r1.Psrs.mps'}"
   ]
  },
  {
   "cell_type": "markdown",
   "id": "05708404-5993-4b43-a44f-848b5cec4254",
   "metadata": {},
   "source": [
    "## GeoData - Identify TNBC / nTNBC"
   ]
  },
  {
   "cell_type": "code",
   "execution_count": 18,
   "id": "5d3a979b-d3ba-483c-84a0-e62e2246250b",
   "metadata": {},
   "outputs": [],
   "source": [
    "# TNBC: 55\n",
    "geoData['GSE65216']['nTNBC'] = ['GSM1588972','GSM1588973','GSM1588981','GSM1588989','GSM1588990',\n",
    "                                'GSM1588991','GSM1588992','GSM1588997','GSM1588998','GSM1588999',\n",
    "                                'GSM1589000','GSM1589001','GSM1589002','GSM1589006','GSM1589007',\n",
    "                                'GSM1589008','GSM1589013','GSM1589018','GSM1589019','GSM1589020',\n",
    "                                'GSM1589021','GSM1589022','GSM1589023','GSM1589025','GSM1589026',\n",
    "                                'GSM1589027','GSM1589030','GSM1589033','GSM1589034','GSM1589044',\n",
    "                                'GSM1589046','GSM1589047','GSM1589048','GSM1589049','GSM1589050',\n",
    "                                'GSM1589051','GSM1589052','GSM1589053','GSM1589057','GSM1589064',\n",
    "                                'GSM1589065','GSM1589066','GSM1589067','GSM1589068','GSM1589069',\n",
    "                                'GSM1589070','GSM1589071','GSM1589072','GSM1589073','GSM1589074',\n",
    "                                'GSM1589075','GSM1589076','GSM1589077','GSM1589078','GSM1589079',\n",
    "                                'GSM1589080','GSM1589081','GSM1589082','GSM1589083','GSM1589084',\n",
    "                                'GSM1589085','GSM1589086','GSM1589087','GSM1589088','GSM1589089',\n",
    "                                'GSM1589090','GSM1589091','GSM1589092','GSM1589093','GSM1589094',\n",
    "                                'GSM1589095','GSM1589097','GSM1589098','GSM1589099','GSM1589101',\n",
    "                                'GSM1589103','GSM1589105','GSM1589107','GSM1589109','GSM1589110',\n",
    "                                'GSM1589111','GSM1589112','GSM1589113','GSM1589114','GSM1589115',\n",
    "                                'GSM1589116','GSM1589117','GSM1589118','GSM1589119','GSM1589120',\n",
    "                                'GSM1589121','GSM1589122','GSM1589123','GSM1589124','GSM1589125',\n",
    "                                'GSM1589126','GSM1589127','GSM1589128','GSM1589129','GSM1589131',\n",
    "                                'GSM1589133','GSM1589134','GSM1589137','GSM1589138','GSM1589140',\n",
    "                                'GSM1589141','GSM1589143','GSM1589146','GSM1589147','GSM1589149',\n",
    "                                'GSM1589152','GSM1589153' ]\n",
    "\n",
    "\n",
    "geoData['GSE65216']['TNBC']  = ['GSM1589058','GSM1589059','GSM1589060','GSM1589061','GSM1589062',\n",
    "                                'GSM1589063','GSM1589054','GSM1589055','GSM1589056','GSM1589045',\n",
    "                                'GSM1589035','GSM1589036','GSM1589037','GSM1589038','GSM1589039',\n",
    "                                'GSM1589040','GSM1589041','GSM1589042','GSM1589043','GSM1589031',\n",
    "                                'GSM1589032','GSM1589028','GSM1589029','GSM1589024','GSM1589014',\n",
    "                                'GSM1589015','GSM1589016','GSM1589017','GSM1589009','GSM1589010',\n",
    "                                'GSM1589011','GSM1589012','GSM1589003','GSM1589004','GSM1589005',\n",
    "                                'GSM1588993','GSM1588994','GSM1588995','GSM1588996','GSM1588982',\n",
    "                                'GSM1588983','GSM1588984','GSM1588985','GSM1588986','GSM1588987',\n",
    "                                'GSM1588988','GSM1588974','GSM1588975','GSM1588976','GSM1588977',\n",
    "                                'GSM1588978','GSM1588979','GSM1588980','GSM1588970','GSM1588971']\n"
   ]
  },
  {
   "cell_type": "code",
   "execution_count": 19,
   "id": "41ddf1e9-eabe-422e-baa5-e605e0fb3d7f",
   "metadata": {},
   "outputs": [],
   "source": [
    "# TNBC: 165, nTNBC: 33\n",
    "geoData['GSE76250']['nTNBC'] = []\n",
    "\n",
    "geoData['GSE76250']['TNBC']  = ['GSM1977646','GSM1977647','GSM1977648','GSM1977649','GSM1977650',\n",
    "                                'GSM1977651','GSM1977652','GSM1977653','GSM1977654','GSM1977655',\n",
    "                                'GSM1977656','GSM1977657','GSM1977658','GSM1977659','GSM1977660',\n",
    "                                'GSM1977661','GSM1977662','GSM1977663','GSM1977664','GSM1977665',\n",
    "                                'GSM1977666','GSM1977667','GSM1977668','GSM1977669','GSM1977670',\n",
    "                                'GSM1977671','GSM1977672','GSM1977673','GSM1977674','GSM1977675',\n",
    "                                'GSM1977676','GSM1977677','GSM1977678','GSM1977679','GSM1977680',\n",
    "                                'GSM1977681','GSM1977682','GSM1977683','GSM1977684','GSM1977685',\n",
    "                                'GSM1977686','GSM1977687','GSM1977688','GSM1977689','GSM1977690',\n",
    "                                'GSM1977691','GSM1977692','GSM1977693','GSM1977694','GSM1977695',\n",
    "                                'GSM1977696','GSM1977697','GSM1977698','GSM1977699','GSM1977700',\n",
    "                                'GSM1977701','GSM1977702','GSM1977703','GSM1977704','GSM1977705',\n",
    "                                'GSM1977706','GSM1977707','GSM1977708','GSM1977709','GSM1977710',\n",
    "                                'GSM1977711','GSM1977712','GSM1977713','GSM1977714','GSM1977715',\n",
    "                                'GSM1977716','GSM1977717','GSM1977718','GSM1977719','GSM1977720',\n",
    "                                'GSM1977721','GSM1977722','GSM1977723','GSM1977724','GSM1977725',\n",
    "                                'GSM1977726','GSM1977727','GSM1977728','GSM1977729','GSM1977730',\n",
    "                                'GSM1977731','GSM1977732','GSM1977733','GSM1977734','GSM1977735',\n",
    "                                'GSM1977736','GSM1977737','GSM1977738','GSM1977739','GSM1977740',\n",
    "                                'GSM1977741','GSM1977742','GSM1977743','GSM1977744','GSM1977745',\n",
    "                                'GSM1977746','GSM1977747','GSM1977748','GSM1977749','GSM1977750',\n",
    "                                'GSM1977751','GSM1977752','GSM1977753','GSM1977754','GSM1977755',\n",
    "                                'GSM1977756','GSM1977757','GSM1977758','GSM1977759','GSM1977760',\n",
    "                                'GSM1977761','GSM1977762','GSM1977763','GSM1977764','GSM1977765',\n",
    "                                'GSM1977766','GSM1977767','GSM1977768','GSM1977769','GSM1977770',\n",
    "                                'GSM1977771','GSM1977772','GSM1977773','GSM1977774','GSM1977775',\n",
    "                                'GSM1977776','GSM1977777','GSM1977778','GSM1977779','GSM1977780',\n",
    "                                'GSM1977781','GSM1977782','GSM1977783','GSM1977784','GSM1977785',\n",
    "                                'GSM1977786','GSM1977787','GSM1977788','GSM1977789','GSM1977790',\n",
    "                                'GSM1977791','GSM1977792','GSM1977793','GSM1977794','GSM1977795',\n",
    "                                'GSM1977796','GSM1977797','GSM1977798','GSM1977799','GSM1977800',\n",
    "                                'GSM1977801','GSM1977802','GSM1977803','GSM1977804','GSM1977805',\n",
    "                                'GSM1977806','GSM1977807','GSM1977808','GSM1977809','GSM1977810']\n"
   ]
  },
  {
   "cell_type": "markdown",
   "id": "d3f398a2-928a-4ce8-bad5-fc5fecc020d9",
   "metadata": {},
   "source": [
    "# Gather Platform data"
   ]
  },
  {
   "cell_type": "code",
   "execution_count": 20,
   "id": "cf376c15-b26b-46b8-971e-a83aa8747039",
   "metadata": {},
   "outputs": [
    {
     "name": "stdout",
     "output_type": "stream",
     "text": [
      "***- Reading data - Platform - Start\n",
      "1/2 - Dataset GSE65216 - Platform GPL570 data read\n",
      "2/2 - Dataset GSE76250 - Platform GPL17586 data read\n",
      "*** - Reading data - Platform - End\n"
     ]
    }
   ],
   "source": [
    "import pandas as pd\n",
    "import os\n",
    "\n",
    "total = len(geoData.keys())\n",
    "counter = 1\n",
    "print(f\"***- Reading data - Platform - Start\")\n",
    "\n",
    "for k in geoData.keys():\n",
    "    dataPath = '..\\\\Data'\n",
    "    dataFile = os.path.join(dataPath, 'geoData', geoData[k]['platformName'], geoData[k]['platformFile'])\n",
    "    # engine explicit for footer\n",
    "    geoData[k]['platformData'] = pd.read_csv(filepath_or_buffer=dataFile, sep='\\t', skiprows=geoData[k]['platformSkipRows'], skipfooter=geoData[k]['platformSkipFooter'], engine='python')\n",
    "    print(f\"{counter}/{total} - Dataset {k} - Platform {geoData[k]['platformName']} data read\")\n",
    "    counter+=1\n",
    "\n",
    "print(f\"*** - Reading data - Platform - End\")"
   ]
  },
  {
   "cell_type": "markdown",
   "id": "7fedebc7-7f0f-412e-a06a-bfab26b11415",
   "metadata": {},
   "source": [
    "# Gather DataSet data"
   ]
  },
  {
   "cell_type": "code",
   "execution_count": 21,
   "id": "0190c30a-27d5-47f5-9ead-1b7e67109baf",
   "metadata": {},
   "outputs": [
    {
     "name": "stdout",
     "output_type": "stream",
     "text": [
      "***- Reading data - DataSet - Start\n",
      "1/2 - Dataset GSE65216 - DataSet data read\n",
      "2/2 - Dataset GSE76250 - DataSet data read\n",
      "***- Reading data - DataSet - End\n"
     ]
    }
   ],
   "source": [
    "total = len(geoData.keys())\n",
    "counter = 1\n",
    "print(f\"***- Reading data - DataSet - Start\")\n",
    "\n",
    "for k in geoData.keys():\n",
    "    dataPath = '..\\\\Data'\n",
    "    dataFile = os.path.join(dataPath, 'geoData', geoData[k]['dataSetName'], geoData[k]['dataSetFile'])\n",
    "    # engine explicit for footer\n",
    "    geoData[k]['dataSetData'] = pd.read_csv(filepath_or_buffer=dataFile, sep='\\t', skiprows=geoData[k]['dataSetSkipRows'], skipfooter=geoData[k]['dataSetSkipFooter'], engine='python')\n",
    "    print(f\"{counter}/{total} - Dataset {k} - DataSet data read\")\n",
    "    counter+=1\n",
    "\n",
    "print(f\"***- Reading data - DataSet - End\")"
   ]
  },
  {
   "cell_type": "markdown",
   "id": "b2d7e4a9-616b-4648-a154-b0e8a0d8b4f1",
   "metadata": {},
   "source": [
    "# Join Platform data and DataSet data"
   ]
  },
  {
   "cell_type": "markdown",
   "id": "4243bc58-e763-414e-85ef-1cb767356f54",
   "metadata": {},
   "source": [
    "### Rename DataSet data - 'ID_REF' column to 'ID'\n",
    "### Rename Platform data - 'Gene Symbol' / 'gene_assignment' /'GENE_NAME' to 'GENE_SYMBOL'"
   ]
  },
  {
   "cell_type": "code",
   "execution_count": 22,
   "id": "49758024-cd65-47c0-8f9a-70d364fa6704",
   "metadata": {},
   "outputs": [
    {
     "name": "stdout",
     "output_type": "stream",
     "text": [
      "***- Rename ID & GENE_SYMBOL - Done\n"
     ]
    }
   ],
   "source": [
    "# Rename column\n",
    "geoData['GSE65216']['dataSetData'].rename(columns={\"ID_REF\":\"ID\"}, inplace=True)\n",
    "geoData['GSE65216']['platformData'].rename(columns={\"Gene Symbol\":\"GENE_SYMBOL\"}, inplace=True)\n",
    "\n",
    "# Rename column\n",
    "geoData['GSE76250']['dataSetData'].rename(columns={\"ID_REF\":\"ID\"}, inplace=True)\n",
    "geoData['GSE76250']['platformData'].rename(columns={\"gene_assignment\":\"GENE_SYMBOL\"}, inplace=True)\n",
    "\n",
    "print(f\"***- Rename ID & GENE_SYMBOL - Done\")"
   ]
  },
  {
   "cell_type": "markdown",
   "id": "0f7c2413-db60-4225-97b6-a8618ced4524",
   "metadata": {},
   "source": [
    "# Make GENE_SYMBOL uniform"
   ]
  },
  {
   "cell_type": "markdown",
   "id": "b2970037-712b-4a6c-877e-d20f0efc7d9e",
   "metadata": {},
   "source": [
    "### Make GENE_SYMBOL uniform - GSE65216"
   ]
  },
  {
   "cell_type": "code",
   "execution_count": 23,
   "id": "634675c5-8c4c-49b7-aa6c-eaa6e217fd5f",
   "metadata": {},
   "outputs": [
    {
     "name": "stdout",
     "output_type": "stream",
     "text": [
      "***- GENE_SYMBOL uniform - GSE65216 - Done\n"
     ]
    }
   ],
   "source": [
    "# This dataset has /// for synonyms in gene symbols.\n",
    "# Picking first one for now\n",
    "# https://pandas.pydata.org/pandas-docs/stable/user_guide/indexing.html#returning-a-view-versus-a-copy\n",
    "geneSymbolsWithSlashes = geoData['GSE65216']['platformData']['GENE_SYMBOL'].notna() & \\\n",
    "                         geoData['GSE65216']['platformData']['GENE_SYMBOL'].str.contains('///', na=False)\n",
    "\n",
    "geoData['GSE65216']['platformData'].loc[geneSymbolsWithSlashes, 'GENE_SYMBOL'] = \\\n",
    "    geoData['GSE65216']['platformData'].loc[geneSymbolsWithSlashes, 'GENE_SYMBOL'].apply(lambda x: x.split(' ///')[0])\n",
    "\n",
    "print(f\"***- GENE_SYMBOL uniform - GSE65216 - Done\")"
   ]
  },
  {
   "cell_type": "markdown",
   "id": "3c287864-b05a-423e-af98-c90da97a8291",
   "metadata": {},
   "source": [
    "### Make GENE_SYMBOL uniform - GSE76250"
   ]
  },
  {
   "cell_type": "code",
   "execution_count": 24,
   "id": "992361b5-71f6-4715-8965-f78768022b82",
   "metadata": {},
   "outputs": [
    {
     "name": "stdout",
     "output_type": "stream",
     "text": [
      "***- GENE_SYMBOL uniform - GSE76250 - Done\n"
     ]
    }
   ],
   "source": [
    "import numpy as np\n",
    "import re\n",
    "geneSymbolsWithSlashes = geoData['GSE76250']['platformData']['GENE_SYMBOL'].str.contains('//')\n",
    "\n",
    "geoData['GSE76250']['platformData'].loc[geneSymbolsWithSlashes, 'GENE_SYMBOL'] = \\\n",
    "    geoData['GSE76250']['platformData'].loc[geneSymbolsWithSlashes, 'GENE_SYMBOL'].apply(lambda x: re.search(\"//\\\\s*([^/]+)\\\\s*//\", x).group(1).strip())\n",
    "\n",
    "geoData['GSE76250']['platformData'].loc[:, 'GENE_SYMBOL'] = \\\n",
    "    geoData['GSE76250']['platformData'].loc[:, 'GENE_SYMBOL'].replace('---', np.nan)\n",
    "\n",
    "print(f\"***- GENE_SYMBOL uniform - GSE76250 - Done\")"
   ]
  },
  {
   "cell_type": "markdown",
   "id": "ce8ed066-aea4-4279-98d7-2e8ae672d4a5",
   "metadata": {},
   "source": [
    "### Platform data has genes with no symbol -> drop from Platform\n",
    "### Platform data has genes with no symbol -> drop from DataSet"
   ]
  },
  {
   "cell_type": "code",
   "execution_count": 25,
   "id": "e4b28979-e30d-44de-8434-e1787b405062",
   "metadata": {},
   "outputs": [
    {
     "name": "stdout",
     "output_type": "stream",
     "text": [
      "***- Removing all Gene Symbols with NaN - Start\n",
      "1/2 - Dataset GSE65216 - Removed Gene Symbols n/a\n",
      "2/2 - Dataset GSE76250 - Removed Gene Symbols n/a\n",
      "***- Removing all Gene Symbols with NaN - End\n"
     ]
    }
   ],
   "source": [
    "total = len(geoData.keys())\n",
    "counter = 1\n",
    "print(f\"***- Removing all Gene Symbols with NaN - Start\")\n",
    "\n",
    "for k in geoData.keys():\n",
    "    columnsWithNa = geoData[k]['platformData'][geoData[k]['platformData']['GENE_SYMBOL'].isna()]['ID']\n",
    "    geoData[k]['platformData'].drop(geoData[k]['platformData'][geoData[k]['platformData']['ID'].isin(columnsWithNa)].index, inplace=True)\n",
    "    geoData[k]['dataSetData'].drop(geoData[k]['dataSetData'][geoData[k]['dataSetData']['ID'].isin(columnsWithNa)].index, inplace=True)\n",
    "    print(f\"{counter}/{total} - Dataset {k} - Removed Gene Symbols n/a\")\n",
    "    counter+=1\n",
    "\n",
    "print(f\"***- Removing all Gene Symbols with NaN - End\")"
   ]
  },
  {
   "cell_type": "markdown",
   "id": "c4ed95b2-92b8-498a-929f-7265f4d5fb93",
   "metadata": {},
   "source": [
    "# Create DataFrame combined"
   ]
  },
  {
   "cell_type": "code",
   "execution_count": 26,
   "id": "648ced39-ba6e-4829-8c18-9c566a851192",
   "metadata": {},
   "outputs": [
    {
     "name": "stdout",
     "output_type": "stream",
     "text": [
      "***- Writing pivotted data - Start\n",
      "1/2 - Dataset GSE65216 - Resulting data written\n",
      "2/2 - Dataset GSE76250 - Resulting data written\n",
      "***- Writing pivotted data - End\n"
     ]
    }
   ],
   "source": [
    "tnbcStati = ['nTNBC', 'TNBC']\n",
    "total = len(geoData.keys())\n",
    "counter = 1\n",
    "\n",
    "print(f\"***- Writing pivotted data - Start\")\n",
    "\n",
    "for k in geoData.keys():\n",
    "    # Merge Platform and DataSet\n",
    "    joinedPlatformAndDataSet = pd.merge(geoData[k]['dataSetData'], geoData[k]['platformData'], how='inner', on=[\"ID\"])\n",
    "    \n",
    "    # Get column names\n",
    "    columnsRename = {}\n",
    "    \n",
    "    for n in joinedPlatformAndDataSet.index.tolist():\n",
    "        columnsRename[n] = joinedPlatformAndDataSet['GENE_SYMBOL'][n]\n",
    "    \n",
    "    isFirst = True # to circumvent pandas error 'empty cannot concat'\n",
    "    for tnbc in tnbcStati:\n",
    "        for geoCase in geoData[k][tnbc]:\n",
    "            if isFirst:\n",
    "                intermediate = joinedPlatformAndDataSet[geoCase].to_frame().T.rename(columns=columnsRename).copy(deep=True)\n",
    "                intermediate['tnbc'] = tnbc == 'TNBC'\n",
    "                intermediate['case_id'] = geoCase\n",
    "                casesAsRows = intermediate\n",
    "                isFirst = False\n",
    "            else:\n",
    "                intermediate = joinedPlatformAndDataSet[geoCase].to_frame().T.rename(columns=columnsRename).copy(deep=True)\n",
    "                intermediate['tnbc'] = tnbc == 'TNBC'\n",
    "                intermediate['case_id'] = geoCase\n",
    "                casesAsRows = pd.concat([casesAsRows, intermediate])\n",
    "\n",
    "    casesAsRows.to_csv(f'../Data/geoData_{k}.csv', index=False)\n",
    "    print(f\"{counter}/{total} - Dataset {k} - Resulting data written\")\n",
    "    counter+=1\n",
    "    \n",
    "print(f\"***- Writing pivotted data - End\")"
   ]
  },
  {
   "cell_type": "code",
   "execution_count": null,
   "id": "24527a9d-5006-41a0-a411-e8dd807d4f3e",
   "metadata": {},
   "outputs": [],
   "source": []
  }
 ],
 "metadata": {
  "kernelspec": {
   "display_name": "Python 3 (ipykernel)",
   "language": "python",
   "name": "python3"
  },
  "language_info": {
   "codemirror_mode": {
    "name": "ipython",
    "version": 3
   },
   "file_extension": ".py",
   "mimetype": "text/x-python",
   "name": "python",
   "nbconvert_exporter": "python",
   "pygments_lexer": "ipython3",
   "version": "3.12.3"
  }
 },
 "nbformat": 4,
 "nbformat_minor": 5
}
