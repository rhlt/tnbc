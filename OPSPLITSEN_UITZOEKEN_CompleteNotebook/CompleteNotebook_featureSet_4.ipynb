{
 "cells": [
  {
   "cell_type": "markdown",
   "id": "a17ee412-c603-431a-822f-3ae893ebcbb1",
   "metadata": {},
   "source": [
    "# Capstone Project\n",
    "- Ruben Holthuijsen\n",
    "- Sander van Swieten\n",
    "- Victor de Sousa Gama\n",
    "- Vince van Doorn\n",
    "- Kevin Hartman"
   ]
  },
  {
   "cell_type": "markdown",
   "id": "ae1a49d0-b682-43f2-af19-5f64ccef91b8",
   "metadata": {},
   "source": [
    "# All imports needed to run code"
   ]
  },
  {
   "cell_type": "code",
   "execution_count": 24,
   "id": "e7b27a6e-50e3-48ec-9b7f-0cb97b356b9a",
   "metadata": {},
   "outputs": [],
   "source": [
    "import os\n",
    "import json\n",
    "import pandas as pd\n",
    "import numpy as np\n",
    "import matplotlib.pyplot as plt\n",
    "from typing import get_args\n",
    "from sklearn.linear_model import LogisticRegression\n",
    "from sklearn.svm import SVC\n",
    "from sklearn.ensemble import RandomForestClassifier\n",
    "from sklearn.metrics import accuracy_score\n",
    "from sklearn.metrics import roc_curve\n",
    "from sklearn.metrics import roc_auc_score\n",
    "from sklearn.metrics import auc\n",
    "from sklearn.metrics import classification_report, confusion_matrix\n",
    "from sklearn.model_selection import cross_val_score\n",
    "from sklearn.model_selection import train_test_split"
   ]
  },
  {
   "cell_type": "markdown",
   "id": "21ebb3a6-e362-406a-bb7b-37c65331cc58",
   "metadata": {},
   "source": [
    "## Load the clinical data file and keep only the necessary columns"
   ]
  },
  {
   "cell_type": "code",
   "execution_count": 25,
   "id": "f71d4eca-4733-45b7-8657-2729c2842f62",
   "metadata": {},
   "outputs": [
    {
     "data": {
      "text/html": [
       "<div>\n",
       "<style scoped>\n",
       "    .dataframe tbody tr th:only-of-type {\n",
       "        vertical-align: middle;\n",
       "    }\n",
       "\n",
       "    .dataframe tbody tr th {\n",
       "        vertical-align: top;\n",
       "    }\n",
       "\n",
       "    .dataframe thead th {\n",
       "        text-align: right;\n",
       "    }\n",
       "</style>\n",
       "<table border=\"1\" class=\"dataframe\">\n",
       "  <thead>\n",
       "    <tr style=\"text-align: right;\">\n",
       "      <th></th>\n",
       "      <th>bcr_patient_uuid</th>\n",
       "      <th>er_status_by_ihc</th>\n",
       "      <th>pr_status_by_ihc</th>\n",
       "      <th>her2_status_by_ihc</th>\n",
       "    </tr>\n",
       "  </thead>\n",
       "  <tbody>\n",
       "    <tr>\n",
       "      <th>0</th>\n",
       "      <td>6E7D5EC6-A469-467C-B748-237353C23416</td>\n",
       "      <td>Positive</td>\n",
       "      <td>Positive</td>\n",
       "      <td>Negative</td>\n",
       "    </tr>\n",
       "    <tr>\n",
       "      <th>1</th>\n",
       "      <td>55262FCB-1B01-4480-B322-36570430C917</td>\n",
       "      <td>Positive</td>\n",
       "      <td>Positive</td>\n",
       "      <td>Positive</td>\n",
       "    </tr>\n",
       "    <tr>\n",
       "      <th>2</th>\n",
       "      <td>427D0648-3F77-4FFC-B52C-89855426D647</td>\n",
       "      <td>Positive</td>\n",
       "      <td>Positive</td>\n",
       "      <td>Indeterminate</td>\n",
       "    </tr>\n",
       "    <tr>\n",
       "      <th>3</th>\n",
       "      <td>C31900A4-5DCD-4022-97AC-638E86E889E4</td>\n",
       "      <td>Positive</td>\n",
       "      <td>Positive</td>\n",
       "      <td>Positive</td>\n",
       "    </tr>\n",
       "    <tr>\n",
       "      <th>4</th>\n",
       "      <td>6623FC5E-00BE-4476-967A-CBD55F676EA6</td>\n",
       "      <td>Positive</td>\n",
       "      <td>Positive</td>\n",
       "      <td>Equivocal</td>\n",
       "    </tr>\n",
       "    <tr>\n",
       "      <th>...</th>\n",
       "      <td>...</td>\n",
       "      <td>...</td>\n",
       "      <td>...</td>\n",
       "      <td>...</td>\n",
       "    </tr>\n",
       "    <tr>\n",
       "      <th>1092</th>\n",
       "      <td>5CD79093-1571-4F71-8136-0D84CCABDCAC</td>\n",
       "      <td>Positive</td>\n",
       "      <td>Positive</td>\n",
       "      <td>Negative</td>\n",
       "    </tr>\n",
       "    <tr>\n",
       "      <th>1093</th>\n",
       "      <td>F89588E9-CA73-4465-A7FB-7246EDB45E3A</td>\n",
       "      <td>Positive</td>\n",
       "      <td>Positive</td>\n",
       "      <td>Negative</td>\n",
       "    </tr>\n",
       "    <tr>\n",
       "      <th>1094</th>\n",
       "      <td>CA20249F-B7EA-4FD9-9ECB-34F74755AE35</td>\n",
       "      <td>Positive</td>\n",
       "      <td>Positive</td>\n",
       "      <td>Negative</td>\n",
       "    </tr>\n",
       "    <tr>\n",
       "      <th>1095</th>\n",
       "      <td>23F438BD-1DBB-4D46-972F-1E8E74DDBD37</td>\n",
       "      <td>Positive</td>\n",
       "      <td>Positive</td>\n",
       "      <td>Negative</td>\n",
       "    </tr>\n",
       "    <tr>\n",
       "      <th>1096</th>\n",
       "      <td>B1D44C81-747D-471F-9093-AEB262A17975</td>\n",
       "      <td>Positive</td>\n",
       "      <td>Positive</td>\n",
       "      <td>Negative</td>\n",
       "    </tr>\n",
       "  </tbody>\n",
       "</table>\n",
       "<p>1097 rows × 4 columns</p>\n",
       "</div>"
      ],
      "text/plain": [
       "                          bcr_patient_uuid er_status_by_ihc pr_status_by_ihc  \\\n",
       "0     6E7D5EC6-A469-467C-B748-237353C23416         Positive         Positive   \n",
       "1     55262FCB-1B01-4480-B322-36570430C917         Positive         Positive   \n",
       "2     427D0648-3F77-4FFC-B52C-89855426D647         Positive         Positive   \n",
       "3     C31900A4-5DCD-4022-97AC-638E86E889E4         Positive         Positive   \n",
       "4     6623FC5E-00BE-4476-967A-CBD55F676EA6         Positive         Positive   \n",
       "...                                    ...              ...              ...   \n",
       "1092  5CD79093-1571-4F71-8136-0D84CCABDCAC         Positive         Positive   \n",
       "1093  F89588E9-CA73-4465-A7FB-7246EDB45E3A         Positive         Positive   \n",
       "1094  CA20249F-B7EA-4FD9-9ECB-34F74755AE35         Positive         Positive   \n",
       "1095  23F438BD-1DBB-4D46-972F-1E8E74DDBD37         Positive         Positive   \n",
       "1096  B1D44C81-747D-471F-9093-AEB262A17975         Positive         Positive   \n",
       "\n",
       "     her2_status_by_ihc  \n",
       "0              Negative  \n",
       "1              Positive  \n",
       "2         Indeterminate  \n",
       "3              Positive  \n",
       "4             Equivocal  \n",
       "...                 ...  \n",
       "1092           Negative  \n",
       "1093           Negative  \n",
       "1094           Negative  \n",
       "1095           Negative  \n",
       "1096           Negative  \n",
       "\n",
       "[1097 rows x 4 columns]"
      ]
     },
     "execution_count": 25,
     "metadata": {},
     "output_type": "execute_result"
    }
   ],
   "source": [
    "# import pandas as pd\n",
    "# import os\n",
    "\n",
    "dataPath = '../Data'\n",
    "dataFile = os.path.join(dataPath, '8162d394-8b64-4da2-9f5b-d164c54b9608', 'nationwidechildrens.org_clinical_patient_brca.txt')\n",
    "\n",
    "df = pd.read_csv(filepath_or_buffer=dataFile, sep='\\t', skiprows=[1,2])\n",
    "# Note: The clinical file has a three-line header; the second and third lines are not needed for our pusposes\n",
    "df[['bcr_patient_uuid', 'er_status_by_ihc', 'pr_status_by_ihc', 'her2_status_by_ihc']] # Expected output: 1097 rows"
   ]
  },
  {
   "cell_type": "markdown",
   "id": "db9330cf-cc04-4148-b86e-0874b84e1e58",
   "metadata": {},
   "source": [
    "## Determine Triple Negative status and drop indeterminable cases"
   ]
  },
  {
   "cell_type": "code",
   "execution_count": 26,
   "id": "ef0d8d3a-ba82-46a1-aacf-3bffb1d52fd8",
   "metadata": {},
   "outputs": [
    {
     "data": {
      "text/plain": [
       "tnbc\n",
       "False    863\n",
       "True     116\n",
       "Name: count, dtype: int64"
      ]
     },
     "execution_count": 26,
     "metadata": {},
     "output_type": "execute_result"
    }
   ],
   "source": [
    "triple_negative = (df[['er_status_by_ihc', 'pr_status_by_ihc', 'her2_status_by_ihc']] == 'Negative').all(axis=1)\n",
    "any_positive = (df[['er_status_by_ihc', 'pr_status_by_ihc', 'her2_status_by_ihc']] == 'Positive').any(axis=1)\n",
    "df['tnbc'] = pd.NA\n",
    "df.loc[triple_negative, 'tnbc'] = True\n",
    "df.loc[any_positive, 'tnbc'] = False\n",
    "# df[df.isna().any(axis=1)] # Shows indeterminable cases: 118 rows x 5 columns\n",
    "df.dropna(inplace=True) # Drop indeterminable cases\n",
    "df['tnbc'].value_counts() # Expected tnbc values: False 863, True 116"
   ]
  },
  {
   "cell_type": "markdown",
   "id": "1ebe78ce-311c-4f9f-9eff-69e8055b427f",
   "metadata": {},
   "source": [
    "## Link all cases to the corresponding RNA sequencing data file using the metadata"
   ]
  },
  {
   "cell_type": "code",
   "execution_count": 27,
   "id": "4567d47b-1c0b-4776-9996-650a90a86276",
   "metadata": {},
   "outputs": [
    {
     "data": {
      "text/html": [
       "<div>\n",
       "<style scoped>\n",
       "    .dataframe tbody tr th:only-of-type {\n",
       "        vertical-align: middle;\n",
       "    }\n",
       "\n",
       "    .dataframe tbody tr th {\n",
       "        vertical-align: top;\n",
       "    }\n",
       "\n",
       "    .dataframe thead th {\n",
       "        text-align: right;\n",
       "    }\n",
       "</style>\n",
       "<table border=\"1\" class=\"dataframe\">\n",
       "  <thead>\n",
       "    <tr style=\"text-align: right;\">\n",
       "      <th></th>\n",
       "      <th>bcr_patient_uuid</th>\n",
       "      <th>tnbc</th>\n",
       "      <th>file</th>\n",
       "    </tr>\n",
       "  </thead>\n",
       "  <tbody>\n",
       "    <tr>\n",
       "      <th>0</th>\n",
       "      <td>6E7D5EC6-A469-467C-B748-237353C23416</td>\n",
       "      <td>False</td>\n",
       "      <td>84225715-14a6-423c-a6d6-15558e151f56\\253aa5dc-...</td>\n",
       "    </tr>\n",
       "    <tr>\n",
       "      <th>1</th>\n",
       "      <td>55262FCB-1B01-4480-B322-36570430C917</td>\n",
       "      <td>False</td>\n",
       "      <td>927604f9-a38e-4c3f-b50f-3e0db4daf5ec\\1be6a56c-...</td>\n",
       "    </tr>\n",
       "    <tr>\n",
       "      <th>2</th>\n",
       "      <td>427D0648-3F77-4FFC-B52C-89855426D647</td>\n",
       "      <td>False</td>\n",
       "      <td>931442ba-af81-4b68-beca-7285fc44b1df\\f2dda955-...</td>\n",
       "    </tr>\n",
       "    <tr>\n",
       "      <th>3</th>\n",
       "      <td>C31900A4-5DCD-4022-97AC-638E86E889E4</td>\n",
       "      <td>False</td>\n",
       "      <td>7b4d770a-2b8c-4ca5-bf51-c4745c5de39a\\ae8996bd-...</td>\n",
       "    </tr>\n",
       "    <tr>\n",
       "      <th>4</th>\n",
       "      <td>6623FC5E-00BE-4476-967A-CBD55F676EA6</td>\n",
       "      <td>False</td>\n",
       "      <td>307261f2-f88f-4658-b6d1-98ef946148e2\\75d91076-...</td>\n",
       "    </tr>\n",
       "    <tr>\n",
       "      <th>...</th>\n",
       "      <td>...</td>\n",
       "      <td>...</td>\n",
       "      <td>...</td>\n",
       "    </tr>\n",
       "    <tr>\n",
       "      <th>1092</th>\n",
       "      <td>5CD79093-1571-4F71-8136-0D84CCABDCAC</td>\n",
       "      <td>False</td>\n",
       "      <td>0a7dc8b9-4196-41d3-ada1-a50cb36bfd2b\\3c9c665e-...</td>\n",
       "    </tr>\n",
       "    <tr>\n",
       "      <th>1093</th>\n",
       "      <td>F89588E9-CA73-4465-A7FB-7246EDB45E3A</td>\n",
       "      <td>False</td>\n",
       "      <td>e0cb738d-854a-4033-b370-79fa28d7cef8\\69118aea-...</td>\n",
       "    </tr>\n",
       "    <tr>\n",
       "      <th>1094</th>\n",
       "      <td>CA20249F-B7EA-4FD9-9ECB-34F74755AE35</td>\n",
       "      <td>False</td>\n",
       "      <td>e25bb12b-f88b-41c5-951e-a36d4b94008f\\73e13f2d-...</td>\n",
       "    </tr>\n",
       "    <tr>\n",
       "      <th>1095</th>\n",
       "      <td>23F438BD-1DBB-4D46-972F-1E8E74DDBD37</td>\n",
       "      <td>False</td>\n",
       "      <td>ee447251-5c90-426f-a0c7-bd2041189761\\06a03e45-...</td>\n",
       "    </tr>\n",
       "    <tr>\n",
       "      <th>1096</th>\n",
       "      <td>B1D44C81-747D-471F-9093-AEB262A17975</td>\n",
       "      <td>False</td>\n",
       "      <td>404cea41-efa9-44c0-84a1-5dd603d7a2a4\\69ed2c6f-...</td>\n",
       "    </tr>\n",
       "  </tbody>\n",
       "</table>\n",
       "<p>977 rows × 3 columns</p>\n",
       "</div>"
      ],
      "text/plain": [
       "                          bcr_patient_uuid   tnbc  \\\n",
       "0     6E7D5EC6-A469-467C-B748-237353C23416  False   \n",
       "1     55262FCB-1B01-4480-B322-36570430C917  False   \n",
       "2     427D0648-3F77-4FFC-B52C-89855426D647  False   \n",
       "3     C31900A4-5DCD-4022-97AC-638E86E889E4  False   \n",
       "4     6623FC5E-00BE-4476-967A-CBD55F676EA6  False   \n",
       "...                                    ...    ...   \n",
       "1092  5CD79093-1571-4F71-8136-0D84CCABDCAC  False   \n",
       "1093  F89588E9-CA73-4465-A7FB-7246EDB45E3A  False   \n",
       "1094  CA20249F-B7EA-4FD9-9ECB-34F74755AE35  False   \n",
       "1095  23F438BD-1DBB-4D46-972F-1E8E74DDBD37  False   \n",
       "1096  B1D44C81-747D-471F-9093-AEB262A17975  False   \n",
       "\n",
       "                                                   file  \n",
       "0     84225715-14a6-423c-a6d6-15558e151f56\\253aa5dc-...  \n",
       "1     927604f9-a38e-4c3f-b50f-3e0db4daf5ec\\1be6a56c-...  \n",
       "2     931442ba-af81-4b68-beca-7285fc44b1df\\f2dda955-...  \n",
       "3     7b4d770a-2b8c-4ca5-bf51-c4745c5de39a\\ae8996bd-...  \n",
       "4     307261f2-f88f-4658-b6d1-98ef946148e2\\75d91076-...  \n",
       "...                                                 ...  \n",
       "1092  0a7dc8b9-4196-41d3-ada1-a50cb36bfd2b\\3c9c665e-...  \n",
       "1093  e0cb738d-854a-4033-b370-79fa28d7cef8\\69118aea-...  \n",
       "1094  e25bb12b-f88b-41c5-951e-a36d4b94008f\\73e13f2d-...  \n",
       "1095  ee447251-5c90-426f-a0c7-bd2041189761\\06a03e45-...  \n",
       "1096  404cea41-efa9-44c0-84a1-5dd603d7a2a4\\69ed2c6f-...  \n",
       "\n",
       "[977 rows x 3 columns]"
      ]
     },
     "execution_count": 27,
     "metadata": {},
     "output_type": "execute_result"
    }
   ],
   "source": [
    "# import json\n",
    "\n",
    "with open(os.path.join(dataPath, 'metadata.cart.2025-04-01.json'), 'r') as f:\n",
    "    data = json.load(f)\n",
    "\n",
    "rna_files = {\n",
    "    entity['case_id'].upper(): os.path.join(file['file_id'], file['file_name'])\n",
    "    for file in data\n",
    "    if 'experimental_strategy' in file and file['experimental_strategy'] == 'RNA-Seq' and 'associated_entities' in file and len(file['associated_entities']) > 0\n",
    "    for entity in file['associated_entities']\n",
    "} # case_id in uppercase equals df['bcr_patient_uuid']; file is found in folder with its 'file_id', under its 'file_name'\n",
    "rna_files\n",
    "\n",
    "df['file'] = df['bcr_patient_uuid'].str.upper().map(rna_files)\n",
    "df['exists'] = df['file'].apply(lambda file: not pd.isna(file) and os.path.exists(os.path.join(dataPath, file)))\n",
    "# df[df['exists'] == False] # Shows cases with missing RNA files: 2 rows\n",
    "df = df[df['exists'] == True]\n",
    "df.to_csv(os.path.join(dataPath, 'clinical.csv'), index=False)\n",
    "df[['bcr_patient_uuid', 'tnbc', 'file']] # Expected output: 977 rows"
   ]
  },
  {
   "cell_type": "markdown",
   "id": "d4cb44ed-4bbe-4b88-979e-caad9015b8dd",
   "metadata": {},
   "source": [
    "## Determining features"
   ]
  },
  {
   "cell_type": "code",
   "execution_count": 28,
   "id": "6fe5fafa-989c-4bcd-833f-b3735959b78b",
   "metadata": {},
   "outputs": [],
   "source": [
    "targetGenes = [ 'A2M', 'ABCA1',  'ACKR1', 'ACSL3', 'ACTG2', 'ADH1B', 'ADH1C', 'AHR', 'AK5', 'AKT1', 'AKT2', 'AKT3', \n",
    "                'ALDH1A1', 'ALOX12B', 'AOC', 'APOE', 'AR', 'ARID1B', 'ARNT', 'ASAH1', 'ASPSCR1', 'ASXL1', \n",
    "                'ASXL2', 'ASXL3', 'ATM', 'BCL9', 'BIRC3', 'BIRC6', 'BRCA1', 'BRCA2', 'BRD4', 'BTN3A1', 'CANT1', 'CCL4', \n",
    "                'CCND1', 'CCNE1', 'CCNT1', 'CD14', 'CD152', 'CD163', 'CD19', 'CD1A', 'CD1B', 'CD1C', 'CD1D', 'CD1E', 'CD24', \n",
    "                'CD27', 'CD274', 'CD276', 'CD3D', 'CD4', 'CD44', 'CD68', 'CD79A', 'CD86', 'CD8A', 'CD8B', 'CDH1', \n",
    "                'CDH2', 'CDH3', 'CDH5', 'CDK1', 'CDK2', 'CDK4', 'CDK6', 'CDKN1B', 'CDKN2A', 'CDKN2B', 'CEACAM7', 'CHAD',\n",
    "                'CHEK2', 'CKB', 'CLEC3A', 'COL1A1', 'COL1A2', 'COPZ2', 'COX7A1', 'CREBBP', 'CRYAB', 'CSF2RB', 'CSMD3', 'CTLA4',\n",
    "                'CTSD', 'CX3CR1', 'CXCL8', 'CXCR2', 'CXCR4', 'CYP1A1', 'DCLK1', 'DDR2', 'DDX3X', 'DEFB132', 'DNAH7', 'DNMT1', \n",
    "                'DNMT3A', 'DOCK11', 'DST', 'EDNRB', 'EGFR ', 'EPCAM', 'ERBB2', 'ESR1', 'ESR2', 'EZH2', 'FAT1', 'FBXW7',\n",
    "                'FCGR2B', 'FGA', 'FGB', 'FGFR1', 'FGFR2', 'FGFR4', 'FGG', 'FOXA1', 'FOXC1', 'FOXP3', 'FYN', 'GAS1', 'GATA3',\n",
    "                'GIMAP7', 'GJA1', 'GJA4', 'GLDC', 'GNG11', 'GNLY', 'GPLD1', 'GPX4', 'GSTA2', 'GZMB', 'GZMB', 'HCLS1', 'HLA-E',\n",
    "                'HSP90AA1', 'HSP90AA2', 'HSP90AB1', 'HSP90B1', 'HSPA5', 'ID4', 'IDO1', 'IFNG', 'IGF1', 'IL18', 'IL2RA', 'IL2RB',\n",
    "                'IL2RG', 'IL6', 'IL7R', 'INMT', 'INPP4B', 'ITGAX', 'JCHAIN', 'KIT', 'KMT2D', 'KRT13', 'KRT14', 'KRT15', 'KRT18', \n",
    "                'KRT36', 'KRT43P', 'KRT5', 'KRT6A', 'KRT6B', 'KRT8', 'LAG3', 'LAMA2', 'LAMC2 ', 'LCP2', 'LMNA', 'LPA', 'LRPPRC', \n",
    "                'MALAT1', 'MAOA', 'MAP2K4', 'MAP3K1', 'MDGA2', 'MDM2', 'MET', 'MKI67', 'MS4A1', 'MSLN', 'MTOR', 'MUC1', 'MUC16', \n",
    "                'MYB', 'MYC', 'NF1', 'NKG7', 'NME1', 'NOP16', 'NOTCH1', 'NOTCH2', 'NOTCH3', 'NOTCH4', 'NPR1', 'OBSCN', 'OGN',\n",
    "                'OLAH', 'P4HA3', 'PALB2', 'PCDH15', 'PCK1', 'PDCD1', 'PDCD1LG2', 'PDE2A', 'PDGFRA', 'PDGFRB', 'PECAM1', 'PGF',\n",
    "                'PGF', 'PGR', 'PHLDA2', 'PIK3CA', 'PIK3R1', 'PIP', 'PKN1', 'PMS1', 'POSTN', 'PRKD2', 'PRR4', 'PTEN', 'PTK6', \n",
    "                'PTPRH', 'RACGAP1', 'RAD17', 'RAD51C', 'RB1', 'RDH12', 'RNF213', 'ROR1', 'RYR1', 'S100A16', 'SDS', 'SELL', \n",
    "                'SERPINA9', 'SNAI1', 'SNRNP200', 'SOD3 ', 'SPARCL1', 'SPTA1', 'SRC', 'SRD5A2', 'SREBF1', 'SRSF1', 'STAT1',\n",
    "                'STAT2', 'STAT3', 'STAT5A', 'SYNE1', 'TACSTD2', 'TAT', 'TBC1D1', 'TBC1D22B', 'TBC1D31', 'TBC1D7', 'TFF1', \n",
    "                'TGFB1', 'TGFB2', 'TGFB3', 'TH', 'THBD', 'TIGIT', 'TOP1', 'TOP2A', 'TP53', 'TRAP1', 'TRDC', 'TRGC1', 'TRGC2',\n",
    "                'TRIM29', 'TTN', 'TYMS', 'UBE2C', 'USP6NL', 'VAV3', 'VEGFA', 'VEGFB', 'VEGFC', 'VEGFD', 'VIM ', 'VRK1', 'VTCN1',\n",
    "                'VWF', 'WNT16', 'WTAP', 'XBP1', 'XCL1', 'XCL2', 'YES1', 'YOD1' ]"
   ]
  },
  {
   "cell_type": "code",
   "execution_count": 29,
   "id": "b08a8202-5b1d-442e-af80-45327eb2d173",
   "metadata": {},
   "outputs": [],
   "source": [
    "df = pd.read_csv('../Data/clinical.csv')"
   ]
  },
  {
   "cell_type": "code",
   "execution_count": 30,
   "id": "b887c152-1c38-4d33-9a35-9021e87f2e63",
   "metadata": {},
   "outputs": [],
   "source": [
    "geneFiles = df[['file', 'tnbc', 'bcr_patient_uuid']]"
   ]
  },
  {
   "cell_type": "code",
   "execution_count": 31,
   "id": "bef747ba-7d7b-418b-a7c9-fcf549d6ac00",
   "metadata": {},
   "outputs": [
    {
     "name": "stdout",
     "output_type": "stream",
     "text": [
      "File 977/977 - 404cea41-efa9-44c0-84a1-5dd603d7a2a4\\69ed2c6f-9495-475c-b8d6-c1db8f4b0537.rna_seq.augmented_star_gene_counts.tsv\r"
     ]
    }
   ],
   "source": [
    "dfPatientGenes = pd.DataFrame()\n",
    "total_files = len(geneFiles)\n",
    "for idx, row in geneFiles.iterrows():\n",
    "    file_name = row.iloc[0]\n",
    "    file_path = f\"../Data/{file_name}\"\n",
    "    \n",
    "    print(f\"File {idx+1}/{total_files} - {file_name}\", end=\"\\r\")\n",
    "    \n",
    "    dfGenes = pd.read_csv(file_path, sep='\\t', skiprows=[0])\n",
    "    \n",
    "    # Columns may have been dropped if first line in file were columns, load data again without dropping first line\n",
    "    if \"gene_name\" not in dfGenes.columns:\n",
    "        dfGenes = pd.read_csv(file_path, sep='\\t')\n",
    "    \n",
    "    #dfGenes\n",
    "    \n",
    "    #Gather all targeted genes we want with the values we want\n",
    "    dfTarget = dfGenes[dfGenes['gene_name'].isin(targetGenes)][['gene_name', 'stranded_first']]\n",
    "\n",
    "    #Transform the dfTarget to a single row dataframe with all genes as columns\n",
    "    dfNewGenes = dfTarget.set_index('gene_name').T.reset_index(drop=True)\n",
    "\n",
    "    # Add tnbc status\n",
    "    dfNewGenes[\"tnbc\"] = df[\"tnbc\"].loc[df['file'] == file_name].values\n",
    "\n",
    "    #Add the patient uuid for reference and set it as the index\n",
    "    patientID = df['bcr_patient_uuid'].loc[df['file'] == file_name]\n",
    "    dfNewGenes['case_id'] = patientID.values\n",
    "    \n",
    "    #Concat the data to the final dataframe before saving it to a file\n",
    "    dfPatientGenes = pd.concat([dfPatientGenes, dfNewGenes])\n",
    "    \n",
    "    \n",
    "#For visualizing the result\n",
    "# dfPatientGenes"
   ]
  },
  {
   "cell_type": "code",
   "execution_count": 9,
   "id": "f7d2fc64-f191-43e4-b7a3-8ef934522098",
   "metadata": {},
   "outputs": [],
   "source": [
    "dfPatientGenes.to_csv('../Data/patient_genes.csv', index=False)"
   ]
  },
  {
   "cell_type": "markdown",
   "id": "0af187d4-c902-4363-8bde-d26a564d7bb0",
   "metadata": {},
   "source": [
    "## Load features to apply models"
   ]
  },
  {
   "cell_type": "code",
   "execution_count": 10,
   "id": "6c12dc23-7c62-4405-b696-64b75459b120",
   "metadata": {},
   "outputs": [
    {
     "name": "stdout",
     "output_type": "stream",
     "text": [
      "<class 'pandas.core.frame.DataFrame'>\n",
      "RangeIndex: 977 entries, 0 to 976\n",
      "Columns: 283 entries, WNT16 to case_id\n",
      "dtypes: bool(1), int64(281), object(1)\n",
      "memory usage: 2.1+ MB\n"
     ]
    }
   ],
   "source": [
    "FILE_PATH = \"../Data/patient_genes.csv\"\n",
    "df = pd.read_csv(FILE_PATH)\n",
    "\n",
    "df.info()"
   ]
  },
  {
   "cell_type": "markdown",
   "id": "5a8dac63-d44a-4a34-b752-fc1485e06af6",
   "metadata": {},
   "source": [
    "## Basic model implementations"
   ]
  },
  {
   "cell_type": "markdown",
   "id": "d6260f15-93d8-4889-881f-706041c8c9c4",
   "metadata": {},
   "source": [
    "### Imports"
   ]
  },
  {
   "cell_type": "code",
   "execution_count": 11,
   "id": "b49fcfaf-4050-466f-a178-d12f273739c0",
   "metadata": {},
   "outputs": [],
   "source": [
    "# from sklearn.metrics import accuracy_score\n",
    "# from sklearn.model_selection import train_test_split\n",
    "# from sklearn.linear_model import LogisticRegression\n",
    "# from sklearn.svm import SVC\n",
    "# from sklearn.ensemble import RandomForestClassifier\n",
    "# from sklearn.model_selection import cross_val_score\n",
    "# from typing import get_args"
   ]
  },
  {
   "cell_type": "markdown",
   "id": "82eb9cb0-eed3-4947-8ed6-3f865387bebc",
   "metadata": {},
   "source": [
    "### Dataset split: training and test data"
   ]
  },
  {
   "cell_type": "code",
   "execution_count": 12,
   "id": "0fdd34d0-e8b6-4640-8369-e759ab8f050e",
   "metadata": {},
   "outputs": [
    {
     "name": "stdout",
     "output_type": "stream",
     "text": [
      "X_train.shape=(781, 281)\n",
      "X_test.shape=(196, 281)\n",
      "y_train.shape=(781,)\n",
      "y_test.shape=(196,)\n"
     ]
    }
   ],
   "source": [
    "# Constants\n",
    "TNBC = \"tnbc\"\n",
    "CASE_ID = \"case_id\"\n",
    "RANDOM_STATE = 42\n",
    "\n",
    "# Type annotations\n",
    "Model = LogisticRegression | SVC | RandomForestClassifier\n",
    "\n",
    "\n",
    "# Features: all columns except TNBC column\n",
    "X = df.drop(columns=[TNBC, CASE_ID])\n",
    "# Target variable\n",
    "y = df[TNBC]\n",
    "\n",
    "X_train, X_test, y_train, y_test = train_test_split(X, y, test_size=0.2, random_state=42)\n",
    "\n",
    "# Training size = 0.8 * 977 ≈ 781\n",
    "# Test size = 0.2 * 977 ≈ 196\n",
    "print(f\"{X_train.shape=}\")\n",
    "print(f\"{X_test.shape=}\")\n",
    "print(f\"{y_train.shape=}\")\n",
    "print(f\"{y_test.shape=}\")\n"
   ]
  },
  {
   "cell_type": "markdown",
   "id": "5e382cde-a115-4bd4-8186-5dabcb03f2a1",
   "metadata": {},
   "source": [
    "### Helper functions"
   ]
  },
  {
   "cell_type": "code",
   "execution_count": 13,
   "id": "c68af316-d37d-48f1-9fb0-981c78a2f905",
   "metadata": {},
   "outputs": [],
   "source": [
    "def get_accuracy_score(y_pred):\n",
    "    return accuracy_score(y_test, y_pred)\n",
    "\n",
    "def print_evaluated_model_accuracy(y_pred) -> None:\n",
    "    print(f\"Accuracy: {get_accuracy_score(y_pred):.2f}\")    \n",
    "\n",
    "def print_validated_model_accuracy(model: Model, cv: int = 5) -> None:\n",
    "    assert isinstance(model, Model), f\"Parameter 'model' needs to be one of the following types {[type_.__name__ for type_ in get_args(Model)]}\"\n",
    "\n",
    "    cv_scores = cross_val_score(model, X, y, cv=cv, scoring=\"accuracy\")\n",
    "    print(f\"Model validation for {type(model).__name__}:\")\n",
    "    print(cv_scores)\n",
    "    print(f\"\\nMean accuracy: {cv_scores.mean():.4f}\\n\")"
   ]
  },
  {
   "cell_type": "markdown",
   "id": "c5619543-bc0e-4a60-a770-83410893ef70",
   "metadata": {},
   "source": [
    "### Logistic Regression"
   ]
  },
  {
   "cell_type": "code",
   "execution_count": 14,
   "id": "516c04c1-a6fa-47ca-b6ac-0683daebfc0f",
   "metadata": {},
   "outputs": [
    {
     "name": "stdout",
     "output_type": "stream",
     "text": [
      "Accuracy: 0.91\n"
     ]
    }
   ],
   "source": [
    "# Create model\n",
    "# Bumping max_iter to a higer number than the default 100, resolves the following warning\n",
    "logistic_regression_model = LogisticRegression(random_state=RANDOM_STATE, solver='lbfgs', max_iter=30000)\n",
    "\n",
    "# Train the model\n",
    "logistic_regression_model.fit(X_train, y_train)\n",
    "\n",
    "# Model predictions\n",
    "y_pred_logistic_regression = logistic_regression_model.predict(X_test)\n",
    "\n",
    "# Evaluate model\n",
    "print_evaluated_model_accuracy(y_pred_logistic_regression)"
   ]
  },
  {
   "cell_type": "markdown",
   "id": "1b011b8d-a94e-441c-aec2-c214c21289ee",
   "metadata": {},
   "source": [
    "### SVM"
   ]
  },
  {
   "cell_type": "code",
   "execution_count": 15,
   "id": "9b31073a-628f-44ee-a1b5-6a70b57504bd",
   "metadata": {},
   "outputs": [
    {
     "name": "stdout",
     "output_type": "stream",
     "text": [
      "Accuracy: 0.91\n"
     ]
    }
   ],
   "source": [
    "# Create model\n",
    "svm_model = SVC(random_state=RANDOM_STATE)\n",
    "\n",
    "# Train the model\n",
    "svm_model.fit(X_train, y_train)\n",
    "\n",
    "# Model predictions\n",
    "y_pred_svm = svm_model.predict(X_test)\n",
    "\n",
    "# Evaluate model\n",
    "print_evaluated_model_accuracy(y_pred_svm)"
   ]
  },
  {
   "cell_type": "markdown",
   "id": "fc4d5745-1eba-41f5-9481-01972d3a6923",
   "metadata": {},
   "source": [
    "### Random Forest"
   ]
  },
  {
   "cell_type": "code",
   "execution_count": 16,
   "id": "f565003e-f6a0-473c-b777-78d9099b856a",
   "metadata": {},
   "outputs": [
    {
     "name": "stdout",
     "output_type": "stream",
     "text": [
      "Accuracy: 0.94\n"
     ]
    }
   ],
   "source": [
    "# Create model\n",
    "random_forest_model = RandomForestClassifier(random_state=RANDOM_STATE)\n",
    "\n",
    "#Train the model\n",
    "random_forest_model.fit(X_train, y_train)\n",
    "\n",
    "# Model predictions\n",
    "y_pred_random_forest = random_forest_model.predict(X_test)\n",
    "\n",
    "# Evaluate\n",
    "print_evaluated_model_accuracy(y_pred_random_forest)"
   ]
  },
  {
   "cell_type": "markdown",
   "id": "eb9af7c7-31f8-4125-a6a6-7a3d7a4da198",
   "metadata": {},
   "source": [
    "## Model basic validations"
   ]
  },
  {
   "cell_type": "code",
   "execution_count": 17,
   "id": "5a6df987-b0f3-431a-b31c-62e175d83367",
   "metadata": {},
   "outputs": [
    {
     "name": "stdout",
     "output_type": "stream",
     "text": [
      "Model validation for LogisticRegression:\n",
      "[0.87244898 0.90306122 0.92307692 0.92820513 0.88205128]\n",
      "\n",
      "Mean accuracy: 0.9018\n",
      "\n",
      "Model validation for SVC:\n",
      "[0.92857143 0.92346939 0.91794872 0.91794872 0.91282051]\n",
      "\n",
      "Mean accuracy: 0.9202\n",
      "\n",
      "Model validation for RandomForestClassifier:\n",
      "[0.94897959 0.94387755 0.93846154 0.93846154 0.90769231]\n",
      "\n",
      "Mean accuracy: 0.9355\n",
      "\n"
     ]
    }
   ],
   "source": [
    "print_validated_model_accuracy(logistic_regression_model)\n",
    "\n",
    "print_validated_model_accuracy(svm_model)\n",
    "\n",
    "print_validated_model_accuracy(random_forest_model)\n"
   ]
  },
  {
   "cell_type": "markdown",
   "id": "fe731589-bf4c-4747-bf37-7a0f90cd49ed",
   "metadata": {},
   "source": [
    "## Model Evaluation"
   ]
  },
  {
   "cell_type": "markdown",
   "id": "58577d6a-7862-4284-8576-12e527de6263",
   "metadata": {},
   "source": [
    "### Get evaluation data"
   ]
  },
  {
   "cell_type": "code",
   "execution_count": 18,
   "id": "d86f478b-4e5c-43e8-901d-882c222ece41",
   "metadata": {},
   "outputs": [],
   "source": [
    "# from sklearn.metrics import classification_report, confusion_matrix\n",
    "\n",
    "targetNames = ['nTNBC', 'TNBC']\n",
    "\n",
    "classLG = classification_report(y_test, y_pred_logistic_regression, output_dict=True, target_names=targetNames, zero_division=0)\n",
    "classSVM = classification_report(y_test, y_pred_svm, output_dict=True, target_names=targetNames, zero_division=0)\n",
    "classRF  = classification_report(y_test, y_pred_random_forest , output_dict=True, target_names=targetNames, zero_division=0)\n",
    "\n",
    "confMatrixLG = confusion_matrix(y_test, y_pred_logistic_regression)\n",
    "confMatrixSVM = confusion_matrix(y_test, y_pred_svm)\n",
    "confMatrixRF = confusion_matrix(y_test, y_pred_random_forest)\n",
    "\n",
    "accuracyLG = accuracy_score(y_test, y_pred_logistic_regression);\n",
    "accuracySVM = accuracy_score(y_test, y_pred_svm);\n",
    "accuracyRF  = accuracy_score(y_test, y_pred_random_forest);\n",
    "\n",
    "evalPrecision = 'precision'\n",
    "evalRecall = 'recall'\n",
    "evalF1score = 'f1-score'\n",
    "\n",
    "evalTargetN = 'nTNBC'\n",
    "evalTarget = 'TNBC'\n",
    "\n",
    "models = ['Random Forest', 'Support Vector Machine' ,'Logistical Regression']\n",
    "classLabels = ['Precision', 'Recall', 'F1-score']\n",
    "\n",
    "notTNBCData = {\n",
    "    'Random Forest'         : (classRF[evalTargetN][evalPrecision]*100 , classRF[evalTargetN][evalRecall]*100 , classRF[evalTargetN][evalF1score]*100 ),\n",
    "    'Support Vector'        : (classSVM[evalTargetN][evalPrecision]*100, classSVM[evalTargetN][evalRecall]*100, classSVM[evalTargetN][evalF1score]*100),\n",
    "    'Logistical Regression' : (classLG[evalTargetN][evalPrecision]*100, classLG[evalTargetN][evalRecall]*100, classLG[evalTargetN][evalF1score]*100)\n",
    "}\n",
    "TNBCData = {\n",
    "    'Random Forest'      : (classRF[evalTarget][evalPrecision]*100 , classRF[evalTarget][evalRecall]*100 , classRF[evalTarget][evalF1score]*100 ),\n",
    "    'Support Vector'     : (classSVM[evalTarget][evalPrecision]*100, classSVM[evalTarget][evalRecall]*100, classSVM[evalTarget][evalF1score]*100),\n",
    "    'Logistical Regression' : (classLG[evalTarget][evalPrecision]*100, classLG[evalTarget][evalRecall]*100, classLG[evalTarget][evalF1score]*100),\n",
    "}\n",
    "accuracyData = {\n",
    "    'Random Forest' : (accuracyRF*100),\n",
    "    'Support Vector' : (accuracySVM*100),\n",
    "    'Logistical Regression' : (accuracyLG*100)\n",
    "}"
   ]
  },
  {
   "cell_type": "markdown",
   "id": "6fc10bd8-08a5-4085-92c4-51a0384bf3f5",
   "metadata": {},
   "source": [
    "### Plot the data to charts"
   ]
  },
  {
   "cell_type": "code",
   "execution_count": 19,
   "id": "69f3cb87-20e6-4861-ad22-d7308f58b3a9",
   "metadata": {},
   "outputs": [
    {
     "data": {
      "image/png": "[encoded data removed]",
      "text/plain": [
       "<Figure size 1200x600 with 6 Axes>"
      ]
     },
     "metadata": {},
     "output_type": "display_data"
    }
   ],
   "source": [
    "# import matplotlib.pyplot as plt\n",
    "# import numpy as np\n",
    "\n",
    "fig, ax = plt.subplots(nrows = 2, ncols = 3, layout='constrained', figsize=[12,6])\n",
    "\n",
    "# == Accuracy\n",
    "ax[0,0].set_xlim(0,100)\n",
    "\n",
    "rects = ax[0,0].barh(y=accuracyData.keys(), width=accuracyData.values(), color=['#1F77B4', 'darkorange', '#2CA02C'])\n",
    "ax[0,0].bar_label(rects, padding=3, fmt='%.2f%%')\n",
    "ax[0,0].set_ylabel('Accuracy (%)', rotation=0, horizontalalignment='left')\n",
    "ax[0,0].yaxis.set_label_coords(-0.37, 0.8)\n",
    "ax[0,0].set_yticklabels('')\n",
    "ax[0,0].invert_yaxis()\n",
    "\n",
    "# == TNBC\n",
    "width = 0.25\n",
    "multiplier = 0\n",
    "ax[0,1].set_xlim(0, 100)\n",
    "y_pos = np.arange(len(models))\n",
    "for attribute, measurement in TNBCData.items():\n",
    "    offset = width * multiplier\n",
    "    rectsTNBC = ax[0,1].barh(y_pos + offset, measurement, width, label=attribute)\n",
    "    ax[0,1].bar_label(rectsTNBC, padding=3, fmt='%.2f%%')\n",
    "    multiplier += 1\n",
    "\n",
    "ax[0,1].set_yticks(y_pos)\n",
    "ax[0,1].set_yticklabels(classLabels)\n",
    "ax[0,1].invert_yaxis()\n",
    "ax[0,1].set_xlabel('Metrics TNBC')\n",
    "\n",
    "# == tNBC\n",
    "multiplier = 0\n",
    "ax[0,2].set_xlim(0, 100)\n",
    "y_pos = np.arange(len(models))\n",
    "for attribute, measurement in notTNBCData.items():\n",
    "    offset = width * multiplier  \n",
    "    rectsNTNBC = ax[0,2].barh(y_pos + offset, measurement, width, label=attribute)\n",
    "    ax[0,2].bar_label(rectsNTNBC, padding=3, fmt='%.2f%%')\n",
    "    multiplier += 1\n",
    "\n",
    "ax[0,2].set_yticks(y_pos)\n",
    "ax[0,2].set_yticklabels(classLabels)\n",
    "ax[0,2].invert_yaxis()\n",
    "ax[0,2].set_xlabel('Metrics nTNBC')\n",
    "\n",
    "# == Three confusion matrices\n",
    "# https://matplotlib.org/stable/gallery/images_contours_and_fields/image_annotated_heatmap.html\n",
    "ax[1,0].imshow(confMatrixRF, cmap='RdBu_r')\n",
    "for i in range(2):\n",
    "    for j in range(2):\n",
    "        text = ax[1,0].text(j, i, confMatrixRF[i, j],\n",
    "                       ha=\"center\", va=\"center\", color=\"white\")\n",
    "\n",
    "ax[1,0].yaxis.set_visible(False)\n",
    "ax[1,0].set_xticklabels('')\n",
    "ax[1,0].set_xlabel('Confusion matrix - Random Forest')\n",
    "ax[1,0].tick_params(axis=u'both', which=u'both',length=0)\n",
    "\n",
    "ax[1,1].imshow(confMatrixSVM, cmap='RdBu_r')\n",
    "for i in range(2):\n",
    "    for j in range(2):\n",
    "        if confMatrixSVM[i, j] > 44 and confMatrixSVM[i, j] < 60:\n",
    "            text = ax[1,1].text(j, i, confMatrixSVM[i, j],\n",
    "                           ha=\"center\", va=\"center\", color=\"black\")\n",
    "        else:\n",
    "            text = ax[1,1].text(j, i, confMatrixSVM[i, j],\n",
    "                           ha=\"center\", va=\"center\", color=\"white\")\n",
    "            \n",
    "ax[1,1].yaxis.set_visible(False)\n",
    "ax[1,1].set_xticklabels('')\n",
    "ax[1,1].set_xlabel('Confusion matrix - Support Vector Machine')\n",
    "ax[1,1].tick_params(axis=u'both', which=u'both',length=0)\n",
    "\n",
    "ax[1,2].imshow(confMatrixLG, cmap='RdBu_r')\n",
    "for i in range(2):\n",
    "    for j in range(2):\n",
    "        text = ax[1,2].text(j, i, confMatrixLG[i, j],\n",
    "                       ha=\"center\", va=\"center\", color=\"white\")\n",
    "\n",
    "ax[1,2].yaxis.set_visible(False)\n",
    "ax[1,2].set_xticklabels('')\n",
    "ax[1,2].set_xlabel('Confusion matrix - Logistical Regression')\n",
    "ax[1,2].tick_params(axis=u'both', which=u'both',length=0)\n",
    "\n",
    "fig.legend(handles=rects, labels=models, bbox_to_anchor=(0.09, 0.7, 0.5, 0.5))\n",
    "\n",
    "chartsPartOne = plt.gcf()\n",
    "\n",
    "plt.show()"
   ]
  },
  {
   "cell_type": "markdown",
   "id": "b18fed8c-f0e7-4e78-a60a-65069b7e681b",
   "metadata": {},
   "source": [
    "### Plot the ROC Curve and Compute AUC Score"
   ]
  },
  {
   "cell_type": "markdown",
   "id": "bfde3d69-36f0-49d9-b3eb-d96fe24ef8a1",
   "metadata": {},
   "source": [
    "#### Get the ROC and AUC data"
   ]
  },
  {
   "cell_type": "code",
   "execution_count": 20,
   "id": "308545e1-1668-4704-958a-1725e80e9569",
   "metadata": {},
   "outputs": [],
   "source": [
    "# from sklearn.metrics import roc_curve\n",
    "# from sklearn.metrics import roc_auc_score\n",
    "# from sklearn.metrics import auc\n",
    "\n",
    "## Computing ROC curve [ISBN 978-14-49-36988-0]\n",
    "y_probsRF = random_forest_model.predict_proba(X_test)[:, 1]\n",
    "y_probsSVM = svm_model.decision_function(X_test)\n",
    "y_probsLG = logistic_regression_model.predict_proba(X_test)[:, 1]\n",
    "\n",
    "fprRF, tprRF, thresholdsRF = roc_curve(y_test, y_probsRF)\n",
    "fprSVM, tprSVM, thresholdsSVM = roc_curve(y_test, y_probsSVM)\n",
    "fprLG, tprLG, thresholdsLG = roc_curve(y_test, y_probsLG)\n",
    "\n",
    "rocAucRF = auc(fprRF, tprRF)\n",
    "rocAucSVM = auc(fprSVM, tprSVM)\n",
    "rocAucLG = auc(fprLG, tprLG)\n",
    "\n",
    "rocAucData = {\n",
    "    'Random Forest'          : rocAucRF*100,\n",
    "    'Support Vector Machine' : rocAucSVM*100,\n",
    "    'Logistical Regression'  : rocAucLG*100\n",
    "}"
   ]
  },
  {
   "cell_type": "markdown",
   "id": "74295949-32ed-40ac-aaff-b34f87cecb42",
   "metadata": {},
   "source": [
    "#### Plot the data to charts"
   ]
  },
  {
   "cell_type": "code",
   "execution_count": 21,
   "id": "420b9a68-6f25-4aca-8c9d-8ae48fb7c362",
   "metadata": {},
   "outputs": [
    {
     "data": {
      "image/png": "[encoded data removed]",
      "text/plain": [
       "<Figure size 1200x600 with 2 Axes>"
      ]
     },
     "metadata": {},
     "output_type": "display_data"
    }
   ],
   "source": [
    "fig, ax = plt.subplots(nrows = 1, ncols = 2, layout='constrained', figsize=[12,6])\n",
    "\n",
    "## Computing ROC curve [978-14-49-36988-0]\n",
    "ax[0].plot(fprRF, tprRF, label='Random Forest')\n",
    "ax[0].plot(fprSVM, tprSVM, label='Support Vector Machine')\n",
    "ax[0].plot(fprLG, tprLG, label='Logistical Regression')\n",
    "ax[0].set_xlabel('FPR')\n",
    "ax[0].set_ylabel('TPR (recall)')\n",
    "\n",
    "rects = ax[1].barh(y=rocAucData.keys(), width=rocAucData.values(), color=['#1F77B4', 'darkorange', '#2CA02C'])\n",
    "ax[1].set_xlim(0, 100)\n",
    "ax[1].bar_label(rects, padding=3, fmt='%.2f%%')\n",
    "ax[1].set_ylabel('AUC score')\n",
    "ax[1].set_yticklabels('')\n",
    "ax[1].invert_yaxis()\n",
    "\n",
    "fig.legend(handles=rects, labels=models, bbox_to_anchor=(0.09, 0.7, 0.5, 0.5))\n",
    "\n",
    "chartsPartTwo = plt.gcf()\n",
    "\n",
    "plt.show()"
   ]
  },
  {
   "cell_type": "markdown",
   "id": "09746f9d-93f2-4536-a648-8149ccf80500",
   "metadata": {},
   "source": [
    "### Cross Model Validation"
   ]
  },
  {
   "cell_type": "markdown",
   "id": "76cbe350-4e12-4ef6-bcb7-ad483f0a279e",
   "metadata": {},
   "source": [
    "#### Get 5-Fold Cross Validation data"
   ]
  },
  {
   "cell_type": "code",
   "execution_count": 22,
   "id": "b2270166-b8a5-4649-8989-f4e343733eb3",
   "metadata": {},
   "outputs": [],
   "source": [
    "# from sklearn.model_selection import cross_val_score\n",
    "\n",
    "cs_scores_LG  = cross_val_score(logistic_regression_model, X, y, cv=5, scoring='accuracy')\n",
    "cs_scores_SVM = cross_val_score(svm_model, X, y, cv=5, scoring='accuracy')\n",
    "cs_scores_RF  = cross_val_score(random_forest_model, X, y, cv=5, scoring='accuracy')\n",
    "\n",
    "fold5Data = {\n",
    "    'Random Forest'          : cs_scores_RF.mean()*100,\n",
    "    'Support Vector Machine' : cs_scores_SVM.mean()*100,\n",
    "    'Logistical Regression'  : cs_scores_LG.mean()*100\n",
    "}"
   ]
  },
  {
   "cell_type": "markdown",
   "id": "b7dbdbd4-18fd-4557-ac6a-2d7839d60b2f",
   "metadata": {},
   "source": [
    "#### Plot data to charts"
   ]
  },
  {
   "cell_type": "code",
   "execution_count": 23,
   "id": "733a2285-c34f-44c1-98de-f6b9359e1407",
   "metadata": {},
   "outputs": [
    {
     "data": {
      "image/png": "[encoded data removed]",
      "text/plain": [
       "<Figure size 640x480 with 1 Axes>"
      ]
     },
     "metadata": {},
     "output_type": "display_data"
    }
   ],
   "source": [
    "fig, ax = plt.subplots()\n",
    "\n",
    "rects = ax.bar(fold5Data.keys(), fold5Data.values(), label=fold5Data.keys(), color=['#1F77B4', 'darkorange', '#2CA02C'])\n",
    "ax.bar_label(rects, padding=3, fmt='%.2f%%')\n",
    "\n",
    "plt.show()"
   ]
  },
  {
   "cell_type": "code",
   "execution_count": null,
   "id": "b7d83c12-189f-4773-bc66-510ed3d4482c",
   "metadata": {},
   "outputs": [],
   "source": []
  }
 ],
 "metadata": {
  "kernelspec": {
   "display_name": "Python 3 (ipykernel)",
   "language": "python",
   "name": "python3"
  },
  "language_info": {
   "codemirror_mode": {
    "name": "ipython",
    "version": 3
   },
   "file_extension": ".py",
   "mimetype": "text/x-python",
   "name": "python",
   "nbconvert_exporter": "python",
   "pygments_lexer": "ipython3",
   "version": "3.12.7"
  }
 },
 "nbformat": 4,
 "nbformat_minor": 5
}
