{
 "cells": [
  {
   "cell_type": "markdown",
   "id": "b0aa6386-e1b7-4713-9a39-0761db2bd0e4",
   "metadata": {},
   "source": [
    "# Recursive Feature Elimination (RFE)"
   ]
  },
  {
   "cell_type": "code",
   "execution_count": 2,
   "id": "073c318d",
   "metadata": {},
   "outputs": [
    {
     "name": "stdout",
     "output_type": "stream",
     "text": [
      "Loading gene data - Start\n",
      "Loading gene data - End\n"
     ]
    }
   ],
   "source": [
    "import pandas as pd\n",
    "%run \"..\\Model\\DataHelpers.ipynb\"\n",
    "\n",
    "print(f'Loading gene data - Start')\n",
    "df = pd.read_csv('../Data/geneDataPreProcessed.csv')\n",
    "print(f'Loading gene data - End')"
   ]
  },
  {
   "cell_type": "markdown",
   "id": "19f022d6-793f-40f9-899b-05283db277a7",
   "metadata": {},
   "source": [
    "# Select Features to use in Recursive Feature Elimination (RFE)"
   ]
  },
  {
   "cell_type": "code",
   "execution_count": 18,
   "id": "c2d04a16-ef90-4aa2-9e1e-204cd0ea6f26",
   "metadata": {},
   "outputs": [],
   "source": [
    "variant  = FeatureVariant.RFE\n",
    "\n",
    "onlyFeatures = len(df.columns)-2\n",
    "features = df.columns[:onlyFeatures].tolist()"
   ]
  },
  {
   "cell_type": "markdown",
   "id": "c741a8f1-699b-4e05-a748-1a669bf8fc6d",
   "metadata": {},
   "source": [
    "### Dataset split: training and test data"
   ]
  },
  {
   "cell_type": "code",
   "execution_count": 19,
   "id": "198f64ef-27fd-4559-8e50-9cb8e25d9253",
   "metadata": {},
   "outputs": [
    {
     "name": "stdout",
     "output_type": "stream",
     "text": [
      "X_train.shape=(781, 19938)\n",
      "X_test.shape=(196, 19938)\n",
      "y_train.shape=(781,)\n",
      "y_test.shape=(196,)\n",
      "\n",
      "Applied Smote\n",
      "X_train.shape=(1379, 19938)\n",
      "X_test.shape=(345, 19938)\n",
      "y_train.shape=(1379,)\n",
      "y_test.shape=(345,)\n"
     ]
    }
   ],
   "source": [
    "X, y, X_train, X_test, y_train, y_test, test_case_ids = split_data(df[features+constTargetAndMetadata], \"tnbc\", True)\n",
    "print(\"\\nApplied Smote\")\n",
    "X_smote, y_smote, X_train_smote, X_test_smote, y_train_smote, y_test_smote, test_case_ids_smote = split_data_apply_smote(df[features+constTargetAndMetadata], \"tnbc\")"
   ]
  },
  {
   "cell_type": "markdown",
   "id": "a216a84d-fefb-4e91-9ef2-2cfb740e9b80",
   "metadata": {},
   "source": [
    "# Apply Recursive Feature Elimination (RFE)"
   ]
  },
  {
   "cell_type": "code",
   "execution_count": 21,
   "id": "ea2a9ec8-e03a-46a9-9ba4-c7a600fa61e4",
   "metadata": {},
   "outputs": [],
   "source": [
    "from sklearn.feature_selection import RFE\n",
    "from sklearn.svm import SVR # Used by RFE\n",
    "import numpy as np"
   ]
  },
  {
   "cell_type": "markdown",
   "id": "432202de-63f5-4872-a9c8-f1469f686ea7",
   "metadata": {},
   "source": [
    "### train n = 781"
   ]
  },
  {
   "cell_type": "code",
   "execution_count": 22,
   "id": "19228173-9480-47f6-9756-8f2636a34c69",
   "metadata": {},
   "outputs": [
    {
     "name": "stdout",
     "output_type": "stream",
     "text": [
      "RFE - Start\n"
     ]
    },
    {
     "name": "stderr",
     "output_type": "stream",
     "text": [
      "\n",
      "KeyboardInterrupt\n",
      "\n"
     ]
    }
   ],
   "source": [
    "estimator = SVR(kernel=\"linear\")\n",
    "\n",
    "feat_selector = RFE(estimator=estimator, n_features_to_select= 0.25)\n",
    "\n",
    "print(f'RFE - Start')\n",
    "# Fit RFE to the data\n",
    "feat_selector.fit(X_train, y_train)\n",
    "print(f'RFE - End')"
   ]
  },
  {
   "cell_type": "markdown",
   "id": "427d2f01-9c93-4b0f-a79c-26be96e9ece6",
   "metadata": {},
   "source": [
    "# Apply Recursive Feature Elimination (RFE) SMOTE\n",
    "### SMOTE train n = 1379"
   ]
  },
  {
   "cell_type": "code",
   "execution_count": 6,
   "id": "f85586a4-c4bc-4fee-b5ed-599a1a715a5e",
   "metadata": {},
   "outputs": [
    {
     "name": "stdout",
     "output_type": "stream",
     "text": [
      "RFE SMOTE - Start\n",
      "RFE SMOTE - End\n"
     ]
    }
   ],
   "source": [
    "estimator_smote = RandomForestClassifier(n_jobs=-1, class_weight='balanced', max_depth=5, random_state=42)\n",
    "\n",
    "feat_selector_smote = RFE(estimator=estimator_smote, n_features_to_select= 0.25)\n",
    "\n",
    "print(f'RFE SMOTE - Start')\n",
    "# Fit RFE to the data #1205\n",
    "feat_selector_smote.fit(X_train_smote, y_train_smote)\n",
    "print(f'RFE SMOTE - End')"
   ]
  },
  {
   "cell_type": "markdown",
   "id": "a348c4ee-526e-4d8c-ab47-163185b4a5b0",
   "metadata": {},
   "source": [
    "# Convert RFE output to Features Lists (SMOTE and nSMOTE)"
   ]
  },
  {
   "cell_type": "code",
   "execution_count": 7,
   "id": "e76361b0-cb22-422f-a8a8-3e7188dc0522",
   "metadata": {},
   "outputs": [
    {
     "name": "stdout",
     "output_type": "stream",
     "text": [
      "Featurelist nSMOTE: 71\n",
      "Featurelist SMOTE: 71\n"
     ]
    }
   ],
   "source": [
    "featureList = []\n",
    "smoteFeatureList = []\n",
    "\n",
    "for i in range(len(feat_selector.support_)):\n",
    "    if feat_selector.support_[i]:\n",
    "        featureList.append(X_train.columns[i])\n",
    "\n",
    "for i in range(len(feat_selector_smote.support_)):\n",
    "    if feat_selector_smote.support_[i]:\n",
    "        smoteFeatureList.append(X_train_smote.columns[i])\n",
    "\n",
    "print('Featurelist nSMOTE: '+ str(len(featureList)))\n",
    "print('Featurelist SMOTE: ' + str(len(smoteFeatureList)))"
   ]
  },
  {
   "cell_type": "markdown",
   "id": "0760de05-3376-4e85-9ae4-1fce4e27ae80",
   "metadata": {},
   "source": [
    "# Send dataframe to a csv"
   ]
  },
  {
   "cell_type": "code",
   "execution_count": 8,
   "id": "79392b04-d63f-4d37-bfa7-cd6d7439fdc0",
   "metadata": {},
   "outputs": [],
   "source": [
    "df[featureList+constTargetAndMetadata].to_csv(f'../Data/patient_genes_all_{variant}.csv', index=False)\n",
    "df[smoteFeatureList+constTargetAndMetadata].to_csv(f'../Data/patient_genes_all_{variant}_smote.csv', index=False)"
   ]
  },
  {
   "cell_type": "code",
   "execution_count": null,
   "id": "caccc0a3-ebde-4050-9304-8a293cfcac0b",
   "metadata": {},
   "outputs": [],
   "source": []
  }
 ],
 "metadata": {
  "kernelspec": {
   "display_name": "Python 3 (ipykernel)",
   "language": "python",
   "name": "python3"
  },
  "language_info": {
   "codemirror_mode": {
    "name": "ipython",
    "version": 3
   },
   "file_extension": ".py",
   "mimetype": "text/x-python",
   "name": "python",
   "nbconvert_exporter": "python",
   "pygments_lexer": "ipython3",
   "version": "3.12.3"
  }
 },
 "nbformat": 4,
 "nbformat_minor": 5
}
