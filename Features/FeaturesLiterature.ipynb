{
 "cells": [
  {
   "cell_type": "markdown",
   "id": "ca083586-3d97-4d55-8bb3-995337ccf210",
   "metadata": {},
   "source": [
    "# Features based on literature"
   ]
  },
  {
   "cell_type": "code",
   "execution_count": 2,
   "id": "073c318d",
   "metadata": {},
   "outputs": [
    {
     "name": "stdout",
     "output_type": "stream",
     "text": [
      "Loading gene data - Start\n",
      "Loading gene data - End\n"
     ]
    }
   ],
   "source": [
    "import pandas as pd\n",
    "%run \"..\\Model\\DataHelpers.ipynb\"\n",
    "\n",
    "print(f'Loading gene data - Start')\n",
    "df = pd.read_csv('../Data/geneDataPreProcessed.csv')\n",
    "print(f'Loading gene data - End')"
   ]
  },
  {
   "cell_type": "code",
   "execution_count": 3,
   "id": "294e55f9-707f-42ba-9c0d-069a24c4119e",
   "metadata": {},
   "outputs": [],
   "source": [
    "variant = FeatureVariant.LITERATURE\n",
    "\n",
    "features = [ 'TBC1D9', 'GATA3', 'SLC16A6', 'ESR1', 'INPP4B', \n",
    "             'SLC44A4', 'ANXA9', 'AGR2', 'MCCC2', 'TSPAN1',\n",
    "             'STBD1', 'MLPH', 'CACNA2D2', 'RARA', 'STARD3', \n",
    "             'PPP1R14C', 'LDHB', 'MFGE8', 'PSAT1' ]"
   ]
  },
  {
   "cell_type": "markdown",
   "id": "0090d503-62fd-4834-bfdf-abd68b0dc9b3",
   "metadata": {},
   "source": [
    "# Send dataframe to a csv"
   ]
  },
  {
   "cell_type": "code",
   "execution_count": 5,
   "id": "6a1bf583-d10a-4d31-bfb3-64ca0bfb0900",
   "metadata": {},
   "outputs": [],
   "source": [
    "df[features+constTargetAndMetadata].to_csv(f'../Data/patient_genes_{variant}.csv', index=False)"
   ]
  },
  {
   "cell_type": "code",
   "execution_count": null,
   "id": "aa1cf8cf-d015-4e7d-8c2c-4046f1ccc7b6",
   "metadata": {},
   "outputs": [],
   "source": []
  }
 ],
 "metadata": {
  "kernelspec": {
   "display_name": "Python 3 (ipykernel)",
   "language": "python",
   "name": "python3"
  },
  "language_info": {
   "codemirror_mode": {
    "name": "ipython",
    "version": 3
   },
   "file_extension": ".py",
   "mimetype": "text/x-python",
   "name": "python",
   "nbconvert_exporter": "python",
   "pygments_lexer": "ipython3",
   "version": "3.12.3"
  }
 },
 "nbformat": 4,
 "nbformat_minor": 5
}
