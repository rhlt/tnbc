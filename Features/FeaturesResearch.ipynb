{
 "cells": [
  {
   "cell_type": "markdown",
   "id": "b0aa6386-e1b7-4713-9a39-0761db2bd0e4",
   "metadata": {},
   "source": [
    "# Features based on research, featureset 2 \n",
    "### (performed best out of 5 featuresets defined)"
   ]
  },
  {
   "cell_type": "code",
   "execution_count": 25,
   "id": "073c318d",
   "metadata": {},
   "outputs": [
    {
     "name": "stdout",
     "output_type": "stream",
     "text": [
      "Loading gene data - Start\n",
      "Loading gene data - End\n"
     ]
    }
   ],
   "source": [
    "import pandas as pd\n",
    "%run \"..\\Model\\DataHelpers.ipynb\"\n",
    "\n",
    "print(f'Loading gene data - Start')\n",
    "df = pd.read_csv('../Data/geneDataPreProcessed.csv')\n",
    "print(f'Loading gene data - End')"
   ]
  },
  {
   "cell_type": "markdown",
   "id": "a0f3b240-ab62-4668-8bd8-5b13daa9fd32",
   "metadata": {},
   "source": [
    "# Select Features to use in Model"
   ]
  },
  {
   "cell_type": "code",
   "execution_count": 23,
   "id": "3f07bcea-1bd5-451b-ac7c-c1ecf5a135a4",
   "metadata": {},
   "outputs": [],
   "source": [
    "variant = FeatureVariant.RESEARCH_MANUAL\n",
    "features = [ 'BRCA1', 'BRCA2', 'CD274','MKI67','PDCD1','PIK3CA','TP53','LRPPRC','YOD1','DCLK1',\n",
    "             'TOP2A','TACSTD2','ROR1','TTN','CTLA4','EGFR','EPCAM','MYC','PTEN','CDK6','DDX3X',\n",
    "             'SRC','YES1','FYN','TBC1D1','FOXC1','EZH2','LAG3','GATA3','CCND1','PRR4' ]"
   ]
  },
  {
   "cell_type": "markdown",
   "id": "0760de05-3376-4e85-9ae4-1fce4e27ae80",
   "metadata": {},
   "source": [
    "# Send dataframe to a csv"
   ]
  },
  {
   "cell_type": "code",
   "execution_count": 24,
   "id": "ae1fc9b7-86fd-4f17-a896-4f62fe467f17",
   "metadata": {},
   "outputs": [],
   "source": [
    "df[features+constTargetAndMetadata].to_csv(f'../Data/patient_genes_{variant}.csv', index=False)"
   ]
  },
  {
   "cell_type": "code",
   "execution_count": null,
   "id": "76706898-87ad-43b5-82ff-ed9a10599344",
   "metadata": {},
   "outputs": [],
   "source": []
  }
 ],
 "metadata": {
  "kernelspec": {
   "display_name": "Python 3 (ipykernel)",
   "language": "python",
   "name": "python3"
  },
  "language_info": {
   "codemirror_mode": {
    "name": "ipython",
    "version": 3
   },
   "file_extension": ".py",
   "mimetype": "text/x-python",
   "name": "python",
   "nbconvert_exporter": "python",
   "pygments_lexer": "ipython3",
   "version": "3.12.3"
  }
 },
 "nbformat": 4,
 "nbformat_minor": 5
}
