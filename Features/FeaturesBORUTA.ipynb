{
 "cells": [
  {
   "cell_type": "markdown",
   "id": "b0aa6386-e1b7-4713-9a39-0761db2bd0e4",
   "metadata": {},
   "source": [
    "# Features based on research, featureset 4, applying BORUTA"
   ]
  },
  {
   "cell_type": "code",
   "execution_count": 1,
   "id": "073c318d",
   "metadata": {},
   "outputs": [
    {
     "name": "stdout",
     "output_type": "stream",
     "text": [
      "Loading gene data - Start\n",
      "Loading gene data - End\n"
     ]
    }
   ],
   "source": [
    "import pandas as pd\n",
    "%run \"..\\Model\\DataHelpers.ipynb\"\n",
    "\n",
    "print(f'Loading gene data - Start')\n",
    "df = pd.read_csv('../Data/geneDataPreProcessed.csv')\n",
    "print(f'Loading gene data - End')"
   ]
  },
  {
   "cell_type": "markdown",
   "id": "19f022d6-793f-40f9-899b-05283db277a7",
   "metadata": {},
   "source": [
    "# Select Features to use in BORUTA"
   ]
  },
  {
   "cell_type": "code",
   "execution_count": 12,
   "id": "c2d04a16-ef90-4aa2-9e1e-204cd0ea6f26",
   "metadata": {},
   "outputs": [],
   "source": [
    "variant  = FeatureVariant.RESEARCH_BORUTA\n",
    "features = [    'A2M', 'ABCA1',  'ACKR1', 'ACSL3', 'ACTG2', 'ADH1B', 'ADH1C', 'AHR', 'AK5', 'AKT1', 'AKT2', 'AKT3', \n",
    "                'ALDH1A1', 'ALOX12B', 'AOC3', 'APOE', 'AR', 'ARID1B', 'ARNT', 'ASAH1', 'ASPSCR1', 'ASXL1', \n",
    "                'ASXL2', 'ASXL3', 'ATM', 'BCL9', 'BIRC3', 'BIRC6', 'BRCA1', 'BRCA2', 'BRD4', 'BTN3A1', 'CANT1', 'CCL4', \n",
    "                'CCND1', 'CCNE1', 'CCNT1', 'CD14', 'CTLA4', 'CD163', 'CD19', 'CD1A', 'CD1B', 'CD1C', 'CD1D', 'CD1E', 'CD24', \n",
    "                'CD27', 'CD274', 'CD276', 'CD3D', 'CD4', 'CD44', 'CD68', 'CD79A', 'CD86', 'CD8A', 'CD8B', 'CDH1', \n",
    "                'CDH2', 'CDH3', 'CDH5', 'CDK1', 'CDK2', 'CDK4', 'CDK6', 'CDKN1B', 'CDKN2A', 'CDKN2B', 'CEACAM7', 'CHAD',\n",
    "                'CHEK2', 'CKB', 'CLEC3A', 'COL1A1', 'COL1A2', 'COPZ2', 'COX7A1', 'CREBBP', 'CRYAB', 'CSF2RB', 'CSMD3', 'CTLA4',\n",
    "                'CTSD', 'CX3CR1', 'CXCL8', 'CXCR2', 'CXCR4', 'CYP1A1', 'DCLK1', 'DDR2', 'DDX3X', 'DEFB132', 'DNAH7', 'DNMT1', \n",
    "                'DNMT3A', 'DOCK11', 'DST', 'EDNRB', 'EGFR', 'EPCAM', 'ERBB2', 'ESR1', 'ESR2', 'EZH2', 'FAT1', 'FBXW7',\n",
    "                'FCGR2B', 'FGA', 'FGB', 'FGFR1', 'FGFR2', 'FGFR4', 'FGG', 'FOXA1', 'FOXC1', 'FOXP3', 'FYN', 'GAS1', 'GATA3',\n",
    "                'GIMAP7', 'GJA1', 'GJA4', 'GLDC', 'GNG11', 'GNLY', 'GPLD1', 'GPX4', 'GSTA2', 'GZMB', 'GZMB', 'HCLS1', 'HLA-E',\n",
    "                'HSP90AA1', 'HSP90AB1', 'HSP90B1', 'HSPA5', 'ID4', 'IDO1', 'IFNG', 'IGF1', 'IL18', 'IL2RA', 'IL2RB',\n",
    "                'IL2RG', 'IL6', 'IL7R', 'INMT', 'INPP4B', 'ITGAX', 'JCHAIN', 'KIT', 'KMT2D', 'KRT13', 'KRT14', 'KRT15', 'KRT18', \n",
    "                'KRT36', 'KRT5', 'KRT6A', 'KRT6B', 'KRT8', 'LAG3', 'LAMA2', 'LAMC2', 'LCP2', 'LMNA', 'LPA', 'LRPPRC', \n",
    "                'MAOA', 'MAP2K4', 'MAP3K1', 'MDGA2', 'MDM2', 'MET', 'MKI67', 'MS4A1', 'MSLN', 'MTOR', 'MUC1', 'MUC16', 'MYB',\n",
    "                'MYC', 'NF1', 'NKG7', 'NME1', 'NOP16', 'NOTCH1', 'NOTCH2', 'NOTCH3', 'NOTCH4', 'NPR1', 'OBSCN', 'OGN', 'OLAH', \n",
    "                'P4HA3', 'PALB2', 'PCDH15', 'PCK1', 'PDCD1', 'PDCD1LG2', 'PDE2A', 'PDGFRA', 'PDGFRB', 'PECAM1', 'PGF', 'PGF',\n",
    "                'PGR', 'PHLDA2', 'PIK3CA', 'PIK3R1', 'PIP', 'PKN1', 'PMS1', 'POSTN', 'PRKD2', 'PRR4', 'PTEN', 'PTK6', 'PTPRH', \n",
    "                'RACGAP1', 'RAD17', 'RAD51C', 'RB1', 'RDH12', 'RNF213', 'ROR1', 'RYR1', 'S100A16', 'SDS', 'SELL', 'SERPINA9', \n",
    "                'SNAI1', 'SNRNP200', 'SOD3', 'SPARCL1', 'SPTA1', 'SRC', 'SRD5A2', 'SREBF1', 'SRSF1', 'STAT1','STAT2', \n",
    "                'STAT3', 'STAT5A', 'SYNE1', 'TACSTD2', 'TAT', 'TBC1D1', 'TBC1D22B', 'TBC1D31', 'TBC1D7', 'TFF1', 'TGFB1', \n",
    "                'TGFB2', 'TGFB3', 'TH', 'THBD', 'TIGIT', 'TOP1', 'TOP2A', 'TP53', 'TRAP1', 'TRIM29', 'TTN', 'TYMS', 'UBE2C', \n",
    "                'USP6NL', 'VAV3', 'VEGFA', 'VEGFB', 'VEGFC', 'VEGFD', 'VIM', 'VRK1', 'VTCN1','VWF', 'WNT16', 'WTAP', 'XBP1', \n",
    "                 'XCL1', 'XCL2', 'YES1', 'YOD1' ]"
   ]
  },
  {
   "cell_type": "markdown",
   "id": "c741a8f1-699b-4e05-a748-1a669bf8fc6d",
   "metadata": {},
   "source": [
    "### Dataset split: training and test data"
   ]
  },
  {
   "cell_type": "code",
   "execution_count": 23,
   "id": "198f64ef-27fd-4559-8e50-9cb8e25d9253",
   "metadata": {},
   "outputs": [
    {
     "name": "stdout",
     "output_type": "stream",
     "text": [
      "X_train.shape=(781, 284)\n",
      "X_test.shape=(196, 284)\n",
      "y_train.shape=(781,)\n",
      "y_test.shape=(196,)\n",
      "\n",
      "Applied Smote\n",
      "X_train.shape=(1379, 284)\n",
      "X_test.shape=(345, 284)\n",
      "y_train.shape=(1379,)\n",
      "y_test.shape=(345,)\n"
     ]
    }
   ],
   "source": [
    "X, y, X_train, X_test, y_train, y_test, test_case_ids = split_data(df[features+constTargetAndMetadata], \"tnbc\", True)\n",
    "print(\"\\nApplied Smote\")\n",
    "X_smote, y_smote, X_train_smote, X_test_smote, y_train_smote, y_test_smote, test_case_ids_smote = split_data_apply_smote(df[features+constTargetAndMetadata], \"tnbc\")"
   ]
  },
  {
   "cell_type": "markdown",
   "id": "a216a84d-fefb-4e91-9ef2-2cfb740e9b80",
   "metadata": {},
   "source": [
    "# Apply BORUTA"
   ]
  },
  {
   "cell_type": "code",
   "execution_count": 24,
   "id": "ea2a9ec8-e03a-46a9-9ba4-c7a600fa61e4",
   "metadata": {},
   "outputs": [],
   "source": [
    "from boruta import BorutaPy\n",
    "# https://github.com/scikit-learn-contrib/boruta_py\n",
    "from sklearn.ensemble import RandomForestClassifier # Used by Boruta\n",
    "import numpy as np\n",
    "\n",
    "# module 'numpy' has no attribute 'int'\n",
    "# https://github.com/scikit-learn-contrib/boruta_py/issues/122#issuecomment-1914122968\n",
    "np.int = np.int32\n",
    "np.float = np.float64\n",
    "np.bool = np.bool_"
   ]
  },
  {
   "cell_type": "markdown",
   "id": "432202de-63f5-4872-a9c8-f1469f686ea7",
   "metadata": {},
   "source": [
    "### train n = 781, max features (n/p>5) = max 156 features"
   ]
  },
  {
   "cell_type": "code",
   "execution_count": 25,
   "id": "84f9dc17-43c1-494f-9a92-c9d57eb16199",
   "metadata": {},
   "outputs": [
    {
     "name": "stdout",
     "output_type": "stream",
     "text": [
      "BORUTA - Start\n",
      "BORUTA - End\n"
     ]
    }
   ],
   "source": [
    "Boruta_X = X_train.to_numpy()\n",
    "Boruta_y = y_train.astype(int).to_numpy() \n",
    "\n",
    "# n_jobs = The number of jobs to run in parallel, -1 = all processors\n",
    "# class_weight = The “balanced” mode uses the values of y to automatically adjust weights inversely proportional to class frequencies in the input data as n_samples / (n_classes * np.bincount(y))\n",
    "rf = RandomForestClassifier(n_jobs=-1, class_weight='balanced', max_depth=5, random_state=42)\n",
    "\n",
    "# define Boruta feature selection method. Verbose = 2 for selected, rejected, and tentative\n",
    "feat_selector = BorutaPy(rf, n_estimators='auto', verbose=0, random_state=42, max_iter=100)\n",
    "\n",
    "print(f'BORUTA - Start')\n",
    "# find all relevant features\n",
    "feat_selector.fit(Boruta_X, Boruta_y)\n",
    "print(f'BORUTA - End')"
   ]
  },
  {
   "cell_type": "markdown",
   "id": "427d2f01-9c93-4b0f-a79c-26be96e9ece6",
   "metadata": {},
   "source": [
    "# Apply BORUTA SMOTE\n",
    "### SMOTE train n = 1379, max features (n/p>5) = 275"
   ]
  },
  {
   "cell_type": "code",
   "execution_count": 26,
   "id": "80f8d401-e53b-473a-9a9a-07db06ff4e90",
   "metadata": {},
   "outputs": [
    {
     "name": "stdout",
     "output_type": "stream",
     "text": [
      "BORUTA - Start\n",
      "BORUTA - End\n"
     ]
    }
   ],
   "source": [
    "Boruta_X_smote = X_train_smote.to_numpy()\n",
    "Boruta_y_smote = y_train_smote.astype(int).to_numpy() \n",
    "\n",
    "# n_jobs = The number of jobs to run in parallel, -1 = all processors\n",
    "# class_weight = The “balanced” mode uses the values of y to automatically adjust weights inversely proportional to class frequencies in the input data as n_samples / (n_classes * np.bincount(y))\n",
    "rf = RandomForestClassifier(n_jobs=-1, class_weight='balanced', max_depth=5, random_state=42)\n",
    "\n",
    "# define Boruta feature selection method. Verbose = 2 for selected, rejected, and tentative\n",
    "feat_selector_smote = BorutaPy(rf, n_estimators='auto', random_state=42, max_iter=100)\n",
    "\n",
    "print(f'BORUTA - Start')\n",
    "# find all relevant features\n",
    "feat_selector_smote.fit(Boruta_X_smote, Boruta_y_smote)\n",
    "print(f'BORUTA - End')"
   ]
  },
  {
   "cell_type": "markdown",
   "id": "a348c4ee-526e-4d8c-ab47-163185b4a5b0",
   "metadata": {},
   "source": [
    "# Convert BORUTA output to Features Lists (SMOTE and nSMOTE)"
   ]
  },
  {
   "cell_type": "code",
   "execution_count": 27,
   "id": "e76361b0-cb22-422f-a8a8-3e7188dc0522",
   "metadata": {},
   "outputs": [
    {
     "name": "stdout",
     "output_type": "stream",
     "text": [
      "Featurelist nSMOTE: 61\n",
      "Featurelist SMOTE: 239\n"
     ]
    }
   ],
   "source": [
    "featureList = []\n",
    "smoteFeatureList = []\n",
    "\n",
    "for i in range(len(feat_selector.support_)):\n",
    "    if feat_selector.support_[i]:\n",
    "        featureList.append(X_train.columns[i])\n",
    "\n",
    "for i in range(len(feat_selector_smote.support_)):\n",
    "    if feat_selector_smote.support_[i]:\n",
    "        smoteFeatureList.append(X_train_smote.columns[i])\n",
    "\n",
    "print('Featurelist nSMOTE: '+ str(len(featureList)))\n",
    "print('Featurelist SMOTE: ' + str(len(smoteFeatureList)))"
   ]
  },
  {
   "cell_type": "markdown",
   "id": "0760de05-3376-4e85-9ae4-1fce4e27ae80",
   "metadata": {},
   "source": [
    "# Send dataframe to a csv"
   ]
  },
  {
   "cell_type": "code",
   "execution_count": 28,
   "id": "79392b04-d63f-4d37-bfa7-cd6d7439fdc0",
   "metadata": {},
   "outputs": [],
   "source": [
    "df[featureList+constTargetAndMetadata].to_csv(f'../Data/patient_genes_{variant}.csv', index=False)\n",
    "df[smoteFeatureList+constTargetAndMetadata].to_csv(f'../Data/patient_genes_{variant}_smote.csv', index=False)"
   ]
  },
  {
   "cell_type": "code",
   "execution_count": null,
   "id": "5f720721-252e-49b8-bc5b-c2c824b2ac82",
   "metadata": {},
   "outputs": [],
   "source": []
  }
 ],
 "metadata": {
  "kernelspec": {
   "display_name": "Python 3 (ipykernel)",
   "language": "python",
   "name": "python3"
  },
  "language_info": {
   "codemirror_mode": {
    "name": "ipython",
    "version": 3
   },
   "file_extension": ".py",
   "mimetype": "text/x-python",
   "name": "python",
   "nbconvert_exporter": "python",
   "pygments_lexer": "ipython3",
   "version": "3.12.3"
  }
 },
 "nbformat": 4,
 "nbformat_minor": 5
}
