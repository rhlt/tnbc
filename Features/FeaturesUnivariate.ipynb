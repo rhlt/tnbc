{
 "cells": [
  {
   "cell_type": "markdown",
   "id": "b0aa6386-e1b7-4713-9a39-0761db2bd0e4",
   "metadata": {},
   "source": [
    "# Features based on research, featureset 4, applying kBestANOVA"
   ]
  },
  {
   "cell_type": "code",
   "execution_count": 1,
   "id": "06b481f2-cf11-45ce-8321-357c175f0d97",
   "metadata": {},
   "outputs": [
    {
     "name": "stdout",
     "output_type": "stream",
     "text": [
      "Loading gene data - Start\n",
      "Loading gene data - End\n"
     ]
    }
   ],
   "source": [
    "import pandas as pd\n",
    "%run \"..\\Model\\DataHelpers.ipynb\"\n",
    "\n",
    "print(f'Loading gene data - Start')\n",
    "df = pd.read_csv('../Data/geneDataPreProcessed.csv')\n",
    "print(f'Loading gene data - End')"
   ]
  },
  {
   "cell_type": "markdown",
   "id": "e4924594-02fc-4d90-bbdb-438b78ffee74",
   "metadata": {},
   "source": [
    "# Select Features to use in kBestANOVA"
   ]
  },
  {
   "cell_type": "code",
   "execution_count": 90,
   "id": "073c318d",
   "metadata": {},
   "outputs": [],
   "source": [
    "import pandas as pd\n",
    "\n",
    "variant = FeatureVariant.RESEARCH_ANOVA\n",
    "features = [    'A2M', 'ABCA1',  'ACKR1', 'ACSL3', 'ACTG2', 'ADH1B', 'ADH1C', 'AHR', 'AK5', 'AKT1', 'AKT2', 'AKT3', \n",
    "                'ALDH1A1', 'ALOX12B', 'AOC3', 'APOE', 'AR', 'ARID1B', 'ARNT', 'ASAH1', 'ASPSCR1', 'ASXL1', \n",
    "                'ASXL2', 'ASXL3', 'ATM', 'BCL9', 'BIRC3', 'BIRC6', 'BRCA1', 'BRCA2', 'BRD4', 'BTN3A1', 'CANT1', 'CCL4', \n",
    "                'CCND1', 'CCNE1', 'CCNT1', 'CD14', 'CTLA4', 'CD163', 'CD19', 'CD1A', 'CD1B', 'CD1C', 'CD1D', 'CD1E', 'CD24', \n",
    "                'CD27', 'CD274', 'CD276', 'CD3D', 'CD4', 'CD44', 'CD68', 'CD79A', 'CD86', 'CD8A', 'CD8B', 'CDH1', \n",
    "                'CDH2', 'CDH3', 'CDH5', 'CDK1', 'CDK2', 'CDK4', 'CDK6', 'CDKN1B', 'CDKN2A', 'CDKN2B', 'CEACAM7', 'CHAD',\n",
    "                'CHEK2', 'CKB', 'CLEC3A', 'COL1A1', 'COL1A2', 'COPZ2', 'COX7A1', 'CREBBP', 'CRYAB', 'CSF2RB', 'CSMD3', 'CTLA4',\n",
    "                'CTSD', 'CX3CR1', 'CXCL8', 'CXCR2', 'CXCR4', 'CYP1A1', 'DCLK1', 'DDR2', 'DDX3X', 'DEFB132', 'DNAH7', 'DNMT1', \n",
    "                'DNMT3A', 'DOCK11', 'DST', 'EDNRB', 'EGFR', 'EPCAM', 'ERBB2', 'ESR1', 'ESR2', 'EZH2', 'FAT1', 'FBXW7',\n",
    "                'FCGR2B', 'FGA', 'FGB', 'FGFR1', 'FGFR2', 'FGFR4', 'FGG', 'FOXA1', 'FOXC1', 'FOXP3', 'FYN', 'GAS1', 'GATA3',\n",
    "                'GIMAP7', 'GJA1', 'GJA4', 'GLDC', 'GNG11', 'GNLY', 'GPLD1', 'GPX4', 'GSTA2', 'GZMB', 'GZMB', 'HCLS1', 'HLA-E',\n",
    "                'HSP90AA1', 'HSP90AB1', 'HSP90B1', 'HSPA5', 'ID4', 'IDO1', 'IFNG', 'IGF1', 'IL18', 'IL2RA', 'IL2RB',\n",
    "                'IL2RG', 'IL6', 'IL7R', 'INMT', 'INPP4B', 'ITGAX', 'JCHAIN', 'KIT', 'KMT2D', 'KRT13', 'KRT14', 'KRT15', 'KRT18', \n",
    "                'KRT36', 'KRT5', 'KRT6A', 'KRT6B', 'KRT8', 'LAG3', 'LAMA2', 'LAMC2', 'LCP2', 'LMNA', 'LPA', 'LRPPRC', \n",
    "                'MAOA', 'MAP2K4', 'MAP3K1', 'MDGA2', 'MDM2', 'MET', 'MKI67', 'MS4A1', 'MSLN', 'MTOR', 'MUC1', 'MUC16', 'MYB',\n",
    "                'MYC', 'NF1', 'NKG7', 'NME1', 'NOP16', 'NOTCH1', 'NOTCH2', 'NOTCH3', 'NOTCH4', 'NPR1', 'OBSCN', 'OGN', 'OLAH', \n",
    "                'P4HA3', 'PALB2', 'PCDH15', 'PCK1', 'PDCD1', 'PDCD1LG2', 'PDE2A', 'PDGFRA', 'PDGFRB', 'PECAM1', 'PGF', 'PGF',\n",
    "                'PGR', 'PHLDA2', 'PIK3CA', 'PIK3R1', 'PIP', 'PKN1', 'PMS1', 'POSTN', 'PRKD2', 'PRR4', 'PTEN', 'PTK6', 'PTPRH', \n",
    "                'RACGAP1', 'RAD17', 'RAD51C', 'RB1', 'RDH12', 'RNF213', 'ROR1', 'RYR1', 'S100A16', 'SDS', 'SELL', 'SERPINA9', \n",
    "                'SNAI1', 'SNRNP200', 'SOD3', 'SPARCL1', 'SPTA1', 'SRC', 'SRD5A2', 'SREBF1', 'SRSF1', 'STAT1','STAT2', \n",
    "                'STAT3', 'STAT5A', 'SYNE1', 'TACSTD2', 'TAT', 'TBC1D1', 'TBC1D22B', 'TBC1D31', 'TBC1D7', 'TFF1', 'TGFB1', \n",
    "                'TGFB2', 'TGFB3', 'TH', 'THBD', 'TIGIT', 'TOP1', 'TOP2A', 'TP53', 'TRAP1', 'TRIM29', 'TTN', 'TYMS', 'UBE2C', \n",
    "                'USP6NL', 'VAV3', 'VEGFA', 'VEGFB', 'VEGFC', 'VEGFD', 'VIM', 'VRK1', 'VTCN1','VWF', 'WNT16', 'WTAP', 'XBP1', \n",
    "                 'XCL1', 'XCL2', 'YES1', 'YOD1' ]"
   ]
  },
  {
   "cell_type": "markdown",
   "id": "c741a8f1-699b-4e05-a748-1a669bf8fc6d",
   "metadata": {},
   "source": [
    "### Dataset split: training and test data"
   ]
  },
  {
   "cell_type": "code",
   "execution_count": 91,
   "id": "198f64ef-27fd-4559-8e50-9cb8e25d9253",
   "metadata": {},
   "outputs": [
    {
     "name": "stdout",
     "output_type": "stream",
     "text": [
      "X_train.shape=(781, 284)\n",
      "X_test.shape=(196, 284)\n",
      "y_train.shape=(781,)\n",
      "y_test.shape=(196,)\n",
      "\n",
      "Applied Smote\n",
      "X_train.shape=(1379, 284)\n",
      "X_test.shape=(345, 284)\n",
      "y_train.shape=(1379,)\n",
      "y_test.shape=(345,)\n"
     ]
    }
   ],
   "source": [
    "X, y, X_train, X_test, y_train, y_test, test_case_ids = split_data(df[features+constTargetAndMetadata], \"tnbc\", True)\n",
    "print(\"\\nApplied Smote\")\n",
    "X_smote, y_smote, X_train_smote, X_test_smote, y_train_smote, y_test_smote, test_case_ids_smote = split_data_apply_smote(df[features+constTargetAndMetadata], \"tnbc\")"
   ]
  },
  {
   "cell_type": "markdown",
   "id": "a216a84d-fefb-4e91-9ef2-2cfb740e9b80",
   "metadata": {},
   "source": [
    "# Apply kBestANOVA"
   ]
  },
  {
   "cell_type": "code",
   "execution_count": 92,
   "id": "43f00d93-2147-4353-a9d0-8880f5c597d4",
   "metadata": {},
   "outputs": [],
   "source": [
    "# Source: Artificial Intelligence with Python, 2nd edition. Packt Publishing Ltd, ISBN 978-1-83921-953-5.\n",
    "# p. 72\n",
    "# https://scikit-learn.org/stable/modules/generated/sklearn.feature_selection.f_classif.html#sklearn.feature_selection.f_classif\n",
    "# https://scikit-learn.org/stable/modules/generated/sklearn.feature_selection.VarianceThreshold.html#sklearn.feature_selection.VarianceThreshold\n",
    "from sklearn.feature_selection import VarianceThreshold # To mitigate 'Features are constant'\n",
    "from sklearn.feature_selection import SelectKBest\n",
    "from sklearn.feature_selection import f_classif # ANOVA\n",
    "import numpy as np"
   ]
  },
  {
   "cell_type": "markdown",
   "id": "8a8f1a3a-6de5-4946-b4e5-6097860f18ed",
   "metadata": {},
   "source": [
    "### train n = 781, max features (n/p>5) = 156"
   ]
  },
  {
   "cell_type": "code",
   "execution_count": 93,
   "id": "84f9dc17-43c1-494f-9a92-c9d57eb16199",
   "metadata": {},
   "outputs": [
    {
     "name": "stdout",
     "output_type": "stream",
     "text": [
      "ANOVA - Start\n",
      "ANOVA - End\n"
     ]
    }
   ],
   "source": [
    "# https://scikit-learn.org/stable/modules/generated/sklearn.ensemble.ExtraTreesClassifier.html#extratreesclassifier\n",
    "kbANOVA = SelectKBest(score_func=f_classif, k=156)\n",
    "\n",
    "# find all relevant features\n",
    "print(f'ANOVA - Start')\n",
    "outputKbANOVA = kbANOVA.fit(X_train, y_train)\n",
    "print(f'ANOVA - End')"
   ]
  },
  {
   "cell_type": "markdown",
   "id": "69043c88-a159-4aeb-a224-fb3c121ba875",
   "metadata": {},
   "source": [
    "# Apply kBestANOVA SMOTE\n",
    "### SMOTE train n = 1379, max features (n/p>5) = 275"
   ]
  },
  {
   "cell_type": "code",
   "execution_count": 94,
   "id": "6637907e-5186-4ef7-9b0e-fa7628b47d19",
   "metadata": {},
   "outputs": [
    {
     "name": "stdout",
     "output_type": "stream",
     "text": [
      "ANOVA - SMOTE - Start\n",
      "ANOVA - SMOTE - End\n"
     ]
    }
   ],
   "source": [
    "# https://scikit-learn.org/stable/modules/generated/sklearn.ensemble.ExtraTreesClassifier.html#extratreesclassifier\n",
    "kbANOVA_smote = SelectKBest(score_func=f_classif, k=275)\n",
    "\n",
    "# find all relevant features\n",
    "print(f'ANOVA - SMOTE - Start')\n",
    "outputKbANOVA_smote = kbANOVA_smote.fit(X_train_smote, y_train_smote)\n",
    "print(f'ANOVA - SMOTE - End')"
   ]
  },
  {
   "cell_type": "markdown",
   "id": "9be5fd65-4f86-4c23-be9b-9039f89e7b24",
   "metadata": {},
   "source": [
    "# Visualize classifier output SMOTE and nSMOTE"
   ]
  },
  {
   "cell_type": "code",
   "execution_count": 95,
   "id": "ab5b48be-9384-4aec-bb4f-1eb3e71d9dc5",
   "metadata": {},
   "outputs": [],
   "source": [
    "# Features into outputset\n",
    "dfscores = pd.DataFrame(outputKbANOVA.scores_)\n",
    "dfcolumns = pd.DataFrame(X_train.columns)\n",
    "scores = pd.concat([dfcolumns, dfscores], axis=1)\n",
    "scores.columns = ['specs', 'score']\n",
    "\n",
    "dfscores_smote = pd.DataFrame(outputKbANOVA_smote.scores_)\n",
    "dfcolumns_smote = pd.DataFrame(X_train_smote.columns)\n",
    "scores_smote = pd.concat([dfcolumns_smote, dfscores_smote], axis=1)\n",
    "scores_smote.columns = ['specs', 'score']"
   ]
  },
  {
   "cell_type": "code",
   "execution_count": 96,
   "id": "a7b1a79e-0990-4834-b2db-7b5b89b9a02b",
   "metadata": {},
   "outputs": [
    {
     "data": {
      "image/png": "[encoded data removed]",
      "text/plain": [
       "<Figure size 640x480 with 1 Axes>"
      ]
     },
     "metadata": {},
     "output_type": "display_data"
    },
    {
     "data": {
      "image/png": "[encoded data removed]",
      "text/plain": [
       "<Figure size 640x480 with 1 Axes>"
      ]
     },
     "metadata": {},
     "output_type": "display_data"
    }
   ],
   "source": [
    "import matplotlib.pyplot as plt\n",
    "\n",
    "plt.hist(scores['score'], bins=30, color='blue', edgecolor='black', alpha=0.7)\n",
    "\n",
    "plt.title('ANOVA - Regular')\n",
    "plt.xlabel('Value')\n",
    "plt.yscale('log')\n",
    "plt.ylabel('Frequency (log)')\n",
    "plt.show()\n",
    "\n",
    "plt.hist(scores_smote['score'], bins=30, color='blue', edgecolor='black', alpha=0.7)\n",
    "plt.title('ANOVA - SMOTE')\n",
    "plt.xlabel('Value')\n",
    "plt.yscale('log')\n",
    "plt.ylabel('Frequency (log)')\n",
    "plt.show()"
   ]
  },
  {
   "cell_type": "markdown",
   "id": "2adbe4c8-7f4a-4760-9048-8fedf6039361",
   "metadata": {},
   "source": [
    "# Convert Q1 kBestANOVA output to Features Lists (SMOTE and nSMOTE)"
   ]
  },
  {
   "cell_type": "code",
   "execution_count": 103,
   "id": "fa22895b-a6ad-4624-9fc7-39ae87255207",
   "metadata": {},
   "outputs": [
    {
     "name": "stdout",
     "output_type": "stream",
     "text": [
      "Featurelist nSMOTE: 71\n",
      "Featurelist SMOTE: 71\n"
     ]
    }
   ],
   "source": [
    "# From documentation:\n",
    "# The higher, the more important the feature. \n",
    "# The importance of a feature is computed as the (normalized) total reduction of the criterion brought by that feature.\n",
    "# It is also known as the Gini importance.\n",
    "\n",
    "scores_q      , scores_q_i       = pd.qcut(x=scores['score'], q=4, retbins=True)\n",
    "scores_smote_q, scores_smote_q_i = pd.qcut(x=scores_smote['score'], q=4, retbins=True)\n",
    "\n",
    "scores_q4       = scores[scores['score'] >= scores_q_i[3]]\n",
    "scores_smote_q4 = scores_smote[scores_smote['score'] >= scores_smote_q_i[3]]\n",
    "\n",
    "featureList = scores_q4['specs'].tolist()\n",
    "smoteFeatureList = scores_smote_q4['specs'].tolist()\n",
    "\n",
    "print('Featurelist nSMOTE: '+ str(len(featureList)))\n",
    "print('Featurelist SMOTE: ' + str(len(smoteFeatureList)))"
   ]
  },
  {
   "cell_type": "markdown",
   "id": "0760de05-3376-4e85-9ae4-1fce4e27ae80",
   "metadata": {},
   "source": [
    "# Send dataframe to a csv"
   ]
  },
  {
   "cell_type": "code",
   "execution_count": 102,
   "id": "ae1fc9b7-86fd-4f17-a896-4f62fe467f17",
   "metadata": {},
   "outputs": [],
   "source": [
    "df[featureList+constTargetAndMetadata].to_csv(f'../Data/patient_genes_{variant}.csv', index=False)\n",
    "df[smoteFeatureList+constTargetAndMetadata].to_csv(f'../Data/patient_genes_{variant}_smote.csv', index=False)"
   ]
  },
  {
   "cell_type": "code",
   "execution_count": null,
   "id": "04dd4302-f298-443c-b7ad-7f9318257a16",
   "metadata": {},
   "outputs": [],
   "source": []
  }
 ],
 "metadata": {
  "kernelspec": {
   "display_name": "Python 3 (ipykernel)",
   "language": "python",
   "name": "python3"
  },
  "language_info": {
   "codemirror_mode": {
    "name": "ipython",
    "version": 3
   },
   "file_extension": ".py",
   "mimetype": "text/x-python",
   "name": "python",
   "nbconvert_exporter": "python",
   "pygments_lexer": "ipython3",
   "version": "3.12.3"
  }
 },
 "nbformat": 4,
 "nbformat_minor": 5
}
