{
 "cells": [
  {
   "cell_type": "markdown",
   "id": "b0aa6386-e1b7-4713-9a39-0761db2bd0e4",
   "metadata": {},
   "source": [
    "# Extract genes based on research, featureset 4, applying kBestANOVA"
   ]
  },
  {
   "cell_type": "code",
   "execution_count": 37,
   "id": "073c318d",
   "metadata": {},
   "outputs": [
    {
     "data": {
      "text/html": [
       "<div>\n",
       "<style scoped>\n",
       "    .dataframe tbody tr th:only-of-type {\n",
       "        vertical-align: middle;\n",
       "    }\n",
       "\n",
       "    .dataframe tbody tr th {\n",
       "        vertical-align: top;\n",
       "    }\n",
       "\n",
       "    .dataframe thead th {\n",
       "        text-align: right;\n",
       "    }\n",
       "</style>\n",
       "<table border=\"1\" class=\"dataframe\">\n",
       "  <thead>\n",
       "    <tr style=\"text-align: right;\">\n",
       "      <th></th>\n",
       "      <th>file</th>\n",
       "      <th>tnbc</th>\n",
       "      <th>bcr_patient_uuid</th>\n",
       "    </tr>\n",
       "  </thead>\n",
       "  <tbody>\n",
       "    <tr>\n",
       "      <th>0</th>\n",
       "      <td>84225715-14a6-423c-a6d6-15558e151f56\\253aa5dc-...</td>\n",
       "      <td>False</td>\n",
       "      <td>6E7D5EC6-A469-467C-B748-237353C23416</td>\n",
       "    </tr>\n",
       "    <tr>\n",
       "      <th>1</th>\n",
       "      <td>927604f9-a38e-4c3f-b50f-3e0db4daf5ec\\1be6a56c-...</td>\n",
       "      <td>False</td>\n",
       "      <td>55262FCB-1B01-4480-B322-36570430C917</td>\n",
       "    </tr>\n",
       "    <tr>\n",
       "      <th>2</th>\n",
       "      <td>931442ba-af81-4b68-beca-7285fc44b1df\\f2dda955-...</td>\n",
       "      <td>False</td>\n",
       "      <td>427D0648-3F77-4FFC-B52C-89855426D647</td>\n",
       "    </tr>\n",
       "    <tr>\n",
       "      <th>3</th>\n",
       "      <td>7b4d770a-2b8c-4ca5-bf51-c4745c5de39a\\ae8996bd-...</td>\n",
       "      <td>False</td>\n",
       "      <td>C31900A4-5DCD-4022-97AC-638E86E889E4</td>\n",
       "    </tr>\n",
       "    <tr>\n",
       "      <th>4</th>\n",
       "      <td>307261f2-f88f-4658-b6d1-98ef946148e2\\75d91076-...</td>\n",
       "      <td>False</td>\n",
       "      <td>6623FC5E-00BE-4476-967A-CBD55F676EA6</td>\n",
       "    </tr>\n",
       "    <tr>\n",
       "      <th>...</th>\n",
       "      <td>...</td>\n",
       "      <td>...</td>\n",
       "      <td>...</td>\n",
       "    </tr>\n",
       "    <tr>\n",
       "      <th>972</th>\n",
       "      <td>0a7dc8b9-4196-41d3-ada1-a50cb36bfd2b\\3c9c665e-...</td>\n",
       "      <td>False</td>\n",
       "      <td>5CD79093-1571-4F71-8136-0D84CCABDCAC</td>\n",
       "    </tr>\n",
       "    <tr>\n",
       "      <th>973</th>\n",
       "      <td>e0cb738d-854a-4033-b370-79fa28d7cef8\\69118aea-...</td>\n",
       "      <td>False</td>\n",
       "      <td>F89588E9-CA73-4465-A7FB-7246EDB45E3A</td>\n",
       "    </tr>\n",
       "    <tr>\n",
       "      <th>974</th>\n",
       "      <td>e25bb12b-f88b-41c5-951e-a36d4b94008f\\73e13f2d-...</td>\n",
       "      <td>False</td>\n",
       "      <td>CA20249F-B7EA-4FD9-9ECB-34F74755AE35</td>\n",
       "    </tr>\n",
       "    <tr>\n",
       "      <th>975</th>\n",
       "      <td>ee447251-5c90-426f-a0c7-bd2041189761\\06a03e45-...</td>\n",
       "      <td>False</td>\n",
       "      <td>23F438BD-1DBB-4D46-972F-1E8E74DDBD37</td>\n",
       "    </tr>\n",
       "    <tr>\n",
       "      <th>976</th>\n",
       "      <td>404cea41-efa9-44c0-84a1-5dd603d7a2a4\\69ed2c6f-...</td>\n",
       "      <td>False</td>\n",
       "      <td>B1D44C81-747D-471F-9093-AEB262A17975</td>\n",
       "    </tr>\n",
       "  </tbody>\n",
       "</table>\n",
       "<p>977 rows × 3 columns</p>\n",
       "</div>"
      ],
      "text/plain": [
       "                                                  file   tnbc  \\\n",
       "0    84225715-14a6-423c-a6d6-15558e151f56\\253aa5dc-...  False   \n",
       "1    927604f9-a38e-4c3f-b50f-3e0db4daf5ec\\1be6a56c-...  False   \n",
       "2    931442ba-af81-4b68-beca-7285fc44b1df\\f2dda955-...  False   \n",
       "3    7b4d770a-2b8c-4ca5-bf51-c4745c5de39a\\ae8996bd-...  False   \n",
       "4    307261f2-f88f-4658-b6d1-98ef946148e2\\75d91076-...  False   \n",
       "..                                                 ...    ...   \n",
       "972  0a7dc8b9-4196-41d3-ada1-a50cb36bfd2b\\3c9c665e-...  False   \n",
       "973  e0cb738d-854a-4033-b370-79fa28d7cef8\\69118aea-...  False   \n",
       "974  e25bb12b-f88b-41c5-951e-a36d4b94008f\\73e13f2d-...  False   \n",
       "975  ee447251-5c90-426f-a0c7-bd2041189761\\06a03e45-...  False   \n",
       "976  404cea41-efa9-44c0-84a1-5dd603d7a2a4\\69ed2c6f-...  False   \n",
       "\n",
       "                         bcr_patient_uuid  \n",
       "0    6E7D5EC6-A469-467C-B748-237353C23416  \n",
       "1    55262FCB-1B01-4480-B322-36570430C917  \n",
       "2    427D0648-3F77-4FFC-B52C-89855426D647  \n",
       "3    C31900A4-5DCD-4022-97AC-638E86E889E4  \n",
       "4    6623FC5E-00BE-4476-967A-CBD55F676EA6  \n",
       "..                                    ...  \n",
       "972  5CD79093-1571-4F71-8136-0D84CCABDCAC  \n",
       "973  F89588E9-CA73-4465-A7FB-7246EDB45E3A  \n",
       "974  CA20249F-B7EA-4FD9-9ECB-34F74755AE35  \n",
       "975  23F438BD-1DBB-4D46-972F-1E8E74DDBD37  \n",
       "976  B1D44C81-747D-471F-9093-AEB262A17975  \n",
       "\n",
       "[977 rows x 3 columns]"
      ]
     },
     "execution_count": 37,
     "metadata": {},
     "output_type": "execute_result"
    }
   ],
   "source": [
    "import pandas as pd\n",
    "\n",
    "variant = 'research_kBestANOVA'\n",
    "targetGenes = [ 'A2M', 'ABCA1',  'ACKR1', 'ACSL3', 'ACTG2', 'ADH1B', 'ADH1C', 'AHR', 'AK5', 'AKT1', 'AKT2', 'AKT3', \n",
    "                'ALDH1A1', 'ALOX12B', 'AOC3', 'APOE', 'AR', 'ARID1B', 'ARNT', 'ASAH1', 'ASPSCR1', 'ASXL1', \n",
    "                'ASXL2', 'ASXL3', 'ATM', 'BCL9', 'BIRC3', 'BIRC6', 'BRCA1', 'BRCA2', 'BRD4', 'BTN3A1', 'CANT1', 'CCL4', \n",
    "                'CCND1', 'CCNE1', 'CCNT1', 'CD14', 'CTLA4', 'CD163', 'CD19', 'CD1A', 'CD1B', 'CD1C', 'CD1D', 'CD1E', 'CD24', \n",
    "                'CD27', 'CD274', 'CD276', 'CD3D', 'CD4', 'CD44', 'CD68', 'CD79A', 'CD86', 'CD8A', 'CD8B', 'CDH1', \n",
    "                'CDH2', 'CDH3', 'CDH5', 'CDK1', 'CDK2', 'CDK4', 'CDK6', 'CDKN1B', 'CDKN2A', 'CDKN2B', 'CEACAM7', 'CHAD',\n",
    "                'CHEK2', 'CKB', 'CLEC3A', 'COL1A1', 'COL1A2', 'COPZ2', 'COX7A1', 'CREBBP', 'CRYAB', 'CSF2RB', 'CSMD3', 'CTLA4',\n",
    "                'CTSD', 'CX3CR1', 'CXCL8', 'CXCR2', 'CXCR4', 'CYP1A1', 'DCLK1', 'DDR2', 'DDX3X', 'DEFB132', 'DNAH7', 'DNMT1', \n",
    "                'DNMT3A', 'DOCK11', 'DST', 'EDNRB', 'EGFR', 'EPCAM', 'ERBB2', 'ESR1', 'ESR2', 'EZH2', 'FAT1', 'FBXW7',\n",
    "                'FCGR2B', 'FGA', 'FGB', 'FGFR1', 'FGFR2', 'FGFR4', 'FGG', 'FOXA1', 'FOXC1', 'FOXP3', 'FYN', 'GAS1', 'GATA3',\n",
    "                'GIMAP7', 'GJA1', 'GJA4', 'GLDC', 'GNG11', 'GNLY', 'GPLD1', 'GPX4', 'GSTA2', 'GZMB', 'GZMB', 'HCLS1', 'HLA-E',\n",
    "                'HSP90AA1', 'HSP90AB1', 'HSP90B1', 'HSPA5', 'ID4', 'IDO1', 'IFNG', 'IGF1', 'IL18', 'IL2RA', 'IL2RB',\n",
    "                'IL2RG', 'IL6', 'IL7R', 'INMT', 'INPP4B', 'ITGAX', 'JCHAIN', 'KIT', 'KMT2D', 'KRT13', 'KRT14', 'KRT15', 'KRT18', \n",
    "                'KRT36', 'KRT43P', 'KRT5', 'KRT6A', 'KRT6B', 'KRT8', 'LAG3', 'LAMA2', 'LAMC2', 'LCP2', 'LMNA', 'LPA', 'LRPPRC', \n",
    "                'MALAT1', 'MAOA', 'MAP2K4', 'MAP3K1', 'MDGA2', 'MDM2', 'MET', 'MKI67', 'MS4A1', 'MSLN', 'MTOR', 'MUC1', 'MUC16', \n",
    "                'MYB', 'MYC', 'NF1', 'NKG7', 'NME1', 'NOP16', 'NOTCH1', 'NOTCH2', 'NOTCH3', 'NOTCH4', 'NPR1', 'OBSCN', 'OGN',\n",
    "                'OLAH', 'P4HA3', 'PALB2', 'PCDH15', 'PCK1', 'PDCD1', 'PDCD1LG2', 'PDE2A', 'PDGFRA', 'PDGFRB', 'PECAM1', 'PGF',\n",
    "                'PGF', 'PGR', 'PHLDA2', 'PIK3CA', 'PIK3R1', 'PIP', 'PKN1', 'PMS1', 'POSTN', 'PRKD2', 'PRR4', 'PTEN', 'PTK6', \n",
    "                'PTPRH', 'RACGAP1', 'RAD17', 'RAD51C', 'RB1', 'RDH12', 'RNF213', 'ROR1', 'RYR1', 'S100A16', 'SDS', 'SELL', \n",
    "                'SERPINA9', 'SNAI1', 'SNRNP200', 'SOD3', 'SPARCL1', 'SPTA1', 'SRC', 'SRD5A2', 'SREBF1', 'SRSF1', 'STAT1',\n",
    "                'STAT2', 'STAT3', 'STAT5A', 'SYNE1', 'TACSTD2', 'TAT', 'TBC1D1', 'TBC1D22B', 'TBC1D31', 'TBC1D7', 'TFF1', \n",
    "                'TGFB1', 'TGFB2', 'TGFB3', 'TH', 'THBD', 'TIGIT', 'TOP1', 'TOP2A', 'TP53', 'TRAP1', 'TRDC', 'TRGC1', 'TRGC2',\n",
    "                'TRIM29', 'TTN', 'TYMS', 'UBE2C', 'USP6NL', 'VAV3', 'VEGFA', 'VEGFB', 'VEGFC', 'VEGFD', 'VIM', 'VRK1', 'VTCN1',\n",
    "                'VWF', 'WNT16', 'WTAP', 'XBP1', 'XCL1', 'XCL2', 'YES1', 'YOD1' ]\n",
    "df = pd.read_csv('../Data/clinical.csv')\n",
    "geneFiles = df[['file', 'tnbc', 'bcr_patient_uuid']]\n",
    "\n",
    "geneFiles"
   ]
  },
  {
   "cell_type": "markdown",
   "id": "a0f3b240-ab62-4668-8bd8-5b13daa9fd32",
   "metadata": {},
   "source": [
    "# Iterate over files and collect gene data"
   ]
  },
  {
   "cell_type": "code",
   "execution_count": 2,
   "id": "83af0bd8",
   "metadata": {},
   "outputs": [
    {
     "name": "stdout",
     "output_type": "stream",
     "text": [
      "File 977/977 - 404cea41-efa9-44c0-84a1-5dd603d7a2a4\\69ed2c6f-9495-475c-b8d6-c1db8f4b0537.rna_seq.augmented_star_gene_counts.tsv\r"
     ]
    }
   ],
   "source": [
    "dfPatientGenes = pd.DataFrame()\n",
    "total_files = len(geneFiles)\n",
    "for idx, row in geneFiles.iterrows():\n",
    "    file_name = row.iloc[0]\n",
    "    file_path = f\"../Data/{file_name}\"\n",
    "    \n",
    "    print(f\"File {idx+1}/{total_files} - {file_name}\", end=\"\\r\")\n",
    "    \n",
    "    dfGenes = pd.read_csv(file_path, sep='\\t', skiprows=[0])\n",
    "    \n",
    "    # Columns may have been dropped if first line in file were columns, load data again without dropping first line\n",
    "    if \"gene_name\" not in dfGenes.columns:\n",
    "        dfGenes = pd.read_csv(file_path, sep='\\t')\n",
    "    \n",
    "    #dfGenes\n",
    "    \n",
    "    # Gather all targeted genes we want with the values we want\n",
    "    dfTarget = dfGenes[dfGenes['gene_name'].isin(targetGenes)][['gene_name', 'stranded_first']]\n",
    "\n",
    "    # Transform the dfTarget to a single row dataframe with all genes as columns\n",
    "    dfNewGenes = dfTarget.set_index('gene_name').T.reset_index(drop=True)\n",
    "\n",
    "    # Add tnbc status\n",
    "    dfNewGenes[\"tnbc\"] = df[\"tnbc\"].loc[df['file'] == file_name].values\n",
    "\n",
    "    # Add the patient uuid for reference and set it as the index\n",
    "    patientID = df['bcr_patient_uuid'].loc[df['file'] == file_name]\n",
    "    dfNewGenes['case_id'] = patientID.values\n",
    "    \n",
    "    # Concat the data to the final dataframe before saving it to a file\n",
    "    dfPatientGenes = pd.concat([dfPatientGenes, dfNewGenes])"
   ]
  },
  {
   "cell_type": "markdown",
   "id": "e1d2c110-a8d5-48b3-b62c-fb2b9c94f4a8",
   "metadata": {},
   "source": [
    "# Scale data"
   ]
  },
  {
   "cell_type": "code",
   "execution_count": 3,
   "id": "e174e82f-8bd3-43eb-8a46-d991bef77bf8",
   "metadata": {},
   "outputs": [
    {
     "name": "stdout",
     "output_type": "stream",
     "text": [
      "Data scaled\n"
     ]
    }
   ],
   "source": [
    "from sklearn.preprocessing import StandardScaler\n",
    "scaler = StandardScaler()\n",
    "dfPatientGenes[targetGenes] = scaler.fit_transform(dfPatientGenes[targetGenes])\n",
    "print('Data scaled')"
   ]
  },
  {
   "cell_type": "markdown",
   "id": "df2cf8ce-b869-49b3-8b4f-f59f49635fec",
   "metadata": {},
   "source": [
    "# Import functions to assess data"
   ]
  },
  {
   "cell_type": "code",
   "execution_count": 4,
   "id": "ce41e68d-21d7-4d49-9b2e-7e61ec6b9521",
   "metadata": {},
   "outputs": [],
   "source": [
    "%run \"..\\Model\\DataHelpers.ipynb\""
   ]
  },
  {
   "cell_type": "markdown",
   "id": "c741a8f1-699b-4e05-a748-1a669bf8fc6d",
   "metadata": {},
   "source": [
    "### Dataset split: training and test data"
   ]
  },
  {
   "cell_type": "code",
   "execution_count": 5,
   "id": "198f64ef-27fd-4559-8e50-9cb8e25d9253",
   "metadata": {},
   "outputs": [
    {
     "name": "stdout",
     "output_type": "stream",
     "text": [
      "X_train.shape=(781, 286)\n",
      "X_test.shape=(196, 286)\n",
      "y_train.shape=(781,)\n",
      "y_test.shape=(196,)\n",
      "\n",
      "Applied Smote\n",
      "X_train.shape=(1379, 286)\n",
      "X_test.shape=(345, 286)\n",
      "y_train.shape=(1379,)\n",
      "y_test.shape=(345,)\n"
     ]
    }
   ],
   "source": [
    "X, y, X_train, X_test, y_train, y_test, test_case_ids = split_data(dfPatientGenes, \"tnbc\", True)\n",
    "print(\"\\nApplied Smote\")\n",
    "X_smote, y_smote, X_train_smote, X_test_smote, y_train_smote, y_test_smote, test_case_ids_smote = split_data_apply_smote(dfPatientGenes, \"tnbc\")"
   ]
  },
  {
   "cell_type": "markdown",
   "id": "a216a84d-fefb-4e91-9ef2-2cfb740e9b80",
   "metadata": {},
   "source": [
    "# Apply kBestANOVA\n",
    "### train n = 781, max features (n/p>5) = 156"
   ]
  },
  {
   "cell_type": "code",
   "execution_count": 34,
   "id": "84f9dc17-43c1-494f-9a92-c9d57eb16199",
   "metadata": {},
   "outputs": [],
   "source": [
    "# Source: Artificial Intelligence with Python, 2nd edition. Packt Publishing Ltd, ISBN 978-1-83921-953-5.\n",
    "# p. 72\n",
    "# https://scikit-learn.org/stable/modules/generated/sklearn.feature_selection.f_classif.html#sklearn.feature_selection.f_classif\n",
    "from sklearn.feature_selection import SelectKBest\n",
    "from sklearn.feature_selection import f_classif # ANOVA\n",
    "import numpy as np\n",
    "\n",
    "# https://scikit-learn.org/stable/modules/generated/sklearn.ensemble.ExtraTreesClassifier.html#extratreesclassifier\n",
    "kbANOVA = SelectKBest(score_func=f_classif, k=156)\n",
    "\n",
    "# find all relevant features\n",
    "outputKbANOVA = kbANOVA.fit(X_train, y_train)"
   ]
  },
  {
   "cell_type": "markdown",
   "id": "69043c88-a159-4aeb-a224-fb3c121ba875",
   "metadata": {},
   "source": [
    "# Apply kBestANOVA SMOTE\n",
    "### SMOTE train n = 1379, max features (n/p>5) = 275"
   ]
  },
  {
   "cell_type": "code",
   "execution_count": 42,
   "id": "6637907e-5186-4ef7-9b0e-fa7628b47d19",
   "metadata": {},
   "outputs": [],
   "source": [
    "# Source: Artificial Intelligence with Python, 2nd edition. Packt Publishing Ltd, ISBN 978-1-83921-953-5.\n",
    "# p. 72\n",
    "# https://scikit-learn.org/stable/modules/generated/sklearn.feature_selection.f_classif.html#sklearn.feature_selection.f_classif\n",
    "from sklearn.feature_selection import SelectKBest\n",
    "from sklearn.feature_selection import f_classif # ANOVA\n",
    "import numpy as np\n",
    "\n",
    "# https://scikit-learn.org/stable/modules/generated/sklearn.ensemble.ExtraTreesClassifier.html#extratreesclassifier\n",
    "kbANOVA_smote = SelectKBest(score_func=f_classif, k=275)\n",
    "\n",
    "# find all relevant features\n",
    "outputKbANOVA_smote = kbANOVA_smote.fit(X_train_smote, y_train_smote)"
   ]
  },
  {
   "cell_type": "markdown",
   "id": "9be5fd65-4f86-4c23-be9b-9039f89e7b24",
   "metadata": {},
   "source": [
    "# Visualize classifier output SMOTE and nSMOTE\n",
    "### To assess cutoff point"
   ]
  },
  {
   "cell_type": "code",
   "execution_count": 43,
   "id": "c7b1cfc0-4df1-4751-955c-066e04aad0c9",
   "metadata": {},
   "outputs": [
    {
     "name": "stdout",
     "output_type": "stream",
     "text": [
      "       specs      score\n",
      "0      WNT16   0.139489\n",
      "1      COPZ2   6.058787\n",
      "2     CREBBP   5.108009\n",
      "3    CEACAM7   2.431141\n",
      "4        CD4  17.524818\n",
      "..       ...        ...\n",
      "281   MALAT1   1.827706\n",
      "282   PECAM1   2.923889\n",
      "283     CD24   5.171777\n",
      "284     CCL4  38.957347\n",
      "285   SRD5A2  11.467517\n",
      "\n",
      "[286 rows x 2 columns]\n",
      "specs          YOD1\n",
      "score    346.823021\n",
      "dtype: object\n",
      "specs         A2M\n",
      "score    0.000071\n",
      "dtype: object\n"
     ]
    },
    {
     "data": {
      "image/png": "[encoded data removed]",
      "text/plain": [
       "<Figure size 640x480 with 1 Axes>"
      ]
     },
     "metadata": {},
     "output_type": "display_data"
    },
    {
     "name": "stdout",
     "output_type": "stream",
     "text": [
      "       specs      score\n",
      "0      WNT16   0.139489\n",
      "1      COPZ2   6.058787\n",
      "2     CREBBP   5.108009\n",
      "3    CEACAM7   2.431141\n",
      "4        CD4  17.524818\n",
      "..       ...        ...\n",
      "281   MALAT1   1.827706\n",
      "282   PECAM1   2.923889\n",
      "283     CD24   5.171777\n",
      "284     CCL4  38.957347\n",
      "285   SRD5A2  11.467517\n",
      "\n",
      "[286 rows x 2 columns]\n",
      "specs          YOD1\n",
      "score    346.823021\n",
      "dtype: object\n",
      "specs         A2M\n",
      "score    0.000071\n",
      "dtype: object\n"
     ]
    },
    {
     "data": {
      "image/png": "[encoded data removed]",
      "text/plain": [
       "<Figure size 640x480 with 1 Axes>"
      ]
     },
     "metadata": {},
     "output_type": "display_data"
    }
   ],
   "source": [
    "## Source: Artificial Intelligence with Python, 2nd edition. Packt Publishing Ltd, ISBN 978-1-83921-953-5.\n",
    "# p. 70-72\n",
    "import matplotlib.pyplot as plt\n",
    "# Features into outputset\n",
    "dfscores = pd.DataFrame(outputKbANOVA.scores_)\n",
    "dfcolumns = pd.DataFrame(X_train.columns)\n",
    "scores = pd.concat([dfcolumns, dfscores], axis=1)\n",
    "scores.columns = ['specs', 'score']\n",
    "\n",
    "dfscores_smote = pd.DataFrame(outputKbANOVA.scores_)\n",
    "dfcolumns_smote = pd.DataFrame(X_train_smote.columns)\n",
    "scores_smote = pd.concat([dfcolumns_smote, dfscores_smote], axis=1)\n",
    "scores_smote.columns = ['specs', 'score']\n",
    "\n",
    "\n",
    "print(scores)\n",
    "print(scores.max())\n",
    "print(scores.min())\n",
    "\n",
    "scores.plot(kind='hist')\n",
    "plt.show()\n",
    "\n",
    "print(scores_smote)\n",
    "print(scores_smote.max())\n",
    "print(scores_smote.min())\n",
    "\n",
    "scores_smote.plot(kind='hist')\n",
    "plt.show()"
   ]
  },
  {
   "cell_type": "markdown",
   "id": "2adbe4c8-7f4a-4760-9048-8fedf6039361",
   "metadata": {},
   "source": [
    "# Convert kBestANOVA output to Features Lists (SMOTE and nSMOTE)"
   ]
  },
  {
   "cell_type": "code",
   "execution_count": 44,
   "id": "fa22895b-a6ad-4624-9fc7-39ae87255207",
   "metadata": {},
   "outputs": [],
   "source": [
    "# From documentation:\n",
    "# The higher, the more important the feature. \n",
    "# The importance of a feature is computed as the (normalized) total reduction of the criterion brought by that feature.\n",
    "# It is also known as the Gini importance.\n",
    "\n",
    "# Given histograms above, 50 is the cutoff\n",
    "\n",
    "smoteFeatureList = scores_smote[scores_smote['score'] >= 50]['specs'].tolist()\n",
    "featureList = scores[scores['score'] >= 50]['specs'].tolist()\n",
    "\n",
    "smoteFeatureList.append('tnbc')\n",
    "smoteFeatureList.append('case_id')\n",
    "\n",
    "featureList.append('tnbc')\n",
    "featureList.append('case_id')"
   ]
  },
  {
   "cell_type": "markdown",
   "id": "0760de05-3376-4e85-9ae4-1fce4e27ae80",
   "metadata": {},
   "source": [
    "# Send dataframe to a csv"
   ]
  },
  {
   "cell_type": "code",
   "execution_count": 45,
   "id": "ae1fc9b7-86fd-4f17-a896-4f62fe467f17",
   "metadata": {},
   "outputs": [],
   "source": [
    "dfPatientGenes[featureList].to_csv(f'../Data/patient_genes_{variant}.csv', index=False)\n",
    "dfPatientGenes[smoteFeatureList].to_csv(f'../Data/patient_genes_{variant}_smote.csv', index=False)"
   ]
  },
  {
   "cell_type": "code",
   "execution_count": null,
   "id": "04dd4302-f298-443c-b7ad-7f9318257a16",
   "metadata": {},
   "outputs": [],
   "source": []
  }
 ],
 "metadata": {
  "kernelspec": {
   "display_name": "Python 3 (ipykernel)",
   "language": "python",
   "name": "python3"
  },
  "language_info": {
   "codemirror_mode": {
    "name": "ipython",
    "version": 3
   },
   "file_extension": ".py",
   "mimetype": "text/x-python",
   "name": "python",
   "nbconvert_exporter": "python",
   "pygments_lexer": "ipython3",
   "version": "3.12.3"
  }
 },
 "nbformat": 4,
 "nbformat_minor": 5
}
