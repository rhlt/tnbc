{
 "cells": [
  {
   "cell_type": "markdown",
   "id": "b0aa6386-e1b7-4713-9a39-0761db2bd0e4",
   "metadata": {},
   "source": [
    "# Extract genes based on research, featureset 4\n",
    "### LASSO"
   ]
  },
  {
   "cell_type": "code",
   "execution_count": 49,
   "id": "073c318d",
   "metadata": {},
   "outputs": [
    {
     "name": "stdout",
     "output_type": "stream",
     "text": [
      "Loading gene data - Start\n",
      "Loading gene data - End\n"
     ]
    }
   ],
   "source": [
    "import pandas as pd\n",
    "%run \"..\\Model\\DataHelpers.ipynb\"\n",
    "\n",
    "print(f'Loading gene data - Start')\n",
    "df = pd.read_csv('../Data/geneDataPreProcessed.csv')\n",
    "print(f'Loading gene data - End')"
   ]
  },
  {
   "cell_type": "code",
   "execution_count": 50,
   "id": "e987aef0-d823-4a82-91d8-ee4d0980e88d",
   "metadata": {},
   "outputs": [],
   "source": [
    "variant = FeatureVariant.LASSO\n",
    "features = [    'A2M', 'ABCA1',  'ACKR1', 'ACSL3', 'ACTG2', 'ADH1B', 'ADH1C', 'AHR', 'AK5', 'AKT1', 'AKT2', 'AKT3', \n",
    "                'ALDH1A1', 'ALOX12B', 'AOC3', 'APOE', 'AR', 'ARID1B', 'ARNT', 'ASAH1', 'ASPSCR1', 'ASXL1', \n",
    "                'ASXL2', 'ASXL3', 'ATM', 'BCL9', 'BIRC3', 'BIRC6', 'BRCA1', 'BRCA2', 'BRD4', 'BTN3A1', 'CANT1', 'CCL4', \n",
    "                'CCND1', 'CCNE1', 'CCNT1', 'CD14', 'CTLA4', 'CD163', 'CD19', 'CD1A', 'CD1B', 'CD1C', 'CD1D', 'CD1E', 'CD24', \n",
    "                'CD27', 'CD274', 'CD276', 'CD3D', 'CD4', 'CD44', 'CD68', 'CD79A', 'CD86', 'CD8A', 'CD8B', 'CDH1', \n",
    "                'CDH2', 'CDH3', 'CDH5', 'CDK1', 'CDK2', 'CDK4', 'CDK6', 'CDKN1B', 'CDKN2A', 'CDKN2B', 'CEACAM7', 'CHAD',\n",
    "                'CHEK2', 'CKB', 'CLEC3A', 'COL1A1', 'COL1A2', 'COPZ2', 'COX7A1', 'CREBBP', 'CRYAB', 'CSF2RB', 'CSMD3', 'CTLA4',\n",
    "                'CTSD', 'CX3CR1', 'CXCL8', 'CXCR2', 'CXCR4', 'CYP1A1', 'DCLK1', 'DDR2', 'DDX3X', 'DEFB132', 'DNAH7', 'DNMT1', \n",
    "                'DNMT3A', 'DOCK11', 'DST', 'EDNRB', 'EGFR', 'EPCAM', 'ERBB2', 'ESR1', 'ESR2', 'EZH2', 'FAT1', 'FBXW7',\n",
    "                'FCGR2B', 'FGA', 'FGB', 'FGFR1', 'FGFR2', 'FGFR4', 'FGG', 'FOXA1', 'FOXC1', 'FOXP3', 'FYN', 'GAS1', 'GATA3',\n",
    "                'GIMAP7', 'GJA1', 'GJA4', 'GLDC', 'GNG11', 'GNLY', 'GPLD1', 'GPX4', 'GSTA2', 'GZMB', 'GZMB', 'HCLS1', 'HLA-E',\n",
    "                'HSP90AA1', 'HSP90AB1', 'HSP90B1', 'HSPA5', 'ID4', 'IDO1', 'IFNG', 'IGF1', 'IL18', 'IL2RA', 'IL2RB',\n",
    "                'IL2RG', 'IL6', 'IL7R', 'INMT', 'INPP4B', 'ITGAX', 'JCHAIN', 'KIT', 'KMT2D', 'KRT13', 'KRT14', 'KRT15', 'KRT18', \n",
    "                'KRT36', 'KRT5', 'KRT6A', 'KRT6B', 'KRT8', 'LAG3', 'LAMA2', 'LAMC2', 'LCP2', 'LMNA', 'LPA', 'LRPPRC', \n",
    "                'MAOA', 'MAP2K4', 'MAP3K1', 'MDGA2', 'MDM2', 'MET', 'MKI67', 'MS4A1', 'MSLN', 'MTOR', 'MUC1', 'MUC16', 'MYB',\n",
    "                'MYC', 'NF1', 'NKG7', 'NME1', 'NOP16', 'NOTCH1', 'NOTCH2', 'NOTCH3', 'NOTCH4', 'NPR1', 'OBSCN', 'OGN', 'OLAH', \n",
    "                'P4HA3', 'PALB2', 'PCDH15', 'PCK1', 'PDCD1', 'PDCD1LG2', 'PDE2A', 'PDGFRA', 'PDGFRB', 'PECAM1', 'PGF', 'PGF',\n",
    "                'PGR', 'PHLDA2', 'PIK3CA', 'PIK3R1', 'PIP', 'PKN1', 'PMS1', 'POSTN', 'PRKD2', 'PRR4', 'PTEN', 'PTK6', 'PTPRH', \n",
    "                'RACGAP1', 'RAD17', 'RAD51C', 'RB1', 'RDH12', 'RNF213', 'ROR1', 'RYR1', 'S100A16', 'SDS', 'SELL', 'SERPINA9', \n",
    "                'SNAI1', 'SNRNP200', 'SOD3', 'SPARCL1', 'SPTA1', 'SRC', 'SRD5A2', 'SREBF1', 'SRSF1', 'STAT1','STAT2', \n",
    "                'STAT3', 'STAT5A', 'SYNE1', 'TACSTD2', 'TAT', 'TBC1D1', 'TBC1D22B', 'TBC1D31', 'TBC1D7', 'TFF1', 'TGFB1', \n",
    "                'TGFB2', 'TGFB3', 'TH', 'THBD', 'TIGIT', 'TOP1', 'TOP2A', 'TP53', 'TRAP1', 'TRIM29', 'TTN', 'TYMS', 'UBE2C', \n",
    "                'USP6NL', 'VAV3', 'VEGFA', 'VEGFB', 'VEGFC', 'VEGFD', 'VIM', 'VRK1', 'VTCN1','VWF', 'WNT16', 'WTAP', 'XBP1', \n",
    "                 'XCL1', 'XCL2', 'YES1', 'YOD1' ]"
   ]
  },
  {
   "cell_type": "markdown",
   "id": "c741a8f1-699b-4e05-a748-1a669bf8fc6d",
   "metadata": {},
   "source": [
    "### Dataset split: training and test data"
   ]
  },
  {
   "cell_type": "code",
   "execution_count": 51,
   "id": "198f64ef-27fd-4559-8e50-9cb8e25d9253",
   "metadata": {},
   "outputs": [
    {
     "name": "stdout",
     "output_type": "stream",
     "text": [
      "X_train.shape=(781, 284)\n",
      "X_test.shape=(196, 284)\n",
      "y_train.shape=(781,)\n",
      "y_test.shape=(196,)\n",
      "\n",
      "Applied Smote\n",
      "X_train.shape=(1379, 284)\n",
      "X_test.shape=(345, 284)\n",
      "y_train.shape=(1379,)\n",
      "y_test.shape=(345,)\n"
     ]
    }
   ],
   "source": [
    "X, y, X_train, X_test, y_train, y_test, test_case_ids = split_data(df[features+constTargetAndMetadata], \"tnbc\", True)\n",
    "print(\"\\nApplied Smote\")\n",
    "X_smote, y_smote, X_train_smote, X_test_smote, y_train_smote, y_test_smote, test_case_ids_smote = split_data_apply_smote(df[features+constTargetAndMetadata], \"tnbc\")"
   ]
  },
  {
   "cell_type": "markdown",
   "id": "a216a84d-fefb-4e91-9ef2-2cfb740e9b80",
   "metadata": {},
   "source": [
    "# Apply LASSO"
   ]
  },
  {
   "cell_type": "code",
   "execution_count": 52,
   "id": "6b57c9a7-ee71-4636-af47-74de3020cabe",
   "metadata": {},
   "outputs": [],
   "source": [
    "from sklearn.linear_model import LassoCV\n",
    "from sklearn.linear_model import Lasso\n",
    "import numpy as np"
   ]
  },
  {
   "cell_type": "markdown",
   "id": "f8db8a14-52b4-431f-851b-da2c83fe8714",
   "metadata": {},
   "source": [
    "### train n = 781, max features (n/p>5) = 156"
   ]
  },
  {
   "cell_type": "code",
   "execution_count": 53,
   "id": "84f9dc17-43c1-494f-9a92-c9d57eb16199",
   "metadata": {},
   "outputs": [
    {
     "name": "stdout",
     "output_type": "stream",
     "text": [
      "LASSO - Start\n",
      "LASSO - End\n"
     ]
    }
   ],
   "source": [
    "# https://scikit-learn.org/stable/modules/generated/sklearn.linear_model.LassoCV.html\n",
    "lasso_cv = LassoCV(cv=5, random_state=RANDOM_STATE, max_iter=50000) \n",
    "lasso_cv.fit(X_train, y_train)\n",
    "\n",
    "best_alpha = lasso_cv.alpha_\n",
    "\n",
    "# https://scikit-learn.org/stable/modules/generated/sklearn.linear_model.Lasso.html\n",
    "feat_selector = Lasso(alpha=best_alpha, random_state=RANDOM_STATE)\n",
    "\n",
    "print(f'LASSO - Start')\n",
    "# find all relevant features\n",
    "feat_selector.fit(X_train, y_train)\n",
    "print(f'LASSO - End')\n",
    "\n",
    "# Features into outputset\n",
    "feat_importances = pd.Series(X_train.columns[feat_selector.coef_ != 0], index=X_train.columns[feat_selector.coef_ != 0])"
   ]
  },
  {
   "cell_type": "markdown",
   "id": "69043c88-a159-4aeb-a224-fb3c121ba875",
   "metadata": {},
   "source": [
    "# Apply LASSO SMOTE\n",
    "### SMOTE train n = 1379, max features (n/p>5) = 275"
   ]
  },
  {
   "cell_type": "code",
   "execution_count": 54,
   "id": "7d6b7a8f-d997-4ff0-9265-61f53d2ac56a",
   "metadata": {},
   "outputs": [
    {
     "name": "stdout",
     "output_type": "stream",
     "text": [
      "LASSO - SMOTE - Start\n",
      "LASSO - SMOTE - End\n"
     ]
    },
    {
     "name": "stderr",
     "output_type": "stream",
     "text": [
      "C:\\Data\\998_Software\\Anaconda\\Lib\\site-packages\\sklearn\\linear_model\\_coordinate_descent.py:697: ConvergenceWarning: Objective did not converge. You might want to increase the number of iterations, check the scale of the features or consider increasing regularisation. Duality gap: 1.157e-01, tolerance: 3.447e-02\n",
      "  model = cd_fast.enet_coordinate_descent(\n"
     ]
    }
   ],
   "source": [
    "# https://scikit-learn.org/stable/modules/generated/sklearn.linear_model.LassoCV.html\n",
    "lasso_cv_smote = LassoCV(cv=5, random_state=RANDOM_STATE, max_iter=50000)\n",
    "lasso_cv_smote.fit(X_train_smote, y_train_smote)\n",
    "\n",
    "best_alpha_smote = lasso_cv_smote.alpha_\n",
    "\n",
    "# https://scikit-learn.org/stable/modules/generated/sklearn.linear_model.Lasso.html\n",
    "feat_selector_smote = Lasso(alpha=best_alpha_smote, random_state=RANDOM_STATE)\n",
    "\n",
    "print(f'LASSO - SMOTE - Start')\n",
    "# find all relevant features\n",
    "feat_selector_smote.fit(X_train_smote, y_train_smote)\n",
    "print(f'LASSO - SMOTE - End')\n",
    "\n",
    "# Features into outputset\n",
    "feat_importances_smote = pd.Series(X_train_smote.columns[feat_selector_smote.coef_ != 0], index=X_train_smote.columns[feat_selector_smote.coef_ != 0])"
   ]
  },
  {
   "cell_type": "markdown",
   "id": "a8098e00-2977-4dab-93e2-7da559d23789",
   "metadata": {},
   "source": [
    "# Convert LASSO output to FeatureList"
   ]
  },
  {
   "cell_type": "code",
   "execution_count": 55,
   "id": "fa22895b-a6ad-4624-9fc7-39ae87255207",
   "metadata": {},
   "outputs": [],
   "source": [
    "featureList = feat_importances.index.tolist()\n",
    "smoteFeatureList = feat_importances_smote.index.tolist()"
   ]
  },
  {
   "cell_type": "markdown",
   "id": "0760de05-3376-4e85-9ae4-1fce4e27ae80",
   "metadata": {},
   "source": [
    "# Send dataframe to a csv"
   ]
  },
  {
   "cell_type": "code",
   "execution_count": 56,
   "id": "ae1fc9b7-86fd-4f17-a896-4f62fe467f17",
   "metadata": {},
   "outputs": [],
   "source": [
    "df[featureList+constTargetAndMetadata].to_csv(f'../Data/patient_genes_{variant}.csv', index=False)\n",
    "df[smoteFeatureList+constTargetAndMetadata].to_csv(f'../Data/patient_genes_{variant}_smote.csv', index=False)"
   ]
  },
  {
   "cell_type": "code",
   "execution_count": null,
   "id": "04dd4302-f298-443c-b7ad-7f9318257a16",
   "metadata": {},
   "outputs": [],
   "source": []
  }
 ],
 "metadata": {
  "kernelspec": {
   "display_name": "Python 3 (ipykernel)",
   "language": "python",
   "name": "python3"
  },
  "language_info": {
   "codemirror_mode": {
    "name": "ipython",
    "version": 3
   },
   "file_extension": ".py",
   "mimetype": "text/x-python",
   "name": "python",
   "nbconvert_exporter": "python",
   "pygments_lexer": "ipython3",
   "version": "3.12.3"
  }
 },
 "nbformat": 4,
 "nbformat_minor": 5
}
