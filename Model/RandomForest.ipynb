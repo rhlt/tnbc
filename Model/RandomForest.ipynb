{
 "cells": [
  {
   "cell_type": "markdown",
   "id": "1e3b2f6c",
   "metadata": {},
   "source": [
    "### Load dataset"
   ]
  },
  {
   "cell_type": "code",
   "execution_count": 1,
   "id": "9b1be007",
   "metadata": {},
   "outputs": [
    {
     "name": "stdout",
     "output_type": "stream",
     "text": [
      "<class 'pandas.core.frame.DataFrame'>\n",
      "RangeIndex: 977 entries, 0 to 976\n",
      "Data columns (total 21 columns):\n",
      " #   Column    Non-Null Count  Dtype \n",
      "---  ------    --------------  ----- \n",
      " 0   CACNA2D2  977 non-null    int64 \n",
      " 1   ESR1      977 non-null    int64 \n",
      " 2   AGR2      977 non-null    int64 \n",
      " 3   GATA3     977 non-null    int64 \n",
      " 4   SLC16A6   977 non-null    int64 \n",
      " 5   TBC1D9    977 non-null    int64 \n",
      " 6   INPP4B    977 non-null    int64 \n",
      " 7   LDHB      977 non-null    int64 \n",
      " 8   MLPH      977 non-null    int64 \n",
      " 9   TSPAN1    977 non-null    int64 \n",
      " 10  STBD1     977 non-null    int64 \n",
      " 11  STARD3    977 non-null    int64 \n",
      " 12  RARA      977 non-null    int64 \n",
      " 13  MCCC2     977 non-null    int64 \n",
      " 14  PSAT1     977 non-null    int64 \n",
      " 15  MFGE8     977 non-null    int64 \n",
      " 16  ANXA9     977 non-null    int64 \n",
      " 17  PPP1R14C  977 non-null    int64 \n",
      " 18  SLC44A4   977 non-null    int64 \n",
      " 19  tnbc      977 non-null    bool  \n",
      " 20  case_id   977 non-null    object\n",
      "dtypes: bool(1), int64(19), object(1)\n",
      "memory usage: 153.7+ KB\n"
     ]
    }
   ],
   "source": [
    "import pandas as pd\n",
    "\n",
    "FILE_PATH = \"../Data/patient_genes_literature.csv\" # Can be replaced with desired variant for different feature sets\n",
    "df = pd.read_csv(FILE_PATH)\n",
    "\n",
    "df.info()"
   ]
  },
  {
   "cell_type": "markdown",
   "id": "e1673f4d",
   "metadata": {},
   "source": [
    "# Basic model implementations"
   ]
  },
  {
   "cell_type": "markdown",
   "id": "8fe5d00e",
   "metadata": {},
   "source": [
    "### Imports"
   ]
  },
  {
   "cell_type": "code",
   "execution_count": 2,
   "id": "d9055ae2",
   "metadata": {},
   "outputs": [],
   "source": [
    "from sklearn.metrics import accuracy_score\n",
    "from sklearn.model_selection import train_test_split\n",
    "from sklearn.linear_model import LogisticRegression\n",
    "from sklearn.svm import SVC\n",
    "from sklearn.ensemble import RandomForestClassifier\n",
    "from sklearn.model_selection import cross_val_score\n",
    "from typing import get_args"
   ]
  },
  {
   "cell_type": "markdown",
   "id": "16a56362",
   "metadata": {},
   "source": [
    "### Dataset split: training and test data"
   ]
  },
  {
   "cell_type": "code",
   "execution_count": 3,
   "id": "fa3b499a",
   "metadata": {},
   "outputs": [
    {
     "name": "stdout",
     "output_type": "stream",
     "text": [
      "X_train.shape=(781, 19)\n",
      "X_test.shape=(196, 19)\n",
      "y_train.shape=(781,)\n",
      "y_test.shape=(196,)\n"
     ]
    }
   ],
   "source": [
    "# Constants\n",
    "TNBC = \"tnbc\"\n",
    "CASE_ID = \"case_id\"\n",
    "RANDOM_STATE = 42\n",
    "\n",
    "# Type annotations\n",
    "Model = LogisticRegression | SVC | RandomForestClassifier\n",
    "\n",
    "\n",
    "# Features: all columns except TNBC and CASE_ID columns\n",
    "X = df.drop(columns=[TNBC, CASE_ID])\n",
    "# Target variable\n",
    "y = df[TNBC]\n",
    "\n",
    "X_train, X_test, y_train, y_test = train_test_split(X, y, test_size=0.2, random_state=42, stratify=y)\n",
    "\n",
    "# Training size = 0.8 * 977 ≈ 781\n",
    "# Test size = 0.2 * 977 ≈ 196\n",
    "print(f\"{X_train.shape=}\")\n",
    "print(f\"{X_test.shape=}\")\n",
    "print(f\"{y_train.shape=}\")\n",
    "print(f\"{y_test.shape=}\")\n"
   ]
  },
  {
   "cell_type": "markdown",
   "id": "2b9b114e",
   "metadata": {},
   "source": [
    "### Helper functions"
   ]
  },
  {
   "cell_type": "code",
   "execution_count": 4,
   "id": "832e8e8b",
   "metadata": {},
   "outputs": [],
   "source": [
    "def get_accuracy_score(y_pred):\n",
    "    return accuracy_score(y_test, y_pred)\n",
    "\n",
    "def print_evaluated_model_accuracy(y_pred) -> None:\n",
    "    print(f\"Accuracy: {get_accuracy_score(y_pred):.2f}\")    \n",
    "\n",
    "def print_validated_model_accuracy(model: Model, cv: int = 5) -> None:\n",
    "    assert isinstance(model, Model), f\"Parameter 'model' needs to be one of the following types {[type_.__name__ for type_ in get_args(Model)]}\"\n",
    "\n",
    "    cv_scores = cross_val_score(model, X, y, cv=cv, scoring=\"accuracy\")\n",
    "    print(f\"Model validation for {type(model).__name__}:\")\n",
    "    print(cv_scores)\n",
    "    print(f\"\\nMean accuracy: {cv_scores.mean():.4f}\\n\")"
   ]
  },
  {
   "cell_type": "markdown",
   "id": "9fd2b767",
   "metadata": {},
   "source": [
    "### Logistic Regression"
   ]
  },
  {
   "cell_type": "code",
   "execution_count": 5,
   "id": "ea297678",
   "metadata": {},
   "outputs": [
    {
     "name": "stdout",
     "output_type": "stream",
     "text": [
      "Accuracy: 0.94\n"
     ]
    }
   ],
   "source": [
    "# Create model\n",
    "# Bumping max_iter to a higer number than the default 100, resolves the following warning\n",
    "#       ConvergenceWarning: lbfgs failed to converge (status=1): STOP: TOTAL NO. OF ITERATIONS REACHED LIMIT.\n",
    "logistic_regression_model = LogisticRegression(random_state=RANDOM_STATE, solver='lbfgs', max_iter=2700)\n",
    "\n",
    "# Train the model\n",
    "logistic_regression_model.fit(X_train, y_train)\n",
    "\n",
    "# Model predictions\n",
    "y_pred_logistic_regression = logistic_regression_model.predict(X_test)\n",
    "\n",
    "# Evaluate model\n",
    "print_evaluated_model_accuracy(y_pred_logistic_regression)"
   ]
  },
  {
   "cell_type": "markdown",
   "id": "f5adb1b2",
   "metadata": {},
   "source": [
    "### Support Vector Machine (SVM)"
   ]
  },
  {
   "cell_type": "code",
   "execution_count": 6,
   "id": "7de44d39",
   "metadata": {},
   "outputs": [
    {
     "name": "stdout",
     "output_type": "stream",
     "text": [
      "Accuracy: 0.96\n"
     ]
    }
   ],
   "source": [
    "# Create model\n",
    "svm_model = SVC(random_state=RANDOM_STATE)\n",
    "\n",
    "# Train the model\n",
    "svm_model.fit(X_train, y_train)\n",
    "\n",
    "# Model predictions\n",
    "y_pred_svm = svm_model.predict(X_test)\n",
    "\n",
    "# Evaluate model\n",
    "print_evaluated_model_accuracy(y_pred_svm)"
   ]
  },
  {
   "cell_type": "markdown",
   "id": "00a1ea86",
   "metadata": {},
   "source": [
    "### Random Forest"
   ]
  },
  {
   "cell_type": "code",
   "execution_count": 7,
   "id": "ca34c536",
   "metadata": {},
   "outputs": [
    {
     "name": "stdout",
     "output_type": "stream",
     "text": [
      "Accuracy: 0.94\n"
     ]
    }
   ],
   "source": [
    "# Create model\n",
    "random_forest_model = RandomForestClassifier(random_state=RANDOM_STATE)\n",
    "\n",
    "#Train the model\n",
    "random_forest_model.fit(X_train, y_train)\n",
    "\n",
    "# Model predictions\n",
    "y_pred_random_forest = random_forest_model.predict(X_test)\n",
    "\n",
    "# Evaluate\n",
    "print_evaluated_model_accuracy(y_pred_random_forest)"
   ]
  },
  {
   "cell_type": "markdown",
   "id": "fe5f1ed6",
   "metadata": {},
   "source": [
    "## Model basic validations"
   ]
  },
  {
   "cell_type": "code",
   "execution_count": null,
   "id": "4b7e5238",
   "metadata": {},
   "outputs": [
    {
     "name": "stderr",
     "output_type": "stream",
     "text": [
      "C:\\Users\\WinDoos\\anaconda3\\Lib\\site-packages\\sklearn\\linear_model\\_logistic.py:469: ConvergenceWarning: lbfgs failed to converge (status=1):\n",
      "STOP: TOTAL NO. of ITERATIONS REACHED LIMIT.\n",
      "\n",
      "Increase the number of iterations (max_iter) or scale the data as shown in:\n",
      "    https://scikit-learn.org/stable/modules/preprocessing.html\n",
      "Please also refer to the documentation for alternative solver options:\n",
      "    https://scikit-learn.org/stable/modules/linear_model.html#logistic-regression\n",
      "  n_iter_i = _check_optimize_result(\n",
      "C:\\Users\\WinDoos\\anaconda3\\Lib\\site-packages\\sklearn\\linear_model\\_logistic.py:469: ConvergenceWarning: lbfgs failed to converge (status=1):\n",
      "STOP: TOTAL NO. of ITERATIONS REACHED LIMIT.\n",
      "\n",
      "Increase the number of iterations (max_iter) or scale the data as shown in:\n",
      "    https://scikit-learn.org/stable/modules/preprocessing.html\n",
      "Please also refer to the documentation for alternative solver options:\n",
      "    https://scikit-learn.org/stable/modules/linear_model.html#logistic-regression\n",
      "  n_iter_i = _check_optimize_result(\n",
      "C:\\Users\\WinDoos\\anaconda3\\Lib\\site-packages\\sklearn\\linear_model\\_logistic.py:469: ConvergenceWarning: lbfgs failed to converge (status=1):\n",
      "STOP: TOTAL NO. of ITERATIONS REACHED LIMIT.\n",
      "\n",
      "Increase the number of iterations (max_iter) or scale the data as shown in:\n",
      "    https://scikit-learn.org/stable/modules/preprocessing.html\n",
      "Please also refer to the documentation for alternative solver options:\n",
      "    https://scikit-learn.org/stable/modules/linear_model.html#logistic-regression\n",
      "  n_iter_i = _check_optimize_result(\n"
     ]
    },
    {
     "name": "stdout",
     "output_type": "stream",
     "text": [
      "Model validation for LogisticRegression:\n",
      "[0.92857143 0.94387755 0.95897436 0.93846154 0.94358974]\n",
      "\n",
      "Mean accuracy: 0.9427\n",
      "\n",
      "Model validation for SVC:\n",
      "[0.92857143 0.94897959 0.94871795 0.92820513 0.93333333]\n",
      "\n",
      "Mean accuracy: 0.9376\n",
      "\n"
     ]
    }
   ],
   "source": [
    "print_validated_model_accuracy(logistic_regression_model)\n",
    "\n",
    "print_validated_model_accuracy(svm_model)\n",
    "\n",
    "print_validated_model_accuracy(random_forest_model)\n"
   ]
  }
 ],
 "metadata": {
  "kernelspec": {
   "display_name": "Python 3 (ipykernel)",
   "language": "python",
   "name": "python3"
  },
  "language_info": {
   "codemirror_mode": {
    "name": "ipython",
    "version": 3
   },
   "file_extension": ".py",
   "mimetype": "text/x-python",
   "name": "python",
   "nbconvert_exporter": "python",
   "pygments_lexer": "ipython3",
   "version": "3.12.7"
  }
 },
 "nbformat": 4,
 "nbformat_minor": 5
}
