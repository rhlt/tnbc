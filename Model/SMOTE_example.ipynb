{
 "cells": [
  {
   "cell_type": "markdown",
   "id": "1e3b2f6c",
   "metadata": {},
   "source": [
    "### Load dataset"
   ]
  },
  {
   "cell_type": "code",
   "execution_count": 48,
   "id": "9b1be007",
   "metadata": {},
   "outputs": [
    {
     "name": "stdout",
     "output_type": "stream",
     "text": [
      "<class 'pandas.core.frame.DataFrame'>\n",
      "RangeIndex: 977 entries, 0 to 976\n",
      "Data columns (total 32 columns):\n",
      " #   Column   Non-Null Count  Dtype \n",
      "---  ------   --------------  ----- \n",
      " 0   FYN      977 non-null    int64 \n",
      " 1   BRCA1    977 non-null    int64 \n",
      " 2   FOXC1    977 non-null    int64 \n",
      " 3   TBC1D1   977 non-null    int64 \n",
      " 4   LAG3     977 non-null    int64 \n",
      " 5   CDK6     977 non-null    int64 \n",
      " 6   GATA3    977 non-null    int64 \n",
      " 7   CCND1    977 non-null    int64 \n",
      " 8   PRR4     977 non-null    int64 \n",
      " 9   EPCAM    977 non-null    int64 \n",
      " 10  CD274    977 non-null    int64 \n",
      " 11  PIK3CA   977 non-null    int64 \n",
      " 12  TOP2A    977 non-null    int64 \n",
      " 13  DCLK1    977 non-null    int64 \n",
      " 14  MYC      977 non-null    int64 \n",
      " 15  LRPPRC   977 non-null    int64 \n",
      " 16  BRCA2    977 non-null    int64 \n",
      " 17  TP53     977 non-null    int64 \n",
      " 18  MKI67    977 non-null    int64 \n",
      " 19  TTN      977 non-null    int64 \n",
      " 20  CTLA4    977 non-null    int64 \n",
      " 21  PTEN     977 non-null    int64 \n",
      " 22  YES1     977 non-null    int64 \n",
      " 23  YOD1     977 non-null    int64 \n",
      " 24  TACSTD2  977 non-null    int64 \n",
      " 25  ROR1     977 non-null    int64 \n",
      " 26  PDCD1    977 non-null    int64 \n",
      " 27  SRC      977 non-null    int64 \n",
      " 28  DDX3X    977 non-null    int64 \n",
      " 29  MALAT1   977 non-null    int64 \n",
      " 30  tnbc     977 non-null    bool  \n",
      " 31  case_id  977 non-null    object\n",
      "dtypes: bool(1), int64(30), object(1)\n",
      "memory usage: 237.7+ KB\n"
     ]
    }
   ],
   "source": [
    "import pandas as pd\n",
    "\n",
    "RANDOM_STATE = 42\n",
    "FILE_PATH = \"../Data/patient_genes_literature.csv\" # Can be replaced with desired variant for different feature sets\n",
    "variant = 'svm'\n",
    "df = pd.read_csv(FILE_PATH)\n",
    "\n",
    "df.info()"
   ]
  },
  {
   "cell_type": "markdown",
   "id": "8fe5d00e",
   "metadata": {},
   "source": [
    "### Imports"
   ]
  },
  {
   "cell_type": "code",
   "execution_count": 49,
   "id": "d9055ae2",
   "metadata": {},
   "outputs": [],
   "source": [
    "from sklearn.model_selection import train_test_split\n",
    "from sklearn.svm import SVC\n",
    "\n",
    "%run \"DataHelpers.ipynb\""
   ]
  },
  {
   "cell_type": "markdown",
   "id": "16a56362",
   "metadata": {},
   "source": [
    "### Dataset split: training and test data"
   ]
  },
  {
   "cell_type": "markdown",
   "id": "5f1ab261-09be-4163-b8c0-1b458731a229",
   "metadata": {},
   "source": [
    "### Prepare SMOTE"
   ]
  },
  {
   "cell_type": "code",
   "execution_count": 52,
   "id": "ba5c1aab-2b65-4798-bc87-6aeb7bab409a",
   "metadata": {},
   "outputs": [],
   "source": [
    "# Om SMOTE data te zien, extra colom\n",
    "df['smote_check'] = df['tnbc'] \n",
    "\n",
    "# Features: all columns except target column\n",
    "X = df.drop(columns=['tnbc', 'case_id'])\n",
    "# Target variable\n",
    "y = df['tnbc']"
   ]
  },
  {
   "cell_type": "markdown",
   "id": "ed385dd5-7423-4712-a155-5ad9ce77c29d",
   "metadata": {},
   "source": [
    "### Execute SMOTE"
   ]
  },
  {
   "cell_type": "code",
   "execution_count": 54,
   "id": "7eb5c065-38ce-4995-ad24-aecc385075ac",
   "metadata": {},
   "outputs": [],
   "source": [
    "# SMOTE \n",
    "sm = SMOTE(random_state=42) # can have different parameters\n",
    "X_res, y_res = sm.fit_resample(X, y)"
   ]
  },
  {
   "cell_type": "code",
   "execution_count": 55,
   "id": "3c446c31-be04-4188-bc0a-9380a6485d66",
   "metadata": {},
   "outputs": [
    {
     "name": "stdout",
     "output_type": "stream",
     "text": [
      "FYN            862\n",
      "BRCA1          862\n",
      "FOXC1          862\n",
      "TBC1D1         862\n",
      "LAG3           862\n",
      "CDK6           862\n",
      "GATA3          862\n",
      "CCND1          862\n",
      "PRR4           862\n",
      "EPCAM          862\n",
      "CD274          862\n",
      "PIK3CA         862\n",
      "TOP2A          862\n",
      "DCLK1          862\n",
      "MYC            862\n",
      "LRPPRC         862\n",
      "BRCA2          862\n",
      "TP53           862\n",
      "MKI67          862\n",
      "TTN            862\n",
      "CTLA4          862\n",
      "PTEN           862\n",
      "YES1           862\n",
      "YOD1           862\n",
      "TACSTD2        862\n",
      "ROR1           862\n",
      "PDCD1          862\n",
      "SRC            862\n",
      "DDX3X          862\n",
      "MALAT1         862\n",
      "smote_check    862\n",
      "dtype: int64\n",
      "FYN            862\n",
      "BRCA1          862\n",
      "FOXC1          862\n",
      "TBC1D1         862\n",
      "LAG3           862\n",
      "CDK6           862\n",
      "GATA3          862\n",
      "CCND1          862\n",
      "PRR4           862\n",
      "EPCAM          862\n",
      "CD274          862\n",
      "PIK3CA         862\n",
      "TOP2A          862\n",
      "DCLK1          862\n",
      "MYC            862\n",
      "LRPPRC         862\n",
      "BRCA2          862\n",
      "TP53           862\n",
      "MKI67          862\n",
      "TTN            862\n",
      "CTLA4          862\n",
      "PTEN           862\n",
      "YES1           862\n",
      "YOD1           862\n",
      "TACSTD2        862\n",
      "ROR1           862\n",
      "PDCD1          862\n",
      "SRC            862\n",
      "DDX3X          862\n",
      "MALAT1         862\n",
      "smote_check    862\n",
      "dtype: int64\n"
     ]
    },
    {
     "data": {
      "text/plain": [
       "0       False\n",
       "1       False\n",
       "2       False\n",
       "3       False\n",
       "4       False\n",
       "        ...  \n",
       "1719     True\n",
       "1720     True\n",
       "1721     True\n",
       "1722     True\n",
       "1723     True\n",
       "Name: tnbc, Length: 1724, dtype: bool"
      ]
     },
     "execution_count": 55,
     "metadata": {},
     "output_type": "execute_result"
    }
   ],
   "source": [
    "print(X_res[X_res['smote_check'] == True].count())\n",
    "print(X_res[X_res['smote_check'] == False].count())\n",
    "\n",
    "y_res"
   ]
  },
  {
   "cell_type": "markdown",
   "id": "d188dde0-151c-49bd-8520-aabfa8fa5c90",
   "metadata": {},
   "source": [
    "### Example: Calling Datahelpers\n",
    "#### Dit zijn stappen hierboven geimplementeerd in methode"
   ]
  },
  {
   "cell_type": "code",
   "execution_count": 57,
   "id": "fa3b499a",
   "metadata": {},
   "outputs": [
    {
     "name": "stdout",
     "output_type": "stream",
     "text": [
      "X_train.shape=(1379, 31)\n",
      "X_test.shape=(345, 31)\n",
      "y_train.shape=(1379,)\n",
      "y_test.shape=(345,)\n"
     ]
    }
   ],
   "source": [
    "X, y, X_train, X_test, y_train, y_test, test_case_id = split_data_apply_smote(df, \"tnbc\")"
   ]
  },
  {
   "cell_type": "code",
   "execution_count": null,
   "id": "f06f6258-98ba-48e2-95c6-e93d3c461150",
   "metadata": {},
   "outputs": [],
   "source": []
  }
 ],
 "metadata": {
  "kernelspec": {
   "display_name": "Python 3 (ipykernel)",
   "language": "python",
   "name": "python3"
  },
  "language_info": {
   "codemirror_mode": {
    "name": "ipython",
    "version": 3
   },
   "file_extension": ".py",
   "mimetype": "text/x-python",
   "name": "python",
   "nbconvert_exporter": "python",
   "pygments_lexer": "ipython3",
   "version": "3.12.7"
  }
 },
 "nbformat": 4,
 "nbformat_minor": 5
}
