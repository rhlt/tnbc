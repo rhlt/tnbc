{
 "cells": [
  {
   "cell_type": "markdown",
   "id": "1e3b2f6c",
   "metadata": {},
   "source": [
    "### Load dataset"
   ]
  },
  {
   "cell_type": "code",
   "execution_count": null,
   "id": "9b1be007",
   "metadata": {},
   "outputs": [
    {
     "name": "stdout",
     "output_type": "stream",
     "text": [
      "<class 'pandas.core.frame.DataFrame'>\n",
      "RangeIndex: 977 entries, 0 to 976\n",
      "Data columns (total 32 columns):\n",
      " #   Column   Non-Null Count  Dtype \n",
      "---  ------   --------------  ----- \n",
      " 0   FYN      977 non-null    int64 \n",
      " 1   BRCA1    977 non-null    int64 \n",
      " 2   FOXC1    977 non-null    int64 \n",
      " 3   TBC1D1   977 non-null    int64 \n",
      " 4   LAG3     977 non-null    int64 \n",
      " 5   CDK6     977 non-null    int64 \n",
      " 6   GATA3    977 non-null    int64 \n",
      " 7   CCND1    977 non-null    int64 \n",
      " 8   PRR4     977 non-null    int64 \n",
      " 9   EPCAM    977 non-null    int64 \n",
      " 10  CD274    977 non-null    int64 \n",
      " 11  PIK3CA   977 non-null    int64 \n",
      " 12  TOP2A    977 non-null    int64 \n",
      " 13  DCLK1    977 non-null    int64 \n",
      " 14  MYC      977 non-null    int64 \n",
      " 15  LRPPRC   977 non-null    int64 \n",
      " 16  BRCA2    977 non-null    int64 \n",
      " 17  TP53     977 non-null    int64 \n",
      " 18  MKI67    977 non-null    int64 \n",
      " 19  TTN      977 non-null    int64 \n",
      " 20  CTLA4    977 non-null    int64 \n",
      " 21  PTEN     977 non-null    int64 \n",
      " 22  YES1     977 non-null    int64 \n",
      " 23  YOD1     977 non-null    int64 \n",
      " 24  TACSTD2  977 non-null    int64 \n",
      " 25  ROR1     977 non-null    int64 \n",
      " 26  PDCD1    977 non-null    int64 \n",
      " 27  SRC      977 non-null    int64 \n",
      " 28  DDX3X    977 non-null    int64 \n",
      " 29  MALAT1   977 non-null    int64 \n",
      " 30  tnbc     977 non-null    bool  \n",
      " 31  case_id  977 non-null    object\n",
      "dtypes: bool(1), int64(30), object(1)\n",
      "memory usage: 237.7+ KB\n"
     ]
    }
   ],
   "source": [
    "import pandas as pd\n",
    "from enum import StrEnum, auto\n",
    "RANDOM_STATE = 42\n",
    "\n",
    "# NOTE: StrEnum requires Python 3.11+\n",
    "#       Can refactor to CONSTANTS instead\n",
    "class FeatureVariant(StrEnum):\n",
    "    LITERATURE = auto()\n",
    "    RESEARCH = auto()\n",
    "    STATISTICAL = auto()\n",
    "    AUTOMATED = auto()\n",
    "\n",
    "# Can be replaced with desired variant for different feature sets\n",
    "GENE_FILE_VARIANT = FeatureVariant.RESEARCH\n",
    "\n",
    "FILE_PATH = f\"../Data/patient_genes_{GENE_FILE_VARIANT}.csv\"\n",
    "\n",
    "variant = 'svm'\n",
    "df = pd.read_csv(FILE_PATH)\n",
    "\n",
    "df.info()"
   ]
  },
  {
   "cell_type": "markdown",
   "id": "8fe5d00e",
   "metadata": {},
   "source": [
    "### Imports"
   ]
  },
  {
   "cell_type": "code",
   "execution_count": 62,
   "id": "d9055ae2",
   "metadata": {},
   "outputs": [],
   "source": [
    "from sklearn.svm import SVC\n",
    "\n",
    "%run \"DataHelpers.ipynb\""
   ]
  },
  {
   "cell_type": "markdown",
   "id": "16a56362",
   "metadata": {},
   "source": [
    "### Dataset split: training and test data"
   ]
  },
  {
   "cell_type": "code",
   "execution_count": 63,
   "id": "fa3b499a",
   "metadata": {},
   "outputs": [
    {
     "name": "stdout",
     "output_type": "stream",
     "text": [
      "X_train.shape=(781, 30)\n",
      "X_test.shape=(196, 30)\n",
      "y_train.shape=(781,)\n",
      "y_test.shape=(196,)\n",
      "\n",
      "Applied Smote\n",
      "X_train.shape=(1379, 30)\n",
      "X_test.shape=(345, 30)\n",
      "y_train.shape=(1379,)\n",
      "y_test.shape=(345,)\n"
     ]
    }
   ],
   "source": [
    "X, y, X_train, X_test, y_train, y_test, test_case_ids = split_data(df, \"tnbc\", True)\n",
    "print(\"\\nApplied Smote\")\n",
    "X_smote, y_smote, X_train_smote, X_test_smote, y_train_smote, y_test_smote, test_case_ids_smote = split_data_apply_smote(df, \"tnbc\")"
   ]
  },
  {
   "cell_type": "markdown",
   "id": "9fd2b767",
   "metadata": {},
   "source": [
    "### Support Vector Machine (SVM)"
   ]
  },
  {
   "cell_type": "code",
   "execution_count": 64,
   "id": "ea297678",
   "metadata": {},
   "outputs": [],
   "source": [
    "# Create model\n",
    "\n",
    "model = SVC(random_state=RANDOM_STATE, probability=True)\n",
    "\n",
    "def run_model(X_train: pd.DataFrame, X_test: pd.DataFrame, y_train: pd.Series, y_test: pd.Series, test_case_ids: pd.Series, is_smote: bool):\n",
    "    # Train the model\n",
    "    model.fit(X_train, y_train)\n",
    "\n",
    "    # Model predictions\n",
    "    y_pred = model.predict(X_test)\n",
    "    y_prob = model.predict_proba(X_test)[:, 1]  # For ROC curves etc.\n",
    "\n",
    "    # Save it in a dataframe, to CSV\n",
    "    predictions = pd.DataFrame({\n",
    "        \"case_id\": test_case_ids,\n",
    "        \"y_test\": y_test,\n",
    "        \"y_pred\": y_pred,\n",
    "        \"y_prob\": y_prob\n",
    "    })\n",
    "    predictions.to_csv(f\"../Data/model_output_{variant}_{GENE_FILE_VARIANT}_{'smote' if is_smote else ''}.csv\", index=False)\n",
    "\n",
    "    return y_pred, y_prob"
   ]
  },
  {
   "cell_type": "code",
   "execution_count": null,
   "id": "4ae3d834",
   "metadata": {},
   "outputs": [
    {
     "name": "stdout",
     "output_type": "stream",
     "text": [
      "145    523E24A2-51B9-4658-BE2F-42E5FCCEBB17\n",
      "36     378778d2-b331-4867-a93b-c64028c8b4c7\n",
      "635    33cea538-4c3f-470a-972d-257c43241ab4\n",
      "16     a5b44d66-c162-46b5-9df2-86305f0385c5\n",
      "46     4a16429b-884f-4c95-8683-feeedf0d6a55\n",
      "                       ...                 \n",
      "518    d3d4d709-ab34-4617-aa8c-51a3d0a3efe6\n",
      "113    9DDC014D-9A8B-407B-845F-452A73F08E5E\n",
      "4      6623FC5E-00BE-4476-967A-CBD55F676EA6\n",
      "832    8631969d-4ac6-4fe1-9db3-d47db604494a\n",
      "636    03ab1e9f-4918-404d-b178-3a4fd929c5e8\n",
      "Name: case_id, Length: 196, dtype: object\n",
      "Accuracy: 0.94\n"
     ]
    }
   ],
   "source": [
    "y_pred, y_prod = run_model(X_train, X_test, y_train, y_test, test_case_ids, False)\n",
    "print_evaluated_model_accuracy(y_test, y_pred)"
   ]
  },
  {
   "cell_type": "markdown",
   "id": "b57ee1a5",
   "metadata": {},
   "source": [
    "## Smote applied"
   ]
  },
  {
   "cell_type": "code",
   "execution_count": 121,
   "id": "c18a56a2",
   "metadata": {},
   "outputs": [
    {
     "name": "stdout",
     "output_type": "stream",
     "text": [
      "Accuracy: 0.94\n"
     ]
    }
   ],
   "source": [
    "y_pred_smote, y_prod_smote = run_model(X_train_smote, X_test_smote, y_train_smote, y_test_smote, test_case_ids_smote, True)\n",
    "\n",
    "print_evaluated_model_accuracy(y_test_smote, y_pred_smote)"
   ]
  },
  {
   "cell_type": "markdown",
   "id": "fe5f1ed6",
   "metadata": {},
   "source": [
    "## Model cross validation"
   ]
  },
  {
   "cell_type": "code",
   "execution_count": 122,
   "id": "4b7e5238",
   "metadata": {},
   "outputs": [],
   "source": [
    "def run_cross_validation(X: pd.DataFrame, y: pd.Series, y_test: pd.Series, y_pred: pd.Series, y_prob: pd.Series, is_smote: bool) -> pd.DataFrame:\n",
    "    metrics: pd.DataFrame = get_cross_validation_metrics(model, X, y, cv=5)\n",
    "    test_metrics = get_metrics(y_test, y_pred, y_prob)\n",
    "    test_metrics[\"fold\"] = 0 # Initial test metrics (before cross validation)\n",
    "    test = pd.DataFrame([test_metrics])\n",
    "    test.set_index(\"fold\", inplace=True)\n",
    "\n",
    "    print_validated_model_accuracy(model, metrics)\n",
    "\n",
    "    # Prepend test_metrics to metrics dataframe, export and display\n",
    "    metrics = pd.concat([test, metrics])\n",
    "    metrics.to_csv(f\"../Data/model_metrics_{variant}_{GENE_FILE_VARIANT}_{'smote' if is_smote else ''}.csv\", index=False)\n",
    "    return metrics"
   ]
  },
  {
   "cell_type": "code",
   "execution_count": 123,
   "id": "60b182a6",
   "metadata": {},
   "outputs": [
    {
     "name": "stdout",
     "output_type": "stream",
     "text": [
      "Model validation for SVC:\n",
      "[0.9285714285714286, 0.9285714285714286, 0.9384615384615385, 0.9230769230769231, 0.9128205128205128]\n",
      "\n",
      "Mean accuracy: 0.9263\n",
      "\n"
     ]
    },
    {
     "data": {
      "application/vnd.microsoft.datawrangler.viewer.v0+json": {
       "columns": [
        {
         "name": "fold",
         "rawType": "int64",
         "type": "integer"
        },
        {
         "name": "accuracy",
         "rawType": "float64",
         "type": "float"
        },
        {
         "name": "recall",
         "rawType": "float64",
         "type": "float"
        },
        {
         "name": "precision",
         "rawType": "float64",
         "type": "float"
        },
        {
         "name": "f1_score",
         "rawType": "float64",
         "type": "float"
        },
        {
         "name": "roc_auc",
         "rawType": "float64",
         "type": "float"
        },
        {
         "name": "true_positive",
         "rawType": "int64",
         "type": "integer"
        },
        {
         "name": "true_negative",
         "rawType": "int64",
         "type": "integer"
        },
        {
         "name": "false_positive",
         "rawType": "int64",
         "type": "integer"
        },
        {
         "name": "false_negative",
         "rawType": "int64",
         "type": "integer"
        }
       ],
       "ref": "239a068c-9a77-4704-830f-6290b37f0794",
       "rows": [
        [
         "0",
         "0.9438775510204082",
         "0.6521739130434783",
         "0.8333333333333334",
         "0.7317073170731707",
         "0.9758733350087962",
         "15",
         "170",
         "3",
         "8"
        ],
        [
         "1",
         "0.9285714285714286",
         "0.6086956521739131",
         "0.7368421052631579",
         "0.6666666666666666",
         "0.971852224176929",
         "14",
         "168",
         "5",
         "9"
        ],
        [
         "2",
         "0.9285714285714286",
         "0.6086956521739131",
         "0.7368421052631579",
         "0.6666666666666666",
         "0.9668258356370948",
         "14",
         "168",
         "5",
         "9"
        ],
        [
         "3",
         "0.9384615384615385",
         "0.5652173913043478",
         "0.8666666666666667",
         "0.6842105263157895",
         "0.9625884732052579",
         "13",
         "170",
         "2",
         "10"
        ],
        [
         "4",
         "0.9230769230769231",
         "0.5652173913043478",
         "0.7222222222222222",
         "0.6341463414634146",
         "0.9661274014155713",
         "13",
         "167",
         "5",
         "10"
        ],
        [
         "5",
         "0.9128205128205128",
         "0.5217391304347826",
         "0.6666666666666666",
         "0.5853658536585366",
         "0.9294742163801821",
         "12",
         "166",
         "6",
         "11"
        ]
       ],
       "shape": {
        "columns": 9,
        "rows": 6
       }
      },
      "text/html": [
       "<div>\n",
       "<style scoped>\n",
       "    .dataframe tbody tr th:only-of-type {\n",
       "        vertical-align: middle;\n",
       "    }\n",
       "\n",
       "    .dataframe tbody tr th {\n",
       "        vertical-align: top;\n",
       "    }\n",
       "\n",
       "    .dataframe thead th {\n",
       "        text-align: right;\n",
       "    }\n",
       "</style>\n",
       "<table border=\"1\" class=\"dataframe\">\n",
       "  <thead>\n",
       "    <tr style=\"text-align: right;\">\n",
       "      <th></th>\n",
       "      <th>accuracy</th>\n",
       "      <th>recall</th>\n",
       "      <th>precision</th>\n",
       "      <th>f1_score</th>\n",
       "      <th>roc_auc</th>\n",
       "      <th>true_positive</th>\n",
       "      <th>true_negative</th>\n",
       "      <th>false_positive</th>\n",
       "      <th>false_negative</th>\n",
       "    </tr>\n",
       "    <tr>\n",
       "      <th>fold</th>\n",
       "      <th></th>\n",
       "      <th></th>\n",
       "      <th></th>\n",
       "      <th></th>\n",
       "      <th></th>\n",
       "      <th></th>\n",
       "      <th></th>\n",
       "      <th></th>\n",
       "      <th></th>\n",
       "    </tr>\n",
       "  </thead>\n",
       "  <tbody>\n",
       "    <tr>\n",
       "      <th>0</th>\n",
       "      <td>0.943878</td>\n",
       "      <td>0.652174</td>\n",
       "      <td>0.833333</td>\n",
       "      <td>0.731707</td>\n",
       "      <td>0.975873</td>\n",
       "      <td>15</td>\n",
       "      <td>170</td>\n",
       "      <td>3</td>\n",
       "      <td>8</td>\n",
       "    </tr>\n",
       "    <tr>\n",
       "      <th>1</th>\n",
       "      <td>0.928571</td>\n",
       "      <td>0.608696</td>\n",
       "      <td>0.736842</td>\n",
       "      <td>0.666667</td>\n",
       "      <td>0.971852</td>\n",
       "      <td>14</td>\n",
       "      <td>168</td>\n",
       "      <td>5</td>\n",
       "      <td>9</td>\n",
       "    </tr>\n",
       "    <tr>\n",
       "      <th>2</th>\n",
       "      <td>0.928571</td>\n",
       "      <td>0.608696</td>\n",
       "      <td>0.736842</td>\n",
       "      <td>0.666667</td>\n",
       "      <td>0.966826</td>\n",
       "      <td>14</td>\n",
       "      <td>168</td>\n",
       "      <td>5</td>\n",
       "      <td>9</td>\n",
       "    </tr>\n",
       "    <tr>\n",
       "      <th>3</th>\n",
       "      <td>0.938462</td>\n",
       "      <td>0.565217</td>\n",
       "      <td>0.866667</td>\n",
       "      <td>0.684211</td>\n",
       "      <td>0.962588</td>\n",
       "      <td>13</td>\n",
       "      <td>170</td>\n",
       "      <td>2</td>\n",
       "      <td>10</td>\n",
       "    </tr>\n",
       "    <tr>\n",
       "      <th>4</th>\n",
       "      <td>0.923077</td>\n",
       "      <td>0.565217</td>\n",
       "      <td>0.722222</td>\n",
       "      <td>0.634146</td>\n",
       "      <td>0.966127</td>\n",
       "      <td>13</td>\n",
       "      <td>167</td>\n",
       "      <td>5</td>\n",
       "      <td>10</td>\n",
       "    </tr>\n",
       "    <tr>\n",
       "      <th>5</th>\n",
       "      <td>0.912821</td>\n",
       "      <td>0.521739</td>\n",
       "      <td>0.666667</td>\n",
       "      <td>0.585366</td>\n",
       "      <td>0.929474</td>\n",
       "      <td>12</td>\n",
       "      <td>166</td>\n",
       "      <td>6</td>\n",
       "      <td>11</td>\n",
       "    </tr>\n",
       "  </tbody>\n",
       "</table>\n",
       "</div>"
      ],
      "text/plain": [
       "      accuracy    recall  precision  f1_score   roc_auc  true_positive  \\\n",
       "fold                                                                     \n",
       "0     0.943878  0.652174   0.833333  0.731707  0.975873             15   \n",
       "1     0.928571  0.608696   0.736842  0.666667  0.971852             14   \n",
       "2     0.928571  0.608696   0.736842  0.666667  0.966826             14   \n",
       "3     0.938462  0.565217   0.866667  0.684211  0.962588             13   \n",
       "4     0.923077  0.565217   0.722222  0.634146  0.966127             13   \n",
       "5     0.912821  0.521739   0.666667  0.585366  0.929474             12   \n",
       "\n",
       "      true_negative  false_positive  false_negative  \n",
       "fold                                                 \n",
       "0               170               3               8  \n",
       "1               168               5               9  \n",
       "2               168               5               9  \n",
       "3               170               2              10  \n",
       "4               167               5              10  \n",
       "5               166               6              11  "
      ]
     },
     "execution_count": 123,
     "metadata": {},
     "output_type": "execute_result"
    }
   ],
   "source": [
    "# Still getting warning:\n",
    "#   ConvergenceWarning: lbfgs failed to converge (status=1):\n",
    "#                       STOP: TOTAL NO. OF F,G EVALUATIONS EXCEEDS LIMIT.\n",
    "metrics = run_cross_validation(X, y, y_test, y_pred, y_prod, False)\n",
    "metrics"
   ]
  },
  {
   "cell_type": "code",
   "execution_count": 124,
   "id": "761239e9",
   "metadata": {},
   "outputs": [
    {
     "name": "stdout",
     "output_type": "stream",
     "text": [
      "Model validation for SVC:\n",
      "[0.9333333333333333, 0.9333333333333333, 0.927536231884058, 0.936231884057971, 0.9302325581395349]\n",
      "\n",
      "Mean accuracy: 0.9321\n",
      "\n"
     ]
    },
    {
     "data": {
      "application/vnd.microsoft.datawrangler.viewer.v0+json": {
       "columns": [
        {
         "name": "fold",
         "rawType": "int64",
         "type": "integer"
        },
        {
         "name": "accuracy",
         "rawType": "float64",
         "type": "float"
        },
        {
         "name": "recall",
         "rawType": "float64",
         "type": "float"
        },
        {
         "name": "precision",
         "rawType": "float64",
         "type": "float"
        },
        {
         "name": "f1_score",
         "rawType": "float64",
         "type": "float"
        },
        {
         "name": "roc_auc",
         "rawType": "float64",
         "type": "float"
        },
        {
         "name": "true_positive",
         "rawType": "int64",
         "type": "integer"
        },
        {
         "name": "true_negative",
         "rawType": "int64",
         "type": "integer"
        },
        {
         "name": "false_positive",
         "rawType": "int64",
         "type": "integer"
        },
        {
         "name": "false_negative",
         "rawType": "int64",
         "type": "integer"
        }
       ],
       "ref": "29a6f60b-876b-4d31-b646-e4799d963829",
       "rows": [
        [
         "0",
         "0.9391304347826087",
         "0.9709302325581395",
         "0.912568306010929",
         "0.9408450704225352",
         "0.9769122193843258",
         "167",
         "157",
         "16",
         "5"
        ],
        [
         "1",
         "0.9333333333333333",
         "0.9883720930232558",
         "0.8900523560209425",
         "0.9366391184573003",
         "0.9679392391450464",
         "170",
         "152",
         "21",
         "2"
        ],
        [
         "2",
         "0.9333333333333333",
         "0.9709302325581395",
         "0.9027027027027027",
         "0.9355742296918768",
         "0.9705605592149482",
         "167",
         "155",
         "18",
         "5"
        ],
        [
         "3",
         "0.927536231884058",
         "0.9421965317919075",
         "0.9157303370786517",
         "0.9287749287749287",
         "0.9729466326119102",
         "163",
         "157",
         "15",
         "10"
        ],
        [
         "4",
         "0.936231884057971",
         "0.953757225433526",
         "0.9217877094972067",
         "0.9375",
         "0.9661916924317785",
         "165",
         "158",
         "14",
         "8"
        ],
        [
         "5",
         "0.9302325581395349",
         "0.9767441860465116",
         "0.8936170212765957",
         "0.9333333333333333",
         "0.9718766901027582",
         "168",
         "152",
         "20",
         "4"
        ]
       ],
       "shape": {
        "columns": 9,
        "rows": 6
       }
      },
      "text/html": [
       "<div>\n",
       "<style scoped>\n",
       "    .dataframe tbody tr th:only-of-type {\n",
       "        vertical-align: middle;\n",
       "    }\n",
       "\n",
       "    .dataframe tbody tr th {\n",
       "        vertical-align: top;\n",
       "    }\n",
       "\n",
       "    .dataframe thead th {\n",
       "        text-align: right;\n",
       "    }\n",
       "</style>\n",
       "<table border=\"1\" class=\"dataframe\">\n",
       "  <thead>\n",
       "    <tr style=\"text-align: right;\">\n",
       "      <th></th>\n",
       "      <th>accuracy</th>\n",
       "      <th>recall</th>\n",
       "      <th>precision</th>\n",
       "      <th>f1_score</th>\n",
       "      <th>roc_auc</th>\n",
       "      <th>true_positive</th>\n",
       "      <th>true_negative</th>\n",
       "      <th>false_positive</th>\n",
       "      <th>false_negative</th>\n",
       "    </tr>\n",
       "    <tr>\n",
       "      <th>fold</th>\n",
       "      <th></th>\n",
       "      <th></th>\n",
       "      <th></th>\n",
       "      <th></th>\n",
       "      <th></th>\n",
       "      <th></th>\n",
       "      <th></th>\n",
       "      <th></th>\n",
       "      <th></th>\n",
       "    </tr>\n",
       "  </thead>\n",
       "  <tbody>\n",
       "    <tr>\n",
       "      <th>0</th>\n",
       "      <td>0.939130</td>\n",
       "      <td>0.970930</td>\n",
       "      <td>0.912568</td>\n",
       "      <td>0.940845</td>\n",
       "      <td>0.976912</td>\n",
       "      <td>167</td>\n",
       "      <td>157</td>\n",
       "      <td>16</td>\n",
       "      <td>5</td>\n",
       "    </tr>\n",
       "    <tr>\n",
       "      <th>1</th>\n",
       "      <td>0.933333</td>\n",
       "      <td>0.988372</td>\n",
       "      <td>0.890052</td>\n",
       "      <td>0.936639</td>\n",
       "      <td>0.967939</td>\n",
       "      <td>170</td>\n",
       "      <td>152</td>\n",
       "      <td>21</td>\n",
       "      <td>2</td>\n",
       "    </tr>\n",
       "    <tr>\n",
       "      <th>2</th>\n",
       "      <td>0.933333</td>\n",
       "      <td>0.970930</td>\n",
       "      <td>0.902703</td>\n",
       "      <td>0.935574</td>\n",
       "      <td>0.970561</td>\n",
       "      <td>167</td>\n",
       "      <td>155</td>\n",
       "      <td>18</td>\n",
       "      <td>5</td>\n",
       "    </tr>\n",
       "    <tr>\n",
       "      <th>3</th>\n",
       "      <td>0.927536</td>\n",
       "      <td>0.942197</td>\n",
       "      <td>0.915730</td>\n",
       "      <td>0.928775</td>\n",
       "      <td>0.972947</td>\n",
       "      <td>163</td>\n",
       "      <td>157</td>\n",
       "      <td>15</td>\n",
       "      <td>10</td>\n",
       "    </tr>\n",
       "    <tr>\n",
       "      <th>4</th>\n",
       "      <td>0.936232</td>\n",
       "      <td>0.953757</td>\n",
       "      <td>0.921788</td>\n",
       "      <td>0.937500</td>\n",
       "      <td>0.966192</td>\n",
       "      <td>165</td>\n",
       "      <td>158</td>\n",
       "      <td>14</td>\n",
       "      <td>8</td>\n",
       "    </tr>\n",
       "    <tr>\n",
       "      <th>5</th>\n",
       "      <td>0.930233</td>\n",
       "      <td>0.976744</td>\n",
       "      <td>0.893617</td>\n",
       "      <td>0.933333</td>\n",
       "      <td>0.971877</td>\n",
       "      <td>168</td>\n",
       "      <td>152</td>\n",
       "      <td>20</td>\n",
       "      <td>4</td>\n",
       "    </tr>\n",
       "  </tbody>\n",
       "</table>\n",
       "</div>"
      ],
      "text/plain": [
       "      accuracy    recall  precision  f1_score   roc_auc  true_positive  \\\n",
       "fold                                                                     \n",
       "0     0.939130  0.970930   0.912568  0.940845  0.976912            167   \n",
       "1     0.933333  0.988372   0.890052  0.936639  0.967939            170   \n",
       "2     0.933333  0.970930   0.902703  0.935574  0.970561            167   \n",
       "3     0.927536  0.942197   0.915730  0.928775  0.972947            163   \n",
       "4     0.936232  0.953757   0.921788  0.937500  0.966192            165   \n",
       "5     0.930233  0.976744   0.893617  0.933333  0.971877            168   \n",
       "\n",
       "      true_negative  false_positive  false_negative  \n",
       "fold                                                 \n",
       "0               157              16               5  \n",
       "1               152              21               2  \n",
       "2               155              18               5  \n",
       "3               157              15              10  \n",
       "4               158              14               8  \n",
       "5               152              20               4  "
      ]
     },
     "execution_count": 124,
     "metadata": {},
     "output_type": "execute_result"
    }
   ],
   "source": [
    "# Still getting warning:\n",
    "#   ConvergenceWarning: lbfgs failed to converge (status=1):\n",
    "#                       STOP: TOTAL NO. OF F,G EVALUATIONS EXCEEDS LIMIT.\n",
    "metric_smote = run_cross_validation(X_smote, y_smote, y_test_smote, y_pred_smote, y_prod_smote, True)\n",
    "metric_smote"
   ]
  }
 ],
 "metadata": {
  "kernelspec": {
   "display_name": "Python 3 (ipykernel)",
   "language": "python",
   "name": "python3"
  },
  "language_info": {
   "codemirror_mode": {
    "name": "ipython",
    "version": 3
   },
   "file_extension": ".py",
   "mimetype": "text/x-python",
   "name": "python",
   "nbconvert_exporter": "python",
   "pygments_lexer": "ipython3",
   "version": "3.12.7"
  }
 },
 "nbformat": 4,
 "nbformat_minor": 5
}
