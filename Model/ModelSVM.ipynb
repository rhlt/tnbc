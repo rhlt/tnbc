{
 "cells": [
  {
   "cell_type": "markdown",
   "id": "1e3b2f6c",
   "metadata": {},
   "source": [
    "### Load dataset"
   ]
  },
  {
   "cell_type": "code",
   "execution_count": 72,
   "id": "9b1be007",
   "metadata": {},
   "outputs": [
    {
     "name": "stdout",
     "output_type": "stream",
     "text": [
      "<class 'pandas.core.frame.DataFrame'>\n",
      "RangeIndex: 977 entries, 0 to 976\n",
      "Data columns (total 33 columns):\n",
      " #   Column   Non-Null Count  Dtype  \n",
      "---  ------   --------------  -----  \n",
      " 0   FYN      977 non-null    float64\n",
      " 1   BRCA1    977 non-null    float64\n",
      " 2   FOXC1    977 non-null    float64\n",
      " 3   TBC1D1   977 non-null    float64\n",
      " 4   LAG3     977 non-null    float64\n",
      " 5   CDK6     977 non-null    float64\n",
      " 6   GATA3    977 non-null    float64\n",
      " 7   CCND1    977 non-null    float64\n",
      " 8   PRR4     977 non-null    float64\n",
      " 9   EPCAM    977 non-null    float64\n",
      " 10  CD274    977 non-null    float64\n",
      " 11  PIK3CA   977 non-null    float64\n",
      " 12  TOP2A    977 non-null    float64\n",
      " 13  DCLK1    977 non-null    float64\n",
      " 14  MYC      977 non-null    float64\n",
      " 15  LRPPRC   977 non-null    float64\n",
      " 16  BRCA2    977 non-null    float64\n",
      " 17  TP53     977 non-null    float64\n",
      " 18  EGFR     977 non-null    float64\n",
      " 19  MKI67    977 non-null    float64\n",
      " 20  TTN      977 non-null    float64\n",
      " 21  CTLA4    977 non-null    float64\n",
      " 22  PTEN     977 non-null    float64\n",
      " 23  YES1     977 non-null    float64\n",
      " 24  YOD1     977 non-null    float64\n",
      " 25  TACSTD2  977 non-null    float64\n",
      " 26  ROR1     977 non-null    float64\n",
      " 27  PDCD1    977 non-null    float64\n",
      " 28  SRC      977 non-null    float64\n",
      " 29  DDX3X    977 non-null    float64\n",
      " 30  MALAT1   977 non-null    float64\n",
      " 31  tnbc     977 non-null    bool   \n",
      " 32  case_id  977 non-null    object \n",
      "dtypes: bool(1), float64(31), object(1)\n",
      "memory usage: 245.3+ KB\n"
     ]
    }
   ],
   "source": [
    "import pandas as pd\n",
    "RANDOM_STATE = 42\n",
    "\n",
    "%run \"DataHelpers.ipynb\"\n",
    "\n",
    "# Can be replaced with desired variant for different feature sets\n",
    "GENE_FILE_VARIANT = FeatureVariant.RESEARCH_LOGSCALED # For values, see FeatureVariant.print_info()\n",
    "variant = ModelVariant.SVM                      # For values, see ModelVariant.print_info()\n",
    "\n",
    "FILE_PATH = f\"../Data/patient_genes_{GENE_FILE_VARIANT}.csv\"\n",
    "\n",
    "df = pd.read_csv(FILE_PATH)\n",
    "\n",
    "df.info()"
   ]
  },
  {
   "cell_type": "markdown",
   "id": "8fe5d00e",
   "metadata": {},
   "source": [
    "### Import model function"
   ]
  },
  {
   "cell_type": "code",
   "execution_count": 73,
   "id": "d9055ae2",
   "metadata": {},
   "outputs": [],
   "source": [
    "from sklearn.svm import SVC"
   ]
  },
  {
   "cell_type": "markdown",
   "id": "16a56362",
   "metadata": {},
   "source": [
    "### Dataset split: training and test data"
   ]
  },
  {
   "cell_type": "code",
   "execution_count": 74,
   "id": "fa3b499a",
   "metadata": {},
   "outputs": [
    {
     "name": "stdout",
     "output_type": "stream",
     "text": [
      "X_train.shape=(781, 31)\n",
      "X_test.shape=(196, 31)\n",
      "y_train.shape=(781,)\n",
      "y_test.shape=(196,)\n",
      "\n",
      "Applied Smote\n",
      "X_train.shape=(1379, 31)\n",
      "X_test.shape=(345, 31)\n",
      "y_train.shape=(1379,)\n",
      "y_test.shape=(345,)\n"
     ]
    }
   ],
   "source": [
    "X, y, X_train, X_test, y_train, y_test, test_case_ids = split_data(df, \"tnbc\", True)\n",
    "print(\"\\nApplied Smote\")\n",
    "X_smote, y_smote, X_train_smote, X_test_smote, y_train_smote, y_test_smote, test_case_ids_smote = split_data_apply_smote(df, \"tnbc\")"
   ]
  },
  {
   "cell_type": "markdown",
   "id": "9fd2b767",
   "metadata": {},
   "source": [
    "### Support Vector Machine (SVM)"
   ]
  },
  {
   "cell_type": "code",
   "execution_count": 75,
   "id": "ea297678",
   "metadata": {},
   "outputs": [],
   "source": [
    "# Create model\n",
    "\n",
    "model = SVC(random_state=RANDOM_STATE, probability=True)\n",
    "\n",
    "def run_model(X_train: pd.DataFrame, X_test: pd.DataFrame, y_train: pd.Series, y_test: pd.Series, test_case_ids: pd.Series, is_smote: bool):\n",
    "    # Train the model\n",
    "    model.fit(X_train, y_train)\n",
    "\n",
    "    # Model predictions\n",
    "    y_pred = model.predict(X_test)\n",
    "    y_prob = model.predict_proba(X_test)[:, 1]  # For ROC curves etc.\n",
    "\n",
    "    # Save it in a dataframe, to CSV\n",
    "    predictions = pd.DataFrame({\n",
    "        \"case_id\": test_case_ids,\n",
    "        \"y_test\": y_test,\n",
    "        \"y_pred\": y_pred,\n",
    "        \"y_prob\": y_prob\n",
    "    })\n",
    "    predictions.to_csv(f\"../Data/model_output_{variant}_{GENE_FILE_VARIANT}{'_smote' if is_smote else ''}.csv\", index=False)\n",
    "\n",
    "    return y_pred, y_prob"
   ]
  },
  {
   "cell_type": "code",
   "execution_count": 76,
   "id": "4ae3d834",
   "metadata": {},
   "outputs": [
    {
     "name": "stdout",
     "output_type": "stream",
     "text": [
      "Accuracy: 0.94\n"
     ]
    }
   ],
   "source": [
    "y_pred, y_prod = run_model(X_train, X_test, y_train, y_test, test_case_ids, False)\n",
    "print_evaluated_model_accuracy(y_test, y_pred)"
   ]
  },
  {
   "cell_type": "markdown",
   "id": "b57ee1a5",
   "metadata": {},
   "source": [
    "## Smote applied"
   ]
  },
  {
   "cell_type": "code",
   "execution_count": 77,
   "id": "c18a56a2",
   "metadata": {},
   "outputs": [
    {
     "name": "stdout",
     "output_type": "stream",
     "text": [
      "Accuracy: 0.98\n"
     ]
    }
   ],
   "source": [
    "y_pred_smote, y_prod_smote = run_model(X_train_smote, X_test_smote, y_train_smote, y_test_smote, test_case_ids_smote, True)\n",
    "\n",
    "print_evaluated_model_accuracy(y_test_smote, y_pred_smote)"
   ]
  },
  {
   "cell_type": "markdown",
   "id": "fe5f1ed6",
   "metadata": {},
   "source": [
    "## Model cross validation"
   ]
  },
  {
   "cell_type": "code",
   "execution_count": 78,
   "id": "4b7e5238",
   "metadata": {},
   "outputs": [],
   "source": [
    "def run_cross_validation(X: pd.DataFrame, y: pd.Series, y_test: pd.Series, y_pred: pd.Series, y_prob: pd.Series, is_smote: bool) -> pd.DataFrame:\n",
    "    metrics: pd.DataFrame = get_cross_validation_metrics(model, X, y, cv=5)\n",
    "    test_metrics = get_metrics(y_test, y_pred, y_prob)\n",
    "    test_metrics[\"fold\"] = 0 # Initial test metrics (before cross validation)\n",
    "    test = pd.DataFrame([test_metrics])\n",
    "    test.set_index(\"fold\", inplace=True)\n",
    "\n",
    "    print_validated_model_accuracy(model, metrics)\n",
    "\n",
    "    # Prepend test_metrics to metrics dataframe, export and display\n",
    "    metrics = pd.concat([test, metrics])\n",
    "    metrics.to_csv(f\"../Data/model_metrics_{variant}_{GENE_FILE_VARIANT}{'_smote' if is_smote else ''}.csv\", index=False)\n",
    "    return metrics"
   ]
  },
  {
   "cell_type": "code",
   "execution_count": 79,
   "id": "60b182a6",
   "metadata": {},
   "outputs": [
    {
     "name": "stdout",
     "output_type": "stream",
     "text": [
      "Model validation for SVC:\n",
      "[0.9438775510204082, 0.9489795918367347, 0.9384615384615385, 0.9333333333333333, 0.9333333333333333]\n",
      "\n",
      "Mean accuracy: 0.9396\n",
      "\n"
     ]
    },
    {
     "data": {
      "text/html": [
       "<div>\n",
       "<style scoped>\n",
       "    .dataframe tbody tr th:only-of-type {\n",
       "        vertical-align: middle;\n",
       "    }\n",
       "\n",
       "    .dataframe tbody tr th {\n",
       "        vertical-align: top;\n",
       "    }\n",
       "\n",
       "    .dataframe thead th {\n",
       "        text-align: right;\n",
       "    }\n",
       "</style>\n",
       "<table border=\"1\" class=\"dataframe\">\n",
       "  <thead>\n",
       "    <tr style=\"text-align: right;\">\n",
       "      <th></th>\n",
       "      <th>accuracy</th>\n",
       "      <th>recall</th>\n",
       "      <th>precision</th>\n",
       "      <th>f1_score</th>\n",
       "      <th>roc_auc</th>\n",
       "      <th>true_positive</th>\n",
       "      <th>true_negative</th>\n",
       "      <th>false_positive</th>\n",
       "      <th>false_negative</th>\n",
       "    </tr>\n",
       "    <tr>\n",
       "      <th>fold</th>\n",
       "      <th></th>\n",
       "      <th></th>\n",
       "      <th></th>\n",
       "      <th></th>\n",
       "      <th></th>\n",
       "      <th></th>\n",
       "      <th></th>\n",
       "      <th></th>\n",
       "      <th></th>\n",
       "    </tr>\n",
       "  </thead>\n",
       "  <tbody>\n",
       "    <tr>\n",
       "      <th>0</th>\n",
       "      <td>0.943878</td>\n",
       "      <td>0.782609</td>\n",
       "      <td>0.750000</td>\n",
       "      <td>0.765957</td>\n",
       "      <td>0.981654</td>\n",
       "      <td>18</td>\n",
       "      <td>167</td>\n",
       "      <td>6</td>\n",
       "      <td>5</td>\n",
       "    </tr>\n",
       "    <tr>\n",
       "      <th>1</th>\n",
       "      <td>0.943878</td>\n",
       "      <td>0.782609</td>\n",
       "      <td>0.750000</td>\n",
       "      <td>0.765957</td>\n",
       "      <td>0.966323</td>\n",
       "      <td>18</td>\n",
       "      <td>167</td>\n",
       "      <td>6</td>\n",
       "      <td>5</td>\n",
       "    </tr>\n",
       "    <tr>\n",
       "      <th>2</th>\n",
       "      <td>0.948980</td>\n",
       "      <td>0.782609</td>\n",
       "      <td>0.782609</td>\n",
       "      <td>0.782609</td>\n",
       "      <td>0.951244</td>\n",
       "      <td>18</td>\n",
       "      <td>168</td>\n",
       "      <td>5</td>\n",
       "      <td>5</td>\n",
       "    </tr>\n",
       "    <tr>\n",
       "      <th>3</th>\n",
       "      <td>0.938462</td>\n",
       "      <td>0.652174</td>\n",
       "      <td>0.789474</td>\n",
       "      <td>0.714286</td>\n",
       "      <td>0.964863</td>\n",
       "      <td>15</td>\n",
       "      <td>168</td>\n",
       "      <td>4</td>\n",
       "      <td>8</td>\n",
       "    </tr>\n",
       "    <tr>\n",
       "      <th>4</th>\n",
       "      <td>0.933333</td>\n",
       "      <td>0.652174</td>\n",
       "      <td>0.750000</td>\n",
       "      <td>0.697674</td>\n",
       "      <td>0.971436</td>\n",
       "      <td>15</td>\n",
       "      <td>167</td>\n",
       "      <td>5</td>\n",
       "      <td>8</td>\n",
       "    </tr>\n",
       "    <tr>\n",
       "      <th>5</th>\n",
       "      <td>0.933333</td>\n",
       "      <td>0.695652</td>\n",
       "      <td>0.727273</td>\n",
       "      <td>0.711111</td>\n",
       "      <td>0.926946</td>\n",
       "      <td>16</td>\n",
       "      <td>166</td>\n",
       "      <td>6</td>\n",
       "      <td>7</td>\n",
       "    </tr>\n",
       "  </tbody>\n",
       "</table>\n",
       "</div>"
      ],
      "text/plain": [
       "      accuracy    recall  precision  f1_score   roc_auc  true_positive  \\\n",
       "fold                                                                     \n",
       "0     0.943878  0.782609   0.750000  0.765957  0.981654             18   \n",
       "1     0.943878  0.782609   0.750000  0.765957  0.966323             18   \n",
       "2     0.948980  0.782609   0.782609  0.782609  0.951244             18   \n",
       "3     0.938462  0.652174   0.789474  0.714286  0.964863             15   \n",
       "4     0.933333  0.652174   0.750000  0.697674  0.971436             15   \n",
       "5     0.933333  0.695652   0.727273  0.711111  0.926946             16   \n",
       "\n",
       "      true_negative  false_positive  false_negative  \n",
       "fold                                                 \n",
       "0               167               6               5  \n",
       "1               167               6               5  \n",
       "2               168               5               5  \n",
       "3               168               4               8  \n",
       "4               167               5               8  \n",
       "5               166               6               7  "
      ]
     },
     "execution_count": 79,
     "metadata": {},
     "output_type": "execute_result"
    }
   ],
   "source": [
    "metrics = run_cross_validation(X, y, y_test, y_pred, y_prod, False)\n",
    "metrics"
   ]
  },
  {
   "cell_type": "code",
   "execution_count": 80,
   "id": "761239e9",
   "metadata": {},
   "outputs": [
    {
     "name": "stdout",
     "output_type": "stream",
     "text": [
      "Model validation for SVC:\n",
      "[0.9652173913043478, 0.9710144927536232, 0.9739130434782609, 0.9623188405797102, 0.9680232558139535]\n",
      "\n",
      "Mean accuracy: 0.9681\n",
      "\n"
     ]
    },
    {
     "data": {
      "text/html": [
       "<div>\n",
       "<style scoped>\n",
       "    .dataframe tbody tr th:only-of-type {\n",
       "        vertical-align: middle;\n",
       "    }\n",
       "\n",
       "    .dataframe tbody tr th {\n",
       "        vertical-align: top;\n",
       "    }\n",
       "\n",
       "    .dataframe thead th {\n",
       "        text-align: right;\n",
       "    }\n",
       "</style>\n",
       "<table border=\"1\" class=\"dataframe\">\n",
       "  <thead>\n",
       "    <tr style=\"text-align: right;\">\n",
       "      <th></th>\n",
       "      <th>accuracy</th>\n",
       "      <th>recall</th>\n",
       "      <th>precision</th>\n",
       "      <th>f1_score</th>\n",
       "      <th>roc_auc</th>\n",
       "      <th>true_positive</th>\n",
       "      <th>true_negative</th>\n",
       "      <th>false_positive</th>\n",
       "      <th>false_negative</th>\n",
       "    </tr>\n",
       "    <tr>\n",
       "      <th>fold</th>\n",
       "      <th></th>\n",
       "      <th></th>\n",
       "      <th></th>\n",
       "      <th></th>\n",
       "      <th></th>\n",
       "      <th></th>\n",
       "      <th></th>\n",
       "      <th></th>\n",
       "      <th></th>\n",
       "    </tr>\n",
       "  </thead>\n",
       "  <tbody>\n",
       "    <tr>\n",
       "      <th>0</th>\n",
       "      <td>0.976812</td>\n",
       "      <td>1.000000</td>\n",
       "      <td>0.955556</td>\n",
       "      <td>0.977273</td>\n",
       "      <td>0.993984</td>\n",
       "      <td>172</td>\n",
       "      <td>165</td>\n",
       "      <td>8</td>\n",
       "      <td>0</td>\n",
       "    </tr>\n",
       "    <tr>\n",
       "      <th>1</th>\n",
       "      <td>0.965217</td>\n",
       "      <td>0.994186</td>\n",
       "      <td>0.939560</td>\n",
       "      <td>0.966102</td>\n",
       "      <td>0.993816</td>\n",
       "      <td>171</td>\n",
       "      <td>162</td>\n",
       "      <td>11</td>\n",
       "      <td>1</td>\n",
       "    </tr>\n",
       "    <tr>\n",
       "      <th>2</th>\n",
       "      <td>0.971014</td>\n",
       "      <td>0.994186</td>\n",
       "      <td>0.950000</td>\n",
       "      <td>0.971591</td>\n",
       "      <td>0.987028</td>\n",
       "      <td>171</td>\n",
       "      <td>164</td>\n",
       "      <td>9</td>\n",
       "      <td>1</td>\n",
       "    </tr>\n",
       "    <tr>\n",
       "      <th>3</th>\n",
       "      <td>0.973913</td>\n",
       "      <td>0.976879</td>\n",
       "      <td>0.971264</td>\n",
       "      <td>0.974063</td>\n",
       "      <td>0.991531</td>\n",
       "      <td>169</td>\n",
       "      <td>167</td>\n",
       "      <td>5</td>\n",
       "      <td>4</td>\n",
       "    </tr>\n",
       "    <tr>\n",
       "      <th>4</th>\n",
       "      <td>0.962319</td>\n",
       "      <td>0.982659</td>\n",
       "      <td>0.944444</td>\n",
       "      <td>0.963173</td>\n",
       "      <td>0.987935</td>\n",
       "      <td>170</td>\n",
       "      <td>162</td>\n",
       "      <td>10</td>\n",
       "      <td>3</td>\n",
       "    </tr>\n",
       "    <tr>\n",
       "      <th>5</th>\n",
       "      <td>0.968023</td>\n",
       "      <td>0.994186</td>\n",
       "      <td>0.944751</td>\n",
       "      <td>0.968839</td>\n",
       "      <td>0.991144</td>\n",
       "      <td>171</td>\n",
       "      <td>162</td>\n",
       "      <td>10</td>\n",
       "      <td>1</td>\n",
       "    </tr>\n",
       "  </tbody>\n",
       "</table>\n",
       "</div>"
      ],
      "text/plain": [
       "      accuracy    recall  precision  f1_score   roc_auc  true_positive  \\\n",
       "fold                                                                     \n",
       "0     0.976812  1.000000   0.955556  0.977273  0.993984            172   \n",
       "1     0.965217  0.994186   0.939560  0.966102  0.993816            171   \n",
       "2     0.971014  0.994186   0.950000  0.971591  0.987028            171   \n",
       "3     0.973913  0.976879   0.971264  0.974063  0.991531            169   \n",
       "4     0.962319  0.982659   0.944444  0.963173  0.987935            170   \n",
       "5     0.968023  0.994186   0.944751  0.968839  0.991144            171   \n",
       "\n",
       "      true_negative  false_positive  false_negative  \n",
       "fold                                                 \n",
       "0               165               8               0  \n",
       "1               162              11               1  \n",
       "2               164               9               1  \n",
       "3               167               5               4  \n",
       "4               162              10               3  \n",
       "5               162              10               1  "
      ]
     },
     "execution_count": 80,
     "metadata": {},
     "output_type": "execute_result"
    }
   ],
   "source": [
    "metric_smote = run_cross_validation(X_smote, y_smote, y_test_smote, y_pred_smote, y_prod_smote, True)\n",
    "metric_smote"
   ]
  },
  {
   "cell_type": "code",
   "execution_count": null,
   "id": "d5d8ca9f-a067-42bf-a698-7f62d702c8ca",
   "metadata": {},
   "outputs": [],
   "source": []
  }
 ],
 "metadata": {
  "kernelspec": {
   "display_name": "Python 3 (ipykernel)",
   "language": "python",
   "name": "python3"
  },
  "language_info": {
   "codemirror_mode": {
    "name": "ipython",
    "version": 3
   },
   "file_extension": ".py",
   "mimetype": "text/x-python",
   "name": "python",
   "nbconvert_exporter": "python",
   "pygments_lexer": "ipython3",
   "version": "3.12.3"
  }
 },
 "nbformat": 4,
 "nbformat_minor": 5
}
