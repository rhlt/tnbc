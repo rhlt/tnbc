{
 "cells": [
  {
   "cell_type": "markdown",
   "id": "1e3b2f6c",
   "metadata": {},
   "source": [
    "### Load dataset"
   ]
  },
  {
   "cell_type": "code",
   "execution_count": 14,
   "id": "9b1be007",
   "metadata": {},
   "outputs": [
    {
     "name": "stdout",
     "output_type": "stream",
     "text": [
      "<class 'pandas.core.frame.DataFrame'>\n",
      "RangeIndex: 977 entries, 0 to 976\n",
      "Data columns (total 33 columns):\n",
      " #   Column   Non-Null Count  Dtype \n",
      "---  ------   --------------  ----- \n",
      " 0   FYN      977 non-null    int64 \n",
      " 1   BRCA1    977 non-null    int64 \n",
      " 2   FOXC1    977 non-null    int64 \n",
      " 3   TBC1D1   977 non-null    int64 \n",
      " 4   LAG3     977 non-null    int64 \n",
      " 5   CDK6     977 non-null    int64 \n",
      " 6   GATA3    977 non-null    int64 \n",
      " 7   CCND1    977 non-null    int64 \n",
      " 8   PRR4     977 non-null    int64 \n",
      " 9   EPCAM    977 non-null    int64 \n",
      " 10  CD274    977 non-null    int64 \n",
      " 11  PIK3CA   977 non-null    int64 \n",
      " 12  TOP2A    977 non-null    int64 \n",
      " 13  DCLK1    977 non-null    int64 \n",
      " 14  MYC      977 non-null    int64 \n",
      " 15  LRPPRC   977 non-null    int64 \n",
      " 16  BRCA2    977 non-null    int64 \n",
      " 17  TP53     977 non-null    int64 \n",
      " 18  EGFR     977 non-null    int64 \n",
      " 19  MKI67    977 non-null    int64 \n",
      " 20  TTN      977 non-null    int64 \n",
      " 21  CTLA4    977 non-null    int64 \n",
      " 22  PTEN     977 non-null    int64 \n",
      " 23  YES1     977 non-null    int64 \n",
      " 24  YOD1     977 non-null    int64 \n",
      " 25  TACSTD2  977 non-null    int64 \n",
      " 26  ROR1     977 non-null    int64 \n",
      " 27  PDCD1    977 non-null    int64 \n",
      " 28  SRC      977 non-null    int64 \n",
      " 29  DDX3X    977 non-null    int64 \n",
      " 30  MALAT1   977 non-null    int64 \n",
      " 31  tnbc     977 non-null    bool  \n",
      " 32  case_id  977 non-null    object\n",
      "dtypes: bool(1), int64(31), object(1)\n",
      "memory usage: 245.3+ KB\n"
     ]
    }
   ],
   "source": [
    "import pandas as pd\n",
    "from enum import StrEnum, auto\n",
    "RANDOM_STATE = 42\n",
    "\n",
    "# NOTE: StrEnum requires Python 3.11+\n",
    "#       Can refactor to CONSTANTS instead\n",
    "class FeatureVariant(StrEnum):\n",
    "    LITERATURE = auto()\n",
    "    RESEARCH_HUMAN = 'researchHumanAssessed'\n",
    "    RESEARCH_BORUTA = 'researchBORUTA'\n",
    "    STATISTICAL = auto()\n",
    "    AUTOMATED = auto()\n",
    "\n",
    "# Can be replaced with desired variant for different feature sets\n",
    "GENE_FILE_VARIANT = FeatureVariant.RESEARCH_HUMAN\n",
    "\n",
    "FILE_PATH = f\"../Data/patient_genes_{GENE_FILE_VARIANT}.csv\"\n",
    "\n",
    "variant = 'svm'\n",
    "df = pd.read_csv(FILE_PATH)\n",
    "\n",
    "df.info()"
   ]
  },
  {
   "cell_type": "markdown",
   "id": "8fe5d00e",
   "metadata": {},
   "source": [
    "### Import functions to assess data"
   ]
  },
  {
   "cell_type": "code",
   "execution_count": 16,
   "id": "d9055ae2",
   "metadata": {},
   "outputs": [],
   "source": [
    "from sklearn.svm import SVC\n",
    "\n",
    "%run \"DataHelpers.ipynb\""
   ]
  },
  {
   "cell_type": "markdown",
   "id": "16a56362",
   "metadata": {},
   "source": [
    "### Dataset split: training and test data"
   ]
  },
  {
   "cell_type": "code",
   "execution_count": 17,
   "id": "fa3b499a",
   "metadata": {},
   "outputs": [
    {
     "name": "stdout",
     "output_type": "stream",
     "text": [
      "X_train.shape=(781, 31)\n",
      "X_test.shape=(196, 31)\n",
      "y_train.shape=(781,)\n",
      "y_test.shape=(196,)\n",
      "\n",
      "Applied Smote\n",
      "X_train.shape=(1379, 31)\n",
      "X_test.shape=(345, 31)\n",
      "y_train.shape=(1379,)\n",
      "y_test.shape=(345,)\n"
     ]
    }
   ],
   "source": [
    "X, y, X_train, X_test, y_train, y_test, test_case_ids = split_data(df, \"tnbc\", True)\n",
    "print(\"\\nApplied Smote\")\n",
    "X_smote, y_smote, X_train_smote, X_test_smote, y_train_smote, y_test_smote, test_case_ids_smote = split_data_apply_smote(df, \"tnbc\")"
   ]
  },
  {
   "cell_type": "markdown",
   "id": "9fd2b767",
   "metadata": {},
   "source": [
    "### Support Vector Machine (SVM)"
   ]
  },
  {
   "cell_type": "code",
   "execution_count": 18,
   "id": "ea297678",
   "metadata": {},
   "outputs": [],
   "source": [
    "# Create model\n",
    "\n",
    "model = SVC(random_state=RANDOM_STATE, probability=True)\n",
    "\n",
    "def run_model(X_train: pd.DataFrame, X_test: pd.DataFrame, y_train: pd.Series, y_test: pd.Series, test_case_ids: pd.Series, is_smote: bool):\n",
    "    # Train the model\n",
    "    model.fit(X_train, y_train)\n",
    "\n",
    "    # Model predictions\n",
    "    y_pred = model.predict(X_test)\n",
    "    y_prob = model.predict_proba(X_test)[:, 1]  # For ROC curves etc.\n",
    "\n",
    "    # Save it in a dataframe, to CSV\n",
    "    predictions = pd.DataFrame({\n",
    "        \"case_id\": test_case_ids,\n",
    "        \"y_test\": y_test,\n",
    "        \"y_pred\": y_pred,\n",
    "        \"y_prob\": y_prob\n",
    "    })\n",
    "    predictions.to_csv(f\"../Data/model_output_{variant}_{GENE_FILE_VARIANT}_{'smote' if is_smote else ''}.csv\", index=False)\n",
    "\n",
    "    return y_pred, y_prob"
   ]
  },
  {
   "cell_type": "code",
   "execution_count": 19,
   "id": "4ae3d834",
   "metadata": {},
   "outputs": [
    {
     "name": "stdout",
     "output_type": "stream",
     "text": [
      "Accuracy: 0.94\n"
     ]
    }
   ],
   "source": [
    "y_pred, y_prod = run_model(X_train, X_test, y_train, y_test, test_case_ids, False)\n",
    "print_evaluated_model_accuracy(y_test, y_pred)"
   ]
  },
  {
   "cell_type": "markdown",
   "id": "b57ee1a5",
   "metadata": {},
   "source": [
    "## Smote applied"
   ]
  },
  {
   "cell_type": "code",
   "execution_count": 20,
   "id": "c18a56a2",
   "metadata": {},
   "outputs": [
    {
     "name": "stdout",
     "output_type": "stream",
     "text": [
      "Accuracy: 0.94\n"
     ]
    }
   ],
   "source": [
    "y_pred_smote, y_prod_smote = run_model(X_train_smote, X_test_smote, y_train_smote, y_test_smote, test_case_ids_smote, True)\n",
    "\n",
    "print_evaluated_model_accuracy(y_test_smote, y_pred_smote)"
   ]
  },
  {
   "cell_type": "markdown",
   "id": "fe5f1ed6",
   "metadata": {},
   "source": [
    "## Model cross validation"
   ]
  },
  {
   "cell_type": "code",
   "execution_count": 21,
   "id": "4b7e5238",
   "metadata": {},
   "outputs": [],
   "source": [
    "def run_cross_validation(X: pd.DataFrame, y: pd.Series, y_test: pd.Series, y_pred: pd.Series, y_prob: pd.Series, is_smote: bool) -> pd.DataFrame:\n",
    "    metrics: pd.DataFrame = get_cross_validation_metrics(model, X, y, cv=5)\n",
    "    test_metrics = get_metrics(y_test, y_pred, y_prob)\n",
    "    test_metrics[\"fold\"] = 0 # Initial test metrics (before cross validation)\n",
    "    test = pd.DataFrame([test_metrics])\n",
    "    test.set_index(\"fold\", inplace=True)\n",
    "\n",
    "    print_validated_model_accuracy(model, metrics)\n",
    "\n",
    "    # Prepend test_metrics to metrics dataframe, export and display\n",
    "    metrics = pd.concat([test, metrics])\n",
    "    metrics.to_csv(f\"../Data/model_metrics_{variant}_{GENE_FILE_VARIANT}{'_smote' if is_smote else ''}.csv\", index=False)\n",
    "    return metrics"
   ]
  },
  {
   "cell_type": "code",
   "execution_count": 22,
   "id": "60b182a6",
   "metadata": {},
   "outputs": [
    {
     "name": "stdout",
     "output_type": "stream",
     "text": [
      "Model validation for SVC:\n",
      "[0.9336734693877551, 0.9285714285714286, 0.9333333333333333, 0.9128205128205128, 0.9076923076923077]\n",
      "\n",
      "Mean accuracy: 0.9232\n",
      "\n"
     ]
    },
    {
     "data": {
      "text/html": [
       "<div>\n",
       "<style scoped>\n",
       "    .dataframe tbody tr th:only-of-type {\n",
       "        vertical-align: middle;\n",
       "    }\n",
       "\n",
       "    .dataframe tbody tr th {\n",
       "        vertical-align: top;\n",
       "    }\n",
       "\n",
       "    .dataframe thead th {\n",
       "        text-align: right;\n",
       "    }\n",
       "</style>\n",
       "<table border=\"1\" class=\"dataframe\">\n",
       "  <thead>\n",
       "    <tr style=\"text-align: right;\">\n",
       "      <th></th>\n",
       "      <th>accuracy</th>\n",
       "      <th>recall</th>\n",
       "      <th>precision</th>\n",
       "      <th>f1_score</th>\n",
       "      <th>roc_auc</th>\n",
       "      <th>true_positive</th>\n",
       "      <th>true_negative</th>\n",
       "      <th>false_positive</th>\n",
       "      <th>false_negative</th>\n",
       "    </tr>\n",
       "    <tr>\n",
       "      <th>fold</th>\n",
       "      <th></th>\n",
       "      <th></th>\n",
       "      <th></th>\n",
       "      <th></th>\n",
       "      <th></th>\n",
       "      <th></th>\n",
       "      <th></th>\n",
       "      <th></th>\n",
       "      <th></th>\n",
       "    </tr>\n",
       "  </thead>\n",
       "  <tbody>\n",
       "    <tr>\n",
       "      <th>0</th>\n",
       "      <td>0.943878</td>\n",
       "      <td>0.652174</td>\n",
       "      <td>0.833333</td>\n",
       "      <td>0.731707</td>\n",
       "      <td>0.965067</td>\n",
       "      <td>15</td>\n",
       "      <td>170</td>\n",
       "      <td>3</td>\n",
       "      <td>8</td>\n",
       "    </tr>\n",
       "    <tr>\n",
       "      <th>1</th>\n",
       "      <td>0.933673</td>\n",
       "      <td>0.608696</td>\n",
       "      <td>0.777778</td>\n",
       "      <td>0.682927</td>\n",
       "      <td>0.970847</td>\n",
       "      <td>14</td>\n",
       "      <td>169</td>\n",
       "      <td>4</td>\n",
       "      <td>9</td>\n",
       "    </tr>\n",
       "    <tr>\n",
       "      <th>2</th>\n",
       "      <td>0.928571</td>\n",
       "      <td>0.608696</td>\n",
       "      <td>0.736842</td>\n",
       "      <td>0.666667</td>\n",
       "      <td>0.957276</td>\n",
       "      <td>14</td>\n",
       "      <td>168</td>\n",
       "      <td>5</td>\n",
       "      <td>9</td>\n",
       "    </tr>\n",
       "    <tr>\n",
       "      <th>3</th>\n",
       "      <td>0.933333</td>\n",
       "      <td>0.521739</td>\n",
       "      <td>0.857143</td>\n",
       "      <td>0.648649</td>\n",
       "      <td>0.964863</td>\n",
       "      <td>12</td>\n",
       "      <td>170</td>\n",
       "      <td>2</td>\n",
       "      <td>11</td>\n",
       "    </tr>\n",
       "    <tr>\n",
       "      <th>4</th>\n",
       "      <td>0.912821</td>\n",
       "      <td>0.521739</td>\n",
       "      <td>0.666667</td>\n",
       "      <td>0.585366</td>\n",
       "      <td>0.968655</td>\n",
       "      <td>12</td>\n",
       "      <td>166</td>\n",
       "      <td>6</td>\n",
       "      <td>11</td>\n",
       "    </tr>\n",
       "    <tr>\n",
       "      <th>5</th>\n",
       "      <td>0.907692</td>\n",
       "      <td>0.478261</td>\n",
       "      <td>0.647059</td>\n",
       "      <td>0.550000</td>\n",
       "      <td>0.927199</td>\n",
       "      <td>11</td>\n",
       "      <td>166</td>\n",
       "      <td>6</td>\n",
       "      <td>12</td>\n",
       "    </tr>\n",
       "  </tbody>\n",
       "</table>\n",
       "</div>"
      ],
      "text/plain": [
       "      accuracy    recall  precision  f1_score   roc_auc  true_positive  \\\n",
       "fold                                                                     \n",
       "0     0.943878  0.652174   0.833333  0.731707  0.965067             15   \n",
       "1     0.933673  0.608696   0.777778  0.682927  0.970847             14   \n",
       "2     0.928571  0.608696   0.736842  0.666667  0.957276             14   \n",
       "3     0.933333  0.521739   0.857143  0.648649  0.964863             12   \n",
       "4     0.912821  0.521739   0.666667  0.585366  0.968655             12   \n",
       "5     0.907692  0.478261   0.647059  0.550000  0.927199             11   \n",
       "\n",
       "      true_negative  false_positive  false_negative  \n",
       "fold                                                 \n",
       "0               170               3               8  \n",
       "1               169               4               9  \n",
       "2               168               5               9  \n",
       "3               170               2              11  \n",
       "4               166               6              11  \n",
       "5               166               6              12  "
      ]
     },
     "execution_count": 22,
     "metadata": {},
     "output_type": "execute_result"
    }
   ],
   "source": [
    "metrics = run_cross_validation(X, y, y_test, y_pred, y_prod, False)\n",
    "metrics"
   ]
  },
  {
   "cell_type": "code",
   "execution_count": 24,
   "id": "761239e9",
   "metadata": {},
   "outputs": [
    {
     "name": "stdout",
     "output_type": "stream",
     "text": [
      "Model validation for SVC:\n",
      "[0.9333333333333333, 0.936231884057971, 0.9188405797101449, 0.936231884057971, 0.9273255813953488]\n",
      "\n",
      "Mean accuracy: 0.9304\n",
      "\n"
     ]
    },
    {
     "data": {
      "text/html": [
       "<div>\n",
       "<style scoped>\n",
       "    .dataframe tbody tr th:only-of-type {\n",
       "        vertical-align: middle;\n",
       "    }\n",
       "\n",
       "    .dataframe tbody tr th {\n",
       "        vertical-align: top;\n",
       "    }\n",
       "\n",
       "    .dataframe thead th {\n",
       "        text-align: right;\n",
       "    }\n",
       "</style>\n",
       "<table border=\"1\" class=\"dataframe\">\n",
       "  <thead>\n",
       "    <tr style=\"text-align: right;\">\n",
       "      <th></th>\n",
       "      <th>accuracy</th>\n",
       "      <th>recall</th>\n",
       "      <th>precision</th>\n",
       "      <th>f1_score</th>\n",
       "      <th>roc_auc</th>\n",
       "      <th>true_positive</th>\n",
       "      <th>true_negative</th>\n",
       "      <th>false_positive</th>\n",
       "      <th>false_negative</th>\n",
       "    </tr>\n",
       "    <tr>\n",
       "      <th>fold</th>\n",
       "      <th></th>\n",
       "      <th></th>\n",
       "      <th></th>\n",
       "      <th></th>\n",
       "      <th></th>\n",
       "      <th></th>\n",
       "      <th></th>\n",
       "      <th></th>\n",
       "      <th></th>\n",
       "    </tr>\n",
       "  </thead>\n",
       "  <tbody>\n",
       "    <tr>\n",
       "      <th>0</th>\n",
       "      <td>0.942029</td>\n",
       "      <td>0.976744</td>\n",
       "      <td>0.913043</td>\n",
       "      <td>0.943820</td>\n",
       "      <td>0.975434</td>\n",
       "      <td>168</td>\n",
       "      <td>157</td>\n",
       "      <td>16</td>\n",
       "      <td>4</td>\n",
       "    </tr>\n",
       "    <tr>\n",
       "      <th>1</th>\n",
       "      <td>0.933333</td>\n",
       "      <td>0.988372</td>\n",
       "      <td>0.890052</td>\n",
       "      <td>0.936639</td>\n",
       "      <td>0.967704</td>\n",
       "      <td>170</td>\n",
       "      <td>152</td>\n",
       "      <td>21</td>\n",
       "      <td>2</td>\n",
       "    </tr>\n",
       "    <tr>\n",
       "      <th>2</th>\n",
       "      <td>0.936232</td>\n",
       "      <td>0.976744</td>\n",
       "      <td>0.903226</td>\n",
       "      <td>0.938547</td>\n",
       "      <td>0.969653</td>\n",
       "      <td>168</td>\n",
       "      <td>155</td>\n",
       "      <td>18</td>\n",
       "      <td>4</td>\n",
       "    </tr>\n",
       "    <tr>\n",
       "      <th>3</th>\n",
       "      <td>0.918841</td>\n",
       "      <td>0.936416</td>\n",
       "      <td>0.905028</td>\n",
       "      <td>0.920455</td>\n",
       "      <td>0.972443</td>\n",
       "      <td>162</td>\n",
       "      <td>155</td>\n",
       "      <td>17</td>\n",
       "      <td>11</td>\n",
       "    </tr>\n",
       "    <tr>\n",
       "      <th>4</th>\n",
       "      <td>0.936232</td>\n",
       "      <td>0.953757</td>\n",
       "      <td>0.921788</td>\n",
       "      <td>0.937500</td>\n",
       "      <td>0.962562</td>\n",
       "      <td>165</td>\n",
       "      <td>158</td>\n",
       "      <td>14</td>\n",
       "      <td>8</td>\n",
       "    </tr>\n",
       "    <tr>\n",
       "      <th>5</th>\n",
       "      <td>0.927326</td>\n",
       "      <td>0.988372</td>\n",
       "      <td>0.880829</td>\n",
       "      <td>0.931507</td>\n",
       "      <td>0.969240</td>\n",
       "      <td>170</td>\n",
       "      <td>149</td>\n",
       "      <td>23</td>\n",
       "      <td>2</td>\n",
       "    </tr>\n",
       "  </tbody>\n",
       "</table>\n",
       "</div>"
      ],
      "text/plain": [
       "      accuracy    recall  precision  f1_score   roc_auc  true_positive  \\\n",
       "fold                                                                     \n",
       "0     0.942029  0.976744   0.913043  0.943820  0.975434            168   \n",
       "1     0.933333  0.988372   0.890052  0.936639  0.967704            170   \n",
       "2     0.936232  0.976744   0.903226  0.938547  0.969653            168   \n",
       "3     0.918841  0.936416   0.905028  0.920455  0.972443            162   \n",
       "4     0.936232  0.953757   0.921788  0.937500  0.962562            165   \n",
       "5     0.927326  0.988372   0.880829  0.931507  0.969240            170   \n",
       "\n",
       "      true_negative  false_positive  false_negative  \n",
       "fold                                                 \n",
       "0               157              16               4  \n",
       "1               152              21               2  \n",
       "2               155              18               4  \n",
       "3               155              17              11  \n",
       "4               158              14               8  \n",
       "5               149              23               2  "
      ]
     },
     "execution_count": 24,
     "metadata": {},
     "output_type": "execute_result"
    }
   ],
   "source": [
    "metric_smote = run_cross_validation(X_smote, y_smote, y_test_smote, y_pred_smote, y_prod_smote, True)\n",
    "metric_smote"
   ]
  }
 ],
 "metadata": {
  "kernelspec": {
   "display_name": "Python 3 (ipykernel)",
   "language": "python",
   "name": "python3"
  },
  "language_info": {
   "codemirror_mode": {
    "name": "ipython",
    "version": 3
   },
   "file_extension": ".py",
   "mimetype": "text/x-python",
   "name": "python",
   "nbconvert_exporter": "python",
   "pygments_lexer": "ipython3",
   "version": "3.12.3"
  }
 },
 "nbformat": 4,
 "nbformat_minor": 5
}
