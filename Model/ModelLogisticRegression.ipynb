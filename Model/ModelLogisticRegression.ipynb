{
 "cells": [
  {
   "cell_type": "markdown",
   "id": "1e3b2f6c",
   "metadata": {},
   "source": [
    "### Load dataset"
   ]
  },
  {
   "cell_type": "code",
   "execution_count": null,
   "id": "9b1be007",
   "metadata": {},
   "outputs": [
    {
     "name": "stdout",
     "output_type": "stream",
     "text": [
      "../Data/patient_genes_literature.csv\n",
      "<class 'pandas.core.frame.DataFrame'>\n",
      "RangeIndex: 977 entries, 0 to 976\n",
      "Data columns (total 32 columns):\n",
      " #   Column   Non-Null Count  Dtype \n",
      "---  ------   --------------  ----- \n",
      " 0   FYN      977 non-null    int64 \n",
      " 1   BRCA1    977 non-null    int64 \n",
      " 2   FOXC1    977 non-null    int64 \n",
      " 3   TBC1D1   977 non-null    int64 \n",
      " 4   LAG3     977 non-null    int64 \n",
      " 5   CDK6     977 non-null    int64 \n",
      " 6   GATA3    977 non-null    int64 \n",
      " 7   CCND1    977 non-null    int64 \n",
      " 8   PRR4     977 non-null    int64 \n",
      " 9   EPCAM    977 non-null    int64 \n",
      " 10  CD274    977 non-null    int64 \n",
      " 11  PIK3CA   977 non-null    int64 \n",
      " 12  TOP2A    977 non-null    int64 \n",
      " 13  DCLK1    977 non-null    int64 \n",
      " 14  MYC      977 non-null    int64 \n",
      " 15  LRPPRC   977 non-null    int64 \n",
      " 16  BRCA2    977 non-null    int64 \n",
      " 17  TP53     977 non-null    int64 \n",
      " 18  MKI67    977 non-null    int64 \n",
      " 19  TTN      977 non-null    int64 \n",
      " 20  CTLA4    977 non-null    int64 \n",
      " 21  PTEN     977 non-null    int64 \n",
      " 22  YES1     977 non-null    int64 \n",
      " 23  YOD1     977 non-null    int64 \n",
      " 24  TACSTD2  977 non-null    int64 \n",
      " 25  ROR1     977 non-null    int64 \n",
      " 26  PDCD1    977 non-null    int64 \n",
      " 27  SRC      977 non-null    int64 \n",
      " 28  DDX3X    977 non-null    int64 \n",
      " 29  MALAT1   977 non-null    int64 \n",
      " 30  tnbc     977 non-null    bool  \n",
      " 31  case_id  977 non-null    object\n",
      "dtypes: bool(1), int64(30), object(1)\n",
      "memory usage: 237.7+ KB\n"
     ]
    }
   ],
   "source": [
    "import pandas as pd\n",
    "from enum import StrEnum, auto\n",
    "RANDOM_STATE = 42\n",
    "\n",
    "# NOTE: StrEnum requires Python 3.11+\n",
    "#       Can refactor to CONSTANTS instead\n",
    "class FeatureVariant(StrEnum):\n",
    "    LITERATURE = auto()\n",
    "    RESEARCH = auto()\n",
    "    STATISTICAL = auto()\n",
    "    AUTOMATED = auto()\n",
    "\n",
    "# Can be replaced with desired variant for different feature sets\n",
    "GENE_FILE_VARIANT = FeatureVariant.LITERATURE\n",
    "\n",
    "FILE_PATH = f\"../Data/patient_genes_{GENE_FILE_VARIANT}.csv\"\n",
    "print(FILE_PATH)\n",
    "\n",
    "variant = 'logistic_regression'\n",
    "df = pd.read_csv(FILE_PATH)\n",
    "\n",
    "df.info()"
   ]
  },
  {
   "cell_type": "markdown",
   "id": "8fe5d00e",
   "metadata": {},
   "source": [
    "### Imports"
   ]
  },
  {
   "cell_type": "code",
   "execution_count": 11,
   "id": "d9055ae2",
   "metadata": {},
   "outputs": [],
   "source": [
    "from sklearn.linear_model import LogisticRegression\n",
    "\n",
    "%run \"DataHelpers.ipynb\""
   ]
  },
  {
   "cell_type": "markdown",
   "id": "16a56362",
   "metadata": {},
   "source": [
    "### Dataset split: training and test data"
   ]
  },
  {
   "cell_type": "code",
   "execution_count": 12,
   "id": "fa3b499a",
   "metadata": {},
   "outputs": [
    {
     "name": "stdout",
     "output_type": "stream",
     "text": [
      "X_train.shape=(781, 30)\n",
      "X_test.shape=(196, 30)\n",
      "y_train.shape=(781,)\n",
      "y_test.shape=(196,)\n",
      "\n",
      "Applied Smote\n",
      "X_train.shape=(1379, 30)\n",
      "X_test.shape=(345, 30)\n",
      "y_train.shape=(1379,)\n",
      "y_test.shape=(345,)\n"
     ]
    }
   ],
   "source": [
    "X, y, X_train, X_test, y_train, y_test, test_case_ids = split_data(df, \"tnbc\", True)\n",
    "print(\"\\nApplied Smote\")\n",
    "X_smote, y_smote, X_train_smote, X_test_smote, y_train_smote, y_test_smote, test_case_ids_smote = split_data_apply_smote(df, \"tnbc\")"
   ]
  },
  {
   "cell_type": "markdown",
   "id": "9fd2b767",
   "metadata": {},
   "source": [
    "### Logistic Regression"
   ]
  },
  {
   "cell_type": "code",
   "execution_count": 13,
   "id": "ea297678",
   "metadata": {},
   "outputs": [],
   "source": [
    "# Create model\n",
    "# Bumping max_iter to a higer number than the default 100, MAY resolve the following warning\n",
    "#       ConvergenceWarning: lbfgs failed to converge (status=1): STOP: TOTAL NO. OF ITERATIONS REACHED LIMIT.\n",
    "# TODO: Look into scaling the data\n",
    "\n",
    "model = LogisticRegression(random_state=RANDOM_STATE, solver='lbfgs', max_iter=100_000)\n",
    "\n",
    "\n",
    "def run_model(X_train: pd.DataFrame, X_test: pd.DataFrame, y_train: pd.Series, y_test: pd.Series, test_case_ids, is_smote: bool):\n",
    "    # Train the model\n",
    "    model.fit(X_train, y_train)\n",
    "\n",
    "    # Model predictions\n",
    "    y_pred = model.predict(X_test)\n",
    "    y_prob = model.predict_proba(X_test)[:, 1]  # For ROC curves etc.\n",
    "\n",
    "    # Save it in a dataframe, to CSV\n",
    "    predictions = pd.DataFrame({\n",
    "        \"case_id\": test_case_ids,\n",
    "        \"y_test\": y_test,\n",
    "        \"y_pred\": y_pred,\n",
    "        \"y_prob\": y_prob\n",
    "    })\n",
    "    predictions.to_csv(f\"../Data/model_output_{variant}_{GENE_FILE_VARIANT}_{'smote' if is_smote else ''}.csv\", index=False)\n",
    "\n",
    "    return y_pred, y_prob"
   ]
  },
  {
   "cell_type": "code",
   "execution_count": 14,
   "id": "92ba219c",
   "metadata": {},
   "outputs": [
    {
     "name": "stdout",
     "output_type": "stream",
     "text": [
      "Accuracy: 0.93\n"
     ]
    }
   ],
   "source": [
    "y_pred, y_prod = run_model(X_train, X_test, y_train, y_test, test_case_ids, False)\n",
    "\n",
    "print_evaluated_model_accuracy(y_test, y_pred)"
   ]
  },
  {
   "cell_type": "markdown",
   "id": "69dd43cc",
   "metadata": {},
   "source": [
    "## Smote applied"
   ]
  },
  {
   "cell_type": "code",
   "execution_count": 15,
   "id": "48dbd181",
   "metadata": {},
   "outputs": [
    {
     "name": "stdout",
     "output_type": "stream",
     "text": [
      "Accuracy: 0.94\n"
     ]
    }
   ],
   "source": [
    "y_pred_smote, y_prod_smote = run_model(X_train_smote, X_test_smote, y_train_smote, y_test_smote, test_case_ids_smote, True)\n",
    "\n",
    "print_evaluated_model_accuracy(y_test_smote, y_pred_smote)"
   ]
  },
  {
   "cell_type": "markdown",
   "id": "f75724b4",
   "metadata": {},
   "source": [
    "## Model cross validation"
   ]
  },
  {
   "cell_type": "code",
   "execution_count": 18,
   "id": "ddaa7b22",
   "metadata": {},
   "outputs": [],
   "source": [
    "def run_cross_validation(X: pd.DataFrame, y: pd.Series, y_test: pd.Series, y_pred: pd.Series, y_prob: pd.Series, is_smote: bool) -> pd.DataFrame:\n",
    "    metrics = get_cross_validation_metrics(model, X, y, cv=5)\n",
    "    test_metrics = get_metrics(y_test, y_pred, y_prob)\n",
    "    test_metrics[\"fold\"] = 0 # Initial test metrics (before cross validation)\n",
    "    test = pd.DataFrame([test_metrics])\n",
    "    test.set_index(\"fold\", inplace=True)\n",
    "\n",
    "    print_validated_model_accuracy(model, metrics)\n",
    "\n",
    "    # Prepend test_metrics to metrics dataframe, export and display\n",
    "    metrics = pd.concat([test, metrics])\n",
    "    metrics.to_csv(f\"../Data/model_metrics_{variant}_{GENE_FILE_VARIANT}_{'smote' if is_smote else ''}.csv\", index=False)\n",
    "    return metrics"
   ]
  },
  {
   "cell_type": "code",
   "execution_count": 17,
   "id": "4b7e5238",
   "metadata": {},
   "outputs": [
    {
     "name": "stderr",
     "output_type": "stream",
     "text": [
      "c:\\Users\\pauli\\source\\repos\\School\\tnbc\\.venv\\Lib\\site-packages\\sklearn\\linear_model\\_logistic.py:465: ConvergenceWarning: lbfgs failed to converge (status=1):\n",
      "STOP: TOTAL NO. OF F,G EVALUATIONS EXCEEDS LIMIT.\n",
      "\n",
      "Increase the number of iterations (max_iter) or scale the data as shown in:\n",
      "    https://scikit-learn.org/stable/modules/preprocessing.html\n",
      "Please also refer to the documentation for alternative solver options:\n",
      "    https://scikit-learn.org/stable/modules/linear_model.html#logistic-regression\n",
      "  n_iter_i = _check_optimize_result(\n",
      "c:\\Users\\pauli\\source\\repos\\School\\tnbc\\.venv\\Lib\\site-packages\\sklearn\\linear_model\\_logistic.py:465: ConvergenceWarning: lbfgs failed to converge (status=1):\n",
      "STOP: TOTAL NO. OF F,G EVALUATIONS EXCEEDS LIMIT.\n",
      "\n",
      "Increase the number of iterations (max_iter) or scale the data as shown in:\n",
      "    https://scikit-learn.org/stable/modules/preprocessing.html\n",
      "Please also refer to the documentation for alternative solver options:\n",
      "    https://scikit-learn.org/stable/modules/linear_model.html#logistic-regression\n",
      "  n_iter_i = _check_optimize_result(\n",
      "c:\\Users\\pauli\\source\\repos\\School\\tnbc\\.venv\\Lib\\site-packages\\sklearn\\linear_model\\_logistic.py:465: ConvergenceWarning: lbfgs failed to converge (status=1):\n",
      "STOP: TOTAL NO. OF F,G EVALUATIONS EXCEEDS LIMIT.\n",
      "\n",
      "Increase the number of iterations (max_iter) or scale the data as shown in:\n",
      "    https://scikit-learn.org/stable/modules/preprocessing.html\n",
      "Please also refer to the documentation for alternative solver options:\n",
      "    https://scikit-learn.org/stable/modules/linear_model.html#logistic-regression\n",
      "  n_iter_i = _check_optimize_result(\n"
     ]
    },
    {
     "name": "stdout",
     "output_type": "stream",
     "text": [
      "Model validation for LogisticRegression:\n",
      "[0.9183673469387755, 0.9540816326530612, 0.958974358974359, 0.8871794871794871, 0.9179487179487179]\n",
      "\n",
      "Mean accuracy: 0.9273\n",
      "\n"
     ]
    },
    {
     "data": {
      "application/vnd.microsoft.datawrangler.viewer.v0+json": {
       "columns": [
        {
         "name": "fold",
         "rawType": "int64",
         "type": "integer"
        },
        {
         "name": "accuracy",
         "rawType": "float64",
         "type": "float"
        },
        {
         "name": "recall",
         "rawType": "float64",
         "type": "float"
        },
        {
         "name": "precision",
         "rawType": "float64",
         "type": "float"
        },
        {
         "name": "f1_score",
         "rawType": "float64",
         "type": "float"
        },
        {
         "name": "roc_auc",
         "rawType": "float64",
         "type": "float"
        },
        {
         "name": "true_positive",
         "rawType": "int64",
         "type": "integer"
        },
        {
         "name": "true_negative",
         "rawType": "int64",
         "type": "integer"
        },
        {
         "name": "false_positive",
         "rawType": "int64",
         "type": "integer"
        },
        {
         "name": "false_negative",
         "rawType": "int64",
         "type": "integer"
        }
       ],
       "ref": "0accd774-d0cf-4353-b866-f1a2d73ea8b8",
       "rows": [
        [
         "0",
         "0.9336734693877551",
         "0.6521739130434783",
         "0.75",
         "0.6976744186046512",
         "0.9607941693892939",
         "15",
         "168",
         "5",
         "8"
        ],
        [
         "1",
         "0.9183673469387755",
         "0.6086956521739131",
         "0.6666666666666666",
         "0.6363636363636364",
         "0.9570243779844182",
         "14",
         "166",
         "7",
         "9"
        ],
        [
         "2",
         "0.9540816326530612",
         "0.782608695652174",
         "0.8181818181818182",
         "0.8",
         "0.9814023624026138",
         "18",
         "169",
         "4",
         "5"
        ],
        [
         "3",
         "0.958974358974359",
         "0.8260869565217391",
         "0.8260869565217391",
         "0.8260869565217391",
         "0.9408493427704753",
         "19",
         "168",
         "4",
         "4"
        ],
        [
         "4",
         "0.8871794871794871",
         "0.43478260869565216",
         "0.5263157894736842",
         "0.47619047619047616",
         "0.8933265925176946",
         "10",
         "163",
         "9",
         "13"
        ],
        [
         "5",
         "0.9179487179487179",
         "0.6086956521739131",
         "0.6666666666666666",
         "0.6363636363636364",
         "0.9471688574317493",
         "14",
         "165",
         "7",
         "9"
        ]
       ],
       "shape": {
        "columns": 9,
        "rows": 6
       }
      },
      "text/html": [
       "<div>\n",
       "<style scoped>\n",
       "    .dataframe tbody tr th:only-of-type {\n",
       "        vertical-align: middle;\n",
       "    }\n",
       "\n",
       "    .dataframe tbody tr th {\n",
       "        vertical-align: top;\n",
       "    }\n",
       "\n",
       "    .dataframe thead th {\n",
       "        text-align: right;\n",
       "    }\n",
       "</style>\n",
       "<table border=\"1\" class=\"dataframe\">\n",
       "  <thead>\n",
       "    <tr style=\"text-align: right;\">\n",
       "      <th></th>\n",
       "      <th>accuracy</th>\n",
       "      <th>recall</th>\n",
       "      <th>precision</th>\n",
       "      <th>f1_score</th>\n",
       "      <th>roc_auc</th>\n",
       "      <th>true_positive</th>\n",
       "      <th>true_negative</th>\n",
       "      <th>false_positive</th>\n",
       "      <th>false_negative</th>\n",
       "    </tr>\n",
       "    <tr>\n",
       "      <th>fold</th>\n",
       "      <th></th>\n",
       "      <th></th>\n",
       "      <th></th>\n",
       "      <th></th>\n",
       "      <th></th>\n",
       "      <th></th>\n",
       "      <th></th>\n",
       "      <th></th>\n",
       "      <th></th>\n",
       "    </tr>\n",
       "  </thead>\n",
       "  <tbody>\n",
       "    <tr>\n",
       "      <th>0</th>\n",
       "      <td>0.933673</td>\n",
       "      <td>0.652174</td>\n",
       "      <td>0.750000</td>\n",
       "      <td>0.697674</td>\n",
       "      <td>0.960794</td>\n",
       "      <td>15</td>\n",
       "      <td>168</td>\n",
       "      <td>5</td>\n",
       "      <td>8</td>\n",
       "    </tr>\n",
       "    <tr>\n",
       "      <th>1</th>\n",
       "      <td>0.918367</td>\n",
       "      <td>0.608696</td>\n",
       "      <td>0.666667</td>\n",
       "      <td>0.636364</td>\n",
       "      <td>0.957024</td>\n",
       "      <td>14</td>\n",
       "      <td>166</td>\n",
       "      <td>7</td>\n",
       "      <td>9</td>\n",
       "    </tr>\n",
       "    <tr>\n",
       "      <th>2</th>\n",
       "      <td>0.954082</td>\n",
       "      <td>0.782609</td>\n",
       "      <td>0.818182</td>\n",
       "      <td>0.800000</td>\n",
       "      <td>0.981402</td>\n",
       "      <td>18</td>\n",
       "      <td>169</td>\n",
       "      <td>4</td>\n",
       "      <td>5</td>\n",
       "    </tr>\n",
       "    <tr>\n",
       "      <th>3</th>\n",
       "      <td>0.958974</td>\n",
       "      <td>0.826087</td>\n",
       "      <td>0.826087</td>\n",
       "      <td>0.826087</td>\n",
       "      <td>0.940849</td>\n",
       "      <td>19</td>\n",
       "      <td>168</td>\n",
       "      <td>4</td>\n",
       "      <td>4</td>\n",
       "    </tr>\n",
       "    <tr>\n",
       "      <th>4</th>\n",
       "      <td>0.887179</td>\n",
       "      <td>0.434783</td>\n",
       "      <td>0.526316</td>\n",
       "      <td>0.476190</td>\n",
       "      <td>0.893327</td>\n",
       "      <td>10</td>\n",
       "      <td>163</td>\n",
       "      <td>9</td>\n",
       "      <td>13</td>\n",
       "    </tr>\n",
       "    <tr>\n",
       "      <th>5</th>\n",
       "      <td>0.917949</td>\n",
       "      <td>0.608696</td>\n",
       "      <td>0.666667</td>\n",
       "      <td>0.636364</td>\n",
       "      <td>0.947169</td>\n",
       "      <td>14</td>\n",
       "      <td>165</td>\n",
       "      <td>7</td>\n",
       "      <td>9</td>\n",
       "    </tr>\n",
       "  </tbody>\n",
       "</table>\n",
       "</div>"
      ],
      "text/plain": [
       "      accuracy    recall  precision  f1_score   roc_auc  true_positive  \\\n",
       "fold                                                                     \n",
       "0     0.933673  0.652174   0.750000  0.697674  0.960794             15   \n",
       "1     0.918367  0.608696   0.666667  0.636364  0.957024             14   \n",
       "2     0.954082  0.782609   0.818182  0.800000  0.981402             18   \n",
       "3     0.958974  0.826087   0.826087  0.826087  0.940849             19   \n",
       "4     0.887179  0.434783   0.526316  0.476190  0.893327             10   \n",
       "5     0.917949  0.608696   0.666667  0.636364  0.947169             14   \n",
       "\n",
       "      true_negative  false_positive  false_negative  \n",
       "fold                                                 \n",
       "0               168               5               8  \n",
       "1               166               7               9  \n",
       "2               169               4               5  \n",
       "3               168               4               4  \n",
       "4               163               9              13  \n",
       "5               165               7               9  "
      ]
     },
     "execution_count": 17,
     "metadata": {},
     "output_type": "execute_result"
    }
   ],
   "source": [
    "# Still getting warning:\n",
    "#   ConvergenceWarning: lbfgs failed to converge (status=1):\n",
    "#                       STOP: TOTAL NO. OF F,G EVALUATIONS EXCEEDS LIMIT.\n",
    "metrics = run_cross_validation(X, y, y_test, y_pred, y_prod, False)\n",
    "metrics"
   ]
  },
  {
   "cell_type": "code",
   "execution_count": 9,
   "id": "b93ea337",
   "metadata": {},
   "outputs": [
    {
     "name": "stderr",
     "output_type": "stream",
     "text": [
      "c:\\Users\\pauli\\source\\repos\\School\\tnbc\\.venv\\Lib\\site-packages\\sklearn\\linear_model\\_logistic.py:465: ConvergenceWarning: lbfgs failed to converge (status=1):\n",
      "STOP: TOTAL NO. OF F,G EVALUATIONS EXCEEDS LIMIT.\n",
      "\n",
      "Increase the number of iterations (max_iter) or scale the data as shown in:\n",
      "    https://scikit-learn.org/stable/modules/preprocessing.html\n",
      "Please also refer to the documentation for alternative solver options:\n",
      "    https://scikit-learn.org/stable/modules/linear_model.html#logistic-regression\n",
      "  n_iter_i = _check_optimize_result(\n"
     ]
    },
    {
     "name": "stdout",
     "output_type": "stream",
     "text": [
      "Model validation for LogisticRegression:\n",
      "[0.936231884057971, 0.9420289855072463, 0.9217391304347826, 0.9304347826086956, 0.936046511627907]\n",
      "\n",
      "Mean accuracy: 0.9333\n",
      "\n"
     ]
    },
    {
     "name": "stderr",
     "output_type": "stream",
     "text": [
      "c:\\Users\\pauli\\source\\repos\\School\\tnbc\\.venv\\Lib\\site-packages\\sklearn\\linear_model\\_logistic.py:465: ConvergenceWarning: lbfgs failed to converge (status=1):\n",
      "STOP: TOTAL NO. OF F,G EVALUATIONS EXCEEDS LIMIT.\n",
      "\n",
      "Increase the number of iterations (max_iter) or scale the data as shown in:\n",
      "    https://scikit-learn.org/stable/modules/preprocessing.html\n",
      "Please also refer to the documentation for alternative solver options:\n",
      "    https://scikit-learn.org/stable/modules/linear_model.html#logistic-regression\n",
      "  n_iter_i = _check_optimize_result(\n"
     ]
    },
    {
     "data": {
      "application/vnd.microsoft.datawrangler.viewer.v0+json": {
       "columns": [
        {
         "name": "fold",
         "rawType": "int64",
         "type": "integer"
        },
        {
         "name": "accuracy",
         "rawType": "float64",
         "type": "float"
        },
        {
         "name": "recall",
         "rawType": "float64",
         "type": "float"
        },
        {
         "name": "precision",
         "rawType": "float64",
         "type": "float"
        },
        {
         "name": "f1_score",
         "rawType": "float64",
         "type": "float"
        },
        {
         "name": "roc_auc",
         "rawType": "float64",
         "type": "float"
        },
        {
         "name": "true_positive",
         "rawType": "int64",
         "type": "integer"
        },
        {
         "name": "true_negative",
         "rawType": "int64",
         "type": "integer"
        },
        {
         "name": "false_positive",
         "rawType": "int64",
         "type": "integer"
        },
        {
         "name": "false_negative",
         "rawType": "int64",
         "type": "integer"
        }
       ],
       "ref": "56da5608-3001-46c3-b5c3-cdada6fc722b",
       "rows": [
        [
         "0",
         "0.936231884057971",
         "0.9593023255813954",
         "0.9166666666666666",
         "0.9375",
         "0.9764753327060088",
         "165",
         "158",
         "15",
         "7"
        ],
        [
         "1",
         "0.936231884057971",
         "0.9709302325581395",
         "0.907608695652174",
         "0.9382022471910112",
         "0.9676703858045436",
         "167",
         "156",
         "17",
         "5"
        ],
        [
         "2",
         "0.9420289855072463",
         "0.9709302325581395",
         "0.9175824175824175",
         "0.943502824858757",
         "0.9748622126629923",
         "167",
         "158",
         "15",
         "5"
        ],
        [
         "3",
         "0.9217391304347826",
         "0.9190751445086706",
         "0.9244186046511628",
         "0.9217391304347826",
         "0.9720728592552762",
         "159",
         "159",
         "13",
         "14"
        ],
        [
         "4",
         "0.9304347826086956",
         "0.9421965317919075",
         "0.9209039548022598",
         "0.9314285714285714",
         "0.9642088990455706",
         "163",
         "158",
         "14",
         "10"
        ],
        [
         "5",
         "0.936046511627907",
         "0.9709302325581395",
         "0.907608695652174",
         "0.9382022471910112",
         "0.965386695511087",
         "167",
         "155",
         "17",
         "5"
        ]
       ],
       "shape": {
        "columns": 9,
        "rows": 6
       }
      },
      "text/html": [
       "<div>\n",
       "<style scoped>\n",
       "    .dataframe tbody tr th:only-of-type {\n",
       "        vertical-align: middle;\n",
       "    }\n",
       "\n",
       "    .dataframe tbody tr th {\n",
       "        vertical-align: top;\n",
       "    }\n",
       "\n",
       "    .dataframe thead th {\n",
       "        text-align: right;\n",
       "    }\n",
       "</style>\n",
       "<table border=\"1\" class=\"dataframe\">\n",
       "  <thead>\n",
       "    <tr style=\"text-align: right;\">\n",
       "      <th></th>\n",
       "      <th>accuracy</th>\n",
       "      <th>recall</th>\n",
       "      <th>precision</th>\n",
       "      <th>f1_score</th>\n",
       "      <th>roc_auc</th>\n",
       "      <th>true_positive</th>\n",
       "      <th>true_negative</th>\n",
       "      <th>false_positive</th>\n",
       "      <th>false_negative</th>\n",
       "    </tr>\n",
       "    <tr>\n",
       "      <th>fold</th>\n",
       "      <th></th>\n",
       "      <th></th>\n",
       "      <th></th>\n",
       "      <th></th>\n",
       "      <th></th>\n",
       "      <th></th>\n",
       "      <th></th>\n",
       "      <th></th>\n",
       "      <th></th>\n",
       "    </tr>\n",
       "  </thead>\n",
       "  <tbody>\n",
       "    <tr>\n",
       "      <th>0</th>\n",
       "      <td>0.936232</td>\n",
       "      <td>0.959302</td>\n",
       "      <td>0.916667</td>\n",
       "      <td>0.937500</td>\n",
       "      <td>0.976475</td>\n",
       "      <td>165</td>\n",
       "      <td>158</td>\n",
       "      <td>15</td>\n",
       "      <td>7</td>\n",
       "    </tr>\n",
       "    <tr>\n",
       "      <th>1</th>\n",
       "      <td>0.936232</td>\n",
       "      <td>0.970930</td>\n",
       "      <td>0.907609</td>\n",
       "      <td>0.938202</td>\n",
       "      <td>0.967670</td>\n",
       "      <td>167</td>\n",
       "      <td>156</td>\n",
       "      <td>17</td>\n",
       "      <td>5</td>\n",
       "    </tr>\n",
       "    <tr>\n",
       "      <th>2</th>\n",
       "      <td>0.942029</td>\n",
       "      <td>0.970930</td>\n",
       "      <td>0.917582</td>\n",
       "      <td>0.943503</td>\n",
       "      <td>0.974862</td>\n",
       "      <td>167</td>\n",
       "      <td>158</td>\n",
       "      <td>15</td>\n",
       "      <td>5</td>\n",
       "    </tr>\n",
       "    <tr>\n",
       "      <th>3</th>\n",
       "      <td>0.921739</td>\n",
       "      <td>0.919075</td>\n",
       "      <td>0.924419</td>\n",
       "      <td>0.921739</td>\n",
       "      <td>0.972073</td>\n",
       "      <td>159</td>\n",
       "      <td>159</td>\n",
       "      <td>13</td>\n",
       "      <td>14</td>\n",
       "    </tr>\n",
       "    <tr>\n",
       "      <th>4</th>\n",
       "      <td>0.930435</td>\n",
       "      <td>0.942197</td>\n",
       "      <td>0.920904</td>\n",
       "      <td>0.931429</td>\n",
       "      <td>0.964209</td>\n",
       "      <td>163</td>\n",
       "      <td>158</td>\n",
       "      <td>14</td>\n",
       "      <td>10</td>\n",
       "    </tr>\n",
       "    <tr>\n",
       "      <th>5</th>\n",
       "      <td>0.936047</td>\n",
       "      <td>0.970930</td>\n",
       "      <td>0.907609</td>\n",
       "      <td>0.938202</td>\n",
       "      <td>0.965387</td>\n",
       "      <td>167</td>\n",
       "      <td>155</td>\n",
       "      <td>17</td>\n",
       "      <td>5</td>\n",
       "    </tr>\n",
       "  </tbody>\n",
       "</table>\n",
       "</div>"
      ],
      "text/plain": [
       "      accuracy    recall  precision  f1_score   roc_auc  true_positive  \\\n",
       "fold                                                                     \n",
       "0     0.936232  0.959302   0.916667  0.937500  0.976475            165   \n",
       "1     0.936232  0.970930   0.907609  0.938202  0.967670            167   \n",
       "2     0.942029  0.970930   0.917582  0.943503  0.974862            167   \n",
       "3     0.921739  0.919075   0.924419  0.921739  0.972073            159   \n",
       "4     0.930435  0.942197   0.920904  0.931429  0.964209            163   \n",
       "5     0.936047  0.970930   0.907609  0.938202  0.965387            167   \n",
       "\n",
       "      true_negative  false_positive  false_negative  \n",
       "fold                                                 \n",
       "0               158              15               7  \n",
       "1               156              17               5  \n",
       "2               158              15               5  \n",
       "3               159              13              14  \n",
       "4               158              14              10  \n",
       "5               155              17               5  "
      ]
     },
     "execution_count": 9,
     "metadata": {},
     "output_type": "execute_result"
    }
   ],
   "source": [
    "# Still getting warning:\n",
    "#   ConvergenceWarning: lbfgs failed to converge (status=1):\n",
    "#                       STOP: TOTAL NO. OF F,G EVALUATIONS EXCEEDS LIMIT.\n",
    "metric_smote = run_cross_validation(X_smote, y_smote, y_test_smote, y_pred_smote, y_prod_smote, True)\n",
    "metric_smote"
   ]
  }
 ],
 "metadata": {
  "kernelspec": {
   "display_name": ".venv",
   "language": "python",
   "name": "python3"
  },
  "language_info": {
   "codemirror_mode": {
    "name": "ipython",
    "version": 3
   },
   "file_extension": ".py",
   "mimetype": "text/x-python",
   "name": "python",
   "nbconvert_exporter": "python",
   "pygments_lexer": "ipython3",
   "version": "3.11.5"
  }
 },
 "nbformat": 4,
 "nbformat_minor": 5
}
