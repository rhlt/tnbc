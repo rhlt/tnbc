{
 "cells": [
  {
   "cell_type": "markdown",
   "id": "1e3b2f6c",
   "metadata": {},
   "source": [
    "### Load dataset"
   ]
  },
  {
   "cell_type": "code",
   "execution_count": 1,
   "id": "9b1be007",
   "metadata": {},
   "outputs": [
    {
     "name": "stdout",
     "output_type": "stream",
     "text": [
      "<class 'pandas.core.frame.DataFrame'>\n",
      "RangeIndex: 977 entries, 0 to 976\n",
      "Data columns (total 21 columns):\n",
      " #   Column    Non-Null Count  Dtype \n",
      "---  ------    --------------  ----- \n",
      " 0   CACNA2D2  977 non-null    int64 \n",
      " 1   ESR1      977 non-null    int64 \n",
      " 2   AGR2      977 non-null    int64 \n",
      " 3   GATA3     977 non-null    int64 \n",
      " 4   SLC16A6   977 non-null    int64 \n",
      " 5   TBC1D9    977 non-null    int64 \n",
      " 6   INPP4B    977 non-null    int64 \n",
      " 7   LDHB      977 non-null    int64 \n",
      " 8   MLPH      977 non-null    int64 \n",
      " 9   TSPAN1    977 non-null    int64 \n",
      " 10  STBD1     977 non-null    int64 \n",
      " 11  STARD3    977 non-null    int64 \n",
      " 12  RARA      977 non-null    int64 \n",
      " 13  MCCC2     977 non-null    int64 \n",
      " 14  PSAT1     977 non-null    int64 \n",
      " 15  MFGE8     977 non-null    int64 \n",
      " 16  ANXA9     977 non-null    int64 \n",
      " 17  PPP1R14C  977 non-null    int64 \n",
      " 18  SLC44A4   977 non-null    int64 \n",
      " 19  tnbc      977 non-null    bool  \n",
      " 20  case_id   977 non-null    object\n",
      "dtypes: bool(1), int64(19), object(1)\n",
      "memory usage: 153.7+ KB\n"
     ]
    }
   ],
   "source": [
    "import pandas as pd\n",
    "\n",
    "RANDOM_STATE = 42\n",
    "\n",
    "FILE_PATH = \"../Data/patient_genes_literature.csv\" # Can be replaced with desired variant for different feature sets\n",
    "variant = 'logistic_regression'\n",
    "df = pd.read_csv(FILE_PATH)\n",
    "\n",
    "df.info()"
   ]
  },
  {
   "cell_type": "markdown",
   "id": "8fe5d00e",
   "metadata": {},
   "source": [
    "### Imports"
   ]
  },
  {
   "cell_type": "code",
   "execution_count": 2,
   "id": "d9055ae2",
   "metadata": {},
   "outputs": [],
   "source": [
    "from sklearn.model_selection import train_test_split\n",
    "from sklearn.linear_model import LogisticRegression\n",
    "\n",
    "%run \"DataHelpers.ipynb\""
   ]
  },
  {
   "cell_type": "markdown",
   "id": "16a56362",
   "metadata": {},
   "source": [
    "### Dataset split: training and test data"
   ]
  },
  {
   "cell_type": "code",
   "execution_count": 3,
   "id": "fa3b499a",
   "metadata": {},
   "outputs": [
    {
     "name": "stdout",
     "output_type": "stream",
     "text": [
      "X_train.shape=(781, 19)\n",
      "X_test.shape=(196, 19)\n",
      "y_train.shape=(781,)\n",
      "y_test.shape=(196,)\n"
     ]
    }
   ],
   "source": [
    "X, y, X_train, X_test, y_train, y_test, test_case_id = split_data(df, \"tnbc\", \"case_id\")"
   ]
  },
  {
   "cell_type": "markdown",
   "id": "9fd2b767",
   "metadata": {},
   "source": [
    "### Logistic Regression"
   ]
  },
  {
   "cell_type": "code",
   "execution_count": 4,
   "id": "ea297678",
   "metadata": {},
   "outputs": [
    {
     "name": "stdout",
     "output_type": "stream",
     "text": [
      "Accuracy: 0.94\n"
     ]
    }
   ],
   "source": [
    "# Create model\n",
    "# Bumping max_iter to a higer number than the default 100, resolves the following warning\n",
    "#       ConvergenceWarning: lbfgs failed to converge (status=1): STOP: TOTAL NO. OF ITERATIONS REACHED LIMIT.\n",
    "\n",
    "model = LogisticRegression(random_state=RANDOM_STATE, solver='lbfgs', max_iter=1000000)\n",
    "\n",
    "# Train the model\n",
    "model.fit(X_train, y_train)\n",
    "\n",
    "# Model predictions\n",
    "y_pred = model.predict(X_test)\n",
    "y_prob = model.predict_proba(X_test)[:, 1]  # For ROC curves etc.\n",
    "\n",
    "# Save it in a dataframe, to CSV\n",
    "predictions = pd.DataFrame({\n",
    "    \"case_id\": test_case_id,\n",
    "    \"y_test\": y_test,\n",
    "    \"y_pred\": y_pred,\n",
    "    \"y_prob\": y_prob\n",
    "})\n",
    "predictions.to_csv(f\"../Data/model_output_{variant}.csv\", index=False)\n",
    "\n",
    "# Evaluate model\n",
    "print_evaluated_model_accuracy(y_test, y_pred)"
   ]
  },
  {
   "cell_type": "markdown",
   "id": "fe5f1ed6",
   "metadata": {},
   "source": [
    "## Model cross validation"
   ]
  },
  {
   "cell_type": "code",
   "execution_count": 5,
   "id": "4b7e5238",
   "metadata": {},
   "outputs": [
    {
     "name": "stdout",
     "output_type": "stream",
     "text": [
      "Model validation for LogisticRegression:\n",
      "[0.9336734693877551, 0.9438775510204082, 0.9538461538461539, 0.9435897435897436, 0.9435897435897436]\n",
      "\n",
      "Mean accuracy: 0.9437\n",
      "\n"
     ]
    },
    {
     "data": {
      "text/html": [
       "<div>\n",
       "<style scoped>\n",
       "    .dataframe tbody tr th:only-of-type {\n",
       "        vertical-align: middle;\n",
       "    }\n",
       "\n",
       "    .dataframe tbody tr th {\n",
       "        vertical-align: top;\n",
       "    }\n",
       "\n",
       "    .dataframe thead th {\n",
       "        text-align: right;\n",
       "    }\n",
       "</style>\n",
       "<table border=\"1\" class=\"dataframe\">\n",
       "  <thead>\n",
       "    <tr style=\"text-align: right;\">\n",
       "      <th></th>\n",
       "      <th>accuracy</th>\n",
       "      <th>recall</th>\n",
       "      <th>precision</th>\n",
       "      <th>f1_score</th>\n",
       "      <th>roc_auc</th>\n",
       "      <th>true_positive</th>\n",
       "      <th>true_negative</th>\n",
       "      <th>false_positive</th>\n",
       "      <th>false_negative</th>\n",
       "    </tr>\n",
       "    <tr>\n",
       "      <th>fold</th>\n",
       "      <th></th>\n",
       "      <th></th>\n",
       "      <th></th>\n",
       "      <th></th>\n",
       "      <th></th>\n",
       "      <th></th>\n",
       "      <th></th>\n",
       "      <th></th>\n",
       "      <th></th>\n",
       "    </tr>\n",
       "  </thead>\n",
       "  <tbody>\n",
       "    <tr>\n",
       "      <th>0</th>\n",
       "      <td>0.938776</td>\n",
       "      <td>1.000000</td>\n",
       "      <td>0.657143</td>\n",
       "      <td>0.793103</td>\n",
       "      <td>0.977633</td>\n",
       "      <td>23</td>\n",
       "      <td>161</td>\n",
       "      <td>12</td>\n",
       "      <td>0</td>\n",
       "    </tr>\n",
       "    <tr>\n",
       "      <th>1</th>\n",
       "      <td>0.933673</td>\n",
       "      <td>0.869565</td>\n",
       "      <td>0.666667</td>\n",
       "      <td>0.754717</td>\n",
       "      <td>0.958030</td>\n",
       "      <td>20</td>\n",
       "      <td>163</td>\n",
       "      <td>10</td>\n",
       "      <td>3</td>\n",
       "    </tr>\n",
       "    <tr>\n",
       "      <th>2</th>\n",
       "      <td>0.943878</td>\n",
       "      <td>0.869565</td>\n",
       "      <td>0.714286</td>\n",
       "      <td>0.784314</td>\n",
       "      <td>0.964815</td>\n",
       "      <td>20</td>\n",
       "      <td>165</td>\n",
       "      <td>8</td>\n",
       "      <td>3</td>\n",
       "    </tr>\n",
       "    <tr>\n",
       "      <th>3</th>\n",
       "      <td>0.953846</td>\n",
       "      <td>0.826087</td>\n",
       "      <td>0.791667</td>\n",
       "      <td>0.808511</td>\n",
       "      <td>0.959050</td>\n",
       "      <td>19</td>\n",
       "      <td>167</td>\n",
       "      <td>5</td>\n",
       "      <td>4</td>\n",
       "    </tr>\n",
       "    <tr>\n",
       "      <th>4</th>\n",
       "      <td>0.943590</td>\n",
       "      <td>0.869565</td>\n",
       "      <td>0.714286</td>\n",
       "      <td>0.784314</td>\n",
       "      <td>0.964105</td>\n",
       "      <td>20</td>\n",
       "      <td>164</td>\n",
       "      <td>8</td>\n",
       "      <td>3</td>\n",
       "    </tr>\n",
       "    <tr>\n",
       "      <th>5</th>\n",
       "      <td>0.943590</td>\n",
       "      <td>0.869565</td>\n",
       "      <td>0.714286</td>\n",
       "      <td>0.784314</td>\n",
       "      <td>0.952477</td>\n",
       "      <td>20</td>\n",
       "      <td>164</td>\n",
       "      <td>8</td>\n",
       "      <td>3</td>\n",
       "    </tr>\n",
       "  </tbody>\n",
       "</table>\n",
       "</div>"
      ],
      "text/plain": [
       "      accuracy    recall  precision  f1_score   roc_auc  true_positive  \\\n",
       "fold                                                                     \n",
       "0     0.938776  1.000000   0.657143  0.793103  0.977633             23   \n",
       "1     0.933673  0.869565   0.666667  0.754717  0.958030             20   \n",
       "2     0.943878  0.869565   0.714286  0.784314  0.964815             20   \n",
       "3     0.953846  0.826087   0.791667  0.808511  0.959050             19   \n",
       "4     0.943590  0.869565   0.714286  0.784314  0.964105             20   \n",
       "5     0.943590  0.869565   0.714286  0.784314  0.952477             20   \n",
       "\n",
       "      true_negative  false_positive  false_negative  \n",
       "fold                                                 \n",
       "0               161              12               0  \n",
       "1               163              10               3  \n",
       "2               165               8               3  \n",
       "3               167               5               4  \n",
       "4               164               8               3  \n",
       "5               164               8               3  "
      ]
     },
     "execution_count": 5,
     "metadata": {},
     "output_type": "execute_result"
    }
   ],
   "source": [
    "metrics = get_cross_validation_metrics(model, X, y, 5)\n",
    "test_metrics = get_metrics(y_test, y_pred, y_prob)\n",
    "test_metrics[\"fold\"] = 0 # Initial test metrics (before cross validation)\n",
    "test = pd.DataFrame([test_metrics])\n",
    "test.set_index(\"fold\", inplace=True)\n",
    "\n",
    "print_validated_model_accuracy(model, metrics)\n",
    "\n",
    "# Prepend test_metrics to metrics dataframe, export and display\n",
    "metrics = pd.concat([test, metrics])\n",
    "metrics.to_csv(f\"../Data/model_metrics_{variant}.csv\", index=False)\n",
    "metrics"
   ]
  }
 ],
 "metadata": {
  "kernelspec": {
   "display_name": "Python 3 (ipykernel)",
   "language": "python",
   "name": "python3"
  },
  "language_info": {
   "codemirror_mode": {
    "name": "ipython",
    "version": 3
   },
   "file_extension": ".py",
   "mimetype": "text/x-python",
   "name": "python",
   "nbconvert_exporter": "python",
   "pygments_lexer": "ipython3",
   "version": "3.12.7"
  }
 },
 "nbformat": 4,
 "nbformat_minor": 5
}
