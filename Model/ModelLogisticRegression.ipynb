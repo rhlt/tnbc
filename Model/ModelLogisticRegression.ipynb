{
 "cells": [
  {
   "cell_type": "markdown",
   "id": "1e3b2f6c",
   "metadata": {},
   "source": [
    "### Load dataset"
   ]
  },
  {
   "cell_type": "code",
   "execution_count": 3,
   "id": "9b1be007",
   "metadata": {},
   "outputs": [
    {
     "name": "stdout",
     "output_type": "stream",
     "text": [
      "<class 'pandas.core.frame.DataFrame'>\n",
      "RangeIndex: 977 entries, 0 to 976\n",
      "Data columns (total 33 columns):\n",
      " #   Column   Non-Null Count  Dtype  \n",
      "---  ------   --------------  -----  \n",
      " 0   BRCA1    977 non-null    float64\n",
      " 1   BRCA2    977 non-null    float64\n",
      " 2   CD274    977 non-null    float64\n",
      " 3   MKI67    977 non-null    float64\n",
      " 4   PDCD1    977 non-null    float64\n",
      " 5   PIK3CA   977 non-null    float64\n",
      " 6   TP53     977 non-null    float64\n",
      " 7   LRPPRC   977 non-null    float64\n",
      " 8   YOD1     977 non-null    float64\n",
      " 9   DCLK1    977 non-null    float64\n",
      " 10  TOP2A    977 non-null    float64\n",
      " 11  TACSTD2  977 non-null    float64\n",
      " 12  ROR1     977 non-null    float64\n",
      " 13  TTN      977 non-null    float64\n",
      " 14  CTLA4    977 non-null    float64\n",
      " 15  EGFR     977 non-null    float64\n",
      " 16  EPCAM    977 non-null    float64\n",
      " 17  MYC      977 non-null    float64\n",
      " 18  PTEN     977 non-null    float64\n",
      " 19  CDK6     977 non-null    float64\n",
      " 20  DDX3X    977 non-null    float64\n",
      " 21  SRC      977 non-null    float64\n",
      " 22  YES1     977 non-null    float64\n",
      " 23  FYN      977 non-null    float64\n",
      " 24  TBC1D1   977 non-null    float64\n",
      " 25  FOXC1    977 non-null    float64\n",
      " 26  EZH2     977 non-null    float64\n",
      " 27  LAG3     977 non-null    float64\n",
      " 28  GATA3    977 non-null    float64\n",
      " 29  CCND1    977 non-null    float64\n",
      " 30  PRR4     977 non-null    float64\n",
      " 31  tnbc     977 non-null    bool   \n",
      " 32  case_id  977 non-null    object \n",
      "dtypes: bool(1), float64(31), object(1)\n",
      "memory usage: 245.3+ KB\n"
     ]
    }
   ],
   "source": [
    "import pandas as pd\n",
    "\n",
    "%run \"DataHelpers.ipynb\"\n",
    "\n",
    "# Can be replaced with desired variant for different feature sets\n",
    "GENE_FILE_VARIANT = FeatureVariant.RESEARCHPAPERS # For values, see FeatureVariant.print_info()\n",
    "variant = ModelVariant.LG                      # For values, see ModelVariant.print_info()\n",
    "\n",
    "FILE_PATH = f\"../Data/patient_genes_{GENE_FILE_VARIANT}.csv\"\n",
    "\n",
    "df = pd.read_csv(FILE_PATH)\n",
    "\n",
    "df.info()"
   ]
  },
  {
   "cell_type": "markdown",
   "id": "8fe5d00e",
   "metadata": {},
   "source": [
    "### Import model function"
   ]
  },
  {
   "cell_type": "code",
   "execution_count": 4,
   "id": "d9055ae2",
   "metadata": {},
   "outputs": [],
   "source": [
    "from sklearn.linear_model import LogisticRegression"
   ]
  },
  {
   "cell_type": "markdown",
   "id": "16a56362",
   "metadata": {},
   "source": [
    "### Dataset split: training and test data"
   ]
  },
  {
   "cell_type": "code",
   "execution_count": 5,
   "id": "fa3b499a",
   "metadata": {},
   "outputs": [
    {
     "name": "stdout",
     "output_type": "stream",
     "text": [
      "X_train.shape=(781, 31)\n",
      "X_test.shape=(196, 31)\n",
      "y_train.shape=(781,)\n",
      "y_test.shape=(196,)\n",
      "\n",
      "Applied Smote\n",
      "X_train.shape=(1379, 31)\n",
      "X_test.shape=(345, 31)\n",
      "y_train.shape=(1379,)\n",
      "y_test.shape=(345,)\n"
     ]
    }
   ],
   "source": [
    "X, y, X_train, X_test, y_train, y_test, test_case_ids = split_data(df, \"tnbc\", True)\n",
    "print(\"\\nApplied Smote\")\n",
    "X_smote, y_smote, X_train_smote, X_test_smote, y_train_smote, y_test_smote, test_case_ids_smote = split_data_apply_smote(df, \"tnbc\")"
   ]
  },
  {
   "cell_type": "markdown",
   "id": "9fd2b767",
   "metadata": {},
   "source": [
    "### Logistic Regression"
   ]
  },
  {
   "cell_type": "code",
   "execution_count": 6,
   "id": "ea297678",
   "metadata": {},
   "outputs": [],
   "source": [
    "# Create model\n",
    "# Bumping max_iter to a higer number than the default 100, MAY resolve the following warning\n",
    "#       ConvergenceWarning: lbfgs failed to converge (status=1): STOP: TOTAL NO. OF ITERATIONS REACHED LIMIT.\n",
    "# TODO: Look into scaling the data\n",
    "\n",
    "model = LogisticRegression(random_state=RANDOM_STATE, solver='lbfgs', max_iter=100_000)\n",
    "\n",
    "\n",
    "def run_model(X_train: pd.DataFrame, X_test: pd.DataFrame, y_train: pd.Series, y_test: pd.Series, test_case_ids, is_smote: bool):\n",
    "    # Train the model\n",
    "    model.fit(X_train, y_train)\n",
    "\n",
    "    # Model predictions\n",
    "    y_pred = model.predict(X_test)\n",
    "    y_prob = model.predict_proba(X_test)[:, 1]  # For ROC curves etc.\n",
    "\n",
    "    # Save it in a dataframe, to CSV\n",
    "    predictions = pd.DataFrame({\n",
    "        \"case_id\": test_case_ids,\n",
    "        \"y_test\": y_test,\n",
    "        \"y_pred\": y_pred,\n",
    "        \"y_prob\": y_prob\n",
    "    })\n",
    "    predictions.to_csv(f\"../Data/model_output_{variant}_{GENE_FILE_VARIANT}{'_smote' if is_smote else ''}.csv\", index=False)\n",
    "\n",
    "    return y_pred, y_prob"
   ]
  },
  {
   "cell_type": "code",
   "execution_count": 7,
   "id": "92ba219c",
   "metadata": {},
   "outputs": [
    {
     "name": "stdout",
     "output_type": "stream",
     "text": [
      "Accuracy: 0.95\n"
     ]
    }
   ],
   "source": [
    "y_pred, y_prod = run_model(X_train, X_test, y_train, y_test, test_case_ids, False)\n",
    "\n",
    "print_evaluated_model_accuracy(y_test, y_pred)"
   ]
  },
  {
   "cell_type": "markdown",
   "id": "69dd43cc",
   "metadata": {},
   "source": [
    "## Smote applied"
   ]
  },
  {
   "cell_type": "code",
   "execution_count": 8,
   "id": "48dbd181",
   "metadata": {},
   "outputs": [
    {
     "name": "stdout",
     "output_type": "stream",
     "text": [
      "Accuracy: 0.96\n"
     ]
    }
   ],
   "source": [
    "y_pred_smote, y_prod_smote = run_model(X_train_smote, X_test_smote, y_train_smote, y_test_smote, test_case_ids_smote, True)\n",
    "\n",
    "print_evaluated_model_accuracy(y_test_smote, y_pred_smote)"
   ]
  },
  {
   "cell_type": "markdown",
   "id": "f75724b4",
   "metadata": {},
   "source": [
    "## Model cross validation"
   ]
  },
  {
   "cell_type": "code",
   "execution_count": 9,
   "id": "ddaa7b22",
   "metadata": {},
   "outputs": [],
   "source": [
    "def run_cross_validation(X: pd.DataFrame, y: pd.Series, y_test: pd.Series, y_pred: pd.Series, y_prob: pd.Series, is_smote: bool) -> pd.DataFrame:\n",
    "    metrics = get_cross_validation_metrics(model, X, y, cv=5)\n",
    "    test_metrics = get_metrics(y_test, y_pred, y_prob)\n",
    "    test_metrics[\"fold\"] = 0 # Initial test metrics (before cross validation)\n",
    "    test = pd.DataFrame([test_metrics])\n",
    "    test.set_index(\"fold\", inplace=True)\n",
    "\n",
    "    print_validated_model_accuracy(model, metrics)\n",
    "\n",
    "    # Prepend test_metrics to metrics dataframe, export and display\n",
    "    metrics = pd.concat([test, metrics])\n",
    "    metrics.to_csv(f\"../Data/model_metrics_{variant}_{GENE_FILE_VARIANT}{'_smote' if is_smote else ''}.csv\", index=False)\n",
    "    return metrics"
   ]
  },
  {
   "cell_type": "code",
   "execution_count": 10,
   "id": "4b7e5238",
   "metadata": {},
   "outputs": [
    {
     "name": "stdout",
     "output_type": "stream",
     "text": [
      "Model validation for LogisticRegression:\n",
      "[0.9336734693877551, 0.9540816326530612, 0.9435897435897436, 0.9333333333333333, 0.9282051282051282]\n",
      "\n",
      "Mean accuracy: 0.9386\n",
      "\n"
     ]
    },
    {
     "data": {
      "text/html": [
       "<div>\n",
       "<style scoped>\n",
       "    .dataframe tbody tr th:only-of-type {\n",
       "        vertical-align: middle;\n",
       "    }\n",
       "\n",
       "    .dataframe tbody tr th {\n",
       "        vertical-align: top;\n",
       "    }\n",
       "\n",
       "    .dataframe thead th {\n",
       "        text-align: right;\n",
       "    }\n",
       "</style>\n",
       "<table border=\"1\" class=\"dataframe\">\n",
       "  <thead>\n",
       "    <tr style=\"text-align: right;\">\n",
       "      <th></th>\n",
       "      <th>accuracy</th>\n",
       "      <th>recall</th>\n",
       "      <th>precision</th>\n",
       "      <th>f1_score</th>\n",
       "      <th>roc_auc</th>\n",
       "      <th>true_positive</th>\n",
       "      <th>true_negative</th>\n",
       "      <th>false_positive</th>\n",
       "      <th>false_negative</th>\n",
       "    </tr>\n",
       "    <tr>\n",
       "      <th>fold</th>\n",
       "      <th></th>\n",
       "      <th></th>\n",
       "      <th></th>\n",
       "      <th></th>\n",
       "      <th></th>\n",
       "      <th></th>\n",
       "      <th></th>\n",
       "      <th></th>\n",
       "      <th></th>\n",
       "    </tr>\n",
       "  </thead>\n",
       "  <tbody>\n",
       "    <tr>\n",
       "      <th>0</th>\n",
       "      <td>0.948980</td>\n",
       "      <td>0.869565</td>\n",
       "      <td>0.740741</td>\n",
       "      <td>0.800000</td>\n",
       "      <td>0.980900</td>\n",
       "      <td>20</td>\n",
       "      <td>166</td>\n",
       "      <td>7</td>\n",
       "      <td>3</td>\n",
       "    </tr>\n",
       "    <tr>\n",
       "      <th>1</th>\n",
       "      <td>0.933673</td>\n",
       "      <td>0.652174</td>\n",
       "      <td>0.750000</td>\n",
       "      <td>0.697674</td>\n",
       "      <td>0.970847</td>\n",
       "      <td>15</td>\n",
       "      <td>168</td>\n",
       "      <td>5</td>\n",
       "      <td>8</td>\n",
       "    </tr>\n",
       "    <tr>\n",
       "      <th>2</th>\n",
       "      <td>0.954082</td>\n",
       "      <td>0.782609</td>\n",
       "      <td>0.818182</td>\n",
       "      <td>0.800000</td>\n",
       "      <td>0.968585</td>\n",
       "      <td>18</td>\n",
       "      <td>169</td>\n",
       "      <td>4</td>\n",
       "      <td>5</td>\n",
       "    </tr>\n",
       "    <tr>\n",
       "      <th>3</th>\n",
       "      <td>0.943590</td>\n",
       "      <td>0.739130</td>\n",
       "      <td>0.772727</td>\n",
       "      <td>0.755556</td>\n",
       "      <td>0.956775</td>\n",
       "      <td>17</td>\n",
       "      <td>167</td>\n",
       "      <td>5</td>\n",
       "      <td>6</td>\n",
       "    </tr>\n",
       "    <tr>\n",
       "      <th>4</th>\n",
       "      <td>0.933333</td>\n",
       "      <td>0.695652</td>\n",
       "      <td>0.727273</td>\n",
       "      <td>0.711111</td>\n",
       "      <td>0.938322</td>\n",
       "      <td>16</td>\n",
       "      <td>166</td>\n",
       "      <td>6</td>\n",
       "      <td>7</td>\n",
       "    </tr>\n",
       "    <tr>\n",
       "      <th>5</th>\n",
       "      <td>0.928205</td>\n",
       "      <td>0.652174</td>\n",
       "      <td>0.714286</td>\n",
       "      <td>0.681818</td>\n",
       "      <td>0.935288</td>\n",
       "      <td>15</td>\n",
       "      <td>166</td>\n",
       "      <td>6</td>\n",
       "      <td>8</td>\n",
       "    </tr>\n",
       "  </tbody>\n",
       "</table>\n",
       "</div>"
      ],
      "text/plain": [
       "      accuracy    recall  precision  f1_score   roc_auc  true_positive  \\\n",
       "fold                                                                     \n",
       "0     0.948980  0.869565   0.740741  0.800000  0.980900             20   \n",
       "1     0.933673  0.652174   0.750000  0.697674  0.970847             15   \n",
       "2     0.954082  0.782609   0.818182  0.800000  0.968585             18   \n",
       "3     0.943590  0.739130   0.772727  0.755556  0.956775             17   \n",
       "4     0.933333  0.695652   0.727273  0.711111  0.938322             16   \n",
       "5     0.928205  0.652174   0.714286  0.681818  0.935288             15   \n",
       "\n",
       "      true_negative  false_positive  false_negative  \n",
       "fold                                                 \n",
       "0               166               7               3  \n",
       "1               168               5               8  \n",
       "2               169               4               5  \n",
       "3               167               5               6  \n",
       "4               166               6               7  \n",
       "5               166               6               8  "
      ]
     },
     "execution_count": 10,
     "metadata": {},
     "output_type": "execute_result"
    }
   ],
   "source": [
    "# Still getting warning:\n",
    "#   ConvergenceWarning: lbfgs failed to converge (status=1):\n",
    "#                       STOP: TOTAL NO. OF F,G EVALUATIONS EXCEEDS LIMIT.\n",
    "metrics = run_cross_validation(X, y, y_test, y_pred, y_prod, False)\n",
    "metrics"
   ]
  },
  {
   "cell_type": "code",
   "execution_count": 11,
   "id": "b93ea337",
   "metadata": {},
   "outputs": [
    {
     "name": "stdout",
     "output_type": "stream",
     "text": [
      "Model validation for LogisticRegression:\n",
      "[0.9420289855072463, 0.9478260869565217, 0.936231884057971, 0.9420289855072463, 0.9418604651162791]\n",
      "\n",
      "Mean accuracy: 0.9420\n",
      "\n"
     ]
    },
    {
     "data": {
      "text/html": [
       "<div>\n",
       "<style scoped>\n",
       "    .dataframe tbody tr th:only-of-type {\n",
       "        vertical-align: middle;\n",
       "    }\n",
       "\n",
       "    .dataframe tbody tr th {\n",
       "        vertical-align: top;\n",
       "    }\n",
       "\n",
       "    .dataframe thead th {\n",
       "        text-align: right;\n",
       "    }\n",
       "</style>\n",
       "<table border=\"1\" class=\"dataframe\">\n",
       "  <thead>\n",
       "    <tr style=\"text-align: right;\">\n",
       "      <th></th>\n",
       "      <th>accuracy</th>\n",
       "      <th>recall</th>\n",
       "      <th>precision</th>\n",
       "      <th>f1_score</th>\n",
       "      <th>roc_auc</th>\n",
       "      <th>true_positive</th>\n",
       "      <th>true_negative</th>\n",
       "      <th>false_positive</th>\n",
       "      <th>false_negative</th>\n",
       "    </tr>\n",
       "    <tr>\n",
       "      <th>fold</th>\n",
       "      <th></th>\n",
       "      <th></th>\n",
       "      <th></th>\n",
       "      <th></th>\n",
       "      <th></th>\n",
       "      <th></th>\n",
       "      <th></th>\n",
       "      <th></th>\n",
       "      <th></th>\n",
       "    </tr>\n",
       "  </thead>\n",
       "  <tbody>\n",
       "    <tr>\n",
       "      <th>0</th>\n",
       "      <td>0.956522</td>\n",
       "      <td>0.970930</td>\n",
       "      <td>0.943503</td>\n",
       "      <td>0.957020</td>\n",
       "      <td>0.981550</td>\n",
       "      <td>167</td>\n",
       "      <td>163</td>\n",
       "      <td>10</td>\n",
       "      <td>5</td>\n",
       "    </tr>\n",
       "    <tr>\n",
       "      <th>1</th>\n",
       "      <td>0.942029</td>\n",
       "      <td>0.959302</td>\n",
       "      <td>0.926966</td>\n",
       "      <td>0.942857</td>\n",
       "      <td>0.971434</td>\n",
       "      <td>165</td>\n",
       "      <td>160</td>\n",
       "      <td>13</td>\n",
       "      <td>7</td>\n",
       "    </tr>\n",
       "    <tr>\n",
       "      <th>2</th>\n",
       "      <td>0.947826</td>\n",
       "      <td>0.953488</td>\n",
       "      <td>0.942529</td>\n",
       "      <td>0.947977</td>\n",
       "      <td>0.974358</td>\n",
       "      <td>164</td>\n",
       "      <td>163</td>\n",
       "      <td>10</td>\n",
       "      <td>8</td>\n",
       "    </tr>\n",
       "    <tr>\n",
       "      <th>3</th>\n",
       "      <td>0.936232</td>\n",
       "      <td>0.924855</td>\n",
       "      <td>0.946746</td>\n",
       "      <td>0.935673</td>\n",
       "      <td>0.975669</td>\n",
       "      <td>160</td>\n",
       "      <td>163</td>\n",
       "      <td>9</td>\n",
       "      <td>13</td>\n",
       "    </tr>\n",
       "    <tr>\n",
       "      <th>4</th>\n",
       "      <td>0.942029</td>\n",
       "      <td>0.959538</td>\n",
       "      <td>0.927374</td>\n",
       "      <td>0.943182</td>\n",
       "      <td>0.961856</td>\n",
       "      <td>166</td>\n",
       "      <td>159</td>\n",
       "      <td>13</td>\n",
       "      <td>7</td>\n",
       "    </tr>\n",
       "    <tr>\n",
       "      <th>5</th>\n",
       "      <td>0.941860</td>\n",
       "      <td>0.941860</td>\n",
       "      <td>0.941860</td>\n",
       "      <td>0.941860</td>\n",
       "      <td>0.969105</td>\n",
       "      <td>162</td>\n",
       "      <td>162</td>\n",
       "      <td>10</td>\n",
       "      <td>10</td>\n",
       "    </tr>\n",
       "  </tbody>\n",
       "</table>\n",
       "</div>"
      ],
      "text/plain": [
       "      accuracy    recall  precision  f1_score   roc_auc  true_positive  \\\n",
       "fold                                                                     \n",
       "0     0.956522  0.970930   0.943503  0.957020  0.981550            167   \n",
       "1     0.942029  0.959302   0.926966  0.942857  0.971434            165   \n",
       "2     0.947826  0.953488   0.942529  0.947977  0.974358            164   \n",
       "3     0.936232  0.924855   0.946746  0.935673  0.975669            160   \n",
       "4     0.942029  0.959538   0.927374  0.943182  0.961856            166   \n",
       "5     0.941860  0.941860   0.941860  0.941860  0.969105            162   \n",
       "\n",
       "      true_negative  false_positive  false_negative  \n",
       "fold                                                 \n",
       "0               163              10               5  \n",
       "1               160              13               7  \n",
       "2               163              10               8  \n",
       "3               163               9              13  \n",
       "4               159              13               7  \n",
       "5               162              10              10  "
      ]
     },
     "execution_count": 11,
     "metadata": {},
     "output_type": "execute_result"
    }
   ],
   "source": [
    "# Still getting warning:\n",
    "#   ConvergenceWarning: lbfgs failed to converge (status=1):\n",
    "#                       STOP: TOTAL NO. OF F,G EVALUATIONS EXCEEDS LIMIT.\n",
    "metric_smote = run_cross_validation(X_smote, y_smote, y_test_smote, y_pred_smote, y_prod_smote, True)\n",
    "metric_smote"
   ]
  },
  {
   "cell_type": "code",
   "execution_count": null,
   "id": "a370a122-33ca-46bb-8440-eba578477e7a",
   "metadata": {},
   "outputs": [],
   "source": []
  }
 ],
 "metadata": {
  "kernelspec": {
   "display_name": "Python 3 (ipykernel)",
   "language": "python",
   "name": "python3"
  },
  "language_info": {
   "codemirror_mode": {
    "name": "ipython",
    "version": 3
   },
   "file_extension": ".py",
   "mimetype": "text/x-python",
   "name": "python",
   "nbconvert_exporter": "python",
   "pygments_lexer": "ipython3",
   "version": "3.12.3"
  }
 },
 "nbformat": 4,
 "nbformat_minor": 5
}
