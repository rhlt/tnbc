{
 "cells": [
  {
   "cell_type": "markdown",
   "id": "1e3b2f6c",
   "metadata": {},
   "source": [
    "### Load dataset"
   ]
  },
  {
   "cell_type": "code",
   "execution_count": 1,
   "id": "9b1be007",
   "metadata": {},
   "outputs": [
    {
     "name": "stdout",
     "output_type": "stream",
     "text": [
      "<class 'pandas.core.frame.DataFrame'>\n",
      "RangeIndex: 977 entries, 0 to 976\n",
      "Data columns (total 21 columns):\n",
      " #   Column    Non-Null Count  Dtype \n",
      "---  ------    --------------  ----- \n",
      " 0   CACNA2D2  977 non-null    int64 \n",
      " 1   ESR1      977 non-null    int64 \n",
      " 2   AGR2      977 non-null    int64 \n",
      " 3   GATA3     977 non-null    int64 \n",
      " 4   SLC16A6   977 non-null    int64 \n",
      " 5   TBC1D9    977 non-null    int64 \n",
      " 6   INPP4B    977 non-null    int64 \n",
      " 7   LDHB      977 non-null    int64 \n",
      " 8   MLPH      977 non-null    int64 \n",
      " 9   TSPAN1    977 non-null    int64 \n",
      " 10  STBD1     977 non-null    int64 \n",
      " 11  STARD3    977 non-null    int64 \n",
      " 12  RARA      977 non-null    int64 \n",
      " 13  MCCC2     977 non-null    int64 \n",
      " 14  PSAT1     977 non-null    int64 \n",
      " 15  MFGE8     977 non-null    int64 \n",
      " 16  ANXA9     977 non-null    int64 \n",
      " 17  PPP1R14C  977 non-null    int64 \n",
      " 18  SLC44A4   977 non-null    int64 \n",
      " 19  tnbc      977 non-null    bool  \n",
      " 20  case_id   977 non-null    object\n",
      "dtypes: bool(1), int64(19), object(1)\n",
      "memory usage: 153.7+ KB\n"
     ]
    }
   ],
   "source": [
    "import pandas as pd\n",
    "\n",
    "RANDOM_STATE = 42\n",
    "\n",
    "FILE_PATH = \"../Data/patient_genes_literature.csv\" # Can be replaced with desired variant for different feature sets\n",
    "variant = 'random_forest'\n",
    "df = pd.read_csv(FILE_PATH)\n",
    "\n",
    "df.info()"
   ]
  },
  {
   "cell_type": "markdown",
   "id": "8fe5d00e",
   "metadata": {},
   "source": [
    "### Imports"
   ]
  },
  {
   "cell_type": "code",
   "execution_count": 2,
   "id": "d9055ae2",
   "metadata": {},
   "outputs": [],
   "source": [
    "from sklearn.model_selection import train_test_split\n",
    "from sklearn.ensemble import RandomForestClassifier\n",
    "\n",
    "%run \"DataHelpers.ipynb\""
   ]
  },
  {
   "cell_type": "markdown",
   "id": "16a56362",
   "metadata": {},
   "source": [
    "### Dataset split: training and test data"
   ]
  },
  {
   "cell_type": "code",
   "execution_count": 3,
   "id": "fa3b499a",
   "metadata": {},
   "outputs": [
    {
     "name": "stdout",
     "output_type": "stream",
     "text": [
      "X_train.shape=(781, 19)\n",
      "X_test.shape=(196, 19)\n",
      "y_train.shape=(781,)\n",
      "y_test.shape=(196,)\n"
     ]
    }
   ],
   "source": [
    "X, y, X_train, X_test, y_train, y_test, test_case_id = split_data(df, \"tnbc\", \"case_id\")"
   ]
  },
  {
   "cell_type": "markdown",
   "id": "9fd2b767",
   "metadata": {},
   "source": [
    "### Random Forest"
   ]
  },
  {
   "cell_type": "code",
   "execution_count": 4,
   "id": "ea297678",
   "metadata": {},
   "outputs": [
    {
     "name": "stdout",
     "output_type": "stream",
     "text": [
      "Accuracy: 0.94\n"
     ]
    }
   ],
   "source": [
    "# Create model\n",
    "\n",
    "model = RandomForestClassifier(random_state=RANDOM_STATE)\n",
    "\n",
    "# Train the model\n",
    "model.fit(X_train, y_train)\n",
    "\n",
    "# Model predictions\n",
    "y_pred = model.predict(X_test)\n",
    "y_prob = model.predict_proba(X_test)[:, 1]  # For ROC curves etc.\n",
    "\n",
    "# Save it in a dataframe, to CSV\n",
    "predictions = pd.DataFrame({\n",
    "    \"case_id\": test_case_id,\n",
    "    \"y_true\": y_test,\n",
    "    \"y_pred\": y_pred,\n",
    "    \"y_prob\": y_prob\n",
    "})\n",
    "predictions.to_csv(f\"../Data/model_output_{variant}.csv\", index=False)\n",
    "\n",
    "# Evaluate model\n",
    "print_evaluated_model_accuracy(y_test, y_pred)"
   ]
  },
  {
   "cell_type": "markdown",
   "id": "fe5f1ed6",
   "metadata": {},
   "source": [
    "## Model cross validation"
   ]
  },
  {
   "cell_type": "code",
   "execution_count": 5,
   "id": "4b7e5238",
   "metadata": {},
   "outputs": [
    {
     "name": "stdout",
     "output_type": "stream",
     "text": [
      "Model validation for RandomForestClassifier:\n",
      "[0.9285714285714286, 0.9387755102040817, 0.9384615384615385, 0.9435897435897436, 0.9487179487179487]\n",
      "\n",
      "Mean accuracy: 0.9396\n",
      "\n"
     ]
    },
    {
     "data": {
      "text/html": [
       "<div>\n",
       "<style scoped>\n",
       "    .dataframe tbody tr th:only-of-type {\n",
       "        vertical-align: middle;\n",
       "    }\n",
       "\n",
       "    .dataframe tbody tr th {\n",
       "        vertical-align: top;\n",
       "    }\n",
       "\n",
       "    .dataframe thead th {\n",
       "        text-align: right;\n",
       "    }\n",
       "</style>\n",
       "<table border=\"1\" class=\"dataframe\">\n",
       "  <thead>\n",
       "    <tr style=\"text-align: right;\">\n",
       "      <th></th>\n",
       "      <th>accuracy</th>\n",
       "      <th>recall</th>\n",
       "      <th>precision</th>\n",
       "      <th>f1_score</th>\n",
       "      <th>roc_auc</th>\n",
       "      <th>true_positive</th>\n",
       "      <th>true_negative</th>\n",
       "      <th>false_positive</th>\n",
       "      <th>false_negative</th>\n",
       "    </tr>\n",
       "    <tr>\n",
       "      <th>fold</th>\n",
       "      <th></th>\n",
       "      <th></th>\n",
       "      <th></th>\n",
       "      <th></th>\n",
       "      <th></th>\n",
       "      <th></th>\n",
       "      <th></th>\n",
       "      <th></th>\n",
       "      <th></th>\n",
       "    </tr>\n",
       "  </thead>\n",
       "  <tbody>\n",
       "    <tr>\n",
       "      <th>0</th>\n",
       "      <td>0.938776</td>\n",
       "      <td>0.869565</td>\n",
       "      <td>0.689655</td>\n",
       "      <td>0.769231</td>\n",
       "      <td>0.978512</td>\n",
       "      <td>20</td>\n",
       "      <td>164</td>\n",
       "      <td>9</td>\n",
       "      <td>3</td>\n",
       "    </tr>\n",
       "    <tr>\n",
       "      <th>1</th>\n",
       "      <td>0.928571</td>\n",
       "      <td>0.826087</td>\n",
       "      <td>0.655172</td>\n",
       "      <td>0.730769</td>\n",
       "      <td>0.959286</td>\n",
       "      <td>19</td>\n",
       "      <td>163</td>\n",
       "      <td>10</td>\n",
       "      <td>4</td>\n",
       "    </tr>\n",
       "    <tr>\n",
       "      <th>2</th>\n",
       "      <td>0.938776</td>\n",
       "      <td>0.782609</td>\n",
       "      <td>0.720000</td>\n",
       "      <td>0.750000</td>\n",
       "      <td>0.964941</td>\n",
       "      <td>18</td>\n",
       "      <td>166</td>\n",
       "      <td>7</td>\n",
       "      <td>5</td>\n",
       "    </tr>\n",
       "    <tr>\n",
       "      <th>3</th>\n",
       "      <td>0.938462</td>\n",
       "      <td>0.652174</td>\n",
       "      <td>0.789474</td>\n",
       "      <td>0.714286</td>\n",
       "      <td>0.975480</td>\n",
       "      <td>15</td>\n",
       "      <td>168</td>\n",
       "      <td>4</td>\n",
       "      <td>8</td>\n",
       "    </tr>\n",
       "    <tr>\n",
       "      <th>4</th>\n",
       "      <td>0.943590</td>\n",
       "      <td>0.782609</td>\n",
       "      <td>0.750000</td>\n",
       "      <td>0.765957</td>\n",
       "      <td>0.967644</td>\n",
       "      <td>18</td>\n",
       "      <td>166</td>\n",
       "      <td>6</td>\n",
       "      <td>5</td>\n",
       "    </tr>\n",
       "    <tr>\n",
       "      <th>5</th>\n",
       "      <td>0.948718</td>\n",
       "      <td>0.869565</td>\n",
       "      <td>0.740741</td>\n",
       "      <td>0.800000</td>\n",
       "      <td>0.952098</td>\n",
       "      <td>20</td>\n",
       "      <td>165</td>\n",
       "      <td>7</td>\n",
       "      <td>3</td>\n",
       "    </tr>\n",
       "  </tbody>\n",
       "</table>\n",
       "</div>"
      ],
      "text/plain": [
       "      accuracy    recall  precision  f1_score   roc_auc  true_positive  \\\n",
       "fold                                                                     \n",
       "0     0.938776  0.869565   0.689655  0.769231  0.978512             20   \n",
       "1     0.928571  0.826087   0.655172  0.730769  0.959286             19   \n",
       "2     0.938776  0.782609   0.720000  0.750000  0.964941             18   \n",
       "3     0.938462  0.652174   0.789474  0.714286  0.975480             15   \n",
       "4     0.943590  0.782609   0.750000  0.765957  0.967644             18   \n",
       "5     0.948718  0.869565   0.740741  0.800000  0.952098             20   \n",
       "\n",
       "      true_negative  false_positive  false_negative  \n",
       "fold                                                 \n",
       "0               164               9               3  \n",
       "1               163              10               4  \n",
       "2               166               7               5  \n",
       "3               168               4               8  \n",
       "4               166               6               5  \n",
       "5               165               7               3  "
      ]
     },
     "execution_count": 5,
     "metadata": {},
     "output_type": "execute_result"
    }
   ],
   "source": [
    "metrics = get_cross_validation_metrics(model, X, y, 5)\n",
    "test_metrics = get_metrics(y_test, y_pred, y_prob)\n",
    "test_metrics[\"fold\"] = 0 # Initial test metrics (before cross validation)\n",
    "test = pd.DataFrame([test_metrics])\n",
    "test.set_index(\"fold\", inplace=True)\n",
    "\n",
    "print_validated_model_accuracy(model, metrics)\n",
    "\n",
    "# Prepend test_metrics to metrics dataframe, export and display\n",
    "metrics = pd.concat([test, metrics])\n",
    "metrics.to_csv(f\"../Data/model_metrics_{variant}.csv\", index=False)\n",
    "metrics"
   ]
  }
 ],
 "metadata": {
  "kernelspec": {
   "display_name": "Python 3 (ipykernel)",
   "language": "python",
   "name": "python3"
  },
  "language_info": {
   "codemirror_mode": {
    "name": "ipython",
    "version": 3
   },
   "file_extension": ".py",
   "mimetype": "text/x-python",
   "name": "python",
   "nbconvert_exporter": "python",
   "pygments_lexer": "ipython3",
   "version": "3.12.7"
  }
 },
 "nbformat": 4,
 "nbformat_minor": 5
}
