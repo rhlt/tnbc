{
 "cells": [
  {
   "cell_type": "markdown",
   "id": "1e3b2f6c",
   "metadata": {},
   "source": [
    "### Load dataset"
   ]
  },
  {
   "cell_type": "code",
   "execution_count": 28,
   "id": "9b1be007",
   "metadata": {},
   "outputs": [
    {
     "name": "stdout",
     "output_type": "stream",
     "text": [
      "<class 'pandas.core.frame.DataFrame'>\n",
      "RangeIndex: 977 entries, 0 to 976\n",
      "Data columns (total 33 columns):\n",
      " #   Column   Non-Null Count  Dtype  \n",
      "---  ------   --------------  -----  \n",
      " 0   FYN      977 non-null    float64\n",
      " 1   BRCA1    977 non-null    float64\n",
      " 2   FOXC1    977 non-null    float64\n",
      " 3   TBC1D1   977 non-null    float64\n",
      " 4   LAG3     977 non-null    float64\n",
      " 5   CDK6     977 non-null    float64\n",
      " 6   GATA3    977 non-null    float64\n",
      " 7   CCND1    977 non-null    float64\n",
      " 8   PRR4     977 non-null    float64\n",
      " 9   EPCAM    977 non-null    float64\n",
      " 10  CD274    977 non-null    float64\n",
      " 11  PIK3CA   977 non-null    float64\n",
      " 12  TOP2A    977 non-null    float64\n",
      " 13  DCLK1    977 non-null    float64\n",
      " 14  MYC      977 non-null    float64\n",
      " 15  LRPPRC   977 non-null    float64\n",
      " 16  BRCA2    977 non-null    float64\n",
      " 17  TP53     977 non-null    float64\n",
      " 18  EGFR     977 non-null    float64\n",
      " 19  MKI67    977 non-null    float64\n",
      " 20  TTN      977 non-null    float64\n",
      " 21  CTLA4    977 non-null    float64\n",
      " 22  PTEN     977 non-null    float64\n",
      " 23  YES1     977 non-null    float64\n",
      " 24  YOD1     977 non-null    float64\n",
      " 25  TACSTD2  977 non-null    float64\n",
      " 26  ROR1     977 non-null    float64\n",
      " 27  PDCD1    977 non-null    float64\n",
      " 28  SRC      977 non-null    float64\n",
      " 29  DDX3X    977 non-null    float64\n",
      " 30  MALAT1   977 non-null    float64\n",
      " 31  tnbc     977 non-null    bool   \n",
      " 32  case_id  977 non-null    object \n",
      "dtypes: bool(1), float64(31), object(1)\n",
      "memory usage: 245.3+ KB\n"
     ]
    }
   ],
   "source": [
    "import pandas as pd\n",
    "RANDOM_STATE = 42\n",
    "\n",
    "%run \"DataHelpers.ipynb\"\n",
    "\n",
    "# Can be replaced with desired variant for different feature sets\n",
    "GENE_FILE_VARIANT = FeatureVariant.RESEARCH_LOG # For values, see FeatureVariant.print_info()\n",
    "variant = ModelVariant.RF                      # For values, see ModelVariant.print_info()\n",
    "\n",
    "FILE_PATH = f\"../Data/patient_genes_{GENE_FILE_VARIANT}.csv\"\n",
    "\n",
    "df = pd.read_csv(FILE_PATH)\n",
    "\n",
    "df.info()"
   ]
  },
  {
   "cell_type": "markdown",
   "id": "8fe5d00e",
   "metadata": {},
   "source": [
    "### Import model function"
   ]
  },
  {
   "cell_type": "code",
   "execution_count": 29,
   "id": "d9055ae2",
   "metadata": {},
   "outputs": [],
   "source": [
    "from sklearn.ensemble import RandomForestClassifier"
   ]
  },
  {
   "cell_type": "markdown",
   "id": "16a56362",
   "metadata": {},
   "source": [
    "### Dataset split: training and test data"
   ]
  },
  {
   "cell_type": "code",
   "execution_count": 30,
   "id": "fa3b499a",
   "metadata": {},
   "outputs": [
    {
     "name": "stdout",
     "output_type": "stream",
     "text": [
      "X_train.shape=(781, 31)\n",
      "X_test.shape=(196, 31)\n",
      "y_train.shape=(781,)\n",
      "y_test.shape=(196,)\n",
      "\n",
      "Applied Smote\n",
      "X_train.shape=(1379, 31)\n",
      "X_test.shape=(345, 31)\n",
      "y_train.shape=(1379,)\n",
      "y_test.shape=(345,)\n"
     ]
    }
   ],
   "source": [
    "X, y, X_train, X_test, y_train, y_test, test_case_ids = split_data(df, \"tnbc\", True)\n",
    "print(\"\\nApplied Smote\")\n",
    "X_smote, y_smote, X_train_smote, X_test_smote, y_train_smote, y_test_smote, test_case_ids_smote = split_data_apply_smote(df, \"tnbc\")"
   ]
  },
  {
   "cell_type": "markdown",
   "id": "9fd2b767",
   "metadata": {},
   "source": [
    "### Random Forest"
   ]
  },
  {
   "cell_type": "code",
   "execution_count": 31,
   "id": "ea297678",
   "metadata": {},
   "outputs": [],
   "source": [
    "# Create model\n",
    "\n",
    "model = RandomForestClassifier(random_state=RANDOM_STATE)\n",
    "\n",
    "def run_model(X_train: pd.DataFrame, X_test: pd.DataFrame, y_train: pd.Series, y_test: pd.Series, test_case_ids, is_smote: bool):\n",
    "    # Train the model\n",
    "    model.fit(X_train, y_train)\n",
    "\n",
    "    # Model predictions\n",
    "    y_pred = model.predict(X_test)\n",
    "    y_prob = model.predict_proba(X_test)[:, 1]  # For ROC curves etc.\n",
    "\n",
    "    # Save it in a dataframe, to CSV\n",
    "    predictions = pd.DataFrame({\n",
    "        \"case_id\": test_case_ids,\n",
    "        \"y_test\": y_test,\n",
    "        \"y_pred\": y_pred,\n",
    "        \"y_prob\": y_prob\n",
    "    })\n",
    "    predictions.to_csv(f\"../Data/model_output_{variant}_{GENE_FILE_VARIANT}{'_smote' if is_smote else ''}.csv\", index=False)\n",
    "\n",
    "    return y_pred, y_prob"
   ]
  },
  {
   "cell_type": "code",
   "execution_count": 32,
   "id": "36511de7",
   "metadata": {},
   "outputs": [
    {
     "name": "stdout",
     "output_type": "stream",
     "text": [
      "Accuracy: 0.95\n"
     ]
    }
   ],
   "source": [
    "y_pred, y_prod = run_model(X_train, X_test, y_train, y_test, test_case_ids, False)\n",
    "\n",
    "print_evaluated_model_accuracy(y_test, y_pred)"
   ]
  },
  {
   "cell_type": "markdown",
   "id": "5b1fce9b",
   "metadata": {},
   "source": [
    "## Smote applied"
   ]
  },
  {
   "cell_type": "code",
   "execution_count": 33,
   "id": "02c5c8fe",
   "metadata": {},
   "outputs": [
    {
     "name": "stdout",
     "output_type": "stream",
     "text": [
      "Accuracy: 0.97\n"
     ]
    }
   ],
   "source": [
    "y_pred_smote, y_prod_smote = run_model(X_train_smote, X_test_smote, y_train_smote, y_test_smote, test_case_ids_smote, True)\n",
    "\n",
    "print_evaluated_model_accuracy(y_test_smote, y_pred_smote)"
   ]
  },
  {
   "cell_type": "markdown",
   "id": "fe5f1ed6",
   "metadata": {},
   "source": [
    "## Model cross validation"
   ]
  },
  {
   "cell_type": "code",
   "execution_count": 34,
   "id": "4b7e5238",
   "metadata": {},
   "outputs": [],
   "source": [
    "def run_cross_validation(X: pd.DataFrame, y: pd.Series, y_test: pd.Series, y_pred: pd.Series, y_prob: pd.Series, is_smote: bool) -> pd.DataFrame:\n",
    "    metrics: pd.DataFrame = get_cross_validation_metrics(model, X, y, cv=5)\n",
    "    test_metrics = get_metrics(y_test, y_pred, y_prob)\n",
    "    test_metrics[\"fold\"] = 0 # Initial test metrics (before cross validation)\n",
    "    test = pd.DataFrame([test_metrics])\n",
    "    test.set_index(\"fold\", inplace=True)\n",
    "\n",
    "    print_validated_model_accuracy(model, metrics)\n",
    "\n",
    "    # Prepend test_metrics to metrics dataframe, export and display\n",
    "    metrics = pd.concat([test, metrics])\n",
    "    metrics.to_csv(f\"../Data/model_metrics_{variant}_{GENE_FILE_VARIANT}{'_smote' if is_smote else ''}.csv\", index=False)\n",
    "    return metrics"
   ]
  },
  {
   "cell_type": "code",
   "execution_count": 35,
   "id": "fbf7e678",
   "metadata": {},
   "outputs": [
    {
     "name": "stdout",
     "output_type": "stream",
     "text": [
      "Model validation for RandomForestClassifier:\n",
      "[0.9336734693877551, 0.9336734693877551, 0.9487179487179487, 0.9282051282051282, 0.9384615384615385]\n",
      "\n",
      "Mean accuracy: 0.9365\n",
      "\n"
     ]
    },
    {
     "data": {
      "text/html": [
       "<div>\n",
       "<style scoped>\n",
       "    .dataframe tbody tr th:only-of-type {\n",
       "        vertical-align: middle;\n",
       "    }\n",
       "\n",
       "    .dataframe tbody tr th {\n",
       "        vertical-align: top;\n",
       "    }\n",
       "\n",
       "    .dataframe thead th {\n",
       "        text-align: right;\n",
       "    }\n",
       "</style>\n",
       "<table border=\"1\" class=\"dataframe\">\n",
       "  <thead>\n",
       "    <tr style=\"text-align: right;\">\n",
       "      <th></th>\n",
       "      <th>accuracy</th>\n",
       "      <th>recall</th>\n",
       "      <th>precision</th>\n",
       "      <th>f1_score</th>\n",
       "      <th>roc_auc</th>\n",
       "      <th>true_positive</th>\n",
       "      <th>true_negative</th>\n",
       "      <th>false_positive</th>\n",
       "      <th>false_negative</th>\n",
       "    </tr>\n",
       "    <tr>\n",
       "      <th>fold</th>\n",
       "      <th></th>\n",
       "      <th></th>\n",
       "      <th></th>\n",
       "      <th></th>\n",
       "      <th></th>\n",
       "      <th></th>\n",
       "      <th></th>\n",
       "      <th></th>\n",
       "      <th></th>\n",
       "    </tr>\n",
       "  </thead>\n",
       "  <tbody>\n",
       "    <tr>\n",
       "      <th>0</th>\n",
       "      <td>0.954082</td>\n",
       "      <td>0.826087</td>\n",
       "      <td>0.791667</td>\n",
       "      <td>0.808511</td>\n",
       "      <td>0.985046</td>\n",
       "      <td>19</td>\n",
       "      <td>168</td>\n",
       "      <td>5</td>\n",
       "      <td>4</td>\n",
       "    </tr>\n",
       "    <tr>\n",
       "      <th>1</th>\n",
       "      <td>0.933673</td>\n",
       "      <td>0.695652</td>\n",
       "      <td>0.727273</td>\n",
       "      <td>0.711111</td>\n",
       "      <td>0.967328</td>\n",
       "      <td>16</td>\n",
       "      <td>167</td>\n",
       "      <td>6</td>\n",
       "      <td>7</td>\n",
       "    </tr>\n",
       "    <tr>\n",
       "      <th>2</th>\n",
       "      <td>0.933673</td>\n",
       "      <td>0.652174</td>\n",
       "      <td>0.750000</td>\n",
       "      <td>0.697674</td>\n",
       "      <td>0.971350</td>\n",
       "      <td>15</td>\n",
       "      <td>168</td>\n",
       "      <td>5</td>\n",
       "      <td>8</td>\n",
       "    </tr>\n",
       "    <tr>\n",
       "      <th>3</th>\n",
       "      <td>0.948718</td>\n",
       "      <td>0.652174</td>\n",
       "      <td>0.882353</td>\n",
       "      <td>0.750000</td>\n",
       "      <td>0.982053</td>\n",
       "      <td>15</td>\n",
       "      <td>170</td>\n",
       "      <td>2</td>\n",
       "      <td>8</td>\n",
       "    </tr>\n",
       "    <tr>\n",
       "      <th>4</th>\n",
       "      <td>0.928205</td>\n",
       "      <td>0.608696</td>\n",
       "      <td>0.736842</td>\n",
       "      <td>0.666667</td>\n",
       "      <td>0.975101</td>\n",
       "      <td>14</td>\n",
       "      <td>167</td>\n",
       "      <td>5</td>\n",
       "      <td>9</td>\n",
       "    </tr>\n",
       "    <tr>\n",
       "      <th>5</th>\n",
       "      <td>0.938462</td>\n",
       "      <td>0.695652</td>\n",
       "      <td>0.761905</td>\n",
       "      <td>0.727273</td>\n",
       "      <td>0.929221</td>\n",
       "      <td>16</td>\n",
       "      <td>167</td>\n",
       "      <td>5</td>\n",
       "      <td>7</td>\n",
       "    </tr>\n",
       "  </tbody>\n",
       "</table>\n",
       "</div>"
      ],
      "text/plain": [
       "      accuracy    recall  precision  f1_score   roc_auc  true_positive  \\\n",
       "fold                                                                     \n",
       "0     0.954082  0.826087   0.791667  0.808511  0.985046             19   \n",
       "1     0.933673  0.695652   0.727273  0.711111  0.967328             16   \n",
       "2     0.933673  0.652174   0.750000  0.697674  0.971350             15   \n",
       "3     0.948718  0.652174   0.882353  0.750000  0.982053             15   \n",
       "4     0.928205  0.608696   0.736842  0.666667  0.975101             14   \n",
       "5     0.938462  0.695652   0.761905  0.727273  0.929221             16   \n",
       "\n",
       "      true_negative  false_positive  false_negative  \n",
       "fold                                                 \n",
       "0               168               5               4  \n",
       "1               167               6               7  \n",
       "2               168               5               8  \n",
       "3               170               2               8  \n",
       "4               167               5               9  \n",
       "5               167               5               7  "
      ]
     },
     "execution_count": 35,
     "metadata": {},
     "output_type": "execute_result"
    }
   ],
   "source": [
    "# Still getting warning:\n",
    "#   ConvergenceWarning: lbfgs failed to converge (status=1):\n",
    "#                       STOP: TOTAL NO. OF F,G EVALUATIONS EXCEEDS LIMIT.\n",
    "metrics = run_cross_validation(X, y, y_test, y_pred, y_prod, False)\n",
    "metrics"
   ]
  },
  {
   "cell_type": "markdown",
   "id": "c79f40ba",
   "metadata": {},
   "source": [
    "## Smote applied"
   ]
  },
  {
   "cell_type": "code",
   "execution_count": 36,
   "id": "d31164d1",
   "metadata": {},
   "outputs": [
    {
     "name": "stdout",
     "output_type": "stream",
     "text": [
      "Model validation for RandomForestClassifier:\n",
      "[0.9710144927536232, 0.9681159420289855, 0.9710144927536232, 0.9710144927536232, 0.9680232558139535]\n",
      "\n",
      "Mean accuracy: 0.9698\n",
      "\n"
     ]
    },
    {
     "data": {
      "text/html": [
       "<div>\n",
       "<style scoped>\n",
       "    .dataframe tbody tr th:only-of-type {\n",
       "        vertical-align: middle;\n",
       "    }\n",
       "\n",
       "    .dataframe tbody tr th {\n",
       "        vertical-align: top;\n",
       "    }\n",
       "\n",
       "    .dataframe thead th {\n",
       "        text-align: right;\n",
       "    }\n",
       "</style>\n",
       "<table border=\"1\" class=\"dataframe\">\n",
       "  <thead>\n",
       "    <tr style=\"text-align: right;\">\n",
       "      <th></th>\n",
       "      <th>accuracy</th>\n",
       "      <th>recall</th>\n",
       "      <th>precision</th>\n",
       "      <th>f1_score</th>\n",
       "      <th>roc_auc</th>\n",
       "      <th>true_positive</th>\n",
       "      <th>true_negative</th>\n",
       "      <th>false_positive</th>\n",
       "      <th>false_negative</th>\n",
       "    </tr>\n",
       "    <tr>\n",
       "      <th>fold</th>\n",
       "      <th></th>\n",
       "      <th></th>\n",
       "      <th></th>\n",
       "      <th></th>\n",
       "      <th></th>\n",
       "      <th></th>\n",
       "      <th></th>\n",
       "      <th></th>\n",
       "      <th></th>\n",
       "    </tr>\n",
       "  </thead>\n",
       "  <tbody>\n",
       "    <tr>\n",
       "      <th>0</th>\n",
       "      <td>0.973913</td>\n",
       "      <td>1.000000</td>\n",
       "      <td>0.950276</td>\n",
       "      <td>0.974504</td>\n",
       "      <td>0.997328</td>\n",
       "      <td>172</td>\n",
       "      <td>164</td>\n",
       "      <td>9</td>\n",
       "      <td>0</td>\n",
       "    </tr>\n",
       "    <tr>\n",
       "      <th>1</th>\n",
       "      <td>0.971014</td>\n",
       "      <td>1.000000</td>\n",
       "      <td>0.945055</td>\n",
       "      <td>0.971751</td>\n",
       "      <td>0.993480</td>\n",
       "      <td>172</td>\n",
       "      <td>163</td>\n",
       "      <td>10</td>\n",
       "      <td>0</td>\n",
       "    </tr>\n",
       "    <tr>\n",
       "      <th>2</th>\n",
       "      <td>0.968116</td>\n",
       "      <td>0.988372</td>\n",
       "      <td>0.949721</td>\n",
       "      <td>0.968661</td>\n",
       "      <td>0.990977</td>\n",
       "      <td>170</td>\n",
       "      <td>164</td>\n",
       "      <td>9</td>\n",
       "      <td>2</td>\n",
       "    </tr>\n",
       "    <tr>\n",
       "      <th>3</th>\n",
       "      <td>0.971014</td>\n",
       "      <td>0.976879</td>\n",
       "      <td>0.965714</td>\n",
       "      <td>0.971264</td>\n",
       "      <td>0.994909</td>\n",
       "      <td>169</td>\n",
       "      <td>166</td>\n",
       "      <td>6</td>\n",
       "      <td>4</td>\n",
       "    </tr>\n",
       "    <tr>\n",
       "      <th>4</th>\n",
       "      <td>0.971014</td>\n",
       "      <td>0.994220</td>\n",
       "      <td>0.950276</td>\n",
       "      <td>0.971751</td>\n",
       "      <td>0.994371</td>\n",
       "      <td>172</td>\n",
       "      <td>163</td>\n",
       "      <td>9</td>\n",
       "      <td>1</td>\n",
       "    </tr>\n",
       "    <tr>\n",
       "      <th>5</th>\n",
       "      <td>0.968023</td>\n",
       "      <td>0.988372</td>\n",
       "      <td>0.949721</td>\n",
       "      <td>0.968661</td>\n",
       "      <td>0.995707</td>\n",
       "      <td>170</td>\n",
       "      <td>163</td>\n",
       "      <td>9</td>\n",
       "      <td>2</td>\n",
       "    </tr>\n",
       "  </tbody>\n",
       "</table>\n",
       "</div>"
      ],
      "text/plain": [
       "      accuracy    recall  precision  f1_score   roc_auc  true_positive  \\\n",
       "fold                                                                     \n",
       "0     0.973913  1.000000   0.950276  0.974504  0.997328            172   \n",
       "1     0.971014  1.000000   0.945055  0.971751  0.993480            172   \n",
       "2     0.968116  0.988372   0.949721  0.968661  0.990977            170   \n",
       "3     0.971014  0.976879   0.965714  0.971264  0.994909            169   \n",
       "4     0.971014  0.994220   0.950276  0.971751  0.994371            172   \n",
       "5     0.968023  0.988372   0.949721  0.968661  0.995707            170   \n",
       "\n",
       "      true_negative  false_positive  false_negative  \n",
       "fold                                                 \n",
       "0               164               9               0  \n",
       "1               163              10               0  \n",
       "2               164               9               2  \n",
       "3               166               6               4  \n",
       "4               163               9               1  \n",
       "5               163               9               2  "
      ]
     },
     "execution_count": 36,
     "metadata": {},
     "output_type": "execute_result"
    }
   ],
   "source": [
    "# Still getting warning:\n",
    "#   ConvergenceWarning: lbfgs failed to converge (status=1):\n",
    "#                       STOP: TOTAL NO. OF F,G EVALUATIONS EXCEEDS LIMIT.\n",
    "metric_smote = run_cross_validation(X_smote, y_smote, y_test_smote, y_pred_smote, y_prod_smote, True)\n",
    "metric_smote"
   ]
  },
  {
   "cell_type": "code",
   "execution_count": null,
   "id": "ad5b185b-da02-4798-88c1-d10648ea85fe",
   "metadata": {},
   "outputs": [],
   "source": []
  }
 ],
 "metadata": {
  "kernelspec": {
   "display_name": "Python 3 (ipykernel)",
   "language": "python",
   "name": "python3"
  },
  "language_info": {
   "codemirror_mode": {
    "name": "ipython",
    "version": 3
   },
   "file_extension": ".py",
   "mimetype": "text/x-python",
   "name": "python",
   "nbconvert_exporter": "python",
   "pygments_lexer": "ipython3",
   "version": "3.12.3"
  }
 },
 "nbformat": 4,
 "nbformat_minor": 5
}
