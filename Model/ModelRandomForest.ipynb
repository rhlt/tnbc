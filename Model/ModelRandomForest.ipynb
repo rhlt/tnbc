{
 "cells": [
  {
   "cell_type": "markdown",
   "id": "1e3b2f6c",
   "metadata": {},
   "source": [
    "### Load dataset"
   ]
  },
  {
   "cell_type": "code",
   "execution_count": 1,
   "id": "9b1be007",
   "metadata": {},
   "outputs": [
    {
     "name": "stdout",
     "output_type": "stream",
     "text": [
      "<class 'pandas.core.frame.DataFrame'>\n",
      "RangeIndex: 977 entries, 0 to 976\n",
      "Data columns (total 32 columns):\n",
      " #   Column   Non-Null Count  Dtype \n",
      "---  ------   --------------  ----- \n",
      " 0   FYN      977 non-null    int64 \n",
      " 1   BRCA1    977 non-null    int64 \n",
      " 2   FOXC1    977 non-null    int64 \n",
      " 3   TBC1D1   977 non-null    int64 \n",
      " 4   LAG3     977 non-null    int64 \n",
      " 5   CDK6     977 non-null    int64 \n",
      " 6   GATA3    977 non-null    int64 \n",
      " 7   CCND1    977 non-null    int64 \n",
      " 8   PRR4     977 non-null    int64 \n",
      " 9   EPCAM    977 non-null    int64 \n",
      " 10  CD274    977 non-null    int64 \n",
      " 11  PIK3CA   977 non-null    int64 \n",
      " 12  TOP2A    977 non-null    int64 \n",
      " 13  DCLK1    977 non-null    int64 \n",
      " 14  MYC      977 non-null    int64 \n",
      " 15  LRPPRC   977 non-null    int64 \n",
      " 16  BRCA2    977 non-null    int64 \n",
      " 17  TP53     977 non-null    int64 \n",
      " 18  MKI67    977 non-null    int64 \n",
      " 19  TTN      977 non-null    int64 \n",
      " 20  CTLA4    977 non-null    int64 \n",
      " 21  PTEN     977 non-null    int64 \n",
      " 22  YES1     977 non-null    int64 \n",
      " 23  YOD1     977 non-null    int64 \n",
      " 24  TACSTD2  977 non-null    int64 \n",
      " 25  ROR1     977 non-null    int64 \n",
      " 26  PDCD1    977 non-null    int64 \n",
      " 27  SRC      977 non-null    int64 \n",
      " 28  DDX3X    977 non-null    int64 \n",
      " 29  MALAT1   977 non-null    int64 \n",
      " 30  tnbc     977 non-null    bool  \n",
      " 31  case_id  977 non-null    object\n",
      "dtypes: bool(1), int64(30), object(1)\n",
      "memory usage: 237.7+ KB\n"
     ]
    }
   ],
   "source": [
    "import pandas as pd\n",
    "from enum import StrEnum, auto\n",
    "RANDOM_STATE = 42\n",
    "\n",
    "# NOTE: StrEnum requires Python 3.11+\n",
    "#       Can refactor to CONSTANTS instead\n",
    "class FeatureVariant(StrEnum):\n",
    "    LITERATURE = auto()\n",
    "    RESEARCH = auto()\n",
    "    STATISTICAL = auto()\n",
    "    AUTOMATED = auto()\n",
    "\n",
    "# Can be replaced with desired variant for different feature sets\n",
    "GENE_FILE_VARIANT = FeatureVariant.RESEARCH\n",
    "\n",
    "FILE_PATH = f\"../Data/patient_genes_{GENE_FILE_VARIANT}.csv\"\n",
    "\n",
    "variant = 'random_forest'\n",
    "df = pd.read_csv(FILE_PATH)\n",
    "\n",
    "df.info()"
   ]
  },
  {
   "cell_type": "markdown",
   "id": "8fe5d00e",
   "metadata": {},
   "source": [
    "### Imports"
   ]
  },
  {
   "cell_type": "code",
   "execution_count": 2,
   "id": "d9055ae2",
   "metadata": {},
   "outputs": [],
   "source": [
    "from sklearn.ensemble import RandomForestClassifier\n",
    "\n",
    "%run \"DataHelpers.ipynb\""
   ]
  },
  {
   "cell_type": "markdown",
   "id": "16a56362",
   "metadata": {},
   "source": [
    "### Dataset split: training and test data"
   ]
  },
  {
   "cell_type": "code",
   "execution_count": 3,
   "id": "fa3b499a",
   "metadata": {},
   "outputs": [
    {
     "name": "stdout",
     "output_type": "stream",
     "text": [
      "X_train.shape=(781, 30)\n",
      "X_test.shape=(196, 30)\n",
      "y_train.shape=(781,)\n",
      "y_test.shape=(196,)\n",
      "\n",
      "Applied Smote\n",
      "X_train.shape=(1379, 30)\n",
      "X_test.shape=(345, 30)\n",
      "y_train.shape=(1379,)\n",
      "y_test.shape=(345,)\n"
     ]
    }
   ],
   "source": [
    "X, y, X_train, X_test, y_train, y_test, test_case_ids = split_data(df, \"tnbc\", True)\n",
    "print(\"\\nApplied Smote\")\n",
    "X_smote, y_smote, X_train_smote, X_test_smote, y_train_smote, y_test_smote, test_case_ids_smote = split_data_apply_smote(df, \"tnbc\")"
   ]
  },
  {
   "cell_type": "markdown",
   "id": "9fd2b767",
   "metadata": {},
   "source": [
    "### Random Forest"
   ]
  },
  {
   "cell_type": "code",
   "execution_count": 4,
   "id": "ea297678",
   "metadata": {},
   "outputs": [],
   "source": [
    "# Create model\n",
    "\n",
    "model = RandomForestClassifier(random_state=RANDOM_STATE)\n",
    "\n",
    "def run_model(X_train: pd.DataFrame, X_test: pd.DataFrame, y_train: pd.Series, y_test: pd.Series, test_case_ids, is_smote: bool):\n",
    "    # Train the model\n",
    "    model.fit(X_train, y_train)\n",
    "\n",
    "    # Model predictions\n",
    "    y_pred = model.predict(X_test)\n",
    "    y_prob = model.predict_proba(X_test)[:, 1]  # For ROC curves etc.\n",
    "\n",
    "    # Save it in a dataframe, to CSV\n",
    "    predictions = pd.DataFrame({\n",
    "        \"case_id\": test_case_ids,\n",
    "        \"y_test\": y_test,\n",
    "        \"y_pred\": y_pred,\n",
    "        \"y_prob\": y_prob\n",
    "    })\n",
    "    predictions.to_csv(f\"../Data/model_output_{variant}_{GENE_FILE_VARIANT}_{'smote' if is_smote else ''}.csv\", index=False)\n",
    "\n",
    "    return y_pred, y_prob"
   ]
  },
  {
   "cell_type": "code",
   "execution_count": 14,
   "id": "36511de7",
   "metadata": {},
   "outputs": [
    {
     "name": "stdout",
     "output_type": "stream",
     "text": [
      "Accuracy: 0.95\n"
     ]
    }
   ],
   "source": [
    "y_pred, y_prod = run_model(X_train, X_test, y_train, y_test, test_case_ids, False)\n",
    "\n",
    "print_evaluated_model_accuracy(y_test, y_pred)"
   ]
  },
  {
   "cell_type": "markdown",
   "id": "5b1fce9b",
   "metadata": {},
   "source": [
    "## Smote applied"
   ]
  },
  {
   "cell_type": "code",
   "execution_count": null,
   "id": "02c5c8fe",
   "metadata": {},
   "outputs": [],
   "source": [
    "y_pred_smote, y_prod_smote = run_model(X_train_smote, X_test_smote, y_train_smote, y_test_smote, test_case_ids_smote, True)\n",
    "\n",
    "print_evaluated_model_accuracy(y_test_smote, y_pred_smote)"
   ]
  },
  {
   "cell_type": "markdown",
   "id": "fe5f1ed6",
   "metadata": {},
   "source": [
    "## Model cross validation"
   ]
  },
  {
   "cell_type": "code",
   "execution_count": null,
   "id": "4b7e5238",
   "metadata": {},
   "outputs": [],
   "source": [
    "def run_cross_validation(X: pd.DataFrame, y: pd.Series, y_test: pd.Series, y_pred: pd.Series, y_prob: pd.Series, is_smote: bool) -> pd.DataFrame:\n",
    "    metrics: pd.DataFrame = get_cross_validation_metrics(model, X, y, cv=5)\n",
    "    test_metrics = get_metrics(y_test, y_pred, y_prob)\n",
    "    test_metrics[\"fold\"] = 0 # Initial test metrics (before cross validation)\n",
    "    test = pd.DataFrame([test_metrics])\n",
    "    test.set_index(\"fold\", inplace=True)\n",
    "\n",
    "    print_validated_model_accuracy(model, metrics)\n",
    "\n",
    "    # Prepend test_metrics to metrics dataframe, export and display\n",
    "    metrics = pd.concat([test, metrics])\n",
    "    metrics.to_csv(f\"../Data/model_metrics_{variant}_{GENE_FILE_VARIANT}_{'smote' if is_smote else ''}.csv\", index=False)\n",
    "    return metrics"
   ]
  },
  {
   "cell_type": "code",
   "execution_count": null,
   "id": "fbf7e678",
   "metadata": {},
   "outputs": [
    {
     "name": "stdout",
     "output_type": "stream",
     "text": [
      "Model validation for RandomForestClassifier:\n",
      "[0.9438775510204082, 0.9336734693877551, 0.9487179487179487, 0.9333333333333333, 0.9384615384615385]\n",
      "\n",
      "Mean accuracy: 0.9396\n",
      "\n",
      "      accuracy    recall  precision  f1_score   roc_auc  true_positive  \\\n",
      "fold                                                                     \n",
      "0     0.948980  0.869565   0.740741  0.800000  0.983287             20   \n",
      "1     0.943878  0.739130   0.772727  0.755556  0.976250             17   \n",
      "2     0.933673  0.695652   0.727273  0.711111  0.971601             16   \n",
      "3     0.948718  0.652174   0.882353  0.750000  0.981926             15   \n",
      "4     0.933333  0.652174   0.750000  0.697674  0.975607             15   \n",
      "5     0.938462  0.652174   0.789474  0.714286  0.928589             15   \n",
      "\n",
      "      true_negative  false_positive  false_negative  \n",
      "fold                                                 \n",
      "0               166               7               3  \n",
      "1               168               5               6  \n",
      "2               167               6               7  \n",
      "3               170               2               8  \n",
      "4               167               5               8  \n",
      "5               168               4               8  \n"
     ]
    }
   ],
   "source": [
    "# Still getting warning:\n",
    "#   ConvergenceWarning: lbfgs failed to converge (status=1):\n",
    "#                       STOP: TOTAL NO. OF F,G EVALUATIONS EXCEEDS LIMIT.\n",
    "metrics = run_cross_validation(X, y, y_test, y_pred, y_prod, False)\n",
    "metrics"
   ]
  },
  {
   "cell_type": "markdown",
   "id": "c79f40ba",
   "metadata": {},
   "source": [
    "## Smote applied"
   ]
  },
  {
   "cell_type": "code",
   "execution_count": null,
   "id": "d31164d1",
   "metadata": {},
   "outputs": [
    {
     "name": "stdout",
     "output_type": "stream",
     "text": [
      "Accuracy: 0.96\n"
     ]
    }
   ],
   "source": [
    "# Still getting warning:\n",
    "#   ConvergenceWarning: lbfgs failed to converge (status=1):\n",
    "#                       STOP: TOTAL NO. OF F,G EVALUATIONS EXCEEDS LIMIT.\n",
    "metric_smote = run_cross_validation(X_smote, y_smote, y_test_smote, y_pred_smote, y_prod_smote, True)\n",
    "metric_smote"
   ]
  }
 ],
 "metadata": {
  "kernelspec": {
   "display_name": "Python 3 (ipykernel)",
   "language": "python",
   "name": "python3"
  },
  "language_info": {
   "codemirror_mode": {
    "name": "ipython",
    "version": 3
   },
   "file_extension": ".py",
   "mimetype": "text/x-python",
   "name": "python",
   "nbconvert_exporter": "python",
   "pygments_lexer": "ipython3",
   "version": "3.12.7"
  }
 },
 "nbformat": 4,
 "nbformat_minor": 5
}
