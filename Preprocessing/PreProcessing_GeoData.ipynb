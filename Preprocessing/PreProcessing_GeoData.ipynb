{
 "cells": [
  {
   "cell_type": "markdown",
   "id": "f9bd674b-402b-41a4-ba77-4f9751226a2a",
   "metadata": {},
   "source": [
    "# Make Gene Expression Omnibus data homogenous"
   ]
  },
  {
   "cell_type": "markdown",
   "id": "ad10f221-e97e-401d-b96a-87ddcb330b24",
   "metadata": {},
   "source": [
    "## Preliminary - FeatureSets to check in Gene Expression Omnibus datasets"
   ]
  },
  {
   "cell_type": "code",
   "execution_count": 116,
   "id": "5f0c5848-b3a0-4442-ba7e-da9e387e6fb8",
   "metadata": {},
   "outputs": [],
   "source": [
    "featuresFour = [    'A2M', 'ABCA1',  'ACKR1', 'ACSL3', 'ACTG2', 'ADH1B', 'ADH1C', 'AHR', 'AK5', 'AKT1', 'AKT2', 'AKT3', \n",
    "                    'ALDH1A1', 'ALOX12B', 'AOC3', 'APOE', 'AR', 'ARID1B', 'ARNT', 'ASAH1', 'ASPSCR1', 'ASXL1', \n",
    "                    'ASXL2', 'ASXL3', 'ATM', 'BCL9', 'BIRC3', 'BIRC6', 'BRCA1', 'BRCA2', 'BRD4', 'BTN3A1', 'CANT1', 'CCL4', \n",
    "                    'CCND1', 'CCNE1', 'CCNT1', 'CD14', 'CTLA4', 'CD163', 'CD19', 'CD1A', 'CD1B', 'CD1C', 'CD1D', 'CD1E', 'CD24', \n",
    "                    'CD27', 'CD274', 'CD276', 'CD3D', 'CD4', 'CD44', 'CD68', 'CD79A', 'CD86', 'CD8A', 'CD8B', 'CDH1', \n",
    "                    'CDH2', 'CDH3', 'CDH5', 'CDK1', 'CDK2', 'CDK4', 'CDK6', 'CDKN1B', 'CDKN2A', 'CDKN2B', 'CEACAM7', 'CHAD',\n",
    "                    'CHEK2', 'CKB', 'CLEC3A', 'COL1A1', 'COL1A2', 'COPZ2', 'COX7A1', 'CREBBP', 'CRYAB', 'CSF2RB', 'CSMD3', 'CTLA4',\n",
    "                    'CTSD', 'CX3CR1', 'CXCL8', 'CXCR2', 'CXCR4', 'CYP1A1', 'DCLK1', 'DDR2', 'DDX3X', 'DEFB132', 'DNAH7', 'DNMT1', \n",
    "                    'DNMT3A', 'DOCK11', 'DST', 'EDNRB', 'EGFR', 'EPCAM', 'ERBB2', 'ESR1', 'ESR2', 'EZH2', 'FAT1', 'FBXW7',\n",
    "                    'FCGR2B', 'FGA', 'FGB', 'FGFR1', 'FGFR2', 'FGFR4', 'FGG', 'FOXA1', 'FOXC1', 'FOXP3', 'FYN', 'GAS1', 'GATA3',\n",
    "                    'GIMAP7', 'GJA1', 'GJA4', 'GLDC', 'GNG11', 'GNLY', 'GPLD1', 'GPX4', 'GSTA2', 'GZMB', 'GZMB', 'HCLS1', 'HLA-E',\n",
    "                    'HSP90AA1', 'HSP90AB1', 'HSP90B1', 'HSPA5', 'ID4', 'IDO1', 'IFNG', 'IGF1', 'IL18', 'IL2RA', 'IL2RB',\n",
    "                    'IL2RG', 'IL6', 'IL7R', 'INMT', 'INPP4B', 'ITGAX', 'JCHAIN', 'KIT', 'KMT2D', 'KRT13', 'KRT14', 'KRT15', 'KRT18', \n",
    "                    'KRT36', 'KRT5', 'KRT6A', 'KRT6B', 'KRT8', 'LAG3', 'LAMA2', 'LAMC2', 'LCP2', 'LMNA', 'LPA', 'LRPPRC', \n",
    "                    'MAOA', 'MAP2K4', 'MAP3K1', 'MDGA2', 'MDM2', 'MET', 'MKI67', 'MS4A1', 'MSLN', 'MTOR', 'MUC1', 'MUC16', 'MYB',\n",
    "                    'MYC', 'NF1', 'NKG7', 'NME1', 'NOP16', 'NOTCH1', 'NOTCH2', 'NOTCH3', 'NOTCH4', 'NPR1', 'OBSCN', 'OGN', 'OLAH', \n",
    "                    'P4HA3', 'PALB2', 'PCDH15', 'PCK1', 'PDCD1', 'PDCD1LG2', 'PDE2A', 'PDGFRA', 'PDGFRB', 'PECAM1', 'PGF', 'PGF',\n",
    "                    'PGR', 'PHLDA2', 'PIK3CA', 'PIK3R1', 'PIP', 'PKN1', 'PMS1', 'POSTN', 'PRKD2', 'PRR4', 'PTEN', 'PTK6', 'PTPRH', \n",
    "                    'RACGAP1', 'RAD17', 'RAD51C', 'RB1', 'RDH12', 'RNF213', 'ROR1', 'RYR1', 'S100A16', 'SDS', 'SELL', 'SERPINA9', \n",
    "                    'SNAI1', 'SNRNP200', 'SOD3', 'SPARCL1', 'SPTA1', 'SRC', 'SRD5A2', 'SREBF1', 'SRSF1', 'STAT1','STAT2', \n",
    "                    'STAT3', 'STAT5A', 'SYNE1', 'TACSTD2', 'TAT', 'TBC1D1', 'TBC1D22B', 'TBC1D31', 'TBC1D7', 'TFF1', 'TGFB1', \n",
    "                    'TGFB2', 'TGFB3', 'TH', 'THBD', 'TIGIT', 'TOP1', 'TOP2A', 'TP53', 'TRAP1', 'TRIM29', 'TTN', 'TYMS', 'UBE2C', \n",
    "                    'USP6NL', 'VAV3', 'VEGFA', 'VEGFB', 'VEGFC', 'VEGFD', 'VIM', 'VRK1', 'VTCN1','VWF', 'WNT16', 'WTAP', 'XBP1', \n",
    "                    'XCL1', 'XCL2', 'YES1', 'YOD1' ]\n",
    "\n",
    "featuresStatistical = [ 'MCF2L2', 'FOXC1', 'YBX1', 'IGF2BP2', 'FSCN1', 'GABRP',\n",
    "                        'SOX10','CENPA','PADI2','CDC20','BCL11A','HAPLN3',\n",
    "                        'ANP32E','SFT2D2','B3GNT5','ANKS6','FOXA1','PSAT1', \n",
    "                        'TBX19','CDCA7','CENPW','UGT8','RGMA','EN1', 'FAM171A1' ]\n",
    "\n",
    "featuresManual = [ 'BRCA1', 'BRCA2', 'CD274','MKI67','PDCD1','PIK3CA','TP53','LRPPRC','DCLK1',\n",
    "             'TOP2A','TACSTD2','ROR1','TTN','CTLA4','EGFR','EPCAM','MYC','PTEN','CDK6','DDX3X',\n",
    "             'SRC','YES1','FYN','TBC1D1','FOXC1','EZH2','LAG3','GATA3','CCND1','PRR4', 'YOD1' ] # YOD1"
   ]
  },
  {
   "cell_type": "markdown",
   "id": "261ad69c-05c1-43b9-9276-890a2d953fec",
   "metadata": {},
   "source": [
    "# Define GEO metadata"
   ]
  },
  {
   "cell_type": "code",
   "execution_count": 117,
   "id": "d7dbd70f-7e0b-46cf-b8ac-12dc8d62db7a",
   "metadata": {},
   "outputs": [],
   "source": [
    "geoData = {}\n",
    "geoData['GSE53752'] = {}\n",
    "geoData['GSE65216'] = {}\n",
    "geoData['GSE76250'] = {}\n",
    "geoData['GSE10893'] = {}"
   ]
  },
  {
   "cell_type": "code",
   "execution_count": 118,
   "id": "71a4bf04-2ffb-4b00-9ead-ab37a2ffc561",
   "metadata": {},
   "outputs": [],
   "source": [
    "geoData = {}\n",
    "\n",
    "geoData['GSE53752'] = {'dataSetName': 'GSE53752', 'dataSetFile':'GSE53752_series_matrix.txt'          , 'dataSetSkipRows': 194, 'dataSetSkipFooter': 1, 'platformName': 'GPL7264' , 'platformFile': 'GPL7264-9589.txt'  , 'platformSkipRows': 17, 'platformSkipFooter': 69, 'processing':'The log2-ratio gene expression data in the microarray dataset were normalized by quantile normalization.'}\n",
    "geoData['GSE65216'] = {'dataSetName': 'GSE65216', 'dataSetFile':'GSE65216-GPL570_series_matrix.txt'   , 'dataSetSkipRows': 67 , 'dataSetSkipFooter': 1, 'platformName': 'GPL570'  , 'platformFile': 'GPL570-55999.txt'  , 'platformSkipRows': 16, 'platformSkipFooter': 0, 'processing':'Data were analyzed using standard AffyCDF or Brainarray HGU133Plus2_Hs_ENTREZG version 13 custom chipset definition file. Data were normalized using GC-RMA. Batch and hybridization effects were corrected using a linear model in which they were treated as fixed effects. Samples with technical replicates were subsequently averaged.'}\n",
    "geoData['GSE76250'] = {'dataSetName': 'GSE76250', 'dataSetFile':'GSE76250_series_matrix.txt'          , 'dataSetSkipRows': 74 , 'dataSetSkipFooter': 1, 'platformName': 'GPL17586', 'platformFile': 'GPL17586-45144.txt', 'platformSkipRows': 15, 'platformSkipFooter': 1, 'processing':'The data were analyzed with Robust Multichip Analysis (RMA) algorithm using Affymetrix default analysis settings and global scaling as normalization method (ExpressionConsole 1.3.1) probe group file: HTA-2_0.r1.pgf meta-probeset file: HTA-2_0.r1.Psrs.mps'}\n",
    "geoData['GSE10893'] = {'dataSetName': 'GSE10893', 'dataSetFile':'GSE10893-GPL1390_series_matrix.txt'  , 'dataSetSkipRows': 91 , 'dataSetSkipFooter': 1, 'platformName': 'GPL1390' , 'platformFile': 'GPL1390-11300.txt' , 'platformSkipRows': 13, 'platformSkipFooter': 0, 'processing':'Sample values were derived follwing a \\'PairedSample Analysis\\' from Illumina\\'s BeadStudio Genotyping Module v(3.3.4)'}\n"
   ]
  },
  {
   "cell_type": "markdown",
   "id": "946ea660-2d4f-4292-af33-f5d20aac8a93",
   "metadata": {},
   "source": [
    "# Define synonyms for TCGA-BRCA based on KEGG and HEP"
   ]
  },
  {
   "cell_type": "code",
   "execution_count": 119,
   "id": "9ab913ce-39f8-4041-ac4d-34701d2861c7",
   "metadata": {},
   "outputs": [],
   "source": [
    "geoData['GSE53752']['synonyms'] = {}"
   ]
  },
  {
   "cell_type": "code",
   "execution_count": 120,
   "id": "3a0bebf9-18c8-4d1a-ac92-76bedb9500da",
   "metadata": {},
   "outputs": [],
   "source": [
    "geoData['GSE65216']['synonyms'] = { 'IGJ': 'JCHAIN',                                   \n",
    "                                    'PRH1-PRR4': 'PRR4',\n",
    "                                    'FIGF': 'VEGFD'\n",
    "                                   #'SCYC2': 'XCL2'\n",
    "                                  }"
   ]
  },
  {
   "cell_type": "code",
   "execution_count": 121,
   "id": "1d5d88a3-108f-4541-978f-c593464757df",
   "metadata": {},
   "outputs": [],
   "source": [
    "geoData['GSE76250']['synonyms'] = { 'DARC': 'ACKR1',\n",
    "                                    'IGJ': 'JCHAIN',\n",
    "                                    'WDR67': 'TBC1D31',\n",
    "                                    'FIGF': 'VEGFD',\n",
    "                                    'IL8': 'CXCL8',\n",
    "                                  }"
   ]
  },
  {
   "cell_type": "code",
   "execution_count": 122,
   "id": "f474afd9-d69d-480c-8352-b23c69b26792",
   "metadata": {},
   "outputs": [],
   "source": [
    "geoData['GSE10893']['synonyms'] = {}"
   ]
  },
  {
   "cell_type": "markdown",
   "id": "52bd8371-0ffd-4347-91f4-87a59b0bcbbb",
   "metadata": {},
   "source": [
    "## Load protein coding TCGA-BRCA"
   ]
  },
  {
   "cell_type": "code",
   "execution_count": 123,
   "id": "fd5492de-0c7a-41dd-8c9c-faa718045c7d",
   "metadata": {},
   "outputs": [],
   "source": [
    "import pandas as pd\n",
    "import os\n",
    "\n",
    "tcga_exampleFile = os.path.join('00b13ccf-ad7c-4613-8366-7c583a399691', 'c763a483-415e-4cb4-9cdf-4e6c31e8a9c9.rna_seq.augmented_star_gene_counts.tsv')\n",
    "file_path_tcga  = f\"../Data/{tcga_exampleFile}\"\n",
    "\n",
    "dfGenes = pd.read_csv(file_path_tcga, sep='\\t', skiprows=[0])"
   ]
  },
  {
   "cell_type": "code",
   "execution_count": 124,
   "id": "cbbe6819-24c3-4d12-bcbd-4e725a1c9711",
   "metadata": {},
   "outputs": [],
   "source": [
    "dfTarget = dfGenes[dfGenes['gene_type'] == 'protein_coding'][['gene_name', 'stranded_first']]\n",
    "\n",
    "# Remove duplicates. Second row (duplicate) has 'PAR_Y', value 0. Ergo keep first.\n",
    "dfTarget.drop_duplicates(subset=['gene_name'], keep='first', inplace=True)"
   ]
  },
  {
   "cell_type": "markdown",
   "id": "d62ee0b0-7676-419f-8b98-23d25495df88",
   "metadata": {},
   "source": [
    "## Load Gene Expression Omnibus Datasets"
   ]
  },
  {
   "cell_type": "code",
   "execution_count": 125,
   "id": "2d4229e8-2d0b-4cc4-9932-54953d0b0c19",
   "metadata": {},
   "outputs": [],
   "source": [
    "geoData_GSE10893_file = os.path.join('../Data', 'geoData_GSE10893.csv')\n",
    "geoData_GSE53752_file = os.path.join('../Data', 'geoData_GSE53752.csv')\n",
    "geoData_GSE65216_file = os.path.join('../Data', 'geoData_GSE65216.csv')\n",
    "geoData_GSE76250_file = os.path.join('../Data', 'geoData_GSE76250.csv')\n",
    "\n",
    "geoData['GSE10893']['data'] = pd.read_csv(geoData_GSE10893_file, sep=',')\n",
    "geoData['GSE53752']['data'] = pd.read_csv(geoData_GSE53752_file, sep=',')\n",
    "geoData['GSE65216']['data'] = pd.read_csv(geoData_GSE65216_file, sep=',')\n",
    "geoData['GSE76250']['data'] = pd.read_csv(geoData_GSE76250_file, sep=',')"
   ]
  },
  {
   "cell_type": "code",
   "execution_count": 126,
   "id": "00b1414f-68fc-4ea5-ad12-5cf67610d9dd",
   "metadata": {},
   "outputs": [],
   "source": [
    "# geoData_GSE10893 # 22574 columns\n",
    "# geoData_GSE53752 # 18673 columns\n",
    "# geoData_GSE65216 # 45782 columns -> ///\n",
    "# geoData_GSE76250 # 32672 columns -> //\n",
    "# geoData_GSE76250"
   ]
  },
  {
   "cell_type": "markdown",
   "id": "9a2227ba-d157-4609-80a5-e37ebdb3e231",
   "metadata": {},
   "source": [
    "# Check duplicate columns"
   ]
  },
  {
   "cell_type": "code",
   "execution_count": 127,
   "id": "c95f5998-0474-4463-a893-aa7b41717b39",
   "metadata": {},
   "outputs": [
    {
     "name": "stdout",
     "output_type": "stream",
     "text": [
      "***- Checking dupplicates - Start\n",
      "***- Dataset GSE53752 has no duplicates\n",
      "***- Dataset GSE65216 has no duplicates\n",
      "***- Dataset GSE76250 has no duplicates\n",
      "***- Dataset GSE10893 has no duplicates\n",
      "***- Checking dupplicates - End\n"
     ]
    }
   ],
   "source": [
    "total = len(geoData.keys())\n",
    "counter = 1\n",
    "print(f\"***- Checking dupplicates - Start\")\n",
    "\n",
    "for k in geoData.keys():\n",
    "    if len(geoData[k]['data'].columns[geoData[k]['data'].columns.duplicated()]) == 0:\n",
    "        print(f'***- Dataset {k} has no duplicates')\n",
    "    else:\n",
    "        print(f'***- Dataset {k} has duplicates')\n",
    "        \n",
    "    counter+=1\n",
    "\n",
    "print(f\"***- Checking dupplicates - End\")"
   ]
  },
  {
   "cell_type": "markdown",
   "id": "ad8f3d65-af00-476e-b5ca-97ec9651fc0f",
   "metadata": {},
   "source": [
    "# Rename columns"
   ]
  },
  {
   "cell_type": "code",
   "execution_count": 128,
   "id": "678bbd50-ab02-4927-88af-a029da3c2804",
   "metadata": {},
   "outputs": [
    {
     "name": "stdout",
     "output_type": "stream",
     "text": [
      "***- Renaming gene symbol to TCGA-BRCA from GEO - Start\n",
      "1/4 - Dataset GSE53752 - Renamed Gene Symbols\n",
      "2/4 - Dataset GSE65216 - Renamed Gene Symbols\n",
      "3/4 - Dataset GSE76250 - Renamed Gene Symbols\n",
      "4/4 - Dataset GSE10893 - Renamed Gene Symbols\n",
      "***- Renaming gene symbol to TCGA-BRCA from GEO - End\n"
     ]
    }
   ],
   "source": [
    "total = len(geoData.keys())\n",
    "counter = 1\n",
    "print(f\"***- Renaming gene symbol to TCGA-BRCA from GEO - Start\")\n",
    "\n",
    "for k in geoData.keys():\n",
    "    for s in geoData[k]['synonyms'].keys():\n",
    "        #print(f'key {k} with syn {s} and val {geoData[k]['synonyms'][s]}')\n",
    "        #geoData_GSE65216.rename(columns={'IGJ': 'JCHAIN'})\n",
    "        geoData[k]['data'].rename(columns={s : geoData[k]['synonyms'][s]}, inplace=True)\n",
    "    \n",
    "    print(f\"{counter}/{total} - Dataset {k} - Renamed Gene Symbols\")\n",
    "    counter+=1\n",
    "\n",
    "print(f\"***- Renaming gene symbol to TCGA-BRCA from GEO - End\")"
   ]
  },
  {
   "cell_type": "code",
   "execution_count": 130,
   "id": "584c46dd-1edb-464d-a70f-1be2eb13a5c8",
   "metadata": {},
   "outputs": [],
   "source": [
    "from sklearn.preprocessing import StandardScaler\n",
    "scaler = StandardScaler()\n",
    "\n",
    "geoData['GSE76250']['data'][featuresManual] = scaler.fit_transform(geoData['GSE76250']['data'][featuresManual])\n",
    "geoData['GSE65216']['data'][featuresManual] = scaler.fit_transform(geoData['GSE65216']['data'][featuresManual])"
   ]
  },
  {
   "cell_type": "markdown",
   "id": "56ee82f6-b4c0-40d9-9247-cf37588ae358",
   "metadata": {},
   "source": [
    "# Make the preprocessed datasets into one validationset"
   ]
  },
  {
   "cell_type": "code",
   "execution_count": 131,
   "id": "4c11f49c-9206-4a48-9a2a-5163c4f90b8f",
   "metadata": {},
   "outputs": [],
   "source": [
    "combinedData = pd.concat([geoData['GSE76250']['data'][featuresManual], geoData['GSE76250']['data'][featuresManual]]).reset_index()"
   ]
  },
  {
   "cell_type": "code",
   "execution_count": 132,
   "id": "a7fc21d8-56f8-463c-9784-3fb354715a01",
   "metadata": {},
   "outputs": [],
   "source": [
    "combinedData.to_csv(f'../Data/kevinValidationSet_20250610_002.csv', index=False)"
   ]
  },
  {
   "cell_type": "code",
   "execution_count": null,
   "id": "027037f5-29be-46a7-ace8-d81204c46daa",
   "metadata": {},
   "outputs": [],
   "source": []
  }
 ],
 "metadata": {
  "kernelspec": {
   "display_name": "Python 3 (ipykernel)",
   "language": "python",
   "name": "python3"
  },
  "language_info": {
   "codemirror_mode": {
    "name": "ipython",
    "version": 3
   },
   "file_extension": ".py",
   "mimetype": "text/x-python",
   "name": "python",
   "nbconvert_exporter": "python",
   "pygments_lexer": "ipython3",
   "version": "3.12.3"
  }
 },
 "nbformat": 4,
 "nbformat_minor": 5
}
