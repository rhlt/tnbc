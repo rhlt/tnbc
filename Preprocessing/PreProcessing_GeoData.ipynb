{
 "cells": [
  {
   "cell_type": "markdown",
   "id": "f9bd674b-402b-41a4-ba77-4f9751226a2a",
   "metadata": {},
   "source": [
    "# Make Gene Expression Omnibus data homogenous"
   ]
  },
  {
   "cell_type": "markdown",
   "id": "ad10f221-e97e-401d-b96a-87ddcb330b24",
   "metadata": {},
   "source": [
    "## Preliminary - FeatureSets to check in Gene Expression Omnibus datasets"
   ]
  },
  {
   "cell_type": "code",
   "execution_count": 126,
   "id": "5f0c5848-b3a0-4442-ba7e-da9e387e6fb8",
   "metadata": {},
   "outputs": [],
   "source": [
    "featuresFour = [    'A2M', 'ABCA1',  'ACKR1', 'ACSL3', 'ACTG2', 'ADH1B', 'ADH1C', 'AHR', 'AK5', 'AKT1', 'AKT2', 'AKT3', \n",
    "                    'ALDH1A1', 'ALOX12B', 'AOC3', 'APOE', 'AR', 'ARID1B', 'ARNT', 'ASAH1', 'ASPSCR1', 'ASXL1', \n",
    "                    'ASXL2', 'ASXL3', 'ATM', 'BCL9', 'BIRC3', 'BIRC6', 'BRCA1', 'BRCA2', 'BRD4', 'BTN3A1', 'CANT1', 'CCL4', \n",
    "                    'CCND1', 'CCNE1', 'CCNT1', 'CD14', 'CTLA4', 'CD163', 'CD19', 'CD1A', 'CD1B', 'CD1C', 'CD1D', 'CD1E', 'CD24', \n",
    "                    'CD27', 'CD274', 'CD276', 'CD3D', 'CD4', 'CD44', 'CD68', 'CD79A', 'CD86', 'CD8A', 'CD8B', 'CDH1', \n",
    "                    'CDH2', 'CDH3', 'CDH5', 'CDK1', 'CDK2', 'CDK4', 'CDK6', 'CDKN1B', 'CDKN2A', 'CDKN2B', 'CEACAM7', 'CHAD',\n",
    "                    'CHEK2', 'CKB', 'CLEC3A', 'COL1A1', 'COL1A2', 'COPZ2', 'COX7A1', 'CREBBP', 'CRYAB', 'CSF2RB', 'CSMD3', 'CTLA4',\n",
    "                    'CTSD', 'CX3CR1', 'CXCL8', 'CXCR2', 'CXCR4', 'CYP1A1', 'DCLK1', 'DDR2', 'DDX3X', 'DEFB132', 'DNAH7', 'DNMT1', \n",
    "                    'DNMT3A', 'DOCK11', 'DST', 'EDNRB', 'EGFR', 'EPCAM', 'ERBB2', 'ESR1', 'ESR2', 'EZH2', 'FAT1', 'FBXW7',\n",
    "                    'FCGR2B', 'FGA', 'FGB', 'FGFR1', 'FGFR2', 'FGFR4', 'FGG', 'FOXA1', 'FOXC1', 'FOXP3', 'FYN', 'GAS1', 'GATA3',\n",
    "                    'GIMAP7', 'GJA1', 'GJA4', 'GLDC', 'GNG11', 'GNLY', 'GPLD1', 'GPX4', 'GSTA2', 'GZMB', 'GZMB', 'HCLS1', 'HLA-E',\n",
    "                    'HSP90AA1', 'HSP90AB1', 'HSP90B1', 'HSPA5', 'ID4', 'IDO1', 'IFNG', 'IGF1', 'IL18', 'IL2RA', 'IL2RB',\n",
    "                    'IL2RG', 'IL6', 'IL7R', 'INMT', 'INPP4B', 'ITGAX', 'JCHAIN', 'KIT', 'KMT2D', 'KRT13', 'KRT14', 'KRT15', 'KRT18', \n",
    "                    'KRT36', 'KRT5', 'KRT6A', 'KRT6B', 'KRT8', 'LAG3', 'LAMA2', 'LAMC2', 'LCP2', 'LMNA', 'LPA', 'LRPPRC', \n",
    "                    'MAOA', 'MAP2K4', 'MAP3K1', 'MDGA2', 'MDM2', 'MET', 'MKI67', 'MS4A1', 'MSLN', 'MTOR', 'MUC1', 'MUC16', 'MYB',\n",
    "                    'MYC', 'NF1', 'NKG7', 'NME1', 'NOP16', 'NOTCH1', 'NOTCH2', 'NOTCH3', 'NOTCH4', 'NPR1', 'OBSCN', 'OGN', 'OLAH', \n",
    "                    'P4HA3', 'PALB2', 'PCDH15', 'PCK1', 'PDCD1', 'PDCD1LG2', 'PDE2A', 'PDGFRA', 'PDGFRB', 'PECAM1', 'PGF', 'PGF',\n",
    "                    'PGR', 'PHLDA2', 'PIK3CA', 'PIK3R1', 'PIP', 'PKN1', 'PMS1', 'POSTN', 'PRKD2', 'PRR4', 'PTEN', 'PTK6', 'PTPRH', \n",
    "                    'RACGAP1', 'RAD17', 'RAD51C', 'RB1', 'RDH12', 'RNF213', 'ROR1', 'RYR1', 'S100A16', 'SDS', 'SELL', 'SERPINA9', \n",
    "                    'SNAI1', 'SNRNP200', 'SOD3', 'SPARCL1', 'SPTA1', 'SRC', 'SRD5A2', 'SREBF1', 'SRSF1', 'STAT1','STAT2', \n",
    "                    'STAT3', 'STAT5A', 'SYNE1', 'TACSTD2', 'TAT', 'TBC1D1', 'TBC1D22B', 'TBC1D31', 'TBC1D7', 'TFF1', 'TGFB1', \n",
    "                    'TGFB2', 'TGFB3', 'TH', 'THBD', 'TIGIT', 'TOP1', 'TOP2A', 'TP53', 'TRAP1', 'TRIM29', 'TTN', 'TYMS', 'UBE2C', \n",
    "                    'USP6NL', 'VAV3', 'VEGFA', 'VEGFB', 'VEGFC', 'VEGFD', 'VIM', 'VRK1', 'VTCN1','VWF', 'WNT16', 'WTAP', 'XBP1', \n",
    "                    'XCL1', 'XCL2', 'YES1', 'YOD1' ]\n",
    "\n",
    "featuresStatistical = [ 'MCF2L2', 'FOXC1', 'YBX1', 'IGF2BP2', 'FSCN1', 'GABRP',\n",
    "                        'SOX10','CENPA','PADI2','CDC20','BCL11A','HAPLN3',\n",
    "                        'ANP32E','SFT2D2','B3GNT5','ANKS6','FOXA1','PSAT1', \n",
    "                        'TBX19','CDCA7','CENPW','UGT8','RGMA','EN1', 'FAM171A1' ]\n",
    "\n",
    "featuresManual = [ 'BRCA1', 'BRCA2', 'CD274','MKI67','PDCD1','PIK3CA','TP53','LRPPRC','YOD1','DCLK1',\n",
    "             'TOP2A','TACSTD2','ROR1','TTN','CTLA4','EGFR','EPCAM','MYC','PTEN','CDK6','DDX3X',\n",
    "             'SRC','YES1','FYN','TBC1D1','FOXC1','EZH2','LAG3','GATA3','CCND1','PRR4' ]"
   ]
  },
  {
   "cell_type": "markdown",
   "id": "52bd8371-0ffd-4347-91f4-87a59b0bcbbb",
   "metadata": {},
   "source": [
    "## Load protein coding TCGA-BRCA"
   ]
  },
  {
   "cell_type": "code",
   "execution_count": 37,
   "id": "fd5492de-0c7a-41dd-8c9c-faa718045c7d",
   "metadata": {},
   "outputs": [],
   "source": [
    "import pandas as pd\n",
    "import os\n",
    "\n",
    "tcga_exampleFile = os.path.join('00b13ccf-ad7c-4613-8366-7c583a399691', 'c763a483-415e-4cb4-9cdf-4e6c31e8a9c9.rna_seq.augmented_star_gene_counts.tsv')\n",
    "file_path_tcga  = f\"../Data/{tcga_exampleFile}\"\n",
    "\n",
    "dfGenes = pd.read_csv(file_path_tcga, sep='\\t', skiprows=[0])"
   ]
  },
  {
   "cell_type": "code",
   "execution_count": 41,
   "id": "cbbe6819-24c3-4d12-bcbd-4e725a1c9711",
   "metadata": {},
   "outputs": [],
   "source": [
    "dfTarget = dfGenes[dfGenes['gene_type'] == 'protein_coding'][['gene_name', 'stranded_first']]\n",
    "\n",
    "# Remove duplicates. Second row (duplicate) has 'PAR_Y', value 0. Ergo keep first.\n",
    "dfTarget.drop_duplicates(subset=['gene_name'], keep='first', inplace=True)"
   ]
  },
  {
   "cell_type": "markdown",
   "id": "d62ee0b0-7676-419f-8b98-23d25495df88",
   "metadata": {},
   "source": [
    "## Load Gene Expression Omnibus Datasets"
   ]
  },
  {
   "cell_type": "code",
   "execution_count": 27,
   "id": "2d4229e8-2d0b-4cc4-9932-54953d0b0c19",
   "metadata": {},
   "outputs": [],
   "source": [
    "geoData_GSE10893_file = os.path.join('../Data', 'geoData_GSE10893.csv')\n",
    "geoData_GSE53752_file = os.path.join('../Data', 'geoData_GSE53752.csv')\n",
    "geoData_GSE65216_file = os.path.join('../Data', 'geoData_GSE65216.csv')\n",
    "geoData_GSE76250_file = os.path.join('../Data', 'geoData_GSE76250.csv')\n",
    "\n",
    "geoData_GSE10893 = pd.read_csv(geoData_GSE10893_file, sep=',')\n",
    "geoData_GSE53752 = pd.read_csv(geoData_GSE53752_file, sep=',')\n",
    "geoData_GSE65216 = pd.read_csv(geoData_GSE65216_file, sep=',')\n",
    "geoData_GSE76250 = pd.read_csv(geoData_GSE76250_file, sep=',')"
   ]
  },
  {
   "cell_type": "code",
   "execution_count": 32,
   "id": "00b1414f-68fc-4ea5-ad12-5cf67610d9dd",
   "metadata": {},
   "outputs": [],
   "source": [
    "# geoData_GSE10893 # 22574 columns\n",
    "# geoData_GSE53752 # 18673 columns\n",
    "# geoData_GSE65216 # 45782 columns -> ///\n",
    "# geoData_GSE76250 # 32672 columns -> //\n",
    "# geoData_GSE76250"
   ]
  },
  {
   "cell_type": "markdown",
   "id": "8460db25-8e15-4805-bf48-cb23710a5436",
   "metadata": {},
   "source": [
    "# Compare TCGA-BRCA protein coding with each GEO Dataset"
   ]
  },
  {
   "cell_type": "code",
   "execution_count": 65,
   "id": "101bf0c5-2dda-4b08-a673-cc71067314b1",
   "metadata": {},
   "outputs": [
    {
     "name": "stdout",
     "output_type": "stream",
     "text": [
      "<class 'numpy.ndarray'>\n",
      "<class 'pandas.core.series.Series'>\n"
     ]
    }
   ],
   "source": [
    "type(geoData_GSE10893.columns)\n",
    "\n",
    "\n",
    "print(type(geoData_GSE10893.columns.to_series().values))\n",
    "print(type(tcgaBrca))\n",
    "\n",
    "colGeo = geoData_GSE10893.columns.to_series().values"
   ]
  },
  {
   "cell_type": "code",
   "execution_count": 66,
   "id": "bb8e6488-fe75-4cc1-8694-e681c3d154e3",
   "metadata": {},
   "outputs": [
    {
     "data": {
      "text/plain": [
       "array(['TSPAN6', 'TNMD', 'DPM1', ..., 'AC006486.3', 'AL391628.1',\n",
       "       'AP006621.6'], dtype=object)"
      ]
     },
     "execution_count": 66,
     "metadata": {},
     "output_type": "execute_result"
    }
   ],
   "source": [
    "tcgaBrca = dfTarget['gene_name'].copy(deep=True)\n",
    "tcgaBrca.values"
   ]
  },
  {
   "cell_type": "code",
   "execution_count": 68,
   "id": "3275905f-c22a-469e-b1ac-80081ae94272",
   "metadata": {},
   "outputs": [
    {
     "data": {
      "text/plain": [
       "False"
      ]
     },
     "execution_count": 68,
     "metadata": {},
     "output_type": "execute_result"
    }
   ],
   "source": [
    "set(colGeo) == set(tcgaBrca)"
   ]
  },
  {
   "cell_type": "code",
   "execution_count": 86,
   "id": "b6b26a29-bf98-402b-9328-86784f888c91",
   "metadata": {},
   "outputs": [
    {
     "name": "stdout",
     "output_type": "stream",
     "text": [
      "12650\n",
      "15286\n",
      "same - 7288\n",
      "\n"
     ]
    }
   ],
   "source": [
    "print(len(set(tcgaBrca) - set(colGeo)))\n",
    "print(len(set(colGeo) - set(tcgaBrca)))\n",
    "#set(colGeo) - set(tcgaBrca)\n",
    "#set(tcgaBrca) - set(colGeo)\n",
    "\n",
    "# Same\n",
    "print(f'same - {len(set(tcgaBrca) & set(colGeo))}')\n",
    "print()"
   ]
  },
  {
   "cell_type": "code",
   "execution_count": 87,
   "id": "6d9744e6-6cc3-4b33-ad76-e9b46a604380",
   "metadata": {},
   "outputs": [
    {
     "name": "stdout",
     "output_type": "stream",
     "text": [
      "25\n",
      "25\n"
     ]
    },
    {
     "data": {
      "text/plain": [
       "set()"
      ]
     },
     "execution_count": 87,
     "metadata": {},
     "output_type": "execute_result"
    }
   ],
   "source": [
    "print(len(set(featuresStatistical) & set(tcgaBrca)))\n",
    "print(len(featuresStatistical))\n",
    "set(featuresStatistical) - set(tcgaBrca)"
   ]
  },
  {
   "cell_type": "code",
   "execution_count": 127,
   "id": "3874c39a-b21b-40df-8841-6d6532d10f87",
   "metadata": {},
   "outputs": [
    {
     "name": "stdout",
     "output_type": "stream",
     "text": [
      "GSE10893 compare Statistical: 13\n",
      "GSE53752 compare Statistical: 1\n",
      "GSE65216 compare Statistical: 0\n",
      "GSE76250 compare Statistical: 0\n",
      "GSE10893 compare Four: 75\n",
      "GSE53752 compare Four: 13\n",
      "GSE65216 compare Four: 5\n",
      "GSE76250 compare Four: 5\n",
      "GSE10893 compare Manual: 7\n",
      "GSE53752 compare Manual: 1\n",
      "GSE65216 compare Manual: 1\n",
      "GSE76250 compare Manual: 0\n"
     ]
    }
   ],
   "source": [
    "print(f'GSE10893 compare Statistical: {len(set(featuresStatistical) - set(geoData_GSE10893))}') # GPL 1390\n",
    "print(f'GSE53752 compare Statistical: {len(set(featuresStatistical) - set(geoData_GSE53752))}') # GPL 7264\n",
    "print(f'GSE65216 compare Statistical: {len(set(featuresStatistical) - set(geoData_GSE65216))}') # GPL 570\n",
    "print(f'GSE76250 compare Statistical: {len(set(featuresStatistical) - set(geoData_GSE76250))}') # GPL 17586\n",
    "\n",
    "print(f'GSE10893 compare Four: {len(set(featuresFour) - set(geoData_GSE10893))}') # GPL 1390\n",
    "print(f'GSE53752 compare Four: {len(set(featuresFour) - set(geoData_GSE53752))}') # GPL 7264 \n",
    "print(f'GSE65216 compare Four: {len(set(featuresFour) - set(geoData_GSE65216))}') # GPL 570\n",
    "print(f'GSE76250 compare Four: {len(set(featuresFour) - set(geoData_GSE76250))}') # GPL 17586\n",
    "\n",
    "print(f'GSE10893 compare Manual: {len(set(featuresManual) - set(geoData_GSE10893))}') # GPL 1390\n",
    "print(f'GSE53752 compare Manual: {len(set(featuresManual) - set(geoData_GSE53752))}') # GPL 7264 \n",
    "print(f'GSE65216 compare Manual: {len(set(featuresManual) - set(geoData_GSE65216))}') # GPL 570\n",
    "print(f'GSE76250 compare Manual: {len(set(featuresManual) - set(geoData_GSE76250))}') # GPL 17586\n"
   ]
  },
  {
   "cell_type": "code",
   "execution_count": 105,
   "id": "72bf3fc4-08e0-492a-af96-d4bc0f44c892",
   "metadata": {},
   "outputs": [
    {
     "data": {
      "text/plain": [
       "Index([], dtype='object')"
      ]
     },
     "execution_count": 105,
     "metadata": {},
     "output_type": "execute_result"
    }
   ],
   "source": [
    "geoData_GSE65216.columns[geoData_GSE65216.columns == 'geoData_GSE65216']"
   ]
  },
  {
   "cell_type": "markdown",
   "id": "ea3c95a2-5958-482f-a75a-881486a60a33",
   "metadata": {},
   "source": [
    "## Addresseren statsistical"
   ]
  },
  {
   "cell_type": "code",
   "execution_count": 119,
   "id": "1bc34f44-0cec-4e25-8861-b6ca7fa05c62",
   "metadata": {},
   "outputs": [
    {
     "data": {
      "text/html": [
       "<div>\n",
       "<style scoped>\n",
       "    .dataframe tbody tr th:only-of-type {\n",
       "        vertical-align: middle;\n",
       "    }\n",
       "\n",
       "    .dataframe tbody tr th {\n",
       "        vertical-align: top;\n",
       "    }\n",
       "\n",
       "    .dataframe thead th {\n",
       "        text-align: right;\n",
       "    }\n",
       "</style>\n",
       "<table border=\"1\" class=\"dataframe\">\n",
       "  <thead>\n",
       "    <tr style=\"text-align: right;\">\n",
       "      <th></th>\n",
       "      <th>gene_name</th>\n",
       "      <th>stranded_first</th>\n",
       "    </tr>\n",
       "  </thead>\n",
       "  <tbody>\n",
       "    <tr>\n",
       "      <th>8390</th>\n",
       "      <td>ANP32E</td>\n",
       "      <td>1743</td>\n",
       "    </tr>\n",
       "  </tbody>\n",
       "</table>\n",
       "</div>"
      ],
      "text/plain": [
       "     gene_name  stranded_first\n",
       "8390    ANP32E            1743"
      ]
     },
     "execution_count": 119,
     "metadata": {},
     "output_type": "execute_result"
    }
   ],
   "source": [
    "dfTarget[dfTarget['gene_name'] == 'ANP32E']"
   ]
  },
  {
   "cell_type": "code",
   "execution_count": 115,
   "id": "38e6cfa4-acb8-4f03-ab7d-4fd1a533dd63",
   "metadata": {},
   "outputs": [
    {
     "data": {
      "text/plain": [
       "{'ANKS6',\n",
       " 'ANP32E',\n",
       " 'CENPW',\n",
       " 'FAM171A1',\n",
       " 'FOXA1',\n",
       " 'FSCN1',\n",
       " 'HAPLN3',\n",
       " 'IGF2BP2',\n",
       " 'MCF2L2',\n",
       " 'PSAT1',\n",
       " 'RGMA',\n",
       " 'SFT2D2',\n",
       " 'YBX1'}"
      ]
     },
     "execution_count": 115,
     "metadata": {},
     "output_type": "execute_result"
    }
   ],
   "source": [
    "set(featuresStatistical) - set(geoData_GSE10893) # GPL1390\n",
    "# ANKS6 --> nee\n",
    "# ANP32E == LANP-L\n",
    "# CENPW == Nee\n",
    "# FAM171A1 == Nee\n",
    "# FOXA1 == HNF3A\n",
    "# FSCN1 == SNL\n",
    "# HAPLN3 == Nee\n",
    "# IGF2BP2 == IMP-2\n",
    "# MCF2L2 == Nee\n",
    "# PSAT1 == PSA\n",
    "# RGMA == Nee\n",
    "# SFT2D2 == Nee\n",
    "# YBX1 == NSEP1"
   ]
  },
  {
   "cell_type": "code",
   "execution_count": 117,
   "id": "5918f00d-8647-4331-97fc-ccd86bc6ab3c",
   "metadata": {},
   "outputs": [
    {
     "data": {
      "text/plain": [
       "{'CENPW'}"
      ]
     },
     "execution_count": 117,
     "metadata": {},
     "output_type": "execute_result"
    }
   ],
   "source": [
    "set(featuresStatistical) - set(geoData_GSE53752) # GPL7264\n",
    "## really doesn't have CENPW"
   ]
  },
  {
   "cell_type": "markdown",
   "id": "703a4419-c59c-442d-86b0-a1717317a426",
   "metadata": {},
   "source": [
    "### Addresseren featuresFour"
   ]
  },
  {
   "cell_type": "code",
   "execution_count": null,
   "id": "a4f1e54b-3fbf-49cc-ac78-40af911c4839",
   "metadata": {},
   "outputs": [],
   "source": [
    "set(featuresFour) - set(geoData_GSE10893) # GPL1390 \n",
    "# ACKR1 == \n",
    "# ACSL3 == \n",
    "# ARID1B == \n",
    "# ASAH1 == \n",
    "# ASXL1 == \n",
    "# ASXL2 == \n",
    "# ASXL3 == \n",
    "# CANT1 == \n",
    "# CCL4 == \n",
    "# CD27 == \n",
    "# CD274 == \n",
    "# CD276 == \n",
    "# CD8B == \n",
    "# CDK1 == \n",
    "# CDKN2A == \n",
    "# CLEC3A == \n",
    "# COPZ2 == \n",
    "# CSMD3 == \n",
    "# CXCL8 == \n",
    "# CXCR2 == \n",
    "# DCLK1 == \n",
    "# DDX3X == \n",
    "# DEFB132 == \n",
    "# DOCK11 == \n",
    "# DST == \n",
    "# EPCAM == \n",
    "# FAT1 == \n",
    "# FGFR1 == \n",
    "# FOXA1 == \n",
    "# FOXP3 == \n",
    "# GIMAP7 == \n",
    "# HSP90AA1 == \n",
    "# HSP90AB1 == \n",
    "# HSP90B1 == \n",
    "# IDO1 == \n",
    "# JCHAIN == \n",
    "# KMT2D == \n",
    "# KRT36 == \n",
    "# MAP3K1 == \n",
    "# MDGA2 == \n",
    "# MTOR == \n",
    "# NOP16 == \n",
    "# NOTCH4 == \n",
    "# OBSCN == \n",
    "# OLAH == \n",
    "# P4HA3 == \n",
    "# PALB2 == \n",
    "# PDCD1LG2 == \n",
    "# PHLDA2 == \n",
    "# PIK3R1 == \n",
    "# PKN1 == \n",
    "# POSTN == \n",
    "# PRKD2 == \n",
    "# PRR4 == \n",
    "# RDH12 == \n",
    "# RNF213 == \n",
    "# S100A16 == \n",
    "# SERPINA9 == \n",
    "# SNRNP200 == \n",
    "# SRSF1 == \n",
    "# SYNE1 == \n",
    "# TBC1D1 == \n",
    "# TBC1D22B == \n",
    "# TBC1D31 == \n",
    "# TBC1D7 == \n",
    "# TGFB1 == \n",
    "# TIGIT == \n",
    "# TRAP1 == \n",
    "# USP6NL == \n",
    "# VEGFA == \n",
    "# VEGFD == \n",
    "# VTCN1 == \n",
    "# XCL1 == \n",
    "# XCL2 == \n",
    "# YOD == "
   ]
  },
  {
   "cell_type": "code",
   "execution_count": null,
   "id": "3125ebc7-da52-4709-b9c8-0d8836ee12fd",
   "metadata": {},
   "outputs": [],
   "source": [
    "set(featuresFour) - set(geoData_GSE53752) # GPL7264\n",
    "\n",
    "# ACKR1 == DARC\n",
    "# ACSL3 == Nee\n",
    "# ASXL3 == Nee\n",
    "# CDK1 == CDC2\n",
    "# CXCL8 == IL8\n",
    "# CXCR2 == IL8RB\n",
    "# JCHAIN == IGJ\n",
    "# KMT2D == MLL2\n",
    "# MTOR == FRAP1\n",
    "# SRSF1 == SFRS1\n",
    "# TBC1D31 == WDR67\n",
    "# VEGFD == FIGF\n",
    "# YOD1 == Nee"
   ]
  },
  {
   "cell_type": "code",
   "execution_count": 99,
   "id": "b589497f-1ea9-4aff-abfd-8b37bfcfda5b",
   "metadata": {},
   "outputs": [
    {
     "data": {
      "text/plain": [
       "{'GSTA2', 'JCHAIN', 'PRR4', 'VEGFD', 'XCL2'}"
      ]
     },
     "execution_count": 99,
     "metadata": {},
     "output_type": "execute_result"
    }
   ],
   "source": [
    "set(featuresFour) - set(geoData_GSE65216) # GPL 570\n",
    "\n",
    "# JCHAIN == IGJ\n",
    "# GSTA2 zit er wel in -> nakijken loading --> ID == 203924_at\n",
    "# PRR4 == PRH1-PRR4 (tweede ///)\n",
    "# VEGFD == FIGF\n",
    "# XCL2 == SCYC2"
   ]
  },
  {
   "cell_type": "code",
   "execution_count": 98,
   "id": "797e80c0-2791-4885-972a-9f9c62d1eef9",
   "metadata": {},
   "outputs": [
    {
     "data": {
      "text/plain": [
       "{'ACKR1', 'CXCL8', 'JCHAIN', 'TBC1D31', 'VEGFD'}"
      ]
     },
     "execution_count": 98,
     "metadata": {},
     "output_type": "execute_result"
    }
   ],
   "source": [
    "set(featuresFour) - set(geoData_GSE76250) # GPL17586\n",
    "\n",
    "# ACKR1 == DARC\n",
    "# JCHAIN == IGJ wel -> NM_144646 -> nakijken in GEO --> ID == TC04001270.hg.1\n",
    "# TBC1D31 == WDR67\n",
    "# VEGFD == FIGF\n",
    "# CXCL8 == IL8"
   ]
  },
  {
   "cell_type": "code",
   "execution_count": 110,
   "id": "00f1ff0b-2a9f-4c5c-8f86-40771390f53d",
   "metadata": {},
   "outputs": [],
   "source": [
    "#featuresFour"
   ]
  },
  {
   "cell_type": "code",
   "execution_count": 101,
   "id": "05a15cc1-06cf-4066-a456-6b81f6ac05fd",
   "metadata": {},
   "outputs": [
    {
     "data": {
      "text/html": [
       "<div>\n",
       "<style scoped>\n",
       "    .dataframe tbody tr th:only-of-type {\n",
       "        vertical-align: middle;\n",
       "    }\n",
       "\n",
       "    .dataframe tbody tr th {\n",
       "        vertical-align: top;\n",
       "    }\n",
       "\n",
       "    .dataframe thead th {\n",
       "        text-align: right;\n",
       "    }\n",
       "</style>\n",
       "<table border=\"1\" class=\"dataframe\">\n",
       "  <thead>\n",
       "    <tr style=\"text-align: right;\">\n",
       "      <th></th>\n",
       "      <th>gene_name</th>\n",
       "      <th>stranded_first</th>\n",
       "    </tr>\n",
       "  </thead>\n",
       "  <tbody>\n",
       "    <tr>\n",
       "      <th>6596</th>\n",
       "      <td>JCHAIN</td>\n",
       "      <td>7030</td>\n",
       "    </tr>\n",
       "  </tbody>\n",
       "</table>\n",
       "</div>"
      ],
      "text/plain": [
       "     gene_name  stranded_first\n",
       "6596    JCHAIN            7030"
      ]
     },
     "execution_count": 101,
     "metadata": {},
     "output_type": "execute_result"
    }
   ],
   "source": [
    "dfTarget[dfTarget['gene_name'] == 'JCHAIN'] # Dit heet anders in GEO"
   ]
  },
  {
   "cell_type": "code",
   "execution_count": 114,
   "id": "c8825666-895b-429c-878c-2a35b528100c",
   "metadata": {},
   "outputs": [
    {
     "data": {
      "text/html": [
       "<div>\n",
       "<style scoped>\n",
       "    .dataframe tbody tr th:only-of-type {\n",
       "        vertical-align: middle;\n",
       "    }\n",
       "\n",
       "    .dataframe tbody tr th {\n",
       "        vertical-align: top;\n",
       "    }\n",
       "\n",
       "    .dataframe thead th {\n",
       "        text-align: right;\n",
       "    }\n",
       "</style>\n",
       "<table border=\"1\" class=\"dataframe\">\n",
       "  <thead>\n",
       "    <tr style=\"text-align: right;\">\n",
       "      <th></th>\n",
       "      <th>gene_name</th>\n",
       "      <th>stranded_first</th>\n",
       "    </tr>\n",
       "  </thead>\n",
       "  <tbody>\n",
       "    <tr>\n",
       "      <th>11551</th>\n",
       "      <td>VEGFD</td>\n",
       "      <td>96</td>\n",
       "    </tr>\n",
       "  </tbody>\n",
       "</table>\n",
       "</div>"
      ],
      "text/plain": [
       "      gene_name  stranded_first\n",
       "11551     VEGFD              96"
      ]
     },
     "execution_count": 114,
     "metadata": {},
     "output_type": "execute_result"
    }
   ],
   "source": [
    "dfTarget[dfTarget['gene_name'] == 'VEGFD'] # Dit heet anders in GEO"
   ]
  },
  {
   "cell_type": "code",
   "execution_count": 124,
   "id": "2ff060d5-b2a0-4e1c-81ec-51c885e4afb6",
   "metadata": {},
   "outputs": [
    {
     "data": {
      "text/html": [
       "<div>\n",
       "<style scoped>\n",
       "    .dataframe tbody tr th:only-of-type {\n",
       "        vertical-align: middle;\n",
       "    }\n",
       "\n",
       "    .dataframe tbody tr th {\n",
       "        vertical-align: top;\n",
       "    }\n",
       "\n",
       "    .dataframe thead th {\n",
       "        text-align: right;\n",
       "    }\n",
       "</style>\n",
       "<table border=\"1\" class=\"dataframe\">\n",
       "  <thead>\n",
       "    <tr style=\"text-align: right;\">\n",
       "      <th></th>\n",
       "      <th>gene_name</th>\n",
       "      <th>stranded_first</th>\n",
       "    </tr>\n",
       "  </thead>\n",
       "  <tbody>\n",
       "    <tr>\n",
       "      <th>14903</th>\n",
       "      <td>YOD1</td>\n",
       "      <td>730</td>\n",
       "    </tr>\n",
       "  </tbody>\n",
       "</table>\n",
       "</div>"
      ],
      "text/plain": [
       "      gene_name  stranded_first\n",
       "14903      YOD1             730"
      ]
     },
     "execution_count": 124,
     "metadata": {},
     "output_type": "execute_result"
    }
   ],
   "source": [
    "dfTarget[dfTarget['gene_name'] == 'YOD1']"
   ]
  },
  {
   "cell_type": "code",
   "execution_count": 109,
   "id": "03a84662-2a32-4cb7-a9d0-59e59b18449c",
   "metadata": {},
   "outputs": [
    {
     "data": {
      "text/plain": [
       "Index(['PRH1-PRR4'], dtype='object')"
      ]
     },
     "execution_count": 109,
     "metadata": {},
     "output_type": "execute_result"
    }
   ],
   "source": [
    "geoData_GSE65216.columns[geoData_GSE65216.columns == 'PRH1-PRR4']\n",
    "#geoData_GSE65216.columns[geoData_GSE65216.columns == 'PRR4']"
   ]
  },
  {
   "cell_type": "code",
   "execution_count": 113,
   "id": "6d56a264-2ddb-4ae3-a60c-eaa30cd299a8",
   "metadata": {},
   "outputs": [
    {
     "data": {
      "text/plain": [
       "Index([], dtype='object')"
      ]
     },
     "execution_count": 113,
     "metadata": {},
     "output_type": "execute_result"
    }
   ],
   "source": [
    "geoData_GSE76250.columns[geoData_GSE76250.columns == 'JCHAIN']"
   ]
  },
  {
   "cell_type": "code",
   "execution_count": null,
   "id": "7d003ee2-5159-4404-9743-ce6051966eea",
   "metadata": {},
   "outputs": [],
   "source": []
  },
  {
   "cell_type": "markdown",
   "id": "ef70ff5f-763a-4089-9e52-f4aaa1c0ced1",
   "metadata": {},
   "source": [
    "# featuresManual"
   ]
  },
  {
   "cell_type": "code",
   "execution_count": null,
   "id": "4bc72050-426f-4f95-a84f-60358158a841",
   "metadata": {},
   "outputs": [],
   "source": [
    "# GSE10893 compare Manual: 7\n",
    "# GSE53752 compare Manual: 1\n",
    "# GSE65216 compare Manual: 1"
   ]
  },
  {
   "cell_type": "code",
   "execution_count": 129,
   "id": "77785485-d5ed-4462-a901-67c39ec9bf15",
   "metadata": {},
   "outputs": [
    {
     "data": {
      "text/plain": [
       "{'PRR4'}"
      ]
     },
     "execution_count": 129,
     "metadata": {},
     "output_type": "execute_result"
    }
   ],
   "source": [
    "set(featuresManual) - set(geoData_GSE65216) # GPL 570\n",
    "# PRR4 == PRH1-PRR4 (tweede ///)"
   ]
  },
  {
   "cell_type": "code",
   "execution_count": 130,
   "id": "29c862fa-a626-4c2c-b4d8-6efe1598b882",
   "metadata": {},
   "outputs": [
    {
     "data": {
      "text/plain": [
       "{'YOD1'}"
      ]
     },
     "execution_count": 130,
     "metadata": {},
     "output_type": "execute_result"
    }
   ],
   "source": [
    "set(featuresManual) - set(geoData_GSE53752) # GPL7264\n",
    "# YOD1 = Nee"
   ]
  },
  {
   "cell_type": "code",
   "execution_count": 132,
   "id": "f55aca40-1c2f-42ff-ae33-30927aab568e",
   "metadata": {},
   "outputs": [
    {
     "data": {
      "text/plain": [
       "{'CD274', 'DCLK1', 'DDX3X', 'EPCAM', 'PRR4', 'TBC1D1', 'YOD1'}"
      ]
     },
     "execution_count": 132,
     "metadata": {},
     "output_type": "execute_result"
    }
   ],
   "source": [
    "set(featuresManual) - set(geoData_GSE10893) # GPL1390 \n",
    "# CD274 == B7-H1\n",
    "# DCLK1 == DCAMKL1\n",
    "# DDX3X == DDX3\n",
    "# EPCAM == TACSTD1\n",
    "# PRR4 == PROL4\n",
    "# TBC1D1 == Nee\n",
    "# YOD1 == Nee"
   ]
  },
  {
   "cell_type": "code",
   "execution_count": null,
   "id": "91f79a34-e14f-4129-b842-3f35c6fe8f15",
   "metadata": {},
   "outputs": [],
   "source": []
  },
  {
   "cell_type": "code",
   "execution_count": null,
   "id": "964e0ca2-022f-4737-b25e-34419e02e570",
   "metadata": {},
   "outputs": [],
   "source": []
  },
  {
   "cell_type": "code",
   "execution_count": null,
   "id": "36b504ad-47b8-42b4-ba03-4bdd22775dd0",
   "metadata": {},
   "outputs": [],
   "source": []
  },
  {
   "cell_type": "code",
   "execution_count": null,
   "id": "1210842c-2e24-4e0e-bfaa-e8261290a6b3",
   "metadata": {},
   "outputs": [],
   "source": []
  },
  {
   "cell_type": "code",
   "execution_count": null,
   "id": "5395bbd0-da6e-425a-8d0d-7df673f6eaf2",
   "metadata": {},
   "outputs": [],
   "source": []
  },
  {
   "cell_type": "code",
   "execution_count": null,
   "id": "44eae86e-10cc-4c8e-9722-0d56fe51d138",
   "metadata": {},
   "outputs": [],
   "source": []
  },
  {
   "cell_type": "code",
   "execution_count": null,
   "id": "10d9ee1f-f431-4cab-91e1-85df90991cb3",
   "metadata": {},
   "outputs": [],
   "source": []
  },
  {
   "cell_type": "code",
   "execution_count": null,
   "id": "84d9b3e2-1969-4c10-9b03-8450563008c7",
   "metadata": {},
   "outputs": [],
   "source": []
  },
  {
   "cell_type": "code",
   "execution_count": null,
   "id": "8cedb2d6-c165-4af4-bc68-83be97ae3884",
   "metadata": {},
   "outputs": [],
   "source": []
  },
  {
   "cell_type": "code",
   "execution_count": null,
   "id": "1f3dd332-7c8a-41bf-8181-1c47d74b7f6f",
   "metadata": {},
   "outputs": [],
   "source": []
  },
  {
   "cell_type": "code",
   "execution_count": null,
   "id": "e40e3475-fc88-4f53-b26f-9f45e50f151b",
   "metadata": {},
   "outputs": [],
   "source": []
  },
  {
   "cell_type": "code",
   "execution_count": null,
   "id": "22fb08c1-2536-4102-bfe1-2d3f5ddfd118",
   "metadata": {},
   "outputs": [],
   "source": []
  },
  {
   "cell_type": "code",
   "execution_count": null,
   "id": "2e8e87f1-9587-4a58-9a9f-c693e2b7c8f0",
   "metadata": {},
   "outputs": [],
   "source": []
  }
 ],
 "metadata": {
  "kernelspec": {
   "display_name": "Python 3 (ipykernel)",
   "language": "python",
   "name": "python3"
  },
  "language_info": {
   "codemirror_mode": {
    "name": "ipython",
    "version": 3
   },
   "file_extension": ".py",
   "mimetype": "text/x-python",
   "name": "python",
   "nbconvert_exporter": "python",
   "pygments_lexer": "ipython3",
   "version": "3.12.3"
  }
 },
 "nbformat": 4,
 "nbformat_minor": 5
}
