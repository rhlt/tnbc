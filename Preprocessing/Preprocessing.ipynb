{
 "cells": [
  {
   "cell_type": "markdown",
   "id": "3ec066ac-17cc-4d11-813c-370273085136",
   "metadata": {},
   "source": [
    "# PreProcessing data\n",
    "### (validation, standardization, imputation, augmentation, deduplication)"
   ]
  },
  {
   "cell_type": "markdown",
   "id": "726ac06a-65f0-4086-b025-7d8c96572bf1",
   "metadata": {},
   "source": [
    "# Get files to load RNA-SEQ"
   ]
  },
  {
   "cell_type": "code",
   "execution_count": 381,
   "id": "8f269c93-010c-4d53-9896-098529b68956",
   "metadata": {},
   "outputs": [
    {
     "data": {
      "text/html": [
       "<div>\n",
       "<style scoped>\n",
       "    .dataframe tbody tr th:only-of-type {\n",
       "        vertical-align: middle;\n",
       "    }\n",
       "\n",
       "    .dataframe tbody tr th {\n",
       "        vertical-align: top;\n",
       "    }\n",
       "\n",
       "    .dataframe thead th {\n",
       "        text-align: right;\n",
       "    }\n",
       "</style>\n",
       "<table border=\"1\" class=\"dataframe\">\n",
       "  <thead>\n",
       "    <tr style=\"text-align: right;\">\n",
       "      <th></th>\n",
       "      <th>file</th>\n",
       "      <th>tnbc</th>\n",
       "      <th>bcr_patient_uuid</th>\n",
       "    </tr>\n",
       "  </thead>\n",
       "  <tbody>\n",
       "    <tr>\n",
       "      <th>0</th>\n",
       "      <td>84225715-14a6-423c-a6d6-15558e151f56\\253aa5dc-...</td>\n",
       "      <td>False</td>\n",
       "      <td>6E7D5EC6-A469-467C-B748-237353C23416</td>\n",
       "    </tr>\n",
       "    <tr>\n",
       "      <th>1</th>\n",
       "      <td>927604f9-a38e-4c3f-b50f-3e0db4daf5ec\\1be6a56c-...</td>\n",
       "      <td>False</td>\n",
       "      <td>55262FCB-1B01-4480-B322-36570430C917</td>\n",
       "    </tr>\n",
       "    <tr>\n",
       "      <th>2</th>\n",
       "      <td>931442ba-af81-4b68-beca-7285fc44b1df\\f2dda955-...</td>\n",
       "      <td>False</td>\n",
       "      <td>427D0648-3F77-4FFC-B52C-89855426D647</td>\n",
       "    </tr>\n",
       "    <tr>\n",
       "      <th>3</th>\n",
       "      <td>7b4d770a-2b8c-4ca5-bf51-c4745c5de39a\\ae8996bd-...</td>\n",
       "      <td>False</td>\n",
       "      <td>C31900A4-5DCD-4022-97AC-638E86E889E4</td>\n",
       "    </tr>\n",
       "    <tr>\n",
       "      <th>4</th>\n",
       "      <td>307261f2-f88f-4658-b6d1-98ef946148e2\\75d91076-...</td>\n",
       "      <td>False</td>\n",
       "      <td>6623FC5E-00BE-4476-967A-CBD55F676EA6</td>\n",
       "    </tr>\n",
       "    <tr>\n",
       "      <th>...</th>\n",
       "      <td>...</td>\n",
       "      <td>...</td>\n",
       "      <td>...</td>\n",
       "    </tr>\n",
       "    <tr>\n",
       "      <th>972</th>\n",
       "      <td>0a7dc8b9-4196-41d3-ada1-a50cb36bfd2b\\3c9c665e-...</td>\n",
       "      <td>False</td>\n",
       "      <td>5CD79093-1571-4F71-8136-0D84CCABDCAC</td>\n",
       "    </tr>\n",
       "    <tr>\n",
       "      <th>973</th>\n",
       "      <td>e0cb738d-854a-4033-b370-79fa28d7cef8\\69118aea-...</td>\n",
       "      <td>False</td>\n",
       "      <td>F89588E9-CA73-4465-A7FB-7246EDB45E3A</td>\n",
       "    </tr>\n",
       "    <tr>\n",
       "      <th>974</th>\n",
       "      <td>e25bb12b-f88b-41c5-951e-a36d4b94008f\\73e13f2d-...</td>\n",
       "      <td>False</td>\n",
       "      <td>CA20249F-B7EA-4FD9-9ECB-34F74755AE35</td>\n",
       "    </tr>\n",
       "    <tr>\n",
       "      <th>975</th>\n",
       "      <td>ee447251-5c90-426f-a0c7-bd2041189761\\06a03e45-...</td>\n",
       "      <td>False</td>\n",
       "      <td>23F438BD-1DBB-4D46-972F-1E8E74DDBD37</td>\n",
       "    </tr>\n",
       "    <tr>\n",
       "      <th>976</th>\n",
       "      <td>404cea41-efa9-44c0-84a1-5dd603d7a2a4\\69ed2c6f-...</td>\n",
       "      <td>False</td>\n",
       "      <td>B1D44C81-747D-471F-9093-AEB262A17975</td>\n",
       "    </tr>\n",
       "  </tbody>\n",
       "</table>\n",
       "<p>977 rows × 3 columns</p>\n",
       "</div>"
      ],
      "text/plain": [
       "                                                  file   tnbc  \\\n",
       "0    84225715-14a6-423c-a6d6-15558e151f56\\253aa5dc-...  False   \n",
       "1    927604f9-a38e-4c3f-b50f-3e0db4daf5ec\\1be6a56c-...  False   \n",
       "2    931442ba-af81-4b68-beca-7285fc44b1df\\f2dda955-...  False   \n",
       "3    7b4d770a-2b8c-4ca5-bf51-c4745c5de39a\\ae8996bd-...  False   \n",
       "4    307261f2-f88f-4658-b6d1-98ef946148e2\\75d91076-...  False   \n",
       "..                                                 ...    ...   \n",
       "972  0a7dc8b9-4196-41d3-ada1-a50cb36bfd2b\\3c9c665e-...  False   \n",
       "973  e0cb738d-854a-4033-b370-79fa28d7cef8\\69118aea-...  False   \n",
       "974  e25bb12b-f88b-41c5-951e-a36d4b94008f\\73e13f2d-...  False   \n",
       "975  ee447251-5c90-426f-a0c7-bd2041189761\\06a03e45-...  False   \n",
       "976  404cea41-efa9-44c0-84a1-5dd603d7a2a4\\69ed2c6f-...  False   \n",
       "\n",
       "                         bcr_patient_uuid  \n",
       "0    6E7D5EC6-A469-467C-B748-237353C23416  \n",
       "1    55262FCB-1B01-4480-B322-36570430C917  \n",
       "2    427D0648-3F77-4FFC-B52C-89855426D647  \n",
       "3    C31900A4-5DCD-4022-97AC-638E86E889E4  \n",
       "4    6623FC5E-00BE-4476-967A-CBD55F676EA6  \n",
       "..                                    ...  \n",
       "972  5CD79093-1571-4F71-8136-0D84CCABDCAC  \n",
       "973  F89588E9-CA73-4465-A7FB-7246EDB45E3A  \n",
       "974  CA20249F-B7EA-4FD9-9ECB-34F74755AE35  \n",
       "975  23F438BD-1DBB-4D46-972F-1E8E74DDBD37  \n",
       "976  B1D44C81-747D-471F-9093-AEB262A17975  \n",
       "\n",
       "[977 rows x 3 columns]"
      ]
     },
     "execution_count": 381,
     "metadata": {},
     "output_type": "execute_result"
    }
   ],
   "source": [
    "import pandas as pd\n",
    "\n",
    "targetGenes = [ 'protein_coding' ]\n",
    "\n",
    "variant = 'research_logScaled'\n",
    "df = pd.read_csv('../Data/clinical.csv')\n",
    "geneFiles = df[['file', 'tnbc', 'bcr_patient_uuid']]\n",
    "\n",
    "geneFiles"
   ]
  },
  {
   "cell_type": "markdown",
   "id": "42eef5f7-4b21-4a5e-a372-fb762b5edb51",
   "metadata": {},
   "source": [
    "# Load only protein coding"
   ]
  },
  {
   "cell_type": "code",
   "execution_count": 382,
   "id": "5e77745d-4f3b-4eac-b68b-d75384ad7870",
   "metadata": {},
   "outputs": [
    {
     "name": "stdout",
     "output_type": "stream",
     "text": [
      "File 977/977 - 404cea41-efa9-44c0-84a1-5dd603d7a2a4\\69ed2c6f-9495-475c-b8d6-c1db8f4b0537.rna_seq.augmented_star_gene_counts.tsv\r"
     ]
    }
   ],
   "source": [
    "dfPatientGenes = pd.DataFrame()\n",
    "total_files = len(geneFiles)\n",
    "for idx, row in geneFiles.iterrows():\n",
    "    file_name = row.iloc[0]\n",
    "    file_path = f\"../Data/{file_name}\"\n",
    "    \n",
    "    print(f\"File {idx+1}/{total_files} - {file_name}\", end=\"\\r\")\n",
    "    \n",
    "    dfGenes = pd.read_csv(file_path, sep='\\t', skiprows=[0])\n",
    "    \n",
    "    # Columns may have been dropped if first line in file were columns, load data again without dropping first line\n",
    "    if \"gene_name\" not in dfGenes.columns:\n",
    "        dfGenes = pd.read_csv(file_path, sep='\\t')\n",
    "    \n",
    "    #dfGenes\n",
    "    \n",
    "    #Gather all targeted genes we want with the values we want\n",
    "    dfTarget = dfGenes[dfGenes['gene_type'].isin(targetGenes)][['gene_name', 'stranded_first']]\n",
    "\n",
    "    # Transform the dfTarget to a single row dataframe with all genes as columns\n",
    "    dfNewGenes = dfTarget.set_index('gene_name').T.reset_index(drop=True)\n",
    "\n",
    "    # Add tnbc status\n",
    "    dfNewGenes[\"tnbc\"] = df[\"tnbc\"].loc[df['file'] == file_name].values\n",
    "\n",
    "    # Add the patient uuid for reference and set it as the index\n",
    "    patientID = df['bcr_patient_uuid'].loc[df['file'] == file_name]\n",
    "    dfNewGenes['case_id'] = patientID.values\n",
    "    \n",
    "    # Concat the data to the final dataframe before saving it to a file\n",
    "    dfPatientGenes = pd.concat([dfPatientGenes, dfNewGenes])"
   ]
  },
  {
   "cell_type": "markdown",
   "id": "478213ba-79aa-48ec-8e54-ba1922ad4918",
   "metadata": {},
   "source": [
    "# Deduplication - Check rows"
   ]
  },
  {
   "cell_type": "code",
   "execution_count": 384,
   "id": "37f26025-da94-4e9c-a324-4aa9c23c2fbd",
   "metadata": {},
   "outputs": [
    {
     "data": {
      "text/html": [
       "<div>\n",
       "<style scoped>\n",
       "    .dataframe tbody tr th:only-of-type {\n",
       "        vertical-align: middle;\n",
       "    }\n",
       "\n",
       "    .dataframe tbody tr th {\n",
       "        vertical-align: top;\n",
       "    }\n",
       "\n",
       "    .dataframe thead th {\n",
       "        text-align: right;\n",
       "    }\n",
       "</style>\n",
       "<table border=\"1\" class=\"dataframe\">\n",
       "  <thead>\n",
       "    <tr style=\"text-align: right;\">\n",
       "      <th>gene_name</th>\n",
       "      <th>TSPAN6</th>\n",
       "      <th>TNMD</th>\n",
       "      <th>DPM1</th>\n",
       "      <th>SCYL3</th>\n",
       "      <th>C1orf112</th>\n",
       "      <th>FGR</th>\n",
       "      <th>CFH</th>\n",
       "      <th>FUCA2</th>\n",
       "      <th>GCLC</th>\n",
       "      <th>NFYA</th>\n",
       "      <th>...</th>\n",
       "      <th>AC020765.6</th>\n",
       "      <th>AC010980.1</th>\n",
       "      <th>AC004233.4</th>\n",
       "      <th>AL451106.1</th>\n",
       "      <th>AC008763.4</th>\n",
       "      <th>AC006486.3</th>\n",
       "      <th>AL391628.1</th>\n",
       "      <th>AP006621.6</th>\n",
       "      <th>tnbc</th>\n",
       "      <th>case_id</th>\n",
       "    </tr>\n",
       "  </thead>\n",
       "  <tbody>\n",
       "  </tbody>\n",
       "</table>\n",
       "<p>0 rows × 19964 columns</p>\n",
       "</div>"
      ],
      "text/plain": [
       "Empty DataFrame\n",
       "Columns: [TSPAN6, TNMD, DPM1, SCYL3, C1orf112, FGR, CFH, FUCA2, GCLC, NFYA, STPG1, NIPAL3, LAS1L, ENPP4, SEMA3F, CFTR, ANKIB1, CYP51A1, KRIT1, RAD52, BAD, LAP3, CD99, CD99, HS3ST1, AOC1, WNT16, HECW1, MAD1L1, LASP1, SNX11, TMEM176A, M6PR, KLHL13, CYP26B1, ICA1, DBNDD1, ALS2, CASP10, CFLAR, TFPI, NDUFAF7, RBM5, MTMR7, SLC7A2, ARF5, SARM1, POLDIP2, PLXND1, AK2, CD38, FKBP4, KDM1A, RBM6, CAMKK1, RECQL, VPS50, HSPB6, ARHGAP33, NDUFAB1, PDK4, SLC22A16, ZMYND10, ABCB5, ARX, SLC25A13, ST7, CDC27, SLC4A1, CALCR, HCCS, DVL2, PRSS22, UPF1, SKAP2, SLC25A5, MCUB, HOXA11, POLR2J, DHX33, MEOX1, THSD7A, LIG3, RPAP3, ACSM3, REXO5, CIAPIN1, SPPL2B, FAM214B, COPZ2, PRKAR2B, MSL3, CREBBP, TSPOAP1, MPO, PON1, GCFC2, WDR54, CROT, ABCB4, ...]\n",
       "Index: []\n",
       "\n",
       "[0 rows x 19964 columns]"
      ]
     },
     "execution_count": 384,
     "metadata": {},
     "output_type": "execute_result"
    }
   ],
   "source": [
    "# There are no duplicates\n",
    "dfPatientGenes[dfPatientGenes.duplicated()]"
   ]
  },
  {
   "cell_type": "markdown",
   "id": "504f700b-f614-472b-96c9-481664e68e84",
   "metadata": {},
   "source": [
    "# Deduplication - Check columns ( 24 duplicates )\n",
    "### Duplicate columns removed based on sum(column) == 0"
   ]
  },
  {
   "cell_type": "code",
   "execution_count": 385,
   "id": "eab6ef96-c062-4821-afa0-ac4c9b157702",
   "metadata": {},
   "outputs": [
    {
     "name": "stdout",
     "output_type": "stream",
     "text": [
      "Total number of columns    : 19964\n",
      "Number of duplicate columns: 24\n",
      "Removing duplicates - Start\n",
      "Removing duplicates - End\n",
      "Total number of columns    : 19940\n",
      "Check                      : 19964-24 = 19940\n"
     ]
    }
   ],
   "source": [
    "duplCol = dfPatientGenes.columns[dfPatientGenes.columns.duplicated()]\n",
    "numColB4 = len(dfPatientGenes.columns)\n",
    "print(f'Total number of columns    : {len(dfPatientGenes.columns)}')\n",
    "print(f'Number of duplicate columns: {len(duplCol)}')\n",
    "\n",
    "print(f'Removing duplicates - Start')\n",
    "\n",
    "reindexDfPatientGenes = dfPatientGenes.T.reset_index()\n",
    "reindexDfPatientGenes.drop_duplicates(subset=['gene_name'], keep='first', inplace=True)\n",
    "reindexDfPatientGenes.set_index('gene_name', inplace=True)\n",
    "dfPatientGenes = reindexDfPatientGenes.T\n",
    "\n",
    "print(f'Removing duplicates - End')\n",
    "\n",
    "print(f'Total number of columns    : {len(dfPatientGenes.columns)}')\n",
    "print(f'Check                      : {numColB4}-{len(duplCol)} = {len(dfPatientGenes.columns)}')"
   ]
  },
  {
   "cell_type": "markdown",
   "id": "2e157465-42fd-4f58-8c10-432d0b94e428",
   "metadata": {},
   "source": [
    "# Imputation - TBD -> 0 waarde?"
   ]
  },
  {
   "cell_type": "code",
   "execution_count": 4,
   "id": "90a379b9-8cc6-49e2-b55b-b4c1bbabe05c",
   "metadata": {},
   "outputs": [],
   "source": [
    "# TBD"
   ]
  },
  {
   "cell_type": "markdown",
   "id": "79263c7c-c63b-4e8e-b603-5d816cb418cc",
   "metadata": {},
   "source": [
    "# Standardization - Log transformation - Manage outliers"
   ]
  },
  {
   "cell_type": "code",
   "execution_count": 386,
   "id": "4814d77a-df38-44e4-9310-cd4c8ad47fa5",
   "metadata": {},
   "outputs": [
    {
     "name": "stdout",
     "output_type": "stream",
     "text": [
      "Apply LOG - Start\n",
      "Apply LOG - End\n"
     ]
    }
   ],
   "source": [
    "# Source: Artificial Intelligence with Python, 2nd edition. Packt Publishing Ltd, ISBN 978-1-83921-953-5.\n",
    "# p. 87-88\n",
    "import numpy as np\n",
    "onlyFeatureColumns = len(dfPatientGenes.columns)-2 # tnbc / case_id\n",
    "allGeneColumns = dfPatientGenes.columns[:onlyFeatureColumns]\n",
    "\n",
    "# Convert to float (was object)\n",
    "dfPatientGenes[allGeneColumns] = dfPatientGenes[allGeneColumns].astype(float)\n",
    "\n",
    "print(f'Apply LOG - Start')\n",
    "# Apply log\n",
    "dfPatientGenes[allGeneColumns] = (dfPatientGenes[allGeneColumns] + 1).transform(np.log)\n",
    "print(f'Apply LOG - End')"
   ]
  },
  {
   "cell_type": "markdown",
   "id": "e289f73f-bcbd-4682-bccb-0726a0fbc1c6",
   "metadata": {},
   "source": [
    "# Standardization - Scaling and removing mean"
   ]
  },
  {
   "cell_type": "code",
   "execution_count": 388,
   "id": "9d669725-8043-4f5b-899a-75b8552be95d",
   "metadata": {},
   "outputs": [],
   "source": [
    "from sklearn.preprocessing import StandardScaler\n",
    "scaler = StandardScaler()\n",
    "\n",
    "#scaledLogDfPatientGenes = logDfPatientGenes.copy(deep=True)\n",
    "dfPatientGenes[allGeneColumns] = scaler.fit_transform(dfPatientGenes[allGeneColumns])"
   ]
  },
  {
   "cell_type": "markdown",
   "id": "3138291b-4c03-4e98-b0a6-b6b392be996a",
   "metadata": {},
   "source": [
    "# Check data"
   ]
  },
  {
   "cell_type": "code",
   "execution_count": 390,
   "id": "555c1ab5-2a1d-4aa8-b473-eb10b491aa5f",
   "metadata": {},
   "outputs": [],
   "source": [
    "dfMin = scaledLogDfPatientGenes[allGeneColumns].min()\n",
    "dfMax = scaledLogDfPatientGenes[allGeneColumns].max()\n",
    "dfMean = scaledLogDfPatientGenes[allGeneColumns].mean()\n",
    "dfStd = scaledLogDfPatientGenes[allGeneColumns].std()"
   ]
  },
  {
   "cell_type": "code",
   "execution_count": 391,
   "id": "c9a49927-dcde-43b1-b208-e4d766937644",
   "metadata": {},
   "outputs": [
    {
     "data": {
      "text/html": [
       "<div>\n",
       "<style scoped>\n",
       "    .dataframe tbody tr th:only-of-type {\n",
       "        vertical-align: middle;\n",
       "    }\n",
       "\n",
       "    .dataframe tbody tr th {\n",
       "        vertical-align: top;\n",
       "    }\n",
       "\n",
       "    .dataframe thead th {\n",
       "        text-align: right;\n",
       "    }\n",
       "</style>\n",
       "<table border=\"1\" class=\"dataframe\">\n",
       "  <thead>\n",
       "    <tr style=\"text-align: right;\">\n",
       "      <th></th>\n",
       "      <th>min</th>\n",
       "      <th>max</th>\n",
       "      <th>mean</th>\n",
       "      <th>std</th>\n",
       "    </tr>\n",
       "    <tr>\n",
       "      <th>gene_name</th>\n",
       "      <th></th>\n",
       "      <th></th>\n",
       "      <th></th>\n",
       "      <th></th>\n",
       "    </tr>\n",
       "  </thead>\n",
       "  <tbody>\n",
       "    <tr>\n",
       "      <th>TSPAN6</th>\n",
       "      <td>-7.869879</td>\n",
       "      <td>3.248239</td>\n",
       "      <td>2.072719e-16</td>\n",
       "      <td>1.000512</td>\n",
       "    </tr>\n",
       "    <tr>\n",
       "      <th>TNMD</th>\n",
       "      <td>-1.415365</td>\n",
       "      <td>5.239736</td>\n",
       "      <td>2.109083e-16</td>\n",
       "      <td>1.000512</td>\n",
       "    </tr>\n",
       "    <tr>\n",
       "      <th>DPM1</th>\n",
       "      <td>-9.465894</td>\n",
       "      <td>3.572000</td>\n",
       "      <td>-8.345423e-16</td>\n",
       "      <td>1.000512</td>\n",
       "    </tr>\n",
       "    <tr>\n",
       "      <th>SCYL3</th>\n",
       "      <td>-3.699373</td>\n",
       "      <td>3.151134</td>\n",
       "      <td>7.981788e-16</td>\n",
       "      <td>1.000512</td>\n",
       "    </tr>\n",
       "    <tr>\n",
       "      <th>C1orf112</th>\n",
       "      <td>-4.012077</td>\n",
       "      <td>3.526979</td>\n",
       "      <td>1.838175e-15</td>\n",
       "      <td>1.000512</td>\n",
       "    </tr>\n",
       "    <tr>\n",
       "      <th>...</th>\n",
       "      <td>...</td>\n",
       "      <td>...</td>\n",
       "      <td>...</td>\n",
       "      <td>...</td>\n",
       "    </tr>\n",
       "    <tr>\n",
       "      <th>AL451106.1</th>\n",
       "      <td>0.000000</td>\n",
       "      <td>0.000000</td>\n",
       "      <td>0.000000e+00</td>\n",
       "      <td>0.000000</td>\n",
       "    </tr>\n",
       "    <tr>\n",
       "      <th>AC008763.4</th>\n",
       "      <td>-0.273882</td>\n",
       "      <td>9.299309</td>\n",
       "      <td>3.090897e-17</td>\n",
       "      <td>1.000512</td>\n",
       "    </tr>\n",
       "    <tr>\n",
       "      <th>AC006486.3</th>\n",
       "      <td>0.000000</td>\n",
       "      <td>0.000000</td>\n",
       "      <td>0.000000e+00</td>\n",
       "      <td>0.000000</td>\n",
       "    </tr>\n",
       "    <tr>\n",
       "      <th>AL391628.1</th>\n",
       "      <td>-2.125367</td>\n",
       "      <td>2.842208</td>\n",
       "      <td>3.072716e-16</td>\n",
       "      <td>1.000512</td>\n",
       "    </tr>\n",
       "    <tr>\n",
       "      <th>AP006621.6</th>\n",
       "      <td>-3.891076</td>\n",
       "      <td>4.637971</td>\n",
       "      <td>2.727262e-16</td>\n",
       "      <td>1.000512</td>\n",
       "    </tr>\n",
       "  </tbody>\n",
       "</table>\n",
       "<p>19938 rows × 4 columns</p>\n",
       "</div>"
      ],
      "text/plain": [
       "                 min       max          mean       std\n",
       "gene_name                                             \n",
       "TSPAN6     -7.869879  3.248239  2.072719e-16  1.000512\n",
       "TNMD       -1.415365  5.239736  2.109083e-16  1.000512\n",
       "DPM1       -9.465894  3.572000 -8.345423e-16  1.000512\n",
       "SCYL3      -3.699373  3.151134  7.981788e-16  1.000512\n",
       "C1orf112   -4.012077  3.526979  1.838175e-15  1.000512\n",
       "...              ...       ...           ...       ...\n",
       "AL451106.1  0.000000  0.000000  0.000000e+00  0.000000\n",
       "AC008763.4 -0.273882  9.299309  3.090897e-17  1.000512\n",
       "AC006486.3  0.000000  0.000000  0.000000e+00  0.000000\n",
       "AL391628.1 -2.125367  2.842208  3.072716e-16  1.000512\n",
       "AP006621.6 -3.891076  4.637971  2.727262e-16  1.000512\n",
       "\n",
       "[19938 rows x 4 columns]"
      ]
     },
     "execution_count": 391,
     "metadata": {},
     "output_type": "execute_result"
    }
   ],
   "source": [
    "pd.DataFrame({'min':dfMin, 'max':dfMax, 'mean': dfMean, 'std': dfStd})"
   ]
  },
  {
   "cell_type": "code",
   "execution_count": 392,
   "id": "3f96a770-2b6b-40ae-9974-cbf2b78deab1",
   "metadata": {},
   "outputs": [],
   "source": [
    "print(f'Writing DataFrame to CSV - Start')\n",
    "dfPatientGenes.to_csv(f'../Data/geneDataPreProcessed.csv', index=False)\n",
    "print(f'Writing DataFrame to CSV - End')"
   ]
  },
  {
   "cell_type": "code",
   "execution_count": null,
   "id": "87f01b6a-7e84-4256-a381-b415e1d3dabf",
   "metadata": {},
   "outputs": [],
   "source": []
  }
 ],
 "metadata": {
  "kernelspec": {
   "display_name": "Python 3 (ipykernel)",
   "language": "python",
   "name": "python3"
  },
  "language_info": {
   "codemirror_mode": {
    "name": "ipython",
    "version": 3
   },
   "file_extension": ".py",
   "mimetype": "text/x-python",
   "name": "python",
   "nbconvert_exporter": "python",
   "pygments_lexer": "ipython3",
   "version": "3.12.3"
  }
 },
 "nbformat": 4,
 "nbformat_minor": 5
}
