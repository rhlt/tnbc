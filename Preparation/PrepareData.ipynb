{
 "cells": [
  {
   "cell_type": "code",
   "execution_count": 30,
   "id": "073c318d",
   "metadata": {},
   "outputs": [],
   "source": [
    "import pandas as pd\n",
    "\n",
    "\n",
    "targetGenes = ['TBC1D9', 'GATA3', 'SLC16A6', 'ESR1', 'INPP4B', 'SLC44A4', 'ANXA9', 'AGR2', 'MCCC2', 'TSPAN1', 'STBD1', 'MLPH', 'CACNA2D2',\n",
    "'RARA', 'STARD3', 'PPP1R14C', 'SFRS13B', 'LDHB', 'MFGE8', 'PSAT1']"
   ]
  },
  {
   "cell_type": "code",
   "execution_count": 31,
   "id": "38bb017e",
   "metadata": {},
   "outputs": [],
   "source": [
    "df = pd.read_csv('../Data/clinical.csv')"
   ]
  },
  {
   "cell_type": "code",
   "execution_count": 32,
   "id": "bf0eb6b3",
   "metadata": {},
   "outputs": [],
   "source": [
    "geneFiles = df['file']"
   ]
  },
  {
   "cell_type": "code",
   "execution_count": null,
   "id": "83af0bd8",
   "metadata": {},
   "outputs": [
    {
     "name": "stdout",
     "output_type": "stream",
     "text": [
      "File 100 - cc12e7a8-e384-47f5-94b8-3e472925cc87\\05e15869-61fd-420f-b0e4-a2faaa814aca.rna_seq.augmented_star_gene_counts.tsv\r"
     ]
    }
   ],
   "source": [
    "dfPatientGenes = pd.DataFrame()\n",
    "\n",
    "for idx, file_name in enumerate(geneFiles, start=1):\n",
    "    file_path = f\"../Data/{file_name}\"\n",
    "    \n",
    "    dfGenes = pd.read_csv(file_path, sep='\\t', skiprows=[0])\n",
    "    \n",
    "    # Columns may have been dropped if first line in file were columns, load data again without dropping first line\n",
    "    if \"gene_name\" not in dfGenes.columns:\n",
    "        dfGenes = pd.read_csv(file_path, sep='\\t')\n",
    "    \n",
    "    #dfGenes\n",
    "    \n",
    "    print(f\"File {idx} - {file_name}\", end=\"\\r\")\n",
    "    \n",
    "    #Gather all targeted genes we want with the values we want\n",
    "    dfTarget = dfGenes[dfGenes['gene_name'].isin(targetGenes)][['gene_name', 'stranded_first']]\n",
    "\n",
    "    #Transform the dfTarget to a single row dataframe with all genes as columns\n",
    "    dfNewGenes = dfTarget.set_index('gene_name').T.reset_index(drop=True)\n",
    "\n",
    "    #Add the patient uuid for reference and set it as the index\n",
    "    patientID = df['bcr_patient_uuid'].loc[df['file'] == file_name]\n",
    "    dfNewGenes['patient_uuid'] = patientID.values[0]\n",
    "    dfNewGenes.set_index('patient_uuid', drop=True, inplace=True)\n",
    "    \n",
    "    #Concat the data to the final dataframe before saving it to a file\n",
    "    dfPatientGenes = pd.concat([dfPatientGenes, dfNewGenes])\n",
    "\n",
    "#For visualizing the result\n",
    "#dfPatientGenes    "
   ]
  },
  {
   "cell_type": "code",
   "execution_count": null,
   "id": "061f9b98",
   "metadata": {},
   "outputs": [],
   "source": [
    "#Send data to a csv\n",
    "\n",
    "dfPatientGenes.to_csv('../Data/patient_genes.csv', index=False)"
   ]
  }
 ],
 "metadata": {
  "language_info": {
   "name": "python"
  }
 },
 "nbformat": 4,
 "nbformat_minor": 5
}
