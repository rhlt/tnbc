{
 "cells": [
  {
   "cell_type": "code",
   "execution_count": null,
   "id": "073c318d",
   "metadata": {
    "vscode": {
     "languageId": "plaintext"
    }
   },
   "outputs": [],
   "source": [
    "import pandas as pd\n",
    "\n",
    "\n",
    "dfPatientGenes = pd.DataFrame()\n",
    "\n",
    "targetGenes = ['TBC1D9', 'GATA3', 'SLC16A6', 'ESR1', 'INPP4B', 'SLC44A4', 'ANXA9', 'AGR2', 'MCCC2', 'TSPAN1', 'STBD1', 'MLPH', 'CACNA2D2',\n",
    "'RARA', 'STARD3', 'PPP1R14C', 'SFRS13B', 'LDHB', 'MFGE8', 'PSAT1']"
   ]
  },
  {
   "cell_type": "code",
   "execution_count": null,
   "id": "38bb017e",
   "metadata": {
    "vscode": {
     "languageId": "plaintext"
    }
   },
   "outputs": [],
   "source": [
    "df = pd.read_csv('../Data/clinical.csv')"
   ]
  },
  {
   "cell_type": "code",
   "execution_count": null,
   "id": "bf0eb6b3",
   "metadata": {
    "vscode": {
     "languageId": "plaintext"
    }
   },
   "outputs": [],
   "source": [
    "geneFiles = df['file']"
   ]
  },
  {
   "cell_type": "code",
   "execution_count": null,
   "id": "83af0bd8",
   "metadata": {
    "vscode": {
     "languageId": "plaintext"
    }
   },
   "outputs": [],
   "source": [
    "for file in geneFiles:\n",
    "    dfGenes = pd.read_csv('../Data/' + file, sep='\\t', skiprows=[0])\n",
    "    #dfGenes\n",
    "\n",
    "    #Gather all targeted genes we want with the values we want\n",
    "    dfTarget = dfGenes[dfGenes['gene_name'].isin(targetGenes)][['gene_name', 'stranded_first']]\n",
    "    \n",
    "    #Transform the dfTarget to a single row dataframe with all genes as columns\n",
    "    dfNewGenes = dfTarget.set_index('gene_name').T.reset_index(drop=True)\n",
    "    \n",
    "    #Add the patient uuid for reference and set it as the index\n",
    "    patientID = df['bcr_patient_uuid'].loc[df['file'] == file]\n",
    "    dfNewGenes['patient_uuid'] = patientID.values[0]\n",
    "    dfNewGenes.set_index('patient_uuid', drop=True, inplace=True)\n",
    "    \n",
    "    #Concat the data to the final dataframe before saving it to a file\n",
    "    dfPatientGenes = pd.concat([dfPatientGenes,dfNewGenes])\n",
    "\n",
    "#For visualizing the result\n",
    "#dfPatientGenes    "
   ]
  },
  {
   "cell_type": "code",
   "execution_count": null,
   "id": "061f9b98",
   "metadata": {
    "vscode": {
     "languageId": "plaintext"
    }
   },
   "outputs": [],
   "source": [
    "#Send data to a csv\n",
    "\n",
    "dfPatientGenes.to_csv('../Data/patient_genes.csv', index=False)"
   ]
  }
 ],
 "metadata": {
  "language_info": {
   "name": "python"
  }
 },
 "nbformat": 4,
 "nbformat_minor": 5
}
