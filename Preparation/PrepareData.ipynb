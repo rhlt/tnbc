{
 "cells": [
  {
   "cell_type": "code",
   "execution_count": null,
   "id": "073c318d",
   "metadata": {},
   "outputs": [],
   "source": [
    "import pandas as pd\n",
    "\n",
    "\n",
    "targetGenes = ['TBC1D9', 'GATA3', 'SLC16A6', 'ESR1', 'INPP4B', 'SLC44A4', 'ANXA9', 'AGR2', 'MCCC2', 'TSPAN1', 'STBD1', 'MLPH', 'CACNA2D2',\n",
    "'RARA', 'STARD3', 'PPP1R14C', 'SFRS13B', 'LDHB', 'MFGE8', 'PSAT1']"
   ]
  },
  {
   "cell_type": "code",
   "execution_count": null,
   "id": "38bb017e",
   "metadata": {},
   "outputs": [],
   "source": [
    "df = pd.read_csv('../Data/clinical.csv')"
   ]
  },
  {
   "cell_type": "code",
   "execution_count": null,
   "id": "bf0eb6b3",
   "metadata": {},
   "outputs": [],
   "source": [
    "geneFiles = df[['file', 'tnbc', 'bcr_patient_uuid']]"
   ]
  },
  {
   "cell_type": "code",
   "execution_count": null,
   "id": "83af0bd8",
   "metadata": {},
   "outputs": [],
   "source": [
    "dfPatientGenes = pd.DataFrame()\n",
    "total_files = len(geneFiles)\n",
    "for idx, row in geneFiles.iterrows():\n",
    "    file_name = row.iloc[0]\n",
    "    file_path = f\"../Data/{file_name}\"\n",
    "    \n",
    "    print(f\"File {idx+1}/{total_files} - {file_name}\", end=\"\\r\")\n",
    "    \n",
    "    dfGenes = pd.read_csv(file_path, sep='\\t', skiprows=[0])\n",
    "    \n",
    "    # Columns may have been dropped if first line in file were columns, load data again without dropping first line\n",
    "    if \"gene_name\" not in dfGenes.columns:\n",
    "        dfGenes = pd.read_csv(file_path, sep='\\t')\n",
    "    \n",
    "    #dfGenes\n",
    "    \n",
    "    #Gather all targeted genes we want with the values we want\n",
    "    dfTarget = dfGenes[dfGenes['gene_name'].isin(targetGenes)][['gene_name', 'stranded_first']]\n",
    "\n",
    "    #Transform the dfTarget to a single row dataframe with all genes as columns\n",
    "    dfNewGenes = dfTarget.set_index('gene_name').T.reset_index(drop=True)\n",
    "\n",
    "    # Add tnbc status\n",
    "    dfNewGenes[\"tnbc\"] = df[\"tnbc\"].loc[df['file'] == file_name].values\n",
    "\n",
    "    #Add the patient uuid for reference and set it as the index\n",
    "    patientID = df['bcr_patient_uuid'].loc[df['file'] == file_name]\n",
    "    dfNewGenes['case_id'] = patientID.values\n",
    "    \n",
    "    #Concat the data to the final dataframe before saving it to a file\n",
    "    dfPatientGenes = pd.concat([dfPatientGenes, dfNewGenes])\n",
    "    \n",
    "    \n",
    "#For visualizing the result\n",
    "# dfPatientGenes"
   ]
  },
  {
   "cell_type": "code",
   "execution_count": null,
   "id": "061f9b98",
   "metadata": {},
   "outputs": [],
   "source": [
    "#Send data to a csv\n",
    "\n",
    "dfPatientGenes.to_csv('../Data/patient_genes.csv', index=False)"
   ]
  }
 ],
 "metadata": {
  "kernelspec": {
   "display_name": ".venv",
   "language": "python",
   "name": "python3"
  },
  "language_info": {
   "codemirror_mode": {
    "name": "ipython",
    "version": 3
   },
   "file_extension": ".py",
   "mimetype": "text/x-python",
   "name": "python",
   "nbconvert_exporter": "python",
   "pygments_lexer": "ipython3",
   "version": "3.11.5"
  }
 },
 "nbformat": 4,
 "nbformat_minor": 5
}
